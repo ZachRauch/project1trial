{
 "cells": [
  {
   "cell_type": "markdown",
   "metadata": {},
   "source": [
    "# Analysis of Films"
   ]
  },
  {
   "cell_type": "markdown",
   "metadata": {},
   "source": [
    "## Overview"
   ]
  },
  {
   "cell_type": "markdown",
   "metadata": {},
   "source": [
    "The purpose of this project is to analyze the trends in the movie industry and give reccommendations base on these initial findings to new studis. Exploratory analysis reveals the average ROI of ##, runtime averging closer to 2 hours, and action with other genres included produced the most revenue per movie. Microsoft can use the analysis made here to aid have a sense on they type of movies they should aim for in their new movie studio."
   ]
  },
  {
   "cell_type": "markdown",
   "metadata": {},
   "source": [
    "## Business Problem"
   ]
  },
  {
   "cell_type": "markdown",
   "metadata": {},
   "source": [
    "Microsoft can venture into the movie industry by creating a movie studio under their name. The issue is that Microsoft may be unfamilar with where to being in the production of new films. With some insight into the landscape of the movie industry such as how much money others are investing per movie, the length of movies and the type of genres that produce high gross per movie, Microsoft will be able produce films that are profitable. This project decribes the trends in return of investment, movie length over time and top genres."
   ]
  },
  {
   "cell_type": "code",
   "execution_count": 1,
   "metadata": {
    "ExecuteTime": {
     "end_time": "2022-03-09T20:45:50.871888Z",
     "start_time": "2022-03-09T20:45:50.819079Z"
    }
   },
   "outputs": [],
   "source": [
    "import pandas as pd\n",
    "import seaborn as sns\n",
    "import matplotlib.pyplot as plt\n",
    "from matplotlib import ticker\n",
    "import numpy as np\n",
    "import sqlite3\n",
    "import zipfile as zf\n",
    "import os\n",
    "pd.set_option('display.float_format', lambda x: '%.0f' % x)"
   ]
  },
  {
   "cell_type": "markdown",
   "metadata": {},
   "source": [
    "Data"
   ]
  },
  {
   "cell_type": "markdown",
   "metadata": {},
   "source": [
    "## Data Understanding"
   ]
  },
  {
   "cell_type": "markdown",
   "metadata": {},
   "source": [
    "The data comes from multiple sources. In this project, data from the the box office, tmdb, tn and IMDB was used. Each data file had the name of the film in which merges occurred on as they each had an column of interest for the analysis. The data provide the production budget, worldwide gross, runtime and other features of a film that may be of interest. "
   ]
  },
  {
   "cell_type": "code",
   "execution_count": 2,
   "metadata": {
    "ExecuteTime": {
     "end_time": "2022-03-09T20:45:53.003646Z",
     "start_time": "2022-03-09T20:45:51.807166Z"
    }
   },
   "outputs": [],
   "source": [
    "bom = pd.read_csv('./data/bom.movie_gross.csv.gz')\n",
    "tmdb = pd.read_csv('./data/tmdb.movies.csv.gz')\n",
    "tn = pd.read_csv('./data/tn.movie_budgets.csv.gz')\n",
    "files = zf.ZipFile('./data/im.db.zip', 'r') #these lines create a im.db file which is too big to push\n",
    "files.extractall() #these lines create a im.db file which is too big to push\n",
    "con = sqlite3.connect(\"./im.db\")"
   ]
  },
  {
   "cell_type": "code",
   "execution_count": 3,
   "metadata": {},
   "outputs": [
    {
     "data": {
      "text/html": [
       "<div>\n",
       "<style scoped>\n",
       "    .dataframe tbody tr th:only-of-type {\n",
       "        vertical-align: middle;\n",
       "    }\n",
       "\n",
       "    .dataframe tbody tr th {\n",
       "        vertical-align: top;\n",
       "    }\n",
       "\n",
       "    .dataframe thead th {\n",
       "        text-align: right;\n",
       "    }\n",
       "</style>\n",
       "<table border=\"1\" class=\"dataframe\">\n",
       "  <thead>\n",
       "    <tr style=\"text-align: right;\">\n",
       "      <th></th>\n",
       "      <th>movie_id</th>\n",
       "      <th>primary_title</th>\n",
       "      <th>original_title</th>\n",
       "      <th>start_year</th>\n",
       "      <th>runtime_minutes</th>\n",
       "      <th>genres</th>\n",
       "    </tr>\n",
       "  </thead>\n",
       "  <tbody>\n",
       "    <tr>\n",
       "      <th>0</th>\n",
       "      <td>tt0063540</td>\n",
       "      <td>Sunghursh</td>\n",
       "      <td>Sunghursh</td>\n",
       "      <td>2013</td>\n",
       "      <td>175</td>\n",
       "      <td>Action,Crime,Drama</td>\n",
       "    </tr>\n",
       "  </tbody>\n",
       "</table>\n",
       "</div>"
      ],
      "text/plain": [
       "    movie_id primary_title original_title  start_year  runtime_minutes  \\\n",
       "0  tt0063540     Sunghursh      Sunghursh        2013              175   \n",
       "\n",
       "               genres  \n",
       "0  Action,Crime,Drama  "
      ]
     },
     "execution_count": 3,
     "metadata": {},
     "output_type": "execute_result"
    }
   ],
   "source": [
    "titles = pd.read_sql(\"\"\"\n",
    "Select * \n",
    "\n",
    "From movie_basics\n",
    "            \n",
    "\"\"\", con)\n",
    "titles.head(1)"
   ]
  },
  {
   "cell_type": "code",
   "execution_count": 4,
   "metadata": {},
   "outputs": [
    {
     "data": {
      "text/html": [
       "<div>\n",
       "<style scoped>\n",
       "    .dataframe tbody tr th:only-of-type {\n",
       "        vertical-align: middle;\n",
       "    }\n",
       "\n",
       "    .dataframe tbody tr th {\n",
       "        vertical-align: top;\n",
       "    }\n",
       "\n",
       "    .dataframe thead th {\n",
       "        text-align: right;\n",
       "    }\n",
       "</style>\n",
       "<table border=\"1\" class=\"dataframe\">\n",
       "  <thead>\n",
       "    <tr style=\"text-align: right;\">\n",
       "      <th></th>\n",
       "      <th>movie_id</th>\n",
       "      <th>averagerating</th>\n",
       "      <th>numvotes</th>\n",
       "    </tr>\n",
       "  </thead>\n",
       "  <tbody>\n",
       "    <tr>\n",
       "      <th>0</th>\n",
       "      <td>tt10356526</td>\n",
       "      <td>8</td>\n",
       "      <td>31</td>\n",
       "    </tr>\n",
       "  </tbody>\n",
       "</table>\n",
       "</div>"
      ],
      "text/plain": [
       "     movie_id  averagerating  numvotes\n",
       "0  tt10356526              8        31"
      ]
     },
     "execution_count": 4,
     "metadata": {},
     "output_type": "execute_result"
    }
   ],
   "source": [
    "rating = pd.read_sql(\"\"\"\n",
    "Select * \n",
    "\n",
    "From movie_ratings\n",
    "            \n",
    "\"\"\", con)\n",
    "\n",
    "rating.head(1)"
   ]
  },
  {
   "cell_type": "code",
   "execution_count": 5,
   "metadata": {
    "ExecuteTime": {
     "end_time": "2022-03-09T20:45:53.101359Z",
     "start_time": "2022-03-09T20:45:53.004895Z"
    }
   },
   "outputs": [],
   "source": [
    "#creation of the merged table betweeen bom and tmdb\n",
    "rating_and_gross = bom.merge(tmdb, how='inner', left_on='title', right_on='title').sort_values('domestic_gross', ascending=False)"
   ]
  },
  {
   "cell_type": "code",
   "execution_count": 6,
   "metadata": {
    "ExecuteTime": {
     "end_time": "2022-03-09T20:45:53.232694Z",
     "start_time": "2022-03-09T20:45:53.215176Z"
    }
   },
   "outputs": [],
   "source": [
    "#creation of merge table of the rating_and_gross with the tn table\n",
    "budget_rating_gross =   rating_and_gross.merge(tn, how='inner', left_on='title', right_on='movie')"
   ]
  },
  {
   "cell_type": "code",
   "execution_count": 7,
   "metadata": {},
   "outputs": [],
   "source": [
    "sql_df = pd.read_sql('''\n",
    "    SELECT *\n",
    "    \n",
    "    FROM\n",
    "    movie_ratings\n",
    "    \n",
    "    INNER JOIN movie_basics\n",
    "        USING(movie_id) \n",
    "     \n",
    "     WHERE numvotes >= 1000\n",
    "     \n",
    "     ORDER BY \n",
    "         averagerating DESC\n",
    "''', con)\n",
    "\n",
    "#We need to choose and averagerating number for a WHERE clause\n",
    "#If we feel like we need more ratings data we can combine this with budget_rating_gross"
   ]
  },
  {
   "cell_type": "code",
   "execution_count": null,
   "metadata": {},
   "outputs": [],
   "source": []
  },
  {
   "cell_type": "markdown",
   "metadata": {},
   "source": [
    "## Data Preparation"
   ]
  },
  {
   "cell_type": "code",
   "execution_count": 78,
   "metadata": {
    "ExecuteTime": {
     "end_time": "2022-03-09T20:45:56.571261Z",
     "start_time": "2022-03-09T20:45:56.517839Z"
    }
   },
   "outputs": [
    {
     "name": "stdout",
     "output_type": "stream",
     "text": [
      "<class 'pandas.core.frame.DataFrame'>\n",
      "Int64Index: 1395 entries, 0 to 1394\n",
      "Data columns (total 20 columns):\n",
      " #   Column             Non-Null Count  Dtype  \n",
      "---  ------             --------------  -----  \n",
      " 0   title              1395 non-null   object \n",
      " 1   studio             1394 non-null   object \n",
      " 2   domestic_gross_x   1393 non-null   float64\n",
      " 3   foreign_gross      1200 non-null   object \n",
      " 4   year               1395 non-null   int64  \n",
      " 5   Unnamed: 0         1395 non-null   int64  \n",
      " 6   genre_ids          1395 non-null   object \n",
      " 7   id_x               1395 non-null   int64  \n",
      " 8   original_language  1395 non-null   object \n",
      " 9   original_title     1395 non-null   object \n",
      " 10  popularity         1395 non-null   float64\n",
      " 11  release_date_x     1395 non-null   object \n",
      " 12  vote_average       1395 non-null   float64\n",
      " 13  vote_count         1395 non-null   int64  \n",
      " 14  id_y               1395 non-null   int64  \n",
      " 15  release_date_y     1395 non-null   object \n",
      " 16  movie              1395 non-null   object \n",
      " 17  production_budget  1395 non-null   object \n",
      " 18  domestic_gross_y   1395 non-null   object \n",
      " 19  worldwide_gross    1395 non-null   object \n",
      "dtypes: float64(3), int64(5), object(12)\n",
      "memory usage: 228.9+ KB\n"
     ]
    }
   ],
   "source": [
    "budget_rating_gross.info()"
   ]
  },
  {
   "cell_type": "markdown",
   "metadata": {},
   "source": [
    "There are 195 null values in the foreign_gross column, 2 in the domestic_gross_x column, and 1 in studio column.\n",
    "There are duplicate and unnecessary columns. "
   ]
  },
  {
   "cell_type": "code",
   "execution_count": 8,
   "metadata": {
    "ExecuteTime": {
     "end_time": "2022-03-09T20:53:52.217173Z",
     "start_time": "2022-03-09T20:53:52.174055Z"
    },
    "scrolled": true
   },
   "outputs": [
    {
     "name": "stdout",
     "output_type": "stream",
     "text": [
      "<class 'pandas.core.frame.DataFrame'>\n",
      "Int64Index: 1395 entries, 0 to 1394\n",
      "Data columns (total 10 columns):\n",
      " #   Column             Non-Null Count  Dtype  \n",
      "---  ------             --------------  -----  \n",
      " 0   title              1395 non-null   object \n",
      " 1   studio             1394 non-null   object \n",
      " 2   year               1395 non-null   int64  \n",
      " 3   popularity         1395 non-null   float64\n",
      " 4   release_date_x     1395 non-null   object \n",
      " 5   vote_average       1395 non-null   float64\n",
      " 6   vote_count         1395 non-null   int64  \n",
      " 7   production_budget  1395 non-null   object \n",
      " 8   domestic_gross_y   1395 non-null   object \n",
      " 9   worldwide_gross    1395 non-null   object \n",
      "dtypes: float64(2), int64(2), object(6)\n",
      "memory usage: 119.9+ KB\n"
     ]
    }
   ],
   "source": [
    "#dropping unnecessary columns\n",
    "clean_columns = budget_rating_gross.drop(['release_date_y', 'Unnamed: 0', 'genre_ids', 'original_title', 'domestic_gross_x', 'foreign_gross', 'movie', 'id_x', 'id_y', 'original_language'], axis=1)\n",
    "clean_columns.info()"
   ]
  },
  {
   "cell_type": "code",
   "execution_count": 9,
   "metadata": {
    "ExecuteTime": {
     "end_time": "2022-03-09T20:55:34.117078Z",
     "start_time": "2022-03-09T20:55:34.048618Z"
    }
   },
   "outputs": [],
   "source": [
    "#cleaning and converting worldwide_gross into int\n",
    "clean_columns['worldwide_gross'] = clean_columns['worldwide_gross'].str.replace('$', '')\n",
    "clean_columns['worldwide_gross'] = clean_columns['worldwide_gross'].str.replace(',', '')\n",
    "clean_columns['worldwide_gross'] = clean_columns['worldwide_gross'].astype(int)"
   ]
  },
  {
   "cell_type": "code",
   "execution_count": 86,
   "metadata": {
    "ExecuteTime": {
     "end_time": "2022-03-09T20:55:34.779390Z",
     "start_time": "2022-03-09T20:55:34.764902Z"
    }
   },
   "outputs": [],
   "source": [
    "clean_columns['domestic_gross_y'] = clean_columns['domestic_gross_y'].str.replace('$', '')\n",
    "clean_columns['domestic_gross_y'] = clean_columns['domestic_gross_y'].str.replace(',', '')\n",
    "clean_columns['domestic_gross_y'] = clean_columns['domestic_gross_y'].astype(int)"
   ]
  },
  {
   "cell_type": "code",
   "execution_count": 87,
   "metadata": {
    "ExecuteTime": {
     "end_time": "2022-03-09T20:55:35.741532Z",
     "start_time": "2022-03-09T20:55:35.708867Z"
    }
   },
   "outputs": [],
   "source": [
    "clean_columns['production_budget'] = clean_columns['production_budget'].str.replace('$', '')\n",
    "clean_columns['production_budget'] = clean_columns['production_budget'].str.replace(',', '')\n",
    "clean_columns['production_budget'] = clean_columns['production_budget'].astype(int)"
   ]
  },
  {
   "cell_type": "code",
   "execution_count": 88,
   "metadata": {
    "ExecuteTime": {
     "end_time": "2022-03-09T20:56:13.587652Z",
     "start_time": "2022-03-09T20:56:13.549894Z"
    }
   },
   "outputs": [
    {
     "name": "stdout",
     "output_type": "stream",
     "text": [
      "<class 'pandas.core.frame.DataFrame'>\n",
      "Int64Index: 1395 entries, 0 to 1394\n",
      "Data columns (total 10 columns):\n",
      " #   Column             Non-Null Count  Dtype  \n",
      "---  ------             --------------  -----  \n",
      " 0   title              1395 non-null   object \n",
      " 1   studio             1394 non-null   object \n",
      " 2   year               1395 non-null   int64  \n",
      " 3   popularity         1395 non-null   float64\n",
      " 4   release_date_x     1395 non-null   object \n",
      " 5   vote_average       1395 non-null   float64\n",
      " 6   vote_count         1395 non-null   int64  \n",
      " 7   production_budget  1395 non-null   int64  \n",
      " 8   domestic_gross_y   1395 non-null   int64  \n",
      " 9   worldwide_gross    1395 non-null   int64  \n",
      "dtypes: float64(2), int64(5), object(3)\n",
      "memory usage: 119.9+ KB\n"
     ]
    }
   ],
   "source": [
    "#Sanity Check\n",
    "clean_columns.info()"
   ]
  },
  {
   "cell_type": "code",
   "execution_count": null,
   "metadata": {},
   "outputs": [],
   "source": [
    "#dropping exact row duplicates\n",
    "test_clean_columns = clean_columns.drop_duplicates()"
   ]
  },
  {
   "cell_type": "code",
   "execution_count": null,
   "metadata": {},
   "outputs": [],
   "source": [
    "#dropping duplicates where the title name is the same but other values are wrong\n",
    "vote_count_max = test_clean_columns.groupby(['title','studio']).vote_count.transform(max)\n",
    "movies_clean = test_clean_columns.loc[test_clean_columns.vote_count == vote_count_max]"
   ]
  },
  {
   "cell_type": "code",
   "execution_count": null,
   "metadata": {},
   "outputs": [],
   "source": [
    "#Sanity Check: verifying the shape of movies_clean\n",
    "movies_clean.shape"
   ]
  },
  {
   "cell_type": "code",
   "execution_count": null,
   "metadata": {},
   "outputs": [],
   "source": []
  },
  {
   "cell_type": "markdown",
   "metadata": {},
   "source": [
    "# Data Analyzation"
   ]
  },
  {
   "cell_type": "code",
   "execution_count": null,
   "metadata": {},
   "outputs": [],
   "source": [
    "#Quick glance at the information of the dataset\n",
    "movies_clean.describe()\n",
    "# min value for production_budget is > 0."
   ]
  },
  {
   "cell_type": "code",
   "execution_count": null,
   "metadata": {},
   "outputs": [],
   "source": [
    "#Dropping outliers from worldwide_gross\n",
    "q3, q1 = np.percentile(movies_clean['worldwide_gross'], [75, 25])\n",
    "q3, q1\n",
    "iqr = q3-q1\n",
    "\n",
    "lower_limit_wwg = movies_clean['worldwide_gross'].mean()-(iqr*1.5)\n",
    "\n",
    "upper_limit_wwg = movies_clean['worldwide_gross'].mean()+(iqr*1.5)\n",
    "\n",
    "lower_limit_wwg, upper_limit_wwg"
   ]
  },
  {
   "cell_type": "code",
   "execution_count": null,
   "metadata": {},
   "outputs": [],
   "source": [
    "movies_without_wwg_outliers = movies_clean[movies_clean['worldwide_gross']<upper_limit_wwg]"
   ]
  },
  {
   "cell_type": "code",
   "execution_count": null,
   "metadata": {},
   "outputs": [],
   "source": [
    "#Dropping outliers from production_budget\n",
    "q3, q1 = np.percentile(movies_without_wwg_outliers['production_budget'], [75, 25])\n",
    "q3, q1\n",
    "iqr = q3-q1\n",
    "\n",
    "lower_limit_pb = movies_without_wwg_outliers['production_budget'].mean()-(iqr*1.5)\n",
    "\n",
    "upper_limit_pb = movies_without_wwg_outliers['production_budget'].mean()+(iqr*1.5)\n",
    "\n",
    "lower_limit_pb, upper_limit_pb"
   ]
  },
  {
   "cell_type": "code",
   "execution_count": null,
   "metadata": {},
   "outputs": [],
   "source": [
    "movies_without_wwg_or_pb_outliers = movies_without_wwg_outliers[movies_without_wwg_outliers['production_budget']<upper_limit_pb]"
   ]
  },
  {
   "cell_type": "code",
   "execution_count": null,
   "metadata": {},
   "outputs": [],
   "source": []
  },
  {
   "cell_type": "code",
   "execution_count": null,
   "metadata": {},
   "outputs": [],
   "source": []
  },
  {
   "cell_type": "code",
   "execution_count": null,
   "metadata": {},
   "outputs": [],
   "source": []
  },
  {
   "cell_type": "markdown",
   "metadata": {},
   "source": [
    "# Production Budget"
   ]
  },
  {
   "cell_type": "code",
   "execution_count": null,
   "metadata": {},
   "outputs": [],
   "source": [
    "fig, ax = plt.subplots(figsize=(10,10),)\n",
    "ax.ticklabel_format(style='plain')\n",
    "ax.scatter(movies_without_wwg_or_pb_outliers['production_budget'] , y = movies_without_wwg_or_pb_outliers['worldwide_gross'], alpha = .4)\n",
    "\n",
    "ax.set_title('Production Budget and Worldwide Gross')\n",
    "ax.set_xlabel('Production Budget')\n",
    "ax.set_ylabel('Worldwide Gross');\n",
    "\n",
    "#checking the correlation coefficient of movies_without_wwg_or_pb_outliers\n",
    "np.corrcoef(movies_without_wwg_or_pb_outliers['production_budget'] , y = movies_without_wwg_or_pb_outliers['worldwide_gross'])\n",
    "#postive correlation but not as strong as the movie_oultierless"
   ]
  },
  {
   "cell_type": "code",
   "execution_count": null,
   "metadata": {},
   "outputs": [],
   "source": []
  },
  {
   "cell_type": "code",
   "execution_count": null,
   "metadata": {},
   "outputs": [],
   "source": []
  },
  {
   "cell_type": "markdown",
   "metadata": {},
   "source": [
    "# Movie Genre"
   ]
  },
  {
   "cell_type": "code",
   "execution_count": null,
   "metadata": {},
   "outputs": [],
   "source": [
    "#genres vs averagerating\n",
    "genres_average_rating = sql_df.groupby(['genres']).mean(['averagerating']).sort_values(['averagerating'], ascending=False).head(20)\n",
    "genres_average_rating\n",
    "#Low vote counts"
   ]
  },
  {
   "cell_type": "code",
   "execution_count": null,
   "metadata": {},
   "outputs": [],
   "source": []
  },
  {
   "cell_type": "code",
   "execution_count": null,
   "metadata": {},
   "outputs": [],
   "source": []
  },
  {
   "cell_type": "markdown",
   "metadata": {},
   "source": [
    "# Runtime"
   ]
  },
  {
   "cell_type": "code",
   "execution_count": null,
   "metadata": {},
   "outputs": [],
   "source": []
  },
  {
   "cell_type": "code",
   "execution_count": null,
   "metadata": {},
   "outputs": [],
   "source": []
  },
  {
   "cell_type": "code",
   "execution_count": null,
   "metadata": {},
   "outputs": [],
   "source": []
  },
  {
   "cell_type": "markdown",
   "metadata": {},
   "source": [
    "# Avenues to Explore"
   ]
  },
  {
   "cell_type": "code",
   "execution_count": null,
   "metadata": {},
   "outputs": [],
   "source": []
  },
  {
   "cell_type": "code",
   "execution_count": null,
   "metadata": {},
   "outputs": [],
   "source": []
  },
  {
   "cell_type": "code",
   "execution_count": null,
   "metadata": {},
   "outputs": [],
   "source": []
  },
  {
   "cell_type": "markdown",
   "metadata": {},
   "source": [
    "# Junk"
   ]
  },
  {
   "cell_type": "code",
   "execution_count": 17,
   "metadata": {
    "ExecuteTime": {
     "end_time": "2022-03-09T19:08:51.374330Z",
     "start_time": "2022-03-09T19:08:51.371534Z"
    }
   },
   "outputs": [],
   "source": [
    "#addition of gross to production budget ratio\n",
    "#Rename gross_to_budget_ratio to ROI or something more appropriate.\n",
    "clean_columns['gross_to_budget_ratio'] = clean_columns['worldwide_gross'] / clean_columns['production_budget']"
   ]
  },
  {
   "cell_type": "code",
   "execution_count": 18,
   "metadata": {
    "ExecuteTime": {
     "end_time": "2022-03-09T19:08:51.398353Z",
     "start_time": "2022-03-09T19:08:51.375390Z"
    },
    "scrolled": true
   },
   "outputs": [
    {
     "data": {
      "text/html": [
       "<div>\n",
       "<style scoped>\n",
       "    .dataframe tbody tr th:only-of-type {\n",
       "        vertical-align: middle;\n",
       "    }\n",
       "\n",
       "    .dataframe tbody tr th {\n",
       "        vertical-align: top;\n",
       "    }\n",
       "\n",
       "    .dataframe thead th {\n",
       "        text-align: right;\n",
       "    }\n",
       "</style>\n",
       "<table border=\"1\" class=\"dataframe\">\n",
       "  <thead>\n",
       "    <tr style=\"text-align: right;\">\n",
       "      <th></th>\n",
       "      <th>title</th>\n",
       "      <th>studio</th>\n",
       "      <th>year</th>\n",
       "      <th>original_language</th>\n",
       "      <th>popularity</th>\n",
       "      <th>release_date_x</th>\n",
       "      <th>vote_average</th>\n",
       "      <th>vote_count</th>\n",
       "      <th>release_date_y</th>\n",
       "      <th>production_budget</th>\n",
       "      <th>domestic_gross_y</th>\n",
       "      <th>worldwide_gross</th>\n",
       "      <th>foreign_gross</th>\n",
       "      <th>gross_to_budget_ratio</th>\n",
       "    </tr>\n",
       "  </thead>\n",
       "  <tbody>\n",
       "    <tr>\n",
       "      <th>824</th>\n",
       "      <td>The Gallows</td>\n",
       "      <td>WB (NL)</td>\n",
       "      <td>2015</td>\n",
       "      <td>en</td>\n",
       "      <td>9.166</td>\n",
       "      <td>2015-07-10</td>\n",
       "      <td>4.8</td>\n",
       "      <td>591</td>\n",
       "      <td>Jul 10, 2015</td>\n",
       "      <td>100000</td>\n",
       "      <td>22764410</td>\n",
       "      <td>41656474</td>\n",
       "      <td>18892064</td>\n",
       "      <td>416.564740</td>\n",
       "    </tr>\n",
       "    <tr>\n",
       "      <th>499</th>\n",
       "      <td>The Devil Inside</td>\n",
       "      <td>Par.</td>\n",
       "      <td>2012</td>\n",
       "      <td>en</td>\n",
       "      <td>7.403</td>\n",
       "      <td>2012-01-06</td>\n",
       "      <td>4.7</td>\n",
       "      <td>441</td>\n",
       "      <td>Jan 6, 2012</td>\n",
       "      <td>1000000</td>\n",
       "      <td>53262945</td>\n",
       "      <td>101759490</td>\n",
       "      <td>48496545</td>\n",
       "      <td>101.759490</td>\n",
       "    </tr>\n",
       "    <tr>\n",
       "      <th>496</th>\n",
       "      <td>Insidious</td>\n",
       "      <td>FD</td>\n",
       "      <td>2011</td>\n",
       "      <td>en</td>\n",
       "      <td>16.197</td>\n",
       "      <td>2011-04-01</td>\n",
       "      <td>6.9</td>\n",
       "      <td>3582</td>\n",
       "      <td>Apr 1, 2011</td>\n",
       "      <td>1500000</td>\n",
       "      <td>54009150</td>\n",
       "      <td>99870886</td>\n",
       "      <td>45861736</td>\n",
       "      <td>66.580591</td>\n",
       "    </tr>\n",
       "    <tr>\n",
       "      <th>712</th>\n",
       "      <td>Unfriended</td>\n",
       "      <td>Uni.</td>\n",
       "      <td>2015</td>\n",
       "      <td>en</td>\n",
       "      <td>8.120</td>\n",
       "      <td>2015-04-17</td>\n",
       "      <td>5.4</td>\n",
       "      <td>2019</td>\n",
       "      <td>Apr 17, 2015</td>\n",
       "      <td>1000000</td>\n",
       "      <td>32789645</td>\n",
       "      <td>64364198</td>\n",
       "      <td>31574553</td>\n",
       "      <td>64.364198</td>\n",
       "    </tr>\n",
       "    <tr>\n",
       "      <th>312</th>\n",
       "      <td>Paranormal Activity 2</td>\n",
       "      <td>Par.</td>\n",
       "      <td>2010</td>\n",
       "      <td>en</td>\n",
       "      <td>8.163</td>\n",
       "      <td>2010-10-21</td>\n",
       "      <td>5.7</td>\n",
       "      <td>1342</td>\n",
       "      <td>Oct 20, 2010</td>\n",
       "      <td>3000000</td>\n",
       "      <td>84752907</td>\n",
       "      <td>177512032</td>\n",
       "      <td>92759125</td>\n",
       "      <td>59.170677</td>\n",
       "    </tr>\n",
       "    <tr>\n",
       "      <th>...</th>\n",
       "      <td>...</td>\n",
       "      <td>...</td>\n",
       "      <td>...</td>\n",
       "      <td>...</td>\n",
       "      <td>...</td>\n",
       "      <td>...</td>\n",
       "      <td>...</td>\n",
       "      <td>...</td>\n",
       "      <td>...</td>\n",
       "      <td>...</td>\n",
       "      <td>...</td>\n",
       "      <td>...</td>\n",
       "      <td>...</td>\n",
       "      <td>...</td>\n",
       "    </tr>\n",
       "    <tr>\n",
       "      <th>1347</th>\n",
       "      <td>Eden</td>\n",
       "      <td>BG</td>\n",
       "      <td>2015</td>\n",
       "      <td>en</td>\n",
       "      <td>0.600</td>\n",
       "      <td>2018-11-25</td>\n",
       "      <td>0.0</td>\n",
       "      <td>1</td>\n",
       "      <td>Jan 19, 2016</td>\n",
       "      <td>2300000</td>\n",
       "      <td>0</td>\n",
       "      <td>0</td>\n",
       "      <td>0</td>\n",
       "      <td>0.000000</td>\n",
       "    </tr>\n",
       "    <tr>\n",
       "      <th>1348</th>\n",
       "      <td>Eden</td>\n",
       "      <td>BG</td>\n",
       "      <td>2015</td>\n",
       "      <td>en</td>\n",
       "      <td>5.373</td>\n",
       "      <td>2015-06-19</td>\n",
       "      <td>5.8</td>\n",
       "      <td>57</td>\n",
       "      <td>Jan 19, 2016</td>\n",
       "      <td>2300000</td>\n",
       "      <td>0</td>\n",
       "      <td>0</td>\n",
       "      <td>0</td>\n",
       "      <td>0.000000</td>\n",
       "    </tr>\n",
       "    <tr>\n",
       "      <th>592</th>\n",
       "      <td>Snitch</td>\n",
       "      <td>LG/S</td>\n",
       "      <td>2013</td>\n",
       "      <td>en</td>\n",
       "      <td>16.673</td>\n",
       "      <td>2013-02-22</td>\n",
       "      <td>5.9</td>\n",
       "      <td>1493</td>\n",
       "      <td>Dec 31, 2012</td>\n",
       "      <td>850000</td>\n",
       "      <td>0</td>\n",
       "      <td>0</td>\n",
       "      <td>0</td>\n",
       "      <td>0.000000</td>\n",
       "    </tr>\n",
       "    <tr>\n",
       "      <th>1349</th>\n",
       "      <td>Eden</td>\n",
       "      <td>BG</td>\n",
       "      <td>2015</td>\n",
       "      <td>en</td>\n",
       "      <td>5.373</td>\n",
       "      <td>2015-06-19</td>\n",
       "      <td>5.8</td>\n",
       "      <td>57</td>\n",
       "      <td>Jan 19, 2016</td>\n",
       "      <td>2300000</td>\n",
       "      <td>0</td>\n",
       "      <td>0</td>\n",
       "      <td>0</td>\n",
       "      <td>0.000000</td>\n",
       "    </tr>\n",
       "    <tr>\n",
       "      <th>1351</th>\n",
       "      <td>Eden</td>\n",
       "      <td>BG</td>\n",
       "      <td>2015</td>\n",
       "      <td>en</td>\n",
       "      <td>5.373</td>\n",
       "      <td>2015-06-19</td>\n",
       "      <td>5.8</td>\n",
       "      <td>57</td>\n",
       "      <td>Jan 19, 2016</td>\n",
       "      <td>2300000</td>\n",
       "      <td>0</td>\n",
       "      <td>0</td>\n",
       "      <td>0</td>\n",
       "      <td>0.000000</td>\n",
       "    </tr>\n",
       "  </tbody>\n",
       "</table>\n",
       "<p>1395 rows × 14 columns</p>\n",
       "</div>"
      ],
      "text/plain": [
       "                      title   studio  year original_language  popularity  \\\n",
       "824             The Gallows  WB (NL)  2015                en       9.166   \n",
       "499        The Devil Inside     Par.  2012                en       7.403   \n",
       "496               Insidious       FD  2011                en      16.197   \n",
       "712              Unfriended     Uni.  2015                en       8.120   \n",
       "312   Paranormal Activity 2     Par.  2010                en       8.163   \n",
       "...                     ...      ...   ...               ...         ...   \n",
       "1347                   Eden       BG  2015                en       0.600   \n",
       "1348                   Eden       BG  2015                en       5.373   \n",
       "592                  Snitch     LG/S  2013                en      16.673   \n",
       "1349                   Eden       BG  2015                en       5.373   \n",
       "1351                   Eden       BG  2015                en       5.373   \n",
       "\n",
       "     release_date_x  vote_average  vote_count release_date_y  \\\n",
       "824      2015-07-10           4.8         591   Jul 10, 2015   \n",
       "499      2012-01-06           4.7         441    Jan 6, 2012   \n",
       "496      2011-04-01           6.9        3582    Apr 1, 2011   \n",
       "712      2015-04-17           5.4        2019   Apr 17, 2015   \n",
       "312      2010-10-21           5.7        1342   Oct 20, 2010   \n",
       "...             ...           ...         ...            ...   \n",
       "1347     2018-11-25           0.0           1   Jan 19, 2016   \n",
       "1348     2015-06-19           5.8          57   Jan 19, 2016   \n",
       "592      2013-02-22           5.9        1493   Dec 31, 2012   \n",
       "1349     2015-06-19           5.8          57   Jan 19, 2016   \n",
       "1351     2015-06-19           5.8          57   Jan 19, 2016   \n",
       "\n",
       "      production_budget  domestic_gross_y  worldwide_gross  foreign_gross  \\\n",
       "824              100000          22764410         41656474       18892064   \n",
       "499             1000000          53262945        101759490       48496545   \n",
       "496             1500000          54009150         99870886       45861736   \n",
       "712             1000000          32789645         64364198       31574553   \n",
       "312             3000000          84752907        177512032       92759125   \n",
       "...                 ...               ...              ...            ...   \n",
       "1347            2300000                 0                0              0   \n",
       "1348            2300000                 0                0              0   \n",
       "592              850000                 0                0              0   \n",
       "1349            2300000                 0                0              0   \n",
       "1351            2300000                 0                0              0   \n",
       "\n",
       "      gross_to_budget_ratio  \n",
       "824              416.564740  \n",
       "499              101.759490  \n",
       "496               66.580591  \n",
       "712               64.364198  \n",
       "312               59.170677  \n",
       "...                     ...  \n",
       "1347               0.000000  \n",
       "1348               0.000000  \n",
       "592                0.000000  \n",
       "1349               0.000000  \n",
       "1351               0.000000  \n",
       "\n",
       "[1395 rows x 14 columns]"
      ]
     },
     "execution_count": 18,
     "metadata": {},
     "output_type": "execute_result"
    }
   ],
   "source": [
    "#sorting values by gross_to_budget \n",
    "clean_columns.sort_values(by='gross_to_budget_ratio', ascending=False)"
   ]
  },
  {
   "cell_type": "code",
   "execution_count": 22,
   "metadata": {
    "ExecuteTime": {
     "end_time": "2022-03-09T19:08:51.448459Z",
     "start_time": "2022-03-09T19:08:51.426585Z"
    },
    "scrolled": false
   },
   "outputs": [
    {
     "data": {
      "text/html": [
       "<div>\n",
       "<style scoped>\n",
       "    .dataframe tbody tr th:only-of-type {\n",
       "        vertical-align: middle;\n",
       "    }\n",
       "\n",
       "    .dataframe tbody tr th {\n",
       "        vertical-align: top;\n",
       "    }\n",
       "\n",
       "    .dataframe thead th {\n",
       "        text-align: right;\n",
       "    }\n",
       "</style>\n",
       "<table border=\"1\" class=\"dataframe\">\n",
       "  <thead>\n",
       "    <tr style=\"text-align: right;\">\n",
       "      <th></th>\n",
       "      <th>title</th>\n",
       "      <th>studio</th>\n",
       "      <th>year</th>\n",
       "      <th>original_language</th>\n",
       "      <th>popularity</th>\n",
       "      <th>release_date_x</th>\n",
       "      <th>vote_average</th>\n",
       "      <th>vote_count</th>\n",
       "      <th>release_date_y</th>\n",
       "      <th>production_budget</th>\n",
       "      <th>domestic_gross_y</th>\n",
       "      <th>worldwide_gross</th>\n",
       "      <th>foreign_gross</th>\n",
       "      <th>gross_to_budget_ratio</th>\n",
       "    </tr>\n",
       "  </thead>\n",
       "  <tbody>\n",
       "    <tr>\n",
       "      <th>824</th>\n",
       "      <td>The Gallows</td>\n",
       "      <td>WB (NL)</td>\n",
       "      <td>2015</td>\n",
       "      <td>en</td>\n",
       "      <td>9.166</td>\n",
       "      <td>2015-07-10</td>\n",
       "      <td>4.8</td>\n",
       "      <td>591</td>\n",
       "      <td>Jul 10, 2015</td>\n",
       "      <td>100000</td>\n",
       "      <td>22764410</td>\n",
       "      <td>41656474</td>\n",
       "      <td>18892064</td>\n",
       "      <td>416.564740</td>\n",
       "    </tr>\n",
       "    <tr>\n",
       "      <th>499</th>\n",
       "      <td>The Devil Inside</td>\n",
       "      <td>Par.</td>\n",
       "      <td>2012</td>\n",
       "      <td>en</td>\n",
       "      <td>7.403</td>\n",
       "      <td>2012-01-06</td>\n",
       "      <td>4.7</td>\n",
       "      <td>441</td>\n",
       "      <td>Jan 6, 2012</td>\n",
       "      <td>1000000</td>\n",
       "      <td>53262945</td>\n",
       "      <td>101759490</td>\n",
       "      <td>48496545</td>\n",
       "      <td>101.759490</td>\n",
       "    </tr>\n",
       "    <tr>\n",
       "      <th>496</th>\n",
       "      <td>Insidious</td>\n",
       "      <td>FD</td>\n",
       "      <td>2011</td>\n",
       "      <td>en</td>\n",
       "      <td>16.197</td>\n",
       "      <td>2011-04-01</td>\n",
       "      <td>6.9</td>\n",
       "      <td>3582</td>\n",
       "      <td>Apr 1, 2011</td>\n",
       "      <td>1500000</td>\n",
       "      <td>54009150</td>\n",
       "      <td>99870886</td>\n",
       "      <td>45861736</td>\n",
       "      <td>66.580591</td>\n",
       "    </tr>\n",
       "    <tr>\n",
       "      <th>712</th>\n",
       "      <td>Unfriended</td>\n",
       "      <td>Uni.</td>\n",
       "      <td>2015</td>\n",
       "      <td>en</td>\n",
       "      <td>8.120</td>\n",
       "      <td>2015-04-17</td>\n",
       "      <td>5.4</td>\n",
       "      <td>2019</td>\n",
       "      <td>Apr 17, 2015</td>\n",
       "      <td>1000000</td>\n",
       "      <td>32789645</td>\n",
       "      <td>64364198</td>\n",
       "      <td>31574553</td>\n",
       "      <td>64.364198</td>\n",
       "    </tr>\n",
       "    <tr>\n",
       "      <th>312</th>\n",
       "      <td>Paranormal Activity 2</td>\n",
       "      <td>Par.</td>\n",
       "      <td>2010</td>\n",
       "      <td>en</td>\n",
       "      <td>8.163</td>\n",
       "      <td>2010-10-21</td>\n",
       "      <td>5.7</td>\n",
       "      <td>1342</td>\n",
       "      <td>Oct 20, 2010</td>\n",
       "      <td>3000000</td>\n",
       "      <td>84752907</td>\n",
       "      <td>177512032</td>\n",
       "      <td>92759125</td>\n",
       "      <td>59.170677</td>\n",
       "    </tr>\n",
       "    <tr>\n",
       "      <th>...</th>\n",
       "      <td>...</td>\n",
       "      <td>...</td>\n",
       "      <td>...</td>\n",
       "      <td>...</td>\n",
       "      <td>...</td>\n",
       "      <td>...</td>\n",
       "      <td>...</td>\n",
       "      <td>...</td>\n",
       "      <td>...</td>\n",
       "      <td>...</td>\n",
       "      <td>...</td>\n",
       "      <td>...</td>\n",
       "      <td>...</td>\n",
       "      <td>...</td>\n",
       "    </tr>\n",
       "    <tr>\n",
       "      <th>1389</th>\n",
       "      <td>Skin Trade</td>\n",
       "      <td>Magn.</td>\n",
       "      <td>2015</td>\n",
       "      <td>en</td>\n",
       "      <td>9.362</td>\n",
       "      <td>2014-11-07</td>\n",
       "      <td>5.6</td>\n",
       "      <td>96</td>\n",
       "      <td>May 8, 2015</td>\n",
       "      <td>9000000</td>\n",
       "      <td>1242</td>\n",
       "      <td>1242</td>\n",
       "      <td>0</td>\n",
       "      <td>0.000138</td>\n",
       "    </tr>\n",
       "    <tr>\n",
       "      <th>1346</th>\n",
       "      <td>Eden</td>\n",
       "      <td>BG</td>\n",
       "      <td>2015</td>\n",
       "      <td>en</td>\n",
       "      <td>6.877</td>\n",
       "      <td>2012-03-11</td>\n",
       "      <td>6.8</td>\n",
       "      <td>100</td>\n",
       "      <td>Jan 19, 2016</td>\n",
       "      <td>2300000</td>\n",
       "      <td>0</td>\n",
       "      <td>0</td>\n",
       "      <td>0</td>\n",
       "      <td>0.000000</td>\n",
       "    </tr>\n",
       "    <tr>\n",
       "      <th>1182</th>\n",
       "      <td>Trance</td>\n",
       "      <td>FoxS</td>\n",
       "      <td>2013</td>\n",
       "      <td>en</td>\n",
       "      <td>9.571</td>\n",
       "      <td>2013-04-05</td>\n",
       "      <td>6.6</td>\n",
       "      <td>1348</td>\n",
       "      <td>Dec 31, 2012</td>\n",
       "      <td>950000</td>\n",
       "      <td>0</td>\n",
       "      <td>0</td>\n",
       "      <td>0</td>\n",
       "      <td>0.000000</td>\n",
       "    </tr>\n",
       "    <tr>\n",
       "      <th>1273</th>\n",
       "      <td>Point Blank</td>\n",
       "      <td>Magn.</td>\n",
       "      <td>2011</td>\n",
       "      <td>fr</td>\n",
       "      <td>6.021</td>\n",
       "      <td>2011-07-29</td>\n",
       "      <td>6.6</td>\n",
       "      <td>230</td>\n",
       "      <td>Sep 18, 1967</td>\n",
       "      <td>3000000</td>\n",
       "      <td>0</td>\n",
       "      <td>0</td>\n",
       "      <td>0</td>\n",
       "      <td>0.000000</td>\n",
       "    </tr>\n",
       "    <tr>\n",
       "      <th>592</th>\n",
       "      <td>Snitch</td>\n",
       "      <td>LG/S</td>\n",
       "      <td>2013</td>\n",
       "      <td>en</td>\n",
       "      <td>16.673</td>\n",
       "      <td>2013-02-22</td>\n",
       "      <td>5.9</td>\n",
       "      <td>1493</td>\n",
       "      <td>Dec 31, 2012</td>\n",
       "      <td>850000</td>\n",
       "      <td>0</td>\n",
       "      <td>0</td>\n",
       "      <td>0</td>\n",
       "      <td>0.000000</td>\n",
       "    </tr>\n",
       "  </tbody>\n",
       "</table>\n",
       "<p>1178 rows × 14 columns</p>\n",
       "</div>"
      ],
      "text/plain": [
       "                      title   studio  year original_language  popularity  \\\n",
       "824             The Gallows  WB (NL)  2015                en       9.166   \n",
       "499        The Devil Inside     Par.  2012                en       7.403   \n",
       "496               Insidious       FD  2011                en      16.197   \n",
       "712              Unfriended     Uni.  2015                en       8.120   \n",
       "312   Paranormal Activity 2     Par.  2010                en       8.163   \n",
       "...                     ...      ...   ...               ...         ...   \n",
       "1389             Skin Trade    Magn.  2015                en       9.362   \n",
       "1346                   Eden       BG  2015                en       6.877   \n",
       "1182                 Trance     FoxS  2013                en       9.571   \n",
       "1273            Point Blank    Magn.  2011                fr       6.021   \n",
       "592                  Snitch     LG/S  2013                en      16.673   \n",
       "\n",
       "     release_date_x  vote_average  vote_count release_date_y  \\\n",
       "824      2015-07-10           4.8         591   Jul 10, 2015   \n",
       "499      2012-01-06           4.7         441    Jan 6, 2012   \n",
       "496      2011-04-01           6.9        3582    Apr 1, 2011   \n",
       "712      2015-04-17           5.4        2019   Apr 17, 2015   \n",
       "312      2010-10-21           5.7        1342   Oct 20, 2010   \n",
       "...             ...           ...         ...            ...   \n",
       "1389     2014-11-07           5.6          96    May 8, 2015   \n",
       "1346     2012-03-11           6.8         100   Jan 19, 2016   \n",
       "1182     2013-04-05           6.6        1348   Dec 31, 2012   \n",
       "1273     2011-07-29           6.6         230   Sep 18, 1967   \n",
       "592      2013-02-22           5.9        1493   Dec 31, 2012   \n",
       "\n",
       "      production_budget  domestic_gross_y  worldwide_gross  foreign_gross  \\\n",
       "824              100000          22764410         41656474       18892064   \n",
       "499             1000000          53262945        101759490       48496545   \n",
       "496             1500000          54009150         99870886       45861736   \n",
       "712             1000000          32789645         64364198       31574553   \n",
       "312             3000000          84752907        177512032       92759125   \n",
       "...                 ...               ...              ...            ...   \n",
       "1389            9000000              1242             1242              0   \n",
       "1346            2300000                 0                0              0   \n",
       "1182             950000                 0                0              0   \n",
       "1273            3000000                 0                0              0   \n",
       "592              850000                 0                0              0   \n",
       "\n",
       "      gross_to_budget_ratio  \n",
       "824              416.564740  \n",
       "499              101.759490  \n",
       "496               66.580591  \n",
       "712               64.364198  \n",
       "312               59.170677  \n",
       "...                     ...  \n",
       "1389               0.000138  \n",
       "1346               0.000000  \n",
       "1182               0.000000  \n",
       "1273               0.000000  \n",
       "592                0.000000  \n",
       "\n",
       "[1178 rows x 14 columns]"
      ]
     },
     "execution_count": 22,
     "metadata": {},
     "output_type": "execute_result"
    }
   ],
   "source": [
    "#sorting dataframe by gross_to_budget_ratio\n",
    "movies_clean.sort_values(['gross_to_budget_ratio'], ascending=False)"
   ]
  },
  {
   "cell_type": "code",
   "execution_count": 23,
   "metadata": {
    "ExecuteTime": {
     "end_time": "2022-03-09T19:08:51.457365Z",
     "start_time": "2022-03-09T19:08:51.450663Z"
    },
    "scrolled": false
   },
   "outputs": [
    {
     "name": "stdout",
     "output_type": "stream",
     "text": [
      "<class 'pandas.core.frame.DataFrame'>\n",
      "Int64Index: 1178 entries, 0 to 1394\n",
      "Data columns (total 14 columns):\n",
      " #   Column                 Non-Null Count  Dtype  \n",
      "---  ------                 --------------  -----  \n",
      " 0   title                  1178 non-null   object \n",
      " 1   studio                 1178 non-null   object \n",
      " 2   year                   1178 non-null   int64  \n",
      " 3   original_language      1178 non-null   object \n",
      " 4   popularity             1178 non-null   float64\n",
      " 5   release_date_x         1178 non-null   object \n",
      " 6   vote_average           1178 non-null   float64\n",
      " 7   vote_count             1178 non-null   int64  \n",
      " 8   release_date_y         1178 non-null   object \n",
      " 9   production_budget      1178 non-null   int64  \n",
      " 10  domestic_gross_y       1178 non-null   int64  \n",
      " 11  worldwide_gross        1178 non-null   int64  \n",
      " 12  foreign_gross          1178 non-null   int64  \n",
      " 13  gross_to_budget_ratio  1178 non-null   float64\n",
      "dtypes: float64(3), int64(6), object(5)\n",
      "memory usage: 138.0+ KB\n"
     ]
    }
   ],
   "source": [
    "#verifying that there's no null values\n",
    "movies_clean.info()"
   ]
  },
  {
   "cell_type": "code",
   "execution_count": 26,
   "metadata": {
    "ExecuteTime": {
     "end_time": "2022-03-09T19:08:51.533041Z",
     "start_time": "2022-03-09T19:08:51.518234Z"
    }
   },
   "outputs": [
    {
     "data": {
      "text/plain": [
       "(-0.2697839574098566, 9.106872819728032)"
      ]
     },
     "execution_count": 26,
     "metadata": {},
     "output_type": "execute_result"
    }
   ],
   "source": [
    "#MAke to help determining bounds of the graph\n",
    "q3, q1 = np.percentile(movies_clean['gross_to_budget_ratio'], [75, 25])\n",
    "q3, q1\n",
    "iqr = q3-q1\n",
    "\n",
    "lower_limit = movies_clean['gross_to_budget_ratio'].mean()-(iqr*1.5)\n",
    "\n",
    "upper_limit = movies_clean['gross_to_budget_ratio'].mean()+(iqr*1.5)\n",
    "\n",
    "lower_limit, upper_limit"
   ]
  },
  {
   "cell_type": "code",
   "execution_count": 27,
   "metadata": {
    "ExecuteTime": {
     "end_time": "2022-03-09T19:08:51.569212Z",
     "start_time": "2022-03-09T19:08:51.535864Z"
    }
   },
   "outputs": [
    {
     "data": {
      "text/html": [
       "<div>\n",
       "<style scoped>\n",
       "    .dataframe tbody tr th:only-of-type {\n",
       "        vertical-align: middle;\n",
       "    }\n",
       "\n",
       "    .dataframe tbody tr th {\n",
       "        vertical-align: top;\n",
       "    }\n",
       "\n",
       "    .dataframe thead th {\n",
       "        text-align: right;\n",
       "    }\n",
       "</style>\n",
       "<table border=\"1\" class=\"dataframe\">\n",
       "  <thead>\n",
       "    <tr style=\"text-align: right;\">\n",
       "      <th></th>\n",
       "      <th>title</th>\n",
       "      <th>studio</th>\n",
       "      <th>year</th>\n",
       "      <th>original_language</th>\n",
       "      <th>popularity</th>\n",
       "      <th>release_date_x</th>\n",
       "      <th>vote_average</th>\n",
       "      <th>vote_count</th>\n",
       "      <th>release_date_y</th>\n",
       "      <th>production_budget</th>\n",
       "      <th>domestic_gross_y</th>\n",
       "      <th>worldwide_gross</th>\n",
       "      <th>foreign_gross</th>\n",
       "      <th>gross_to_budget_ratio</th>\n",
       "    </tr>\n",
       "  </thead>\n",
       "  <tbody>\n",
       "    <tr>\n",
       "      <th>0</th>\n",
       "      <td>Black Panther</td>\n",
       "      <td>BV</td>\n",
       "      <td>2018</td>\n",
       "      <td>en</td>\n",
       "      <td>44.140</td>\n",
       "      <td>2018-02-16</td>\n",
       "      <td>7.4</td>\n",
       "      <td>12365</td>\n",
       "      <td>Feb 16, 2018</td>\n",
       "      <td>200000000</td>\n",
       "      <td>700059566</td>\n",
       "      <td>1348258224</td>\n",
       "      <td>648198658</td>\n",
       "      <td>6.741291</td>\n",
       "    </tr>\n",
       "    <tr>\n",
       "      <th>2</th>\n",
       "      <td>Avengers: Infinity War</td>\n",
       "      <td>BV</td>\n",
       "      <td>2018</td>\n",
       "      <td>en</td>\n",
       "      <td>80.773</td>\n",
       "      <td>2018-04-27</td>\n",
       "      <td>8.3</td>\n",
       "      <td>13948</td>\n",
       "      <td>Apr 27, 2018</td>\n",
       "      <td>300000000</td>\n",
       "      <td>678815482</td>\n",
       "      <td>2048134200</td>\n",
       "      <td>1369318718</td>\n",
       "      <td>6.827114</td>\n",
       "    </tr>\n",
       "    <tr>\n",
       "      <th>3</th>\n",
       "      <td>Jurassic World</td>\n",
       "      <td>Uni.</td>\n",
       "      <td>2015</td>\n",
       "      <td>en</td>\n",
       "      <td>20.709</td>\n",
       "      <td>2015-06-12</td>\n",
       "      <td>6.6</td>\n",
       "      <td>14056</td>\n",
       "      <td>Jun 12, 2015</td>\n",
       "      <td>215000000</td>\n",
       "      <td>652270625</td>\n",
       "      <td>1648854864</td>\n",
       "      <td>996584239</td>\n",
       "      <td>7.669092</td>\n",
       "    </tr>\n",
       "    <tr>\n",
       "      <th>4</th>\n",
       "      <td>Incredibles 2</td>\n",
       "      <td>BV</td>\n",
       "      <td>2018</td>\n",
       "      <td>en</td>\n",
       "      <td>36.286</td>\n",
       "      <td>2018-06-15</td>\n",
       "      <td>7.6</td>\n",
       "      <td>6354</td>\n",
       "      <td>Jun 15, 2018</td>\n",
       "      <td>200000000</td>\n",
       "      <td>608581744</td>\n",
       "      <td>1242520711</td>\n",
       "      <td>633938967</td>\n",
       "      <td>6.212604</td>\n",
       "    </tr>\n",
       "    <tr>\n",
       "      <th>5</th>\n",
       "      <td>Rogue One: A Star Wars Story</td>\n",
       "      <td>BV</td>\n",
       "      <td>2016</td>\n",
       "      <td>en</td>\n",
       "      <td>21.401</td>\n",
       "      <td>2016-12-16</td>\n",
       "      <td>7.5</td>\n",
       "      <td>9296</td>\n",
       "      <td>Dec 16, 2016</td>\n",
       "      <td>200000000</td>\n",
       "      <td>532177324</td>\n",
       "      <td>1049102856</td>\n",
       "      <td>516925532</td>\n",
       "      <td>5.245514</td>\n",
       "    </tr>\n",
       "    <tr>\n",
       "      <th>...</th>\n",
       "      <td>...</td>\n",
       "      <td>...</td>\n",
       "      <td>...</td>\n",
       "      <td>...</td>\n",
       "      <td>...</td>\n",
       "      <td>...</td>\n",
       "      <td>...</td>\n",
       "      <td>...</td>\n",
       "      <td>...</td>\n",
       "      <td>...</td>\n",
       "      <td>...</td>\n",
       "      <td>...</td>\n",
       "      <td>...</td>\n",
       "      <td>...</td>\n",
       "    </tr>\n",
       "    <tr>\n",
       "      <th>1389</th>\n",
       "      <td>Skin Trade</td>\n",
       "      <td>Magn.</td>\n",
       "      <td>2015</td>\n",
       "      <td>en</td>\n",
       "      <td>9.362</td>\n",
       "      <td>2014-11-07</td>\n",
       "      <td>5.6</td>\n",
       "      <td>96</td>\n",
       "      <td>May 8, 2015</td>\n",
       "      <td>9000000</td>\n",
       "      <td>1242</td>\n",
       "      <td>1242</td>\n",
       "      <td>0</td>\n",
       "      <td>0.000138</td>\n",
       "    </tr>\n",
       "    <tr>\n",
       "      <th>1390</th>\n",
       "      <td>Khumba</td>\n",
       "      <td>MNE</td>\n",
       "      <td>2013</td>\n",
       "      <td>en</td>\n",
       "      <td>9.597</td>\n",
       "      <td>2013-12-07</td>\n",
       "      <td>5.6</td>\n",
       "      <td>129</td>\n",
       "      <td>Dec 6, 2013</td>\n",
       "      <td>15000000</td>\n",
       "      <td>0</td>\n",
       "      <td>20898221</td>\n",
       "      <td>20898221</td>\n",
       "      <td>1.393215</td>\n",
       "    </tr>\n",
       "    <tr>\n",
       "      <th>1391</th>\n",
       "      <td>Jackpot</td>\n",
       "      <td>DR</td>\n",
       "      <td>2014</td>\n",
       "      <td>no</td>\n",
       "      <td>2.864</td>\n",
       "      <td>2014-06-27</td>\n",
       "      <td>6.1</td>\n",
       "      <td>18</td>\n",
       "      <td>Jul 27, 2001</td>\n",
       "      <td>400000</td>\n",
       "      <td>44452</td>\n",
       "      <td>44452</td>\n",
       "      <td>0</td>\n",
       "      <td>0.111130</td>\n",
       "    </tr>\n",
       "    <tr>\n",
       "      <th>1393</th>\n",
       "      <td>It's a Wonderful Afterlife</td>\n",
       "      <td>UTV</td>\n",
       "      <td>2010</td>\n",
       "      <td>en</td>\n",
       "      <td>1.332</td>\n",
       "      <td>2010-10-08</td>\n",
       "      <td>4.6</td>\n",
       "      <td>12</td>\n",
       "      <td>Oct 8, 2010</td>\n",
       "      <td>10000000</td>\n",
       "      <td>0</td>\n",
       "      <td>1642939</td>\n",
       "      <td>1642939</td>\n",
       "      <td>0.164294</td>\n",
       "    </tr>\n",
       "    <tr>\n",
       "      <th>1394</th>\n",
       "      <td>All the Boys Love Mandy Lane</td>\n",
       "      <td>RTWC</td>\n",
       "      <td>2013</td>\n",
       "      <td>en</td>\n",
       "      <td>10.030</td>\n",
       "      <td>2013-10-11</td>\n",
       "      <td>5.5</td>\n",
       "      <td>326</td>\n",
       "      <td>Oct 11, 2013</td>\n",
       "      <td>750000</td>\n",
       "      <td>0</td>\n",
       "      <td>1960521</td>\n",
       "      <td>1960521</td>\n",
       "      <td>2.614028</td>\n",
       "    </tr>\n",
       "  </tbody>\n",
       "</table>\n",
       "<p>1079 rows × 14 columns</p>\n",
       "</div>"
      ],
      "text/plain": [
       "                             title studio  year original_language  popularity  \\\n",
       "0                    Black Panther     BV  2018                en      44.140   \n",
       "2           Avengers: Infinity War     BV  2018                en      80.773   \n",
       "3                   Jurassic World   Uni.  2015                en      20.709   \n",
       "4                    Incredibles 2     BV  2018                en      36.286   \n",
       "5     Rogue One: A Star Wars Story     BV  2016                en      21.401   \n",
       "...                            ...    ...   ...               ...         ...   \n",
       "1389                    Skin Trade  Magn.  2015                en       9.362   \n",
       "1390                        Khumba    MNE  2013                en       9.597   \n",
       "1391                       Jackpot     DR  2014                no       2.864   \n",
       "1393    It's a Wonderful Afterlife    UTV  2010                en       1.332   \n",
       "1394  All the Boys Love Mandy Lane   RTWC  2013                en      10.030   \n",
       "\n",
       "     release_date_x  vote_average  vote_count release_date_y  \\\n",
       "0        2018-02-16           7.4       12365   Feb 16, 2018   \n",
       "2        2018-04-27           8.3       13948   Apr 27, 2018   \n",
       "3        2015-06-12           6.6       14056   Jun 12, 2015   \n",
       "4        2018-06-15           7.6        6354   Jun 15, 2018   \n",
       "5        2016-12-16           7.5        9296   Dec 16, 2016   \n",
       "...             ...           ...         ...            ...   \n",
       "1389     2014-11-07           5.6          96    May 8, 2015   \n",
       "1390     2013-12-07           5.6         129    Dec 6, 2013   \n",
       "1391     2014-06-27           6.1          18   Jul 27, 2001   \n",
       "1393     2010-10-08           4.6          12    Oct 8, 2010   \n",
       "1394     2013-10-11           5.5         326   Oct 11, 2013   \n",
       "\n",
       "      production_budget  domestic_gross_y  worldwide_gross  foreign_gross  \\\n",
       "0             200000000         700059566       1348258224      648198658   \n",
       "2             300000000         678815482       2048134200     1369318718   \n",
       "3             215000000         652270625       1648854864      996584239   \n",
       "4             200000000         608581744       1242520711      633938967   \n",
       "5             200000000         532177324       1049102856      516925532   \n",
       "...                 ...               ...              ...            ...   \n",
       "1389            9000000              1242             1242              0   \n",
       "1390           15000000                 0         20898221       20898221   \n",
       "1391             400000             44452            44452              0   \n",
       "1393           10000000                 0          1642939        1642939   \n",
       "1394             750000                 0          1960521        1960521   \n",
       "\n",
       "      gross_to_budget_ratio  \n",
       "0                  6.741291  \n",
       "2                  6.827114  \n",
       "3                  7.669092  \n",
       "4                  6.212604  \n",
       "5                  5.245514  \n",
       "...                     ...  \n",
       "1389               0.000138  \n",
       "1390               1.393215  \n",
       "1391               0.111130  \n",
       "1393               0.164294  \n",
       "1394               2.614028  \n",
       "\n",
       "[1079 rows x 14 columns]"
      ]
     },
     "execution_count": 27,
     "metadata": {},
     "output_type": "execute_result"
    }
   ],
   "source": [
    "#limiting data to the upper limit of the iqr\n",
    "movies_oultierless = movies_clean[movies_clean['gross_to_budget_ratio']<upper_limit]\n",
    "movies_oultierless"
   ]
  },
  {
   "cell_type": "code",
   "execution_count": 89,
   "metadata": {
    "ExecuteTime": {
     "end_time": "2022-03-09T21:15:10.605707Z",
     "start_time": "2022-03-09T21:15:10.403608Z"
    }
   },
   "outputs": [
    {
     "data": {
      "image/png": "[encoded data removed]",
      "text/plain": [
       "<Figure size 360x360 with 1 Axes>"
      ]
     },
     "metadata": {
      "needs_background": "light"
     },
     "output_type": "display_data"
    }
   ],
   "source": [
    "#graph of movies_oultierless\n",
    "fig, ax = plt.subplots(figsize=(5,5),)\n",
    "ax.ticklabel_format(style='plain')\n",
    "ax.scatter(movies_oultierless['production_budget'] , y = movies_oultierless['worldwide_gross'], alpha = .4);\n",
    "#Removed outliers based on gross_to_budget_ratio. The correlation was very strong and positive.\n",
    "np.corrcoef(movies_oultierless['production_budget'] , y = movies_oultierless['worldwide_gross'])\n",
    "#almost a 1:1 correlation"
   ]
  },
  {
   "cell_type": "code",
   "execution_count": 66,
   "metadata": {
    "ExecuteTime": {
     "end_time": "2022-03-09T19:08:54.926330Z",
     "start_time": "2022-03-09T19:08:54.772504Z"
    }
   },
   "outputs": [
    {
     "data": {
      "image/png": "[encoded data removed]",
      "text/plain": [
       "<Figure size 720x720 with 1 Axes>"
      ]
     },
     "metadata": {
      "needs_background": "light"
     },
     "output_type": "display_data"
    }
   ],
   "source": [
    "fig, ax = plt.subplots(figsize=(10,10))\n",
    "\n",
    "ax.bar(x=genres_average_rating.index.astype(str), height=genres_average_rating['averagerating']);"
   ]
  },
  {
   "cell_type": "code",
   "execution_count": 67,
   "metadata": {
    "ExecuteTime": {
     "end_time": "2022-03-09T19:08:54.936374Z",
     "start_time": "2022-03-09T19:08:54.927408Z"
    }
   },
   "outputs": [
    {
     "data": {
      "text/html": [
       "<div>\n",
       "<style scoped>\n",
       "    .dataframe tbody tr th:only-of-type {\n",
       "        vertical-align: middle;\n",
       "    }\n",
       "\n",
       "    .dataframe tbody tr th {\n",
       "        vertical-align: top;\n",
       "    }\n",
       "\n",
       "    .dataframe thead th {\n",
       "        text-align: right;\n",
       "    }\n",
       "</style>\n",
       "<table border=\"1\" class=\"dataframe\">\n",
       "  <thead>\n",
       "    <tr style=\"text-align: right;\">\n",
       "      <th></th>\n",
       "      <th>averagerating</th>\n",
       "      <th>numvotes</th>\n",
       "      <th>runtime_minutes</th>\n",
       "    </tr>\n",
       "    <tr>\n",
       "      <th>start_year</th>\n",
       "      <th></th>\n",
       "      <th></th>\n",
       "      <th></th>\n",
       "    </tr>\n",
       "  </thead>\n",
       "  <tbody>\n",
       "    <tr>\n",
       "      <th>2010</th>\n",
       "      <td>6.306378</td>\n",
       "      <td>32207.062703</td>\n",
       "      <td>104.954545</td>\n",
       "    </tr>\n",
       "    <tr>\n",
       "      <th>2011</th>\n",
       "      <td>6.209054</td>\n",
       "      <td>32552.066124</td>\n",
       "      <td>103.919634</td>\n",
       "    </tr>\n",
       "    <tr>\n",
       "      <th>2012</th>\n",
       "      <td>6.180998</td>\n",
       "      <td>30643.207294</td>\n",
       "      <td>103.789625</td>\n",
       "    </tr>\n",
       "    <tr>\n",
       "      <th>2013</th>\n",
       "      <td>6.231584</td>\n",
       "      <td>31468.162896</td>\n",
       "      <td>105.320943</td>\n",
       "    </tr>\n",
       "    <tr>\n",
       "      <th>2014</th>\n",
       "      <td>6.227380</td>\n",
       "      <td>28236.682393</td>\n",
       "      <td>104.743892</td>\n",
       "    </tr>\n",
       "    <tr>\n",
       "      <th>2015</th>\n",
       "      <td>6.241098</td>\n",
       "      <td>22376.908769</td>\n",
       "      <td>104.757764</td>\n",
       "    </tr>\n",
       "    <tr>\n",
       "      <th>2016</th>\n",
       "      <td>6.240018</td>\n",
       "      <td>22988.199642</td>\n",
       "      <td>106.046637</td>\n",
       "    </tr>\n",
       "    <tr>\n",
       "      <th>2017</th>\n",
       "      <td>6.238200</td>\n",
       "      <td>19243.393939</td>\n",
       "      <td>106.879706</td>\n",
       "    </tr>\n",
       "    <tr>\n",
       "      <th>2018</th>\n",
       "      <td>6.368102</td>\n",
       "      <td>18289.530850</td>\n",
       "      <td>109.436554</td>\n",
       "    </tr>\n",
       "    <tr>\n",
       "      <th>2019</th>\n",
       "      <td>6.404972</td>\n",
       "      <td>15970.883978</td>\n",
       "      <td>113.558011</td>\n",
       "    </tr>\n",
       "  </tbody>\n",
       "</table>\n",
       "</div>"
      ],
      "text/plain": [
       "            averagerating      numvotes  runtime_minutes\n",
       "start_year                                              \n",
       "2010             6.306378  32207.062703       104.954545\n",
       "2011             6.209054  32552.066124       103.919634\n",
       "2012             6.180998  30643.207294       103.789625\n",
       "2013             6.231584  31468.162896       105.320943\n",
       "2014             6.227380  28236.682393       104.743892\n",
       "2015             6.241098  22376.908769       104.757764\n",
       "2016             6.240018  22988.199642       106.046637\n",
       "2017             6.238200  19243.393939       106.879706\n",
       "2018             6.368102  18289.530850       109.436554\n",
       "2019             6.404972  15970.883978       113.558011"
      ]
     },
     "execution_count": 67,
     "metadata": {},
     "output_type": "execute_result"
    }
   ],
   "source": [
    "#runtime_minutes vs start_year\n",
    "runtime_year = sql_df.groupby(['start_year']).mean(['runtime_minutes']).sort_values(['start_year'])\n",
    "runtime_year"
   ]
  },
  {
   "cell_type": "code",
   "execution_count": 68,
   "metadata": {
    "ExecuteTime": {
     "end_time": "2022-03-09T19:08:55.033784Z",
     "start_time": "2022-03-09T19:08:54.938311Z"
    }
   },
   "outputs": [
    {
     "data": {
      "image/png": "[encoded data removed]",
      "text/plain": [
       "<Figure size 720x720 with 1 Axes>"
      ]
     },
     "metadata": {
      "needs_background": "light"
     },
     "output_type": "display_data"
    }
   ],
   "source": [
    "fig, ax = plt.subplots(figsize=(10,10))\n",
    "\n",
    "ax.bar(x=runtime_year.index.astype(str), height=runtime_year['runtime_minutes']);"
   ]
  },
  {
   "cell_type": "code",
   "execution_count": 69,
   "metadata": {
    "ExecuteTime": {
     "end_time": "2022-03-09T19:08:55.044489Z",
     "start_time": "2022-03-09T19:08:55.041619Z"
    }
   },
   "outputs": [
    {
     "data": {
      "text/plain": [
       "array([[1.        , 0.81055676],\n",
       "       [0.81055676, 1.        ]])"
      ]
     },
     "execution_count": 69,
     "metadata": {},
     "output_type": "execute_result"
    }
   ],
   "source": [
    "#stong positive correlation\n",
    "#movies are getting longer!\n",
    "np.corrcoef(runtime_year.index , y = runtime_year['runtime_minutes'])"
   ]
  },
  {
   "cell_type": "code",
   "execution_count": 70,
   "metadata": {
    "ExecuteTime": {
     "end_time": "2022-03-09T19:08:55.051278Z",
     "start_time": "2022-03-09T19:08:55.047142Z"
    }
   },
   "outputs": [],
   "source": [
    "con.close() #have this in case file refuses to close"
   ]
  },
  {
   "cell_type": "code",
   "execution_count": 71,
   "metadata": {
    "ExecuteTime": {
     "end_time": "2022-03-09T19:08:55.054745Z",
     "start_time": "2022-03-09T19:08:55.052809Z"
    }
   },
   "outputs": [],
   "source": [
    "os.remove('im.db') #This line deletes the im.db file created earlier."
   ]
  },
  {
   "cell_type": "code",
   "execution_count": null,
   "metadata": {},
   "outputs": [],
   "source": []
  },
  {
   "cell_type": "code",
   "execution_count": null,
   "metadata": {},
   "outputs": [],
   "source": []
  },
  {
   "cell_type": "code",
   "execution_count": null,
   "metadata": {},
   "outputs": [],
   "source": []
  }
 ],
 "metadata": {
  "kernelspec": {
   "display_name": "Python (learn-env)",
   "language": "python",
   "name": "learn-env"
  },
  "language_info": {
   "codemirror_mode": {
    "name": "ipython",
    "version": 3
   },
   "file_extension": ".py",
   "mimetype": "text/x-python",
   "name": "python",
   "nbconvert_exporter": "python",
   "pygments_lexer": "ipython3",
   "version": "3.8.5"
  }
 },
 "nbformat": 4,
 "nbformat_minor": 4
}
