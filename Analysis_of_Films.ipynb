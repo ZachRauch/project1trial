{
 "cells": [
  {
   "cell_type": "markdown",
   "metadata": {},
   "source": [
    "# Analysis of Films"
   ]
  },
  {
   "cell_type": "markdown",
   "metadata": {},
   "source": [
    "## Overview"
   ]
  },
  {
   "cell_type": "markdown",
   "metadata": {},
   "source": [
    "The purpose of this project is to analyze the trends in the movie industry, and give recommendations based on these initial findings, to Microsoft's new studio. Exploratory analysis reveals the highest Return On Investment (ROI), runtime averaging closer to 2 hours, and that Horror-Thriller produces the greatest ROI. Microsoft can use the analysis made here to have a sense on the type of movies they should aim to make at their new movie studio."
   ]
  },
  {
   "cell_type": "markdown",
   "metadata": {},
   "source": [
    "## Business Problem"
   ]
  },
  {
   "cell_type": "markdown",
   "metadata": {},
   "source": [
    "Microsoft can venture into the movie industry by creating a movie studio under their name. The issue is that Microsoft may be unfamiliar with where to begin in the production of new films. With some insight into the landscape of the movie industry such as how much money others are investing per movie, the length of movies and the type of genres that produce high ROI, Microsoft will be able produce films that are profitable. This project describes the trends in ROI, namely in relation to production budget, movie length over time and genres."
   ]
  },
  {
   "cell_type": "markdown",
   "metadata": {},
   "source": [
    "## Data Understanding"
   ]
  },
  {
   "cell_type": "markdown",
   "metadata": {},
   "source": [
    "The data comes from multiple sources. In this project, data from The Movie Database (TMDB), The Numbers (TN) and Internet Movie Database (IMDB) was used. Each data file had the name of the film in which merges occurred on as they each had a column of interest for the analysis. The data provides the production budget, worldwide gross, runtime and other features of a film that are of interest."
   ]
  },
  {
   "cell_type": "code",
   "execution_count": 146,
   "metadata": {
    "ExecuteTime": {
     "end_time": "2022-03-11T17:21:36.635593Z",
     "start_time": "2022-03-11T17:21:36.621773Z"
    }
   },
   "outputs": [],
   "source": [
    "import pandas as pd\n",
    "import seaborn as sns\n",
    "import matplotlib.pyplot as plt\n",
    "from matplotlib import ticker\n",
    "import numpy as np\n",
    "import sqlite3\n",
    "import zipfile as zf\n",
    "import os\n",
    "pd.set_option('display.float_format', lambda x: '%.0f' % x)"
   ]
  },
  {
   "cell_type": "code",
   "execution_count": 147,
   "metadata": {
    "ExecuteTime": {
     "end_time": "2022-03-11T17:21:36.752495Z",
     "start_time": "2022-03-11T17:21:36.639289Z"
    }
   },
   "outputs": [],
   "source": [
    "tmdb = pd.read_csv('./data/tmdb.movies.csv.gz')\n",
    "tn = pd.read_csv('./data/tn.movie_budgets.csv.gz')"
   ]
  },
  {
   "cell_type": "code",
   "execution_count": 148,
   "metadata": {
    "ExecuteTime": {
     "end_time": "2022-03-11T17:21:38.204101Z",
     "start_time": "2022-03-11T17:21:36.754685Z"
    }
   },
   "outputs": [],
   "source": [
    "files = zf.ZipFile('./data/im.db.zip', 'r') #opens the zip file\n",
    "files.extractall() #creates a im.db file which is too big to push\n",
    "con = sqlite3.connect(\"./im.db\")\n",
    "#turning the sql dataset into a dataframe\n",
    "titles = pd.read_sql(\"\"\"Select * From movie_basics \"\"\", con)"
   ]
  },
  {
   "cell_type": "markdown",
   "metadata": {},
   "source": [
    "Examination of each dataset for columns of interest. "
   ]
  },
  {
   "cell_type": "code",
   "execution_count": 149,
   "metadata": {
    "ExecuteTime": {
     "end_time": "2022-03-11T17:21:38.210906Z",
     "start_time": "2022-03-11T17:21:38.205475Z"
    }
   },
   "outputs": [
    {
     "data": {
      "text/html": [
       "<div>\n",
       "<style scoped>\n",
       "    .dataframe tbody tr th:only-of-type {\n",
       "        vertical-align: middle;\n",
       "    }\n",
       "\n",
       "    .dataframe tbody tr th {\n",
       "        vertical-align: top;\n",
       "    }\n",
       "\n",
       "    .dataframe thead th {\n",
       "        text-align: right;\n",
       "    }\n",
       "</style>\n",
       "<table border=\"1\" class=\"dataframe\">\n",
       "  <thead>\n",
       "    <tr style=\"text-align: right;\">\n",
       "      <th></th>\n",
       "      <th>Unnamed: 0</th>\n",
       "      <th>genre_ids</th>\n",
       "      <th>id</th>\n",
       "      <th>original_language</th>\n",
       "      <th>original_title</th>\n",
       "      <th>popularity</th>\n",
       "      <th>release_date</th>\n",
       "      <th>title</th>\n",
       "      <th>vote_average</th>\n",
       "      <th>vote_count</th>\n",
       "    </tr>\n",
       "  </thead>\n",
       "  <tbody>\n",
       "    <tr>\n",
       "      <th>0</th>\n",
       "      <td>0</td>\n",
       "      <td>[12, 14, 10751]</td>\n",
       "      <td>12444</td>\n",
       "      <td>en</td>\n",
       "      <td>Harry Potter and the Deathly Hallows: Part 1</td>\n",
       "      <td>34</td>\n",
       "      <td>2010-11-19</td>\n",
       "      <td>Harry Potter and the Deathly Hallows: Part 1</td>\n",
       "      <td>8</td>\n",
       "      <td>10788</td>\n",
       "    </tr>\n",
       "  </tbody>\n",
       "</table>\n",
       "</div>"
      ],
      "text/plain": [
       "   Unnamed: 0        genre_ids     id original_language  \\\n",
       "0           0  [12, 14, 10751]  12444                en   \n",
       "\n",
       "                                 original_title  popularity release_date  \\\n",
       "0  Harry Potter and the Deathly Hallows: Part 1          34   2010-11-19   \n",
       "\n",
       "                                          title  vote_average  vote_count  \n",
       "0  Harry Potter and the Deathly Hallows: Part 1             8       10788  "
      ]
     },
     "execution_count": 149,
     "metadata": {},
     "output_type": "execute_result"
    }
   ],
   "source": [
    "tmdb.head(1)"
   ]
  },
  {
   "cell_type": "code",
   "execution_count": 150,
   "metadata": {
    "ExecuteTime": {
     "end_time": "2022-03-11T17:21:38.216918Z",
     "start_time": "2022-03-11T17:21:38.211760Z"
    }
   },
   "outputs": [
    {
     "data": {
      "text/html": [
       "<div>\n",
       "<style scoped>\n",
       "    .dataframe tbody tr th:only-of-type {\n",
       "        vertical-align: middle;\n",
       "    }\n",
       "\n",
       "    .dataframe tbody tr th {\n",
       "        vertical-align: top;\n",
       "    }\n",
       "\n",
       "    .dataframe thead th {\n",
       "        text-align: right;\n",
       "    }\n",
       "</style>\n",
       "<table border=\"1\" class=\"dataframe\">\n",
       "  <thead>\n",
       "    <tr style=\"text-align: right;\">\n",
       "      <th></th>\n",
       "      <th>id</th>\n",
       "      <th>release_date</th>\n",
       "      <th>movie</th>\n",
       "      <th>production_budget</th>\n",
       "      <th>domestic_gross</th>\n",
       "      <th>worldwide_gross</th>\n",
       "    </tr>\n",
       "  </thead>\n",
       "  <tbody>\n",
       "    <tr>\n",
       "      <th>0</th>\n",
       "      <td>1</td>\n",
       "      <td>Dec 18, 2009</td>\n",
       "      <td>Avatar</td>\n",
       "      <td>$425,000,000</td>\n",
       "      <td>$760,507,625</td>\n",
       "      <td>$2,776,345,279</td>\n",
       "    </tr>\n",
       "  </tbody>\n",
       "</table>\n",
       "</div>"
      ],
      "text/plain": [
       "   id  release_date   movie production_budget domestic_gross worldwide_gross\n",
       "0   1  Dec 18, 2009  Avatar      $425,000,000   $760,507,625  $2,776,345,279"
      ]
     },
     "execution_count": 150,
     "metadata": {},
     "output_type": "execute_result"
    }
   ],
   "source": [
    "tn.head(1)"
   ]
  },
  {
   "cell_type": "code",
   "execution_count": 151,
   "metadata": {
    "ExecuteTime": {
     "end_time": "2022-03-11T17:21:38.223678Z",
     "start_time": "2022-03-11T17:21:38.218012Z"
    }
   },
   "outputs": [
    {
     "data": {
      "text/html": [
       "<div>\n",
       "<style scoped>\n",
       "    .dataframe tbody tr th:only-of-type {\n",
       "        vertical-align: middle;\n",
       "    }\n",
       "\n",
       "    .dataframe tbody tr th {\n",
       "        vertical-align: top;\n",
       "    }\n",
       "\n",
       "    .dataframe thead th {\n",
       "        text-align: right;\n",
       "    }\n",
       "</style>\n",
       "<table border=\"1\" class=\"dataframe\">\n",
       "  <thead>\n",
       "    <tr style=\"text-align: right;\">\n",
       "      <th></th>\n",
       "      <th>movie_id</th>\n",
       "      <th>primary_title</th>\n",
       "      <th>original_title</th>\n",
       "      <th>start_year</th>\n",
       "      <th>runtime_minutes</th>\n",
       "      <th>genres</th>\n",
       "    </tr>\n",
       "  </thead>\n",
       "  <tbody>\n",
       "    <tr>\n",
       "      <th>0</th>\n",
       "      <td>tt0063540</td>\n",
       "      <td>Sunghursh</td>\n",
       "      <td>Sunghursh</td>\n",
       "      <td>2013</td>\n",
       "      <td>175</td>\n",
       "      <td>Action,Crime,Drama</td>\n",
       "    </tr>\n",
       "  </tbody>\n",
       "</table>\n",
       "</div>"
      ],
      "text/plain": [
       "    movie_id primary_title original_title  start_year  runtime_minutes  \\\n",
       "0  tt0063540     Sunghursh      Sunghursh        2013              175   \n",
       "\n",
       "               genres  \n",
       "0  Action,Crime,Drama  "
      ]
     },
     "execution_count": 151,
     "metadata": {},
     "output_type": "execute_result"
    }
   ],
   "source": [
    "\n",
    "titles.head(1)"
   ]
  },
  {
   "cell_type": "code",
   "execution_count": 152,
   "metadata": {
    "ExecuteTime": {
     "end_time": "2022-03-11T17:21:38.338159Z",
     "start_time": "2022-03-11T17:21:38.224741Z"
    }
   },
   "outputs": [
    {
     "data": {
      "text/html": [
       "<div>\n",
       "<style scoped>\n",
       "    .dataframe tbody tr th:only-of-type {\n",
       "        vertical-align: middle;\n",
       "    }\n",
       "\n",
       "    .dataframe tbody tr th {\n",
       "        vertical-align: top;\n",
       "    }\n",
       "\n",
       "    .dataframe thead th {\n",
       "        text-align: right;\n",
       "    }\n",
       "</style>\n",
       "<table border=\"1\" class=\"dataframe\">\n",
       "  <thead>\n",
       "    <tr style=\"text-align: right;\">\n",
       "      <th></th>\n",
       "      <th>movie_id</th>\n",
       "      <th>averagerating</th>\n",
       "      <th>numvotes</th>\n",
       "    </tr>\n",
       "  </thead>\n",
       "  <tbody>\n",
       "    <tr>\n",
       "      <th>0</th>\n",
       "      <td>tt10356526</td>\n",
       "      <td>8</td>\n",
       "      <td>31</td>\n",
       "    </tr>\n",
       "  </tbody>\n",
       "</table>\n",
       "</div>"
      ],
      "text/plain": [
       "     movie_id  averagerating  numvotes\n",
       "0  tt10356526              8        31"
      ]
     },
     "execution_count": 152,
     "metadata": {},
     "output_type": "execute_result"
    }
   ],
   "source": [
    "rating = pd.read_sql(\"\"\"Select * From movie_ratings\"\"\", con)\n",
    "\n",
    "rating.head(1)"
   ]
  },
  {
   "cell_type": "markdown",
   "metadata": {},
   "source": [
    "We identify these columns of interests:\n",
    "- popularity, release_date, vote_average and vote_count columns from the TMDB\n",
    "- runtime_minutes, genre, averagerating, and numvotes from the two sql dataset tables that requires merging on the movie special identification \n",
    "- production_budgets and worldwide_gross from TN"
   ]
  },
  {
   "cell_type": "markdown",
   "metadata": {},
   "source": [
    "## Data Preparation"
   ]
  },
  {
   "cell_type": "markdown",
   "metadata": {},
   "source": [
    "### Initial Data Merging"
   ]
  },
  {
   "cell_type": "markdown",
   "metadata": {},
   "source": [
    "We merged the TN and the TMDB dataset to use our columns of interest. The two sql data set were then merged together."
   ]
  },
  {
   "cell_type": "code",
   "execution_count": 153,
   "metadata": {
    "ExecuteTime": {
     "end_time": "2022-03-11T17:21:38.355067Z",
     "start_time": "2022-03-11T17:21:38.339108Z"
    }
   },
   "outputs": [],
   "source": [
    "#creation of merge table of the rating_and_gross with the tn table\n",
    "tmdb_tn_merge = tmdb.merge(tn, how='inner', left_on='title', right_on='movie')"
   ]
  },
  {
   "cell_type": "code",
   "execution_count": 154,
   "metadata": {
    "ExecuteTime": {
     "end_time": "2022-03-11T17:21:38.564259Z",
     "start_time": "2022-03-11T17:21:38.357428Z"
    }
   },
   "outputs": [],
   "source": [
    "#Merging of the two sql data bases\n",
    "sql_df = pd.read_sql('''\n",
    "    SELECT *\n",
    "    \n",
    "    FROM\n",
    "    movie_ratings\n",
    "    \n",
    "    INNER JOIN movie_basics\n",
    "        USING(movie_id) \n",
    "     \n",
    "     WHERE numvotes >= 1000\n",
    "     \n",
    "     ORDER BY \n",
    "         averagerating DESC\n",
    "''', con)"
   ]
  },
  {
   "cell_type": "code",
   "execution_count": 155,
   "metadata": {
    "ExecuteTime": {
     "end_time": "2022-03-11T17:21:38.573078Z",
     "start_time": "2022-03-11T17:21:38.565990Z"
    }
   },
   "outputs": [
    {
     "name": "stdout",
     "output_type": "stream",
     "text": [
      "<class 'pandas.core.frame.DataFrame'>\n",
      "Int64Index: 2385 entries, 0 to 2384\n",
      "Data columns (total 16 columns):\n",
      " #   Column             Non-Null Count  Dtype  \n",
      "---  ------             --------------  -----  \n",
      " 0   Unnamed: 0         2385 non-null   int64  \n",
      " 1   genre_ids          2385 non-null   object \n",
      " 2   id_x               2385 non-null   int64  \n",
      " 3   original_language  2385 non-null   object \n",
      " 4   original_title     2385 non-null   object \n",
      " 5   popularity         2385 non-null   float64\n",
      " 6   release_date_x     2385 non-null   object \n",
      " 7   title              2385 non-null   object \n",
      " 8   vote_average       2385 non-null   float64\n",
      " 9   vote_count         2385 non-null   int64  \n",
      " 10  id_y               2385 non-null   int64  \n",
      " 11  release_date_y     2385 non-null   object \n",
      " 12  movie              2385 non-null   object \n",
      " 13  production_budget  2385 non-null   object \n",
      " 14  domestic_gross     2385 non-null   object \n",
      " 15  worldwide_gross    2385 non-null   object \n",
      "dtypes: float64(2), int64(4), object(10)\n",
      "memory usage: 316.8+ KB\n"
     ]
    }
   ],
   "source": [
    "tmdb_tn_merge.info()"
   ]
  },
  {
   "cell_type": "markdown",
   "metadata": {},
   "source": [
    "There are unnecessary columns and potential duplicates. "
   ]
  },
  {
   "cell_type": "markdown",
   "metadata": {},
   "source": [
    "### Initial Data Cleaning"
   ]
  },
  {
   "cell_type": "markdown",
   "metadata": {},
   "source": [
    "We dropped columns that we thought were not useful for our analysis. Then monetary values were converted from strings to integers to be used, dropped exact duplicates and duplicates where the movie title was the same but some values were incorrect. We then added two new columns, net_profit and return_on_investment, for analysis. "
   ]
  },
  {
   "cell_type": "code",
   "execution_count": 156,
   "metadata": {
    "ExecuteTime": {
     "end_time": "2022-03-11T17:21:38.580690Z",
     "start_time": "2022-03-11T17:21:38.574044Z"
    },
    "scrolled": false
   },
   "outputs": [
    {
     "name": "stdout",
     "output_type": "stream",
     "text": [
      "<class 'pandas.core.frame.DataFrame'>\n",
      "Int64Index: 2385 entries, 0 to 2384\n",
      "Data columns (total 8 columns):\n",
      " #   Column             Non-Null Count  Dtype  \n",
      "---  ------             --------------  -----  \n",
      " 0   popularity         2385 non-null   float64\n",
      " 1   release_date_x     2385 non-null   object \n",
      " 2   title              2385 non-null   object \n",
      " 3   vote_average       2385 non-null   float64\n",
      " 4   vote_count         2385 non-null   int64  \n",
      " 5   production_budget  2385 non-null   object \n",
      " 6   domestic_gross     2385 non-null   object \n",
      " 7   worldwide_gross    2385 non-null   object \n",
      "dtypes: float64(2), int64(1), object(5)\n",
      "memory usage: 167.7+ KB\n"
     ]
    }
   ],
   "source": [
    "#dropping unnecessary columns\n",
    "clean_columns = tmdb_tn_merge.drop(['release_date_y', 'Unnamed: 0', 'genre_ids', 'original_title', 'movie', 'id_x', 'id_y', 'original_language'], axis=1)\n",
    "clean_columns.info()"
   ]
  },
  {
   "cell_type": "code",
   "execution_count": 157,
   "metadata": {
    "ExecuteTime": {
     "end_time": "2022-03-11T17:21:38.586786Z",
     "start_time": "2022-03-11T17:21:38.581690Z"
    }
   },
   "outputs": [],
   "source": [
    "#cleaning and converting worldwide_gross into int\n",
    "clean_columns['worldwide_gross'] = clean_columns['worldwide_gross'].str.replace('$', '')\n",
    "clean_columns['worldwide_gross'] = clean_columns['worldwide_gross'].str.replace(',', '')\n",
    "clean_columns['worldwide_gross'] = clean_columns['worldwide_gross'].astype('int64')"
   ]
  },
  {
   "cell_type": "code",
   "execution_count": 158,
   "metadata": {
    "ExecuteTime": {
     "end_time": "2022-03-11T17:21:38.592529Z",
     "start_time": "2022-03-11T17:21:38.587595Z"
    }
   },
   "outputs": [],
   "source": [
    "##cleaning and converting domestic_gross_y into int\n",
    "clean_columns['domestic_gross'] = clean_columns['domestic_gross'].str.replace('$', '')\n",
    "clean_columns['domestic_gross'] = clean_columns['domestic_gross'].str.replace(',', '')\n",
    "clean_columns['domestic_gross'] = clean_columns['domestic_gross'].astype('int64')"
   ]
  },
  {
   "cell_type": "code",
   "execution_count": 159,
   "metadata": {
    "ExecuteTime": {
     "end_time": "2022-03-11T17:21:38.599001Z",
     "start_time": "2022-03-11T17:21:38.593417Z"
    }
   },
   "outputs": [],
   "source": [
    "#cleaning and converting production_budget into int\n",
    "clean_columns['production_budget'] = clean_columns['production_budget'].str.replace('$', '')\n",
    "clean_columns['production_budget'] = clean_columns['production_budget'].str.replace(',', '')\n",
    "clean_columns['production_budget'] = clean_columns['production_budget'].astype('int64')"
   ]
  },
  {
   "cell_type": "code",
   "execution_count": 160,
   "metadata": {
    "ExecuteTime": {
     "end_time": "2022-03-11T17:21:38.605135Z",
     "start_time": "2022-03-11T17:21:38.601735Z"
    }
   },
   "outputs": [],
   "source": [
    "clean_columns['net_profit'] = clean_columns['worldwide_gross'] - clean_columns['production_budget']\n",
    "clean_columns['return_on_investment'] = (clean_columns['net_profit']/clean_columns['production_budget'])*100"
   ]
  },
  {
   "cell_type": "code",
   "execution_count": 161,
   "metadata": {
    "ExecuteTime": {
     "end_time": "2022-03-11T17:21:38.613127Z",
     "start_time": "2022-03-11T17:21:38.606124Z"
    }
   },
   "outputs": [
    {
     "name": "stdout",
     "output_type": "stream",
     "text": [
      "<class 'pandas.core.frame.DataFrame'>\n",
      "Int64Index: 2385 entries, 0 to 2384\n",
      "Data columns (total 10 columns):\n",
      " #   Column                Non-Null Count  Dtype  \n",
      "---  ------                --------------  -----  \n",
      " 0   popularity            2385 non-null   float64\n",
      " 1   release_date_x        2385 non-null   object \n",
      " 2   title                 2385 non-null   object \n",
      " 3   vote_average          2385 non-null   float64\n",
      " 4   vote_count            2385 non-null   int64  \n",
      " 5   production_budget     2385 non-null   int64  \n",
      " 6   domestic_gross        2385 non-null   int64  \n",
      " 7   worldwide_gross       2385 non-null   int64  \n",
      " 8   net_profit            2385 non-null   int64  \n",
      " 9   return_on_investment  2385 non-null   float64\n",
      "dtypes: float64(3), int64(5), object(2)\n",
      "memory usage: 205.0+ KB\n"
     ]
    }
   ],
   "source": [
    "#Sanity Check\n",
    "clean_columns.info()"
   ]
  },
  {
   "cell_type": "code",
   "execution_count": 162,
   "metadata": {
    "ExecuteTime": {
     "end_time": "2022-03-11T17:21:38.619545Z",
     "start_time": "2022-03-11T17:21:38.614467Z"
    }
   },
   "outputs": [],
   "source": [
    "#dropping exact row duplicates\n",
    "clean_columns = clean_columns.drop_duplicates()"
   ]
  },
  {
   "cell_type": "code",
   "execution_count": 163,
   "metadata": {
    "ExecuteTime": {
     "end_time": "2022-03-11T17:21:38.625320Z",
     "start_time": "2022-03-11T17:21:38.620463Z"
    }
   },
   "outputs": [],
   "source": [
    "#dropping duplicates where the title name is the same but other values are wrong\n",
    "vote_count_max = clean_columns.groupby(['title']).vote_count.transform(max)\n",
    "movies_clean = clean_columns.loc[clean_columns.vote_count == vote_count_max]"
   ]
  },
  {
   "cell_type": "code",
   "execution_count": 164,
   "metadata": {
    "ExecuteTime": {
     "end_time": "2022-03-11T17:21:38.629664Z",
     "start_time": "2022-03-11T17:21:38.626321Z"
    }
   },
   "outputs": [
    {
     "name": "stderr",
     "output_type": "stream",
     "text": [
      "<ipython-input-164-755fa9ff06c5>:1: SettingWithCopyWarning: \n",
      "A value is trying to be set on a copy of a slice from a DataFrame.\n",
      "Try using .loc[row_indexer,col_indexer] = value instead\n",
      "\n",
      "See the caveats in the documentation: https://pandas.pydata.org/pandas-docs/stable/user_guide/indexing.html#returning-a-view-versus-a-copy\n",
      "  movies_clean['net_profit'] = movies_clean['worldwide_gross'] - movies_clean['production_budget']\n",
      "<ipython-input-164-755fa9ff06c5>:2: SettingWithCopyWarning: \n",
      "A value is trying to be set on a copy of a slice from a DataFrame.\n",
      "Try using .loc[row_indexer,col_indexer] = value instead\n",
      "\n",
      "See the caveats in the documentation: https://pandas.pydata.org/pandas-docs/stable/user_guide/indexing.html#returning-a-view-versus-a-copy\n",
      "  movies_clean['return_on_investment'] = (movies_clean['net_profit']/movies_clean['production_budget'])*100\n"
     ]
    }
   ],
   "source": [
    "movies_clean['net_profit'] = movies_clean['worldwide_gross'] - movies_clean['production_budget']\n",
    "movies_clean['return_on_investment'] = (movies_clean['net_profit']/movies_clean['production_budget'])*100"
   ]
  },
  {
   "cell_type": "code",
   "execution_count": 165,
   "metadata": {
    "ExecuteTime": {
     "end_time": "2022-03-11T17:21:38.641949Z",
     "start_time": "2022-03-11T17:21:38.635941Z"
    }
   },
   "outputs": [
    {
     "data": {
      "text/html": [
       "<div>\n",
       "<style scoped>\n",
       "    .dataframe tbody tr th:only-of-type {\n",
       "        vertical-align: middle;\n",
       "    }\n",
       "\n",
       "    .dataframe tbody tr th {\n",
       "        vertical-align: top;\n",
       "    }\n",
       "\n",
       "    .dataframe thead th {\n",
       "        text-align: right;\n",
       "    }\n",
       "</style>\n",
       "<table border=\"1\" class=\"dataframe\">\n",
       "  <thead>\n",
       "    <tr style=\"text-align: right;\">\n",
       "      <th></th>\n",
       "      <th>popularity</th>\n",
       "      <th>release_date_x</th>\n",
       "      <th>title</th>\n",
       "      <th>vote_average</th>\n",
       "      <th>vote_count</th>\n",
       "      <th>production_budget</th>\n",
       "      <th>domestic_gross</th>\n",
       "      <th>worldwide_gross</th>\n",
       "      <th>net_profit</th>\n",
       "      <th>return_on_investment</th>\n",
       "    </tr>\n",
       "  </thead>\n",
       "  <tbody>\n",
       "    <tr>\n",
       "      <th>0</th>\n",
       "      <td>29</td>\n",
       "      <td>2010-03-26</td>\n",
       "      <td>How to Train Your Dragon</td>\n",
       "      <td>8</td>\n",
       "      <td>7610</td>\n",
       "      <td>165000000</td>\n",
       "      <td>217581232</td>\n",
       "      <td>494870992</td>\n",
       "      <td>329870992</td>\n",
       "      <td>200</td>\n",
       "    </tr>\n",
       "    <tr>\n",
       "      <th>1</th>\n",
       "      <td>29</td>\n",
       "      <td>2010-05-07</td>\n",
       "      <td>Iron Man 2</td>\n",
       "      <td>7</td>\n",
       "      <td>12368</td>\n",
       "      <td>170000000</td>\n",
       "      <td>312433331</td>\n",
       "      <td>621156389</td>\n",
       "      <td>451156389</td>\n",
       "      <td>265</td>\n",
       "    </tr>\n",
       "    <tr>\n",
       "      <th>2</th>\n",
       "      <td>28</td>\n",
       "      <td>1995-11-22</td>\n",
       "      <td>Toy Story</td>\n",
       "      <td>8</td>\n",
       "      <td>10174</td>\n",
       "      <td>30000000</td>\n",
       "      <td>191796233</td>\n",
       "      <td>364545516</td>\n",
       "      <td>334545516</td>\n",
       "      <td>1115</td>\n",
       "    </tr>\n",
       "    <tr>\n",
       "      <th>4</th>\n",
       "      <td>28</td>\n",
       "      <td>2010-07-16</td>\n",
       "      <td>Inception</td>\n",
       "      <td>8</td>\n",
       "      <td>22186</td>\n",
       "      <td>160000000</td>\n",
       "      <td>292576195</td>\n",
       "      <td>835524642</td>\n",
       "      <td>675524642</td>\n",
       "      <td>422</td>\n",
       "    </tr>\n",
       "    <tr>\n",
       "      <th>5</th>\n",
       "      <td>27</td>\n",
       "      <td>2010-02-11</td>\n",
       "      <td>Percy Jackson &amp; the Olympians: The Lightning T...</td>\n",
       "      <td>6</td>\n",
       "      <td>4229</td>\n",
       "      <td>95000000</td>\n",
       "      <td>88768303</td>\n",
       "      <td>223050874</td>\n",
       "      <td>128050874</td>\n",
       "      <td>135</td>\n",
       "    </tr>\n",
       "  </tbody>\n",
       "</table>\n",
       "</div>"
      ],
      "text/plain": [
       "   popularity release_date_x  \\\n",
       "0          29     2010-03-26   \n",
       "1          29     2010-05-07   \n",
       "2          28     1995-11-22   \n",
       "4          28     2010-07-16   \n",
       "5          27     2010-02-11   \n",
       "\n",
       "                                               title  vote_average  \\\n",
       "0                           How to Train Your Dragon             8   \n",
       "1                                         Iron Man 2             7   \n",
       "2                                          Toy Story             8   \n",
       "4                                          Inception             8   \n",
       "5  Percy Jackson & the Olympians: The Lightning T...             6   \n",
       "\n",
       "   vote_count  production_budget  domestic_gross  worldwide_gross  net_profit  \\\n",
       "0        7610          165000000       217581232        494870992   329870992   \n",
       "1       12368          170000000       312433331        621156389   451156389   \n",
       "2       10174           30000000       191796233        364545516   334545516   \n",
       "4       22186          160000000       292576195        835524642   675524642   \n",
       "5        4229           95000000        88768303        223050874   128050874   \n",
       "\n",
       "   return_on_investment  \n",
       "0                   200  \n",
       "1                   265  \n",
       "2                  1115  \n",
       "4                   422  \n",
       "5                   135  "
      ]
     },
     "execution_count": 165,
     "metadata": {},
     "output_type": "execute_result"
    }
   ],
   "source": [
    "#Sanity Check: verifying the shape of movies_clean\n",
    "movies_clean.head()"
   ]
  },
  {
   "cell_type": "markdown",
   "metadata": {},
   "source": [
    "After cleaning the dataset, we then merge the movies_clean with the sql_df to finally have all the columns of interest for the individual films that will be used later on."
   ]
  },
  {
   "cell_type": "code",
   "execution_count": 166,
   "metadata": {
    "ExecuteTime": {
     "end_time": "2022-03-11T17:21:38.652390Z",
     "start_time": "2022-03-11T17:21:38.642963Z"
    }
   },
   "outputs": [],
   "source": [
    "movies_sql = movies_clean.merge(sql_df, how='inner', left_on='title', right_on='original_title')"
   ]
  },
  {
   "cell_type": "markdown",
   "metadata": {},
   "source": [
    "# Data Analyzation"
   ]
  },
  {
   "cell_type": "markdown",
   "metadata": {},
   "source": [
    "We want to see what the initial data was telling us without the removal of outliers and to identify any anomaly."
   ]
  },
  {
   "cell_type": "code",
   "execution_count": 167,
   "metadata": {
    "ExecuteTime": {
     "end_time": "2022-03-11T17:21:38.674074Z",
     "start_time": "2022-03-11T17:21:38.653361Z"
    }
   },
   "outputs": [
    {
     "data": {
      "text/html": [
       "<div>\n",
       "<style scoped>\n",
       "    .dataframe tbody tr th:only-of-type {\n",
       "        vertical-align: middle;\n",
       "    }\n",
       "\n",
       "    .dataframe tbody tr th {\n",
       "        vertical-align: top;\n",
       "    }\n",
       "\n",
       "    .dataframe thead th {\n",
       "        text-align: right;\n",
       "    }\n",
       "</style>\n",
       "<table border=\"1\" class=\"dataframe\">\n",
       "  <thead>\n",
       "    <tr style=\"text-align: right;\">\n",
       "      <th></th>\n",
       "      <th>popularity</th>\n",
       "      <th>vote_average</th>\n",
       "      <th>vote_count</th>\n",
       "      <th>production_budget</th>\n",
       "      <th>domestic_gross</th>\n",
       "      <th>worldwide_gross</th>\n",
       "      <th>net_profit</th>\n",
       "      <th>return_on_investment</th>\n",
       "    </tr>\n",
       "  </thead>\n",
       "  <tbody>\n",
       "    <tr>\n",
       "      <th>count</th>\n",
       "      <td>1985</td>\n",
       "      <td>1985</td>\n",
       "      <td>1985</td>\n",
       "      <td>1985</td>\n",
       "      <td>1985</td>\n",
       "      <td>1985</td>\n",
       "      <td>1985</td>\n",
       "      <td>1985</td>\n",
       "    </tr>\n",
       "    <tr>\n",
       "      <th>mean</th>\n",
       "      <td>11</td>\n",
       "      <td>6</td>\n",
       "      <td>1751</td>\n",
       "      <td>38141604</td>\n",
       "      <td>48869281</td>\n",
       "      <td>119200891</td>\n",
       "      <td>81059287</td>\n",
       "      <td>299</td>\n",
       "    </tr>\n",
       "    <tr>\n",
       "      <th>std</th>\n",
       "      <td>8</td>\n",
       "      <td>1</td>\n",
       "      <td>2716</td>\n",
       "      <td>51548575</td>\n",
       "      <td>80553279</td>\n",
       "      <td>220735239</td>\n",
       "      <td>182342254</td>\n",
       "      <td>1413</td>\n",
       "    </tr>\n",
       "    <tr>\n",
       "      <th>min</th>\n",
       "      <td>1</td>\n",
       "      <td>0</td>\n",
       "      <td>1</td>\n",
       "      <td>9000</td>\n",
       "      <td>0</td>\n",
       "      <td>0</td>\n",
       "      <td>-110450242</td>\n",
       "      <td>-100</td>\n",
       "    </tr>\n",
       "    <tr>\n",
       "      <th>25%</th>\n",
       "      <td>6</td>\n",
       "      <td>6</td>\n",
       "      <td>97</td>\n",
       "      <td>5000000</td>\n",
       "      <td>890303</td>\n",
       "      <td>3237452</td>\n",
       "      <td>-1794702</td>\n",
       "      <td>-57</td>\n",
       "    </tr>\n",
       "    <tr>\n",
       "      <th>50%</th>\n",
       "      <td>10</td>\n",
       "      <td>6</td>\n",
       "      <td>692</td>\n",
       "      <td>20000000</td>\n",
       "      <td>20738724</td>\n",
       "      <td>37119358</td>\n",
       "      <td>13874967</td>\n",
       "      <td>79</td>\n",
       "    </tr>\n",
       "    <tr>\n",
       "      <th>75%</th>\n",
       "      <td>15</td>\n",
       "      <td>7</td>\n",
       "      <td>2147</td>\n",
       "      <td>48000000</td>\n",
       "      <td>58269151</td>\n",
       "      <td>123696741</td>\n",
       "      <td>77309178</td>\n",
       "      <td>279</td>\n",
       "    </tr>\n",
       "    <tr>\n",
       "      <th>max</th>\n",
       "      <td>81</td>\n",
       "      <td>10</td>\n",
       "      <td>22186</td>\n",
       "      <td>425000000</td>\n",
       "      <td>760507625</td>\n",
       "      <td>2776345279</td>\n",
       "      <td>2351345279</td>\n",
       "      <td>41556</td>\n",
       "    </tr>\n",
       "  </tbody>\n",
       "</table>\n",
       "</div>"
      ],
      "text/plain": [
       "       popularity  vote_average  vote_count  production_budget  \\\n",
       "count        1985          1985        1985               1985   \n",
       "mean           11             6        1751           38141604   \n",
       "std             8             1        2716           51548575   \n",
       "min             1             0           1               9000   \n",
       "25%             6             6          97            5000000   \n",
       "50%            10             6         692           20000000   \n",
       "75%            15             7        2147           48000000   \n",
       "max            81            10       22186          425000000   \n",
       "\n",
       "       domestic_gross  worldwide_gross  net_profit  return_on_investment  \n",
       "count            1985             1985        1985                  1985  \n",
       "mean         48869281        119200891    81059287                   299  \n",
       "std          80553279        220735239   182342254                  1413  \n",
       "min                 0                0  -110450242                  -100  \n",
       "25%            890303          3237452    -1794702                   -57  \n",
       "50%          20738724         37119358    13874967                    79  \n",
       "75%          58269151        123696741    77309178                   279  \n",
       "max         760507625       2776345279  2351345279                 41556  "
      ]
     },
     "execution_count": 167,
     "metadata": {},
     "output_type": "execute_result"
    }
   ],
   "source": [
    "#Quick glance at the information of the dataset\n",
    "movies_clean.describe()\n",
    "# min value for production_budget is > 0."
   ]
  },
  {
   "cell_type": "markdown",
   "metadata": {},
   "source": [
    "After a quick skim from above, we notice that there are some outliers with our dataset. "
   ]
  },
  {
   "cell_type": "code",
   "execution_count": 168,
   "metadata": {
    "ExecuteTime": {
     "end_time": "2022-03-11T17:21:38.677612Z",
     "start_time": "2022-03-11T17:21:38.675183Z"
    }
   },
   "outputs": [
    {
     "name": "stderr",
     "output_type": "stream",
     "text": [
      "<ipython-input-168-4c7c47f9eb27>:2: SettingWithCopyWarning: \n",
      "A value is trying to be set on a copy of a slice from a DataFrame.\n",
      "Try using .loc[row_indexer,col_indexer] = value instead\n",
      "\n",
      "See the caveats in the documentation: https://pandas.pydata.org/pandas-docs/stable/user_guide/indexing.html#returning-a-view-versus-a-copy\n",
      "  movies_clean['gross_to_budget_ratio'] = movies_clean['worldwide_gross'] / movies_clean['production_budget']\n"
     ]
    }
   ],
   "source": [
    "#creating a new column for potential analysis\n",
    "movies_clean['gross_to_budget_ratio'] = movies_clean['worldwide_gross'] / movies_clean['production_budget']"
   ]
  },
  {
   "cell_type": "code",
   "execution_count": 169,
   "metadata": {
    "ExecuteTime": {
     "end_time": "2022-03-11T17:21:38.683297Z",
     "start_time": "2022-03-11T17:21:38.678498Z"
    }
   },
   "outputs": [
    {
     "data": {
      "text/plain": [
       "(-61488042.26423174, 299889824.73576826)"
      ]
     },
     "execution_count": 169,
     "metadata": {},
     "output_type": "execute_result"
    }
   ],
   "source": [
    "#Dropping outliers from worldwide_gross\n",
    "q3, q1 = np.percentile(movies_clean['worldwide_gross'], [75, 25])\n",
    "q3, q1\n",
    "iqr = q3-q1\n",
    "\n",
    "lower_limit_wwg = movies_clean['worldwide_gross'].mean()-(iqr*1.5)\n",
    "\n",
    "upper_limit_wwg = movies_clean['worldwide_gross'].mean()+(iqr*1.5)\n",
    "\n",
    "lower_limit_wwg, upper_limit_wwg"
   ]
  },
  {
   "cell_type": "code",
   "execution_count": 170,
   "metadata": {
    "ExecuteTime": {
     "end_time": "2022-03-11T17:21:38.688139Z",
     "start_time": "2022-03-11T17:21:38.684586Z"
    }
   },
   "outputs": [],
   "source": [
    "movies_without_wwg_outliers = movies_clean[movies_clean['worldwide_gross']<upper_limit_wwg]"
   ]
  },
  {
   "cell_type": "markdown",
   "metadata": {},
   "source": [
    "We expect some form revenue for domestic if it was released in theatres. Some other reasoning"
   ]
  },
  {
   "cell_type": "code",
   "execution_count": 171,
   "metadata": {
    "ExecuteTime": {
     "end_time": "2022-03-11T17:21:38.693762Z",
     "start_time": "2022-03-11T17:21:38.689070Z"
    }
   },
   "outputs": [
    {
     "data": {
      "text/plain": [
       "(-21004391.479225952, 71995608.52077405)"
      ]
     },
     "execution_count": 171,
     "metadata": {},
     "output_type": "execute_result"
    }
   ],
   "source": [
    "#Dropping outliers from production_budget\n",
    "q3, q1 = np.percentile(movies_without_wwg_outliers['production_budget'], [75, 25])\n",
    "q3, q1\n",
    "iqr = q3-q1\n",
    "\n",
    "lower_limit_pb = movies_without_wwg_outliers['production_budget'].mean()-(iqr*1.5)\n",
    "\n",
    "upper_limit_pb = movies_without_wwg_outliers['production_budget'].mean()+(iqr*1.5)\n",
    "\n",
    "lower_limit_pb, upper_limit_pb"
   ]
  },
  {
   "cell_type": "code",
   "execution_count": 172,
   "metadata": {
    "ExecuteTime": {
     "end_time": "2022-03-11T17:21:38.704757Z",
     "start_time": "2022-03-11T17:21:38.699764Z"
    }
   },
   "outputs": [],
   "source": [
    "#This will be used later\n",
    "movies_without_wwg_or_pb_outliers = movies_without_wwg_outliers[movies_without_wwg_outliers['production_budget']<upper_limit_pb]"
   ]
  },
  {
   "cell_type": "markdown",
   "metadata": {},
   "source": [
    "We decided to create three different variables and from those removed outliers. These variables excluded the outliers based on the IQR formula for determining outliers. These variables looked at outliers based on worldwide_gross, production_budget and gross_to_budget_ratio."
   ]
  },
  {
   "cell_type": "markdown",
   "metadata": {},
   "source": [
    "### Production Budget"
   ]
  },
  {
   "cell_type": "markdown",
   "metadata": {},
   "source": [
    "We started examining the question of what is the ROI for a movie and how strong of a correlation is there between the production budget and their worldwide_gross."
   ]
  },
  {
   "cell_type": "code",
   "execution_count": 173,
   "metadata": {
    "ExecuteTime": {
     "end_time": "2022-03-11T17:21:38.732181Z",
     "start_time": "2022-03-11T17:21:38.709937Z"
    },
    "scrolled": true
   },
   "outputs": [
    {
     "data": {
      "text/html": [
       "<div>\n",
       "<style scoped>\n",
       "    .dataframe tbody tr th:only-of-type {\n",
       "        vertical-align: middle;\n",
       "    }\n",
       "\n",
       "    .dataframe tbody tr th {\n",
       "        vertical-align: top;\n",
       "    }\n",
       "\n",
       "    .dataframe thead th {\n",
       "        text-align: right;\n",
       "    }\n",
       "</style>\n",
       "<table border=\"1\" class=\"dataframe\">\n",
       "  <thead>\n",
       "    <tr style=\"text-align: right;\">\n",
       "      <th></th>\n",
       "      <th>popularity</th>\n",
       "      <th>vote_average</th>\n",
       "      <th>vote_count</th>\n",
       "      <th>production_budget</th>\n",
       "      <th>domestic_gross</th>\n",
       "      <th>worldwide_gross</th>\n",
       "      <th>net_profit</th>\n",
       "      <th>return_on_investment</th>\n",
       "      <th>gross_to_budget_ratio</th>\n",
       "    </tr>\n",
       "  </thead>\n",
       "  <tbody>\n",
       "    <tr>\n",
       "      <th>count</th>\n",
       "      <td>1985</td>\n",
       "      <td>1985</td>\n",
       "      <td>1985</td>\n",
       "      <td>1985</td>\n",
       "      <td>1985</td>\n",
       "      <td>1985</td>\n",
       "      <td>1985</td>\n",
       "      <td>1985</td>\n",
       "      <td>1985</td>\n",
       "    </tr>\n",
       "    <tr>\n",
       "      <th>mean</th>\n",
       "      <td>11</td>\n",
       "      <td>6</td>\n",
       "      <td>1751</td>\n",
       "      <td>38141604</td>\n",
       "      <td>48869281</td>\n",
       "      <td>119200891</td>\n",
       "      <td>81059287</td>\n",
       "      <td>299</td>\n",
       "      <td>4</td>\n",
       "    </tr>\n",
       "    <tr>\n",
       "      <th>std</th>\n",
       "      <td>8</td>\n",
       "      <td>1</td>\n",
       "      <td>2716</td>\n",
       "      <td>51548575</td>\n",
       "      <td>80553279</td>\n",
       "      <td>220735239</td>\n",
       "      <td>182342254</td>\n",
       "      <td>1413</td>\n",
       "      <td>14</td>\n",
       "    </tr>\n",
       "    <tr>\n",
       "      <th>min</th>\n",
       "      <td>1</td>\n",
       "      <td>0</td>\n",
       "      <td>1</td>\n",
       "      <td>9000</td>\n",
       "      <td>0</td>\n",
       "      <td>0</td>\n",
       "      <td>-110450242</td>\n",
       "      <td>-100</td>\n",
       "      <td>0</td>\n",
       "    </tr>\n",
       "    <tr>\n",
       "      <th>25%</th>\n",
       "      <td>6</td>\n",
       "      <td>6</td>\n",
       "      <td>97</td>\n",
       "      <td>5000000</td>\n",
       "      <td>890303</td>\n",
       "      <td>3237452</td>\n",
       "      <td>-1794702</td>\n",
       "      <td>-57</td>\n",
       "      <td>0</td>\n",
       "    </tr>\n",
       "    <tr>\n",
       "      <th>50%</th>\n",
       "      <td>10</td>\n",
       "      <td>6</td>\n",
       "      <td>692</td>\n",
       "      <td>20000000</td>\n",
       "      <td>20738724</td>\n",
       "      <td>37119358</td>\n",
       "      <td>13874967</td>\n",
       "      <td>79</td>\n",
       "      <td>2</td>\n",
       "    </tr>\n",
       "    <tr>\n",
       "      <th>75%</th>\n",
       "      <td>15</td>\n",
       "      <td>7</td>\n",
       "      <td>2147</td>\n",
       "      <td>48000000</td>\n",
       "      <td>58269151</td>\n",
       "      <td>123696741</td>\n",
       "      <td>77309178</td>\n",
       "      <td>279</td>\n",
       "      <td>4</td>\n",
       "    </tr>\n",
       "    <tr>\n",
       "      <th>max</th>\n",
       "      <td>81</td>\n",
       "      <td>10</td>\n",
       "      <td>22186</td>\n",
       "      <td>425000000</td>\n",
       "      <td>760507625</td>\n",
       "      <td>2776345279</td>\n",
       "      <td>2351345279</td>\n",
       "      <td>41556</td>\n",
       "      <td>417</td>\n",
       "    </tr>\n",
       "  </tbody>\n",
       "</table>\n",
       "</div>"
      ],
      "text/plain": [
       "       popularity  vote_average  vote_count  production_budget  \\\n",
       "count        1985          1985        1985               1985   \n",
       "mean           11             6        1751           38141604   \n",
       "std             8             1        2716           51548575   \n",
       "min             1             0           1               9000   \n",
       "25%             6             6          97            5000000   \n",
       "50%            10             6         692           20000000   \n",
       "75%            15             7        2147           48000000   \n",
       "max            81            10       22186          425000000   \n",
       "\n",
       "       domestic_gross  worldwide_gross  net_profit  return_on_investment  \\\n",
       "count            1985             1985        1985                  1985   \n",
       "mean         48869281        119200891    81059287                   299   \n",
       "std          80553279        220735239   182342254                  1413   \n",
       "min                 0                0  -110450242                  -100   \n",
       "25%            890303          3237452    -1794702                   -57   \n",
       "50%          20738724         37119358    13874967                    79   \n",
       "75%          58269151        123696741    77309178                   279   \n",
       "max         760507625       2776345279  2351345279                 41556   \n",
       "\n",
       "       gross_to_budget_ratio  \n",
       "count                   1985  \n",
       "mean                       4  \n",
       "std                       14  \n",
       "min                        0  \n",
       "25%                        0  \n",
       "50%                        2  \n",
       "75%                        4  \n",
       "max                      417  "
      ]
     },
     "execution_count": 173,
     "metadata": {},
     "output_type": "execute_result"
    }
   ],
   "source": [
    "#To get a sense of what the averages, medians and range are.\n",
    "movies_clean.describe()"
   ]
  },
  {
   "cell_type": "code",
   "execution_count": 174,
   "metadata": {
    "ExecuteTime": {
     "end_time": "2022-03-11T17:21:38.847758Z",
     "start_time": "2022-03-11T17:21:38.733266Z"
    },
    "scrolled": false
   },
   "outputs": [
    {
     "data": {
      "image/png": "[encoded data removed]",
      "text/plain": [
       "<Figure size 720x432 with 1 Axes>"
      ]
     },
     "metadata": {
      "needs_background": "light"
     },
     "output_type": "display_data"
    }
   ],
   "source": [
    "#graph of it with outliers included\n",
    "fig, ax = plt.subplots(figsize=(10,6))\n",
    "ax.ticklabel_format(style='plain')\n",
    "ax.scatter(movies_clean['production_budget'] , y = movies_clean['worldwide_gross'], alpha = .4, c=\"c\");\n",
    "\n",
    "x=movies_clean['production_budget']\n",
    "y=movies_clean['worldwide_gross']\n",
    "m, b = np.polyfit(x,y,1)\n",
    "plt.plot(x, m*x + b, c=\"purple\")\n",
    "plt.legend(['Return On Investment'])\n",
    "\n",
    "ax.set_title('Production Budget and Revenue')\n",
    "ax.set_xlabel('Production Budget')\n",
    "ax.set_ylabel('Revenue')\n",
    "ax.yaxis.set_major_formatter(ticker.StrMethodFormatter('${x:,.0f}'))\n",
    "ax.xaxis.set_major_formatter(ticker.StrMethodFormatter('${x:,.0f}'));"
   ]
  },
  {
   "cell_type": "code",
   "execution_count": 175,
   "metadata": {
    "ExecuteTime": {
     "end_time": "2022-03-11T17:21:38.851749Z",
     "start_time": "2022-03-11T17:21:38.848760Z"
    }
   },
   "outputs": [
    {
     "data": {
      "text/plain": [
       "0.7967862608330321"
      ]
     },
     "execution_count": 175,
     "metadata": {},
     "output_type": "execute_result"
    }
   ],
   "source": [
    "#Correlation before removing any outliers.\n",
    "np.corrcoef(movies_clean['production_budget'] , y = movies_clean['worldwide_gross'])[0][1]"
   ]
  },
  {
   "cell_type": "code",
   "execution_count": 176,
   "metadata": {
    "ExecuteTime": {
     "end_time": "2022-03-11T17:21:38.856345Z",
     "start_time": "2022-03-11T17:21:38.852671Z"
    }
   },
   "outputs": [
    {
     "data": {
      "text/plain": [
       "(-1.0505965680929648, 9.032935220478462)"
      ]
     },
     "execution_count": 176,
     "metadata": {},
     "output_type": "execute_result"
    }
   ],
   "source": [
    "#Removing outliers based of gross_to_budget_ratio\n",
    "q3, q1 = np.percentile(movies_clean['gross_to_budget_ratio'], [75, 25])\n",
    "q3, q1\n",
    "iqr = q3-q1\n",
    "\n",
    "lower_limit = movies_clean['gross_to_budget_ratio'].mean()-(iqr*1.5)\n",
    "\n",
    "upper_limit = movies_clean['gross_to_budget_ratio'].mean()+(iqr*1.5)\n",
    "\n",
    "lower_limit, upper_limit"
   ]
  },
  {
   "cell_type": "code",
   "execution_count": 177,
   "metadata": {
    "ExecuteTime": {
     "end_time": "2022-03-11T17:21:38.966109Z",
     "start_time": "2022-03-11T17:21:38.857252Z"
    }
   },
   "outputs": [
    {
     "data": {
      "image/png": "[encoded data removed]",
      "text/plain": [
       "<Figure size 720x432 with 1 Axes>"
      ]
     },
     "metadata": {
      "needs_background": "light"
     },
     "output_type": "display_data"
    }
   ],
   "source": [
    "#limiting data to the upper limit of the iqr\n",
    "movies_no_gtbr_outliers = movies_clean[movies_clean['gross_to_budget_ratio']<upper_limit]\n",
    "\n",
    "\n",
    "#graph of movies_oultierless\n",
    "fig, ax = plt.subplots(figsize=(10,6))\n",
    "ax.ticklabel_format(style='plain')\n",
    "ax.scatter(movies_no_gtbr_outliers['production_budget'] , y = movies_no_gtbr_outliers['worldwide_gross'], alpha = .4, c=\"c\");\n",
    "\n",
    "x=movies_no_gtbr_outliers['production_budget']\n",
    "y=movies_no_gtbr_outliers['worldwide_gross']\n",
    "m, b = np.polyfit(x,y,1)\n",
    "plt.plot(x, m*x + b, c=\"purple\")\n",
    "plt.legend(['Return On Investment'])\n",
    "\n",
    "\n",
    "ax.set_title('Production Budget and Revenue without GTBR Outliers')\n",
    "ax.set_xlabel('Production Budget')\n",
    "ax.set_ylabel('Revenue')\n",
    "ax.yaxis.set_major_formatter(ticker.StrMethodFormatter('${x:,.0f}'))\n",
    "ax.xaxis.set_major_formatter(ticker.StrMethodFormatter('${x:,.0f}'));"
   ]
  },
  {
   "cell_type": "code",
   "execution_count": 178,
   "metadata": {
    "ExecuteTime": {
     "end_time": "2022-03-11T17:21:38.983296Z",
     "start_time": "2022-03-11T17:21:38.967145Z"
    }
   },
   "outputs": [
    {
     "data": {
      "text/html": [
       "<div>\n",
       "<style scoped>\n",
       "    .dataframe tbody tr th:only-of-type {\n",
       "        vertical-align: middle;\n",
       "    }\n",
       "\n",
       "    .dataframe tbody tr th {\n",
       "        vertical-align: top;\n",
       "    }\n",
       "\n",
       "    .dataframe thead th {\n",
       "        text-align: right;\n",
       "    }\n",
       "</style>\n",
       "<table border=\"1\" class=\"dataframe\">\n",
       "  <thead>\n",
       "    <tr style=\"text-align: right;\">\n",
       "      <th></th>\n",
       "      <th>popularity</th>\n",
       "      <th>vote_average</th>\n",
       "      <th>vote_count</th>\n",
       "      <th>production_budget</th>\n",
       "      <th>domestic_gross</th>\n",
       "      <th>worldwide_gross</th>\n",
       "      <th>net_profit</th>\n",
       "      <th>return_on_investment</th>\n",
       "      <th>gross_to_budget_ratio</th>\n",
       "    </tr>\n",
       "  </thead>\n",
       "  <tbody>\n",
       "    <tr>\n",
       "      <th>count</th>\n",
       "      <td>1833</td>\n",
       "      <td>1833</td>\n",
       "      <td>1833</td>\n",
       "      <td>1833</td>\n",
       "      <td>1833</td>\n",
       "      <td>1833</td>\n",
       "      <td>1833</td>\n",
       "      <td>1833</td>\n",
       "      <td>1833</td>\n",
       "    </tr>\n",
       "    <tr>\n",
       "      <th>mean</th>\n",
       "      <td>11</td>\n",
       "      <td>6</td>\n",
       "      <td>1644</td>\n",
       "      <td>40199115</td>\n",
       "      <td>45637028</td>\n",
       "      <td>112898500</td>\n",
       "      <td>72699386</td>\n",
       "      <td>108</td>\n",
       "      <td>2</td>\n",
       "    </tr>\n",
       "    <tr>\n",
       "      <th>std</th>\n",
       "      <td>8</td>\n",
       "      <td>1</td>\n",
       "      <td>2639</td>\n",
       "      <td>52836545</td>\n",
       "      <td>78393740</td>\n",
       "      <td>217778699</td>\n",
       "      <td>175962512</td>\n",
       "      <td>204</td>\n",
       "      <td>2</td>\n",
       "    </tr>\n",
       "    <tr>\n",
       "      <th>min</th>\n",
       "      <td>1</td>\n",
       "      <td>0</td>\n",
       "      <td>1</td>\n",
       "      <td>9000</td>\n",
       "      <td>0</td>\n",
       "      <td>0</td>\n",
       "      <td>-110450242</td>\n",
       "      <td>-100</td>\n",
       "      <td>0</td>\n",
       "    </tr>\n",
       "    <tr>\n",
       "      <th>25%</th>\n",
       "      <td>6</td>\n",
       "      <td>6</td>\n",
       "      <td>86</td>\n",
       "      <td>5600000</td>\n",
       "      <td>538690</td>\n",
       "      <td>2303792</td>\n",
       "      <td>-2137869</td>\n",
       "      <td>-66</td>\n",
       "      <td>0</td>\n",
       "    </tr>\n",
       "    <tr>\n",
       "      <th>50%</th>\n",
       "      <td>10</td>\n",
       "      <td>6</td>\n",
       "      <td>621</td>\n",
       "      <td>20000000</td>\n",
       "      <td>18115927</td>\n",
       "      <td>32909437</td>\n",
       "      <td>10163785</td>\n",
       "      <td>55</td>\n",
       "      <td>2</td>\n",
       "    </tr>\n",
       "    <tr>\n",
       "      <th>75%</th>\n",
       "      <td>14</td>\n",
       "      <td>7</td>\n",
       "      <td>2012</td>\n",
       "      <td>50000000</td>\n",
       "      <td>54445357</td>\n",
       "      <td>112006296</td>\n",
       "      <td>66470701</td>\n",
       "      <td>215</td>\n",
       "      <td>3</td>\n",
       "    </tr>\n",
       "    <tr>\n",
       "      <th>max</th>\n",
       "      <td>81</td>\n",
       "      <td>10</td>\n",
       "      <td>22186</td>\n",
       "      <td>425000000</td>\n",
       "      <td>760507625</td>\n",
       "      <td>2776345279</td>\n",
       "      <td>2351345279</td>\n",
       "      <td>791</td>\n",
       "      <td>9</td>\n",
       "    </tr>\n",
       "  </tbody>\n",
       "</table>\n",
       "</div>"
      ],
      "text/plain": [
       "       popularity  vote_average  vote_count  production_budget  \\\n",
       "count        1833          1833        1833               1833   \n",
       "mean           11             6        1644           40199115   \n",
       "std             8             1        2639           52836545   \n",
       "min             1             0           1               9000   \n",
       "25%             6             6          86            5600000   \n",
       "50%            10             6         621           20000000   \n",
       "75%            14             7        2012           50000000   \n",
       "max            81            10       22186          425000000   \n",
       "\n",
       "       domestic_gross  worldwide_gross  net_profit  return_on_investment  \\\n",
       "count            1833             1833        1833                  1833   \n",
       "mean         45637028        112898500    72699386                   108   \n",
       "std          78393740        217778699   175962512                   204   \n",
       "min                 0                0  -110450242                  -100   \n",
       "25%            538690          2303792    -2137869                   -66   \n",
       "50%          18115927         32909437    10163785                    55   \n",
       "75%          54445357        112006296    66470701                   215   \n",
       "max         760507625       2776345279  2351345279                   791   \n",
       "\n",
       "       gross_to_budget_ratio  \n",
       "count                   1833  \n",
       "mean                       2  \n",
       "std                        2  \n",
       "min                        0  \n",
       "25%                        0  \n",
       "50%                        2  \n",
       "75%                        3  \n",
       "max                        9  "
      ]
     },
     "execution_count": 178,
     "metadata": {},
     "output_type": "execute_result"
    }
   ],
   "source": [
    "#get a sense of what the averages, medians and range are\n",
    "movies_no_gtbr_outliers.describe()"
   ]
  },
  {
   "cell_type": "code",
   "execution_count": 179,
   "metadata": {
    "ExecuteTime": {
     "end_time": "2022-03-11T17:21:38.987306Z",
     "start_time": "2022-03-11T17:21:38.984234Z"
    },
    "scrolled": true
   },
   "outputs": [
    {
     "data": {
      "text/plain": [
       "0.8367516418053011"
      ]
     },
     "execution_count": 179,
     "metadata": {},
     "output_type": "execute_result"
    }
   ],
   "source": [
    "np.corrcoef(movies_no_gtbr_outliers['production_budget'] , y = movies_no_gtbr_outliers['worldwide_gross'])[0][1]"
   ]
  },
  {
   "cell_type": "markdown",
   "metadata": {},
   "source": [
    "A stronger correlation compared to when outliers were excluded based on gross_to_budget_ratio. It looks to be very close to 1:1 relationship. "
   ]
  },
  {
   "cell_type": "code",
   "execution_count": 180,
   "metadata": {
    "ExecuteTime": {
     "end_time": "2022-03-11T17:21:39.025755Z",
     "start_time": "2022-03-11T17:21:38.988248Z"
    },
    "scrolled": true
   },
   "outputs": [
    {
     "data": {
      "text/html": [
       "<div>\n",
       "<style scoped>\n",
       "    .dataframe tbody tr th:only-of-type {\n",
       "        vertical-align: middle;\n",
       "    }\n",
       "\n",
       "    .dataframe tbody tr th {\n",
       "        vertical-align: top;\n",
       "    }\n",
       "\n",
       "    .dataframe thead th {\n",
       "        text-align: right;\n",
       "    }\n",
       "</style>\n",
       "<table border=\"1\" class=\"dataframe\">\n",
       "  <thead>\n",
       "    <tr style=\"text-align: right;\">\n",
       "      <th></th>\n",
       "      <th>popularity</th>\n",
       "      <th>vote_average</th>\n",
       "      <th>vote_count</th>\n",
       "      <th>production_budget</th>\n",
       "      <th>domestic_gross</th>\n",
       "      <th>worldwide_gross</th>\n",
       "      <th>net_profit</th>\n",
       "      <th>return_on_investment</th>\n",
       "      <th>gross_to_budget_ratio</th>\n",
       "    </tr>\n",
       "  </thead>\n",
       "  <tbody>\n",
       "    <tr>\n",
       "      <th>count</th>\n",
       "      <td>1628</td>\n",
       "      <td>1628</td>\n",
       "      <td>1628</td>\n",
       "      <td>1628</td>\n",
       "      <td>1628</td>\n",
       "      <td>1628</td>\n",
       "      <td>1628</td>\n",
       "      <td>1628</td>\n",
       "      <td>1628</td>\n",
       "    </tr>\n",
       "    <tr>\n",
       "      <th>mean</th>\n",
       "      <td>9</td>\n",
       "      <td>6</td>\n",
       "      <td>1001</td>\n",
       "      <td>18744708</td>\n",
       "      <td>23909380</td>\n",
       "      <td>45258749</td>\n",
       "      <td>26514041</td>\n",
       "      <td>288</td>\n",
       "      <td>4</td>\n",
       "    </tr>\n",
       "    <tr>\n",
       "      <th>std</th>\n",
       "      <td>6</td>\n",
       "      <td>1</td>\n",
       "      <td>1501</td>\n",
       "      <td>18065889</td>\n",
       "      <td>31827083</td>\n",
       "      <td>59525908</td>\n",
       "      <td>51212708</td>\n",
       "      <td>1543</td>\n",
       "      <td>15</td>\n",
       "    </tr>\n",
       "    <tr>\n",
       "      <th>min</th>\n",
       "      <td>1</td>\n",
       "      <td>0</td>\n",
       "      <td>1</td>\n",
       "      <td>9000</td>\n",
       "      <td>0</td>\n",
       "      <td>0</td>\n",
       "      <td>-64483721</td>\n",
       "      <td>-100</td>\n",
       "      <td>0</td>\n",
       "    </tr>\n",
       "    <tr>\n",
       "      <th>25%</th>\n",
       "      <td>6</td>\n",
       "      <td>6</td>\n",
       "      <td>61</td>\n",
       "      <td>3500000</td>\n",
       "      <td>214418</td>\n",
       "      <td>1224814</td>\n",
       "      <td>-2696138</td>\n",
       "      <td>-75</td>\n",
       "      <td>0</td>\n",
       "    </tr>\n",
       "    <tr>\n",
       "      <th>50%</th>\n",
       "      <td>9</td>\n",
       "      <td>6</td>\n",
       "      <td>440</td>\n",
       "      <td>13000000</td>\n",
       "      <td>10758547</td>\n",
       "      <td>20515516</td>\n",
       "      <td>4461564</td>\n",
       "      <td>44</td>\n",
       "      <td>1</td>\n",
       "    </tr>\n",
       "    <tr>\n",
       "      <th>75%</th>\n",
       "      <td>12</td>\n",
       "      <td>7</td>\n",
       "      <td>1312</td>\n",
       "      <td>30000000</td>\n",
       "      <td>36662592</td>\n",
       "      <td>67353830</td>\n",
       "      <td>40879829</td>\n",
       "      <td>230</td>\n",
       "      <td>3</td>\n",
       "    </tr>\n",
       "    <tr>\n",
       "      <th>max</th>\n",
       "      <td>78</td>\n",
       "      <td>10</td>\n",
       "      <td>19673</td>\n",
       "      <td>71682975</td>\n",
       "      <td>242212467</td>\n",
       "      <td>298923419</td>\n",
       "      <td>285154618</td>\n",
       "      <td>41556</td>\n",
       "      <td>417</td>\n",
       "    </tr>\n",
       "  </tbody>\n",
       "</table>\n",
       "</div>"
      ],
      "text/plain": [
       "       popularity  vote_average  vote_count  production_budget  \\\n",
       "count        1628          1628        1628               1628   \n",
       "mean            9             6        1001           18744708   \n",
       "std             6             1        1501           18065889   \n",
       "min             1             0           1               9000   \n",
       "25%             6             6          61            3500000   \n",
       "50%             9             6         440           13000000   \n",
       "75%            12             7        1312           30000000   \n",
       "max            78            10       19673           71682975   \n",
       "\n",
       "       domestic_gross  worldwide_gross  net_profit  return_on_investment  \\\n",
       "count            1628             1628        1628                  1628   \n",
       "mean         23909380         45258749    26514041                   288   \n",
       "std          31827083         59525908    51212708                  1543   \n",
       "min                 0                0   -64483721                  -100   \n",
       "25%            214418          1224814    -2696138                   -75   \n",
       "50%          10758547         20515516     4461564                    44   \n",
       "75%          36662592         67353830    40879829                   230   \n",
       "max         242212467        298923419   285154618                 41556   \n",
       "\n",
       "       gross_to_budget_ratio  \n",
       "count                   1628  \n",
       "mean                       4  \n",
       "std                       15  \n",
       "min                        0  \n",
       "25%                        0  \n",
       "50%                        1  \n",
       "75%                        3  \n",
       "max                      417  "
      ]
     },
     "execution_count": 180,
     "metadata": {},
     "output_type": "execute_result"
    }
   ],
   "source": [
    "#To get a sense of what the averages, medians and range are \n",
    "#without production_budget and worldwide_gross outliers\n",
    "movies_without_wwg_or_pb_outliers.describe()"
   ]
  },
  {
   "cell_type": "code",
   "execution_count": 181,
   "metadata": {
    "ExecuteTime": {
     "end_time": "2022-03-11T17:21:39.207199Z",
     "start_time": "2022-03-11T17:21:39.027267Z"
    },
    "scrolled": false
   },
   "outputs": [
    {
     "data": {
      "image/png": "[encoded data removed]",
      "text/plain": [
       "<Figure size 720x432 with 1 Axes>"
      ]
     },
     "metadata": {
      "needs_background": "light"
     },
     "output_type": "display_data"
    }
   ],
   "source": [
    "#graph of movies_without_wwg_or_pb_outliers\n",
    "fig, ax = plt.subplots(figsize=(10,6),)\n",
    "ax.ticklabel_format(style='plain')\n",
    "ax.scatter(movies_without_wwg_or_pb_outliers['production_budget'] , y = movies_without_wwg_or_pb_outliers['worldwide_gross'], alpha = .3, c=\"c\")\n",
    "\n",
    "\n",
    "x=movies_without_wwg_or_pb_outliers['production_budget']\n",
    "y=movies_without_wwg_or_pb_outliers['worldwide_gross']\n",
    "m, b = np.polyfit(x,y,1)\n",
    "plt.plot(x, m*x + b, c=\"purple\")\n",
    "plt.legend(['Return On Investment'], )\n",
    "\n",
    "plt.plot(x, x, c=\"orange\", ls=\"--\")\n",
    "plt.legend(['Return On Investment', 'Breakeven'])\n",
    "\n",
    "ax.set_title('Production Budget and Revenue')\n",
    "\n",
    "ax.set_xlabel('Production Budget')\n",
    "ax.set_ylabel('Revenue')\n",
    "ax.yaxis.set_major_formatter(ticker.StrMethodFormatter('${x:,.0f}')) #adds commas to the int value\n",
    "ax.xaxis.set_major_formatter(ticker.StrMethodFormatter('${x:,.0f}'));"
   ]
  },
  {
   "cell_type": "code",
   "execution_count": 182,
   "metadata": {
    "ExecuteTime": {
     "end_time": "2022-03-11T17:21:39.210936Z",
     "start_time": "2022-03-11T17:21:39.208419Z"
    }
   },
   "outputs": [
    {
     "data": {
      "text/plain": [
       "0.5797758751480752"
      ]
     },
     "execution_count": 182,
     "metadata": {},
     "output_type": "execute_result"
    }
   ],
   "source": [
    "#checking the correlation coefficient of movies_without_wwg_or_pb_outliers\n",
    "np.corrcoef(movies_without_wwg_or_pb_outliers['production_budget'] , y = movies_without_wwg_or_pb_outliers['worldwide_gross'])[0][1]"
   ]
  },
  {
   "cell_type": "markdown",
   "metadata": {},
   "source": [
    "The correlation is weaker when we remove outliers based on production_budget and worldwide_gross rather than gross_to_budget_ratio."
   ]
  },
  {
   "cell_type": "code",
   "execution_count": 183,
   "metadata": {
    "ExecuteTime": {
     "end_time": "2022-03-11T17:21:39.328330Z",
     "start_time": "2022-03-11T17:21:39.212016Z"
    },
    "scrolled": false
   },
   "outputs": [
    {
     "data": {
      "image/png": "[encoded data removed]",
      "text/plain": [
       "<Figure size 720x432 with 1 Axes>"
      ]
     },
     "metadata": {
      "needs_background": "light"
     },
     "output_type": "display_data"
    }
   ],
   "source": [
    "fig, ax = plt.subplots(figsize=(10,6),)\n",
    "ax.ticklabel_format(style='plain')\n",
    "ax.scatter(movies_without_wwg_or_pb_outliers['production_budget'] , y = movies_without_wwg_or_pb_outliers['net_profit'], alpha = .3, c=\"c\")\n",
    "\n",
    "\n",
    "x=movies_without_wwg_or_pb_outliers['production_budget']\n",
    "y=movies_without_wwg_or_pb_outliers['net_profit']\n",
    "m, b = np.polyfit(x,y,1)\n",
    "plt.plot(x, m*x + b, c=\"purple\")\n",
    "plt.legend(['Correlation'], )\n",
    "\n",
    "plt.plot(x, x, c=\"orange\", ls=\"--\")\n",
    "plt.legend(['Correlation', 'Breakeven'])\n",
    "\n",
    "ax.set_title('Production Budget and Profit')\n",
    "\n",
    "ax.set_xlabel('Production Budget')\n",
    "ax.set_ylabel('net_profit')\n",
    "ax.xaxis.set_major_formatter(ticker.StrMethodFormatter('${x:,.0f}'));"
   ]
  },
  {
   "cell_type": "code",
   "execution_count": 184,
   "metadata": {
    "ExecuteTime": {
     "end_time": "2022-03-11T17:21:39.331884Z",
     "start_time": "2022-03-11T17:21:39.329250Z"
    },
    "scrolled": true
   },
   "outputs": [
    {
     "data": {
      "text/plain": [
       "0.32112725035800754"
      ]
     },
     "execution_count": 184,
     "metadata": {},
     "output_type": "execute_result"
    }
   ],
   "source": [
    "np.corrcoef(movies_without_wwg_or_pb_outliers['production_budget'] , y = movies_without_wwg_or_pb_outliers['net_profit'])[0][1]"
   ]
  },
  {
   "cell_type": "markdown",
   "metadata": {},
   "source": [
    "There is a weak correlation between production_budget and net_profit when outliers are removed based on worldwide_budget and production_ratio."
   ]
  },
  {
   "cell_type": "code",
   "execution_count": 185,
   "metadata": {
    "ExecuteTime": {
     "end_time": "2022-03-11T17:21:39.432511Z",
     "start_time": "2022-03-11T17:21:39.332856Z"
    },
    "scrolled": false
   },
   "outputs": [
    {
     "data": {
      "image/png": "[encoded data removed]",
      "text/plain": [
       "<Figure size 720x432 with 1 Axes>"
      ]
     },
     "metadata": {
      "needs_background": "light"
     },
     "output_type": "display_data"
    }
   ],
   "source": [
    "fig, ax = plt.subplots(figsize=(10,6))\n",
    "ax.ticklabel_format(style='plain')\n",
    "ax.scatter(movies_clean['production_budget'] , y = movies_clean['net_profit'], alpha = .4, c=\"c\");\n",
    "\n",
    "x=movies_clean['production_budget']\n",
    "y=movies_clean['net_profit']\n",
    "m, b = np.polyfit(x,y,1)\n",
    "plt.plot(x, m*x + b, c=\"purple\")\n",
    "plt.legend(['Return On Investment'])\n",
    "\n",
    "ax.set_title('Production Budget and Revenue')\n",
    "ax.set_xlabel('Production Budget')\n",
    "ax.set_ylabel('net_profit')\n",
    "ax.yaxis.set_major_formatter(ticker.StrMethodFormatter('${x:,.0f}'))\n",
    "ax.xaxis.set_major_formatter(ticker.StrMethodFormatter('${x:,.0f}'));"
   ]
  },
  {
   "cell_type": "code",
   "execution_count": 186,
   "metadata": {
    "ExecuteTime": {
     "end_time": "2022-03-11T17:21:39.436144Z",
     "start_time": "2022-03-11T17:21:39.433386Z"
    }
   },
   "outputs": [
    {
     "data": {
      "text/plain": [
       "0.6818509022151604"
      ]
     },
     "execution_count": 186,
     "metadata": {},
     "output_type": "execute_result"
    }
   ],
   "source": [
    "np.corrcoef(movies_clean['production_budget'] , y = movies_clean['net_profit'])[0][1]"
   ]
  },
  {
   "cell_type": "markdown",
   "metadata": {},
   "source": [
    "The correlation between production_budget and net_profit increases without the removal of outliers."
   ]
  },
  {
   "cell_type": "code",
   "execution_count": 187,
   "metadata": {
    "ExecuteTime": {
     "end_time": "2022-03-11T17:21:39.453028Z",
     "start_time": "2022-03-11T17:21:39.437109Z"
    }
   },
   "outputs": [
    {
     "data": {
      "text/html": [
       "<div>\n",
       "<style scoped>\n",
       "    .dataframe tbody tr th:only-of-type {\n",
       "        vertical-align: middle;\n",
       "    }\n",
       "\n",
       "    .dataframe tbody tr th {\n",
       "        vertical-align: top;\n",
       "    }\n",
       "\n",
       "    .dataframe thead th {\n",
       "        text-align: right;\n",
       "    }\n",
       "</style>\n",
       "<table border=\"1\" class=\"dataframe\">\n",
       "  <thead>\n",
       "    <tr style=\"text-align: right;\">\n",
       "      <th></th>\n",
       "      <th>popularity</th>\n",
       "      <th>vote_average</th>\n",
       "      <th>vote_count</th>\n",
       "      <th>production_budget</th>\n",
       "      <th>domestic_gross</th>\n",
       "      <th>worldwide_gross</th>\n",
       "      <th>net_profit</th>\n",
       "      <th>return_on_investment</th>\n",
       "      <th>gross_to_budget_ratio</th>\n",
       "    </tr>\n",
       "  </thead>\n",
       "  <tbody>\n",
       "    <tr>\n",
       "      <th>count</th>\n",
       "      <td>1985</td>\n",
       "      <td>1985</td>\n",
       "      <td>1985</td>\n",
       "      <td>1985</td>\n",
       "      <td>1985</td>\n",
       "      <td>1985</td>\n",
       "      <td>1985</td>\n",
       "      <td>1985</td>\n",
       "      <td>1985</td>\n",
       "    </tr>\n",
       "    <tr>\n",
       "      <th>mean</th>\n",
       "      <td>11</td>\n",
       "      <td>6</td>\n",
       "      <td>1751</td>\n",
       "      <td>38141604</td>\n",
       "      <td>48869281</td>\n",
       "      <td>119200891</td>\n",
       "      <td>81059287</td>\n",
       "      <td>299</td>\n",
       "      <td>4</td>\n",
       "    </tr>\n",
       "    <tr>\n",
       "      <th>std</th>\n",
       "      <td>8</td>\n",
       "      <td>1</td>\n",
       "      <td>2716</td>\n",
       "      <td>51548575</td>\n",
       "      <td>80553279</td>\n",
       "      <td>220735239</td>\n",
       "      <td>182342254</td>\n",
       "      <td>1413</td>\n",
       "      <td>14</td>\n",
       "    </tr>\n",
       "    <tr>\n",
       "      <th>min</th>\n",
       "      <td>1</td>\n",
       "      <td>0</td>\n",
       "      <td>1</td>\n",
       "      <td>9000</td>\n",
       "      <td>0</td>\n",
       "      <td>0</td>\n",
       "      <td>-110450242</td>\n",
       "      <td>-100</td>\n",
       "      <td>0</td>\n",
       "    </tr>\n",
       "    <tr>\n",
       "      <th>25%</th>\n",
       "      <td>6</td>\n",
       "      <td>6</td>\n",
       "      <td>97</td>\n",
       "      <td>5000000</td>\n",
       "      <td>890303</td>\n",
       "      <td>3237452</td>\n",
       "      <td>-1794702</td>\n",
       "      <td>-57</td>\n",
       "      <td>0</td>\n",
       "    </tr>\n",
       "    <tr>\n",
       "      <th>50%</th>\n",
       "      <td>10</td>\n",
       "      <td>6</td>\n",
       "      <td>692</td>\n",
       "      <td>20000000</td>\n",
       "      <td>20738724</td>\n",
       "      <td>37119358</td>\n",
       "      <td>13874967</td>\n",
       "      <td>79</td>\n",
       "      <td>2</td>\n",
       "    </tr>\n",
       "    <tr>\n",
       "      <th>75%</th>\n",
       "      <td>15</td>\n",
       "      <td>7</td>\n",
       "      <td>2147</td>\n",
       "      <td>48000000</td>\n",
       "      <td>58269151</td>\n",
       "      <td>123696741</td>\n",
       "      <td>77309178</td>\n",
       "      <td>279</td>\n",
       "      <td>4</td>\n",
       "    </tr>\n",
       "    <tr>\n",
       "      <th>max</th>\n",
       "      <td>81</td>\n",
       "      <td>10</td>\n",
       "      <td>22186</td>\n",
       "      <td>425000000</td>\n",
       "      <td>760507625</td>\n",
       "      <td>2776345279</td>\n",
       "      <td>2351345279</td>\n",
       "      <td>41556</td>\n",
       "      <td>417</td>\n",
       "    </tr>\n",
       "  </tbody>\n",
       "</table>\n",
       "</div>"
      ],
      "text/plain": [
       "       popularity  vote_average  vote_count  production_budget  \\\n",
       "count        1985          1985        1985               1985   \n",
       "mean           11             6        1751           38141604   \n",
       "std             8             1        2716           51548575   \n",
       "min             1             0           1               9000   \n",
       "25%             6             6          97            5000000   \n",
       "50%            10             6         692           20000000   \n",
       "75%            15             7        2147           48000000   \n",
       "max            81            10       22186          425000000   \n",
       "\n",
       "       domestic_gross  worldwide_gross  net_profit  return_on_investment  \\\n",
       "count            1985             1985        1985                  1985   \n",
       "mean         48869281        119200891    81059287                   299   \n",
       "std          80553279        220735239   182342254                  1413   \n",
       "min                 0                0  -110450242                  -100   \n",
       "25%            890303          3237452    -1794702                   -57   \n",
       "50%          20738724         37119358    13874967                    79   \n",
       "75%          58269151        123696741    77309178                   279   \n",
       "max         760507625       2776345279  2351345279                 41556   \n",
       "\n",
       "       gross_to_budget_ratio  \n",
       "count                   1985  \n",
       "mean                       4  \n",
       "std                       14  \n",
       "min                        0  \n",
       "25%                        0  \n",
       "50%                        2  \n",
       "75%                        4  \n",
       "max                      417  "
      ]
     },
     "execution_count": 187,
     "metadata": {},
     "output_type": "execute_result"
    }
   ],
   "source": [
    "movies_clean.describe()"
   ]
  },
  {
   "cell_type": "markdown",
   "metadata": {
    "ExecuteTime": {
     "end_time": "2022-03-11T16:21:29.470967Z",
     "start_time": "2022-03-11T16:21:29.464283Z"
    }
   },
   "source": [
    "Because the correlation between production_budget and net_profit is heavily skewed by outliers, we decided to look at the relationship between ranges of production_budget and the average return_on_investment. "
   ]
  },
  {
   "cell_type": "code",
   "execution_count": 188,
   "metadata": {
    "ExecuteTime": {
     "end_time": "2022-03-11T17:21:39.471317Z",
     "start_time": "2022-03-11T17:21:39.454024Z"
    }
   },
   "outputs": [
    {
     "data": {
      "text/html": [
       "<div>\n",
       "<style scoped>\n",
       "    .dataframe tbody tr th:only-of-type {\n",
       "        vertical-align: middle;\n",
       "    }\n",
       "\n",
       "    .dataframe tbody tr th {\n",
       "        vertical-align: top;\n",
       "    }\n",
       "\n",
       "    .dataframe thead th {\n",
       "        text-align: right;\n",
       "    }\n",
       "</style>\n",
       "<table border=\"1\" class=\"dataframe\">\n",
       "  <thead>\n",
       "    <tr style=\"text-align: right;\">\n",
       "      <th></th>\n",
       "      <th>popularity</th>\n",
       "      <th>vote_average</th>\n",
       "      <th>vote_count</th>\n",
       "      <th>production_budget</th>\n",
       "      <th>domestic_gross</th>\n",
       "      <th>worldwide_gross</th>\n",
       "      <th>net_profit</th>\n",
       "      <th>return_on_investment</th>\n",
       "      <th>gross_to_budget_ratio</th>\n",
       "    </tr>\n",
       "  </thead>\n",
       "  <tbody>\n",
       "    <tr>\n",
       "      <th>count</th>\n",
       "      <td>525</td>\n",
       "      <td>525</td>\n",
       "      <td>525</td>\n",
       "      <td>525</td>\n",
       "      <td>525</td>\n",
       "      <td>525</td>\n",
       "      <td>525</td>\n",
       "      <td>525</td>\n",
       "      <td>525</td>\n",
       "    </tr>\n",
       "    <tr>\n",
       "      <th>mean</th>\n",
       "      <td>9</td>\n",
       "      <td>6</td>\n",
       "      <td>989</td>\n",
       "      <td>10914952</td>\n",
       "      <td>22021114</td>\n",
       "      <td>39936377</td>\n",
       "      <td>29021425</td>\n",
       "      <td>298</td>\n",
       "      <td>4</td>\n",
       "    </tr>\n",
       "    <tr>\n",
       "      <th>std</th>\n",
       "      <td>5</td>\n",
       "      <td>1</td>\n",
       "      <td>1519</td>\n",
       "      <td>4134163</td>\n",
       "      <td>32788401</td>\n",
       "      <td>60401824</td>\n",
       "      <td>60016803</td>\n",
       "      <td>662</td>\n",
       "      <td>7</td>\n",
       "    </tr>\n",
       "    <tr>\n",
       "      <th>min</th>\n",
       "      <td>1</td>\n",
       "      <td>0</td>\n",
       "      <td>1</td>\n",
       "      <td>5000000</td>\n",
       "      <td>0</td>\n",
       "      <td>0</td>\n",
       "      <td>-19800000</td>\n",
       "      <td>-100</td>\n",
       "      <td>0</td>\n",
       "    </tr>\n",
       "    <tr>\n",
       "      <th>25%</th>\n",
       "      <td>7</td>\n",
       "      <td>6</td>\n",
       "      <td>112</td>\n",
       "      <td>7500000</td>\n",
       "      <td>1109199</td>\n",
       "      <td>3503761</td>\n",
       "      <td>-5436920</td>\n",
       "      <td>-66</td>\n",
       "      <td>0</td>\n",
       "    </tr>\n",
       "    <tr>\n",
       "      <th>50%</th>\n",
       "      <td>9</td>\n",
       "      <td>6</td>\n",
       "      <td>384</td>\n",
       "      <td>10000000</td>\n",
       "      <td>9176933</td>\n",
       "      <td>17856688</td>\n",
       "      <td>7503828</td>\n",
       "      <td>72</td>\n",
       "      <td>2</td>\n",
       "    </tr>\n",
       "    <tr>\n",
       "      <th>75%</th>\n",
       "      <td>12</td>\n",
       "      <td>7</td>\n",
       "      <td>1142</td>\n",
       "      <td>14500000</td>\n",
       "      <td>30014534</td>\n",
       "      <td>50445860</td>\n",
       "      <td>37844516</td>\n",
       "      <td>391</td>\n",
       "      <td>5</td>\n",
       "    </tr>\n",
       "    <tr>\n",
       "      <th>max</th>\n",
       "      <td>33</td>\n",
       "      <td>9</td>\n",
       "      <td>10396</td>\n",
       "      <td>19800000</td>\n",
       "      <td>260000000</td>\n",
       "      <td>470700000</td>\n",
       "      <td>458700000</td>\n",
       "      <td>5479</td>\n",
       "      <td>56</td>\n",
       "    </tr>\n",
       "  </tbody>\n",
       "</table>\n",
       "</div>"
      ],
      "text/plain": [
       "       popularity  vote_average  vote_count  production_budget  \\\n",
       "count         525           525         525                525   \n",
       "mean            9             6         989           10914952   \n",
       "std             5             1        1519            4134163   \n",
       "min             1             0           1            5000000   \n",
       "25%             7             6         112            7500000   \n",
       "50%             9             6         384           10000000   \n",
       "75%            12             7        1142           14500000   \n",
       "max            33             9       10396           19800000   \n",
       "\n",
       "       domestic_gross  worldwide_gross  net_profit  return_on_investment  \\\n",
       "count             525              525         525                   525   \n",
       "mean         22021114         39936377    29021425                   298   \n",
       "std          32788401         60401824    60016803                   662   \n",
       "min                 0                0   -19800000                  -100   \n",
       "25%           1109199          3503761    -5436920                   -66   \n",
       "50%           9176933         17856688     7503828                    72   \n",
       "75%          30014534         50445860    37844516                   391   \n",
       "max         260000000        470700000   458700000                  5479   \n",
       "\n",
       "       gross_to_budget_ratio  \n",
       "count                    525  \n",
       "mean                       4  \n",
       "std                        7  \n",
       "min                        0  \n",
       "25%                        0  \n",
       "50%                        2  \n",
       "75%                        5  \n",
       "max                       56  "
      ]
     },
     "execution_count": 188,
     "metadata": {},
     "output_type": "execute_result"
    }
   ],
   "source": [
    "#find out what the range is for the production budget\n",
    "twentyfive = movies_clean[(movies_clean['production_budget'] >= 5.000000e+06)]\n",
    "twentyfive_fifty = twentyfive[twentyfive['production_budget'] < 2.000000e+07]\n",
    "twentyfive_fifty.describe()"
   ]
  },
  {
   "cell_type": "code",
   "execution_count": 189,
   "metadata": {
    "ExecuteTime": {
     "end_time": "2022-03-11T17:21:39.489299Z",
     "start_time": "2022-03-11T17:21:39.472324Z"
    }
   },
   "outputs": [
    {
     "data": {
      "text/html": [
       "<div>\n",
       "<style scoped>\n",
       "    .dataframe tbody tr th:only-of-type {\n",
       "        vertical-align: middle;\n",
       "    }\n",
       "\n",
       "    .dataframe tbody tr th {\n",
       "        vertical-align: top;\n",
       "    }\n",
       "\n",
       "    .dataframe thead th {\n",
       "        text-align: right;\n",
       "    }\n",
       "</style>\n",
       "<table border=\"1\" class=\"dataframe\">\n",
       "  <thead>\n",
       "    <tr style=\"text-align: right;\">\n",
       "      <th></th>\n",
       "      <th>popularity</th>\n",
       "      <th>vote_average</th>\n",
       "      <th>vote_count</th>\n",
       "      <th>production_budget</th>\n",
       "      <th>domestic_gross</th>\n",
       "      <th>worldwide_gross</th>\n",
       "      <th>net_profit</th>\n",
       "      <th>return_on_investment</th>\n",
       "      <th>gross_to_budget_ratio</th>\n",
       "    </tr>\n",
       "  </thead>\n",
       "  <tbody>\n",
       "    <tr>\n",
       "      <th>count</th>\n",
       "      <td>499</td>\n",
       "      <td>499</td>\n",
       "      <td>499</td>\n",
       "      <td>499</td>\n",
       "      <td>499</td>\n",
       "      <td>499</td>\n",
       "      <td>499</td>\n",
       "      <td>499</td>\n",
       "      <td>499</td>\n",
       "    </tr>\n",
       "    <tr>\n",
       "      <th>mean</th>\n",
       "      <td>11</td>\n",
       "      <td>6</td>\n",
       "      <td>1511</td>\n",
       "      <td>30151703</td>\n",
       "      <td>41073336</td>\n",
       "      <td>78441242</td>\n",
       "      <td>48289539</td>\n",
       "      <td>165</td>\n",
       "      <td>3</td>\n",
       "    </tr>\n",
       "    <tr>\n",
       "      <th>std</th>\n",
       "      <td>7</td>\n",
       "      <td>1</td>\n",
       "      <td>1905</td>\n",
       "      <td>7790568</td>\n",
       "      <td>44253920</td>\n",
       "      <td>86514036</td>\n",
       "      <td>85426707</td>\n",
       "      <td>313</td>\n",
       "      <td>3</td>\n",
       "    </tr>\n",
       "    <tr>\n",
       "      <th>min</th>\n",
       "      <td>1</td>\n",
       "      <td>1</td>\n",
       "      <td>1</td>\n",
       "      <td>20000000</td>\n",
       "      <td>0</td>\n",
       "      <td>0</td>\n",
       "      <td>-46477746</td>\n",
       "      <td>-100</td>\n",
       "      <td>0</td>\n",
       "    </tr>\n",
       "    <tr>\n",
       "      <th>25%</th>\n",
       "      <td>8</td>\n",
       "      <td>6</td>\n",
       "      <td>330</td>\n",
       "      <td>24000000</td>\n",
       "      <td>12529420</td>\n",
       "      <td>25234286</td>\n",
       "      <td>-4113822</td>\n",
       "      <td>-14</td>\n",
       "      <td>1</td>\n",
       "    </tr>\n",
       "    <tr>\n",
       "      <th>50%</th>\n",
       "      <td>11</td>\n",
       "      <td>6</td>\n",
       "      <td>900</td>\n",
       "      <td>30000000</td>\n",
       "      <td>30577122</td>\n",
       "      <td>55909910</td>\n",
       "      <td>26627836</td>\n",
       "      <td>88</td>\n",
       "      <td>2</td>\n",
       "    </tr>\n",
       "    <tr>\n",
       "      <th>75%</th>\n",
       "      <td>14</td>\n",
       "      <td>7</td>\n",
       "      <td>1788</td>\n",
       "      <td>35000000</td>\n",
       "      <td>53789318</td>\n",
       "      <td>96650160</td>\n",
       "      <td>66468398</td>\n",
       "      <td>223</td>\n",
       "      <td>3</td>\n",
       "    </tr>\n",
       "    <tr>\n",
       "      <th>max</th>\n",
       "      <td>78</td>\n",
       "      <td>10</td>\n",
       "      <td>11023</td>\n",
       "      <td>47500000</td>\n",
       "      <td>376057266</td>\n",
       "      <td>697457969</td>\n",
       "      <td>662457969</td>\n",
       "      <td>2942</td>\n",
       "      <td>30</td>\n",
       "    </tr>\n",
       "  </tbody>\n",
       "</table>\n",
       "</div>"
      ],
      "text/plain": [
       "       popularity  vote_average  vote_count  production_budget  \\\n",
       "count         499           499         499                499   \n",
       "mean           11             6        1511           30151703   \n",
       "std             7             1        1905            7790568   \n",
       "min             1             1           1           20000000   \n",
       "25%             8             6         330           24000000   \n",
       "50%            11             6         900           30000000   \n",
       "75%            14             7        1788           35000000   \n",
       "max            78            10       11023           47500000   \n",
       "\n",
       "       domestic_gross  worldwide_gross  net_profit  return_on_investment  \\\n",
       "count             499              499         499                   499   \n",
       "mean         41073336         78441242    48289539                   165   \n",
       "std          44253920         86514036    85426707                   313   \n",
       "min                 0                0   -46477746                  -100   \n",
       "25%          12529420         25234286    -4113822                   -14   \n",
       "50%          30577122         55909910    26627836                    88   \n",
       "75%          53789318         96650160    66468398                   223   \n",
       "max         376057266        697457969   662457969                  2942   \n",
       "\n",
       "       gross_to_budget_ratio  \n",
       "count                    499  \n",
       "mean                       3  \n",
       "std                        3  \n",
       "min                        0  \n",
       "25%                        1  \n",
       "50%                        2  \n",
       "75%                        3  \n",
       "max                       30  "
      ]
     },
     "execution_count": 189,
     "metadata": {},
     "output_type": "execute_result"
    }
   ],
   "source": [
    "fifty = movies_clean[(movies_clean['production_budget'] >= 2.000000e+07)]\n",
    "fifty_seventy = fifty[fifty['production_budget'] < 4.800000e+07]\n",
    "fifty_seventy.describe()"
   ]
  },
  {
   "cell_type": "code",
   "execution_count": 190,
   "metadata": {
    "ExecuteTime": {
     "end_time": "2022-03-11T17:21:39.507350Z",
     "start_time": "2022-03-11T17:21:39.490341Z"
    }
   },
   "outputs": [
    {
     "data": {
      "text/html": [
       "<div>\n",
       "<style scoped>\n",
       "    .dataframe tbody tr th:only-of-type {\n",
       "        vertical-align: middle;\n",
       "    }\n",
       "\n",
       "    .dataframe tbody tr th {\n",
       "        vertical-align: top;\n",
       "    }\n",
       "\n",
       "    .dataframe thead th {\n",
       "        text-align: right;\n",
       "    }\n",
       "</style>\n",
       "<table border=\"1\" class=\"dataframe\">\n",
       "  <thead>\n",
       "    <tr style=\"text-align: right;\">\n",
       "      <th></th>\n",
       "      <th>popularity</th>\n",
       "      <th>vote_average</th>\n",
       "      <th>vote_count</th>\n",
       "      <th>production_budget</th>\n",
       "      <th>domestic_gross</th>\n",
       "      <th>worldwide_gross</th>\n",
       "      <th>net_profit</th>\n",
       "      <th>return_on_investment</th>\n",
       "      <th>gross_to_budget_ratio</th>\n",
       "    </tr>\n",
       "  </thead>\n",
       "  <tbody>\n",
       "    <tr>\n",
       "      <th>count</th>\n",
       "      <td>183</td>\n",
       "      <td>183</td>\n",
       "      <td>183</td>\n",
       "      <td>183</td>\n",
       "      <td>183</td>\n",
       "      <td>183</td>\n",
       "      <td>183</td>\n",
       "      <td>183</td>\n",
       "      <td>183</td>\n",
       "    </tr>\n",
       "    <tr>\n",
       "      <th>mean</th>\n",
       "      <td>13</td>\n",
       "      <td>6</td>\n",
       "      <td>2265</td>\n",
       "      <td>58656191</td>\n",
       "      <td>69675558</td>\n",
       "      <td>160459219</td>\n",
       "      <td>101803028</td>\n",
       "      <td>172</td>\n",
       "      <td>3</td>\n",
       "    </tr>\n",
       "    <tr>\n",
       "      <th>std</th>\n",
       "      <td>8</td>\n",
       "      <td>1</td>\n",
       "      <td>2666</td>\n",
       "      <td>7329943</td>\n",
       "      <td>61606791</td>\n",
       "      <td>156424751</td>\n",
       "      <td>155354990</td>\n",
       "      <td>255</td>\n",
       "      <td>3</td>\n",
       "    </tr>\n",
       "    <tr>\n",
       "      <th>min</th>\n",
       "      <td>1</td>\n",
       "      <td>3</td>\n",
       "      <td>1</td>\n",
       "      <td>48000000</td>\n",
       "      <td>0</td>\n",
       "      <td>0</td>\n",
       "      <td>-64483721</td>\n",
       "      <td>-100</td>\n",
       "      <td>0</td>\n",
       "    </tr>\n",
       "    <tr>\n",
       "      <th>25%</th>\n",
       "      <td>10</td>\n",
       "      <td>6</td>\n",
       "      <td>736</td>\n",
       "      <td>50000000</td>\n",
       "      <td>32739621</td>\n",
       "      <td>68733578</td>\n",
       "      <td>9586018</td>\n",
       "      <td>16</td>\n",
       "      <td>1</td>\n",
       "    </tr>\n",
       "    <tr>\n",
       "      <th>50%</th>\n",
       "      <td>13</td>\n",
       "      <td>6</td>\n",
       "      <td>1684</td>\n",
       "      <td>60000000</td>\n",
       "      <td>52397389</td>\n",
       "      <td>118729073</td>\n",
       "      <td>61300835</td>\n",
       "      <td>112</td>\n",
       "      <td>2</td>\n",
       "    </tr>\n",
       "    <tr>\n",
       "      <th>75%</th>\n",
       "      <td>17</td>\n",
       "      <td>7</td>\n",
       "      <td>2826</td>\n",
       "      <td>65000000</td>\n",
       "      <td>84731846</td>\n",
       "      <td>212427722</td>\n",
       "      <td>147976593</td>\n",
       "      <td>244</td>\n",
       "      <td>3</td>\n",
       "    </tr>\n",
       "    <tr>\n",
       "      <th>max</th>\n",
       "      <td>50</td>\n",
       "      <td>10</td>\n",
       "      <td>20175</td>\n",
       "      <td>74000000</td>\n",
       "      <td>363070709</td>\n",
       "      <td>1160336173</td>\n",
       "      <td>1086336173</td>\n",
       "      <td>1527</td>\n",
       "      <td>16</td>\n",
       "    </tr>\n",
       "  </tbody>\n",
       "</table>\n",
       "</div>"
      ],
      "text/plain": [
       "       popularity  vote_average  vote_count  production_budget  \\\n",
       "count         183           183         183                183   \n",
       "mean           13             6        2265           58656191   \n",
       "std             8             1        2666            7329943   \n",
       "min             1             3           1           48000000   \n",
       "25%            10             6         736           50000000   \n",
       "50%            13             6        1684           60000000   \n",
       "75%            17             7        2826           65000000   \n",
       "max            50            10       20175           74000000   \n",
       "\n",
       "       domestic_gross  worldwide_gross  net_profit  return_on_investment  \\\n",
       "count             183              183         183                   183   \n",
       "mean         69675558        160459219   101803028                   172   \n",
       "std          61606791        156424751   155354990                   255   \n",
       "min                 0                0   -64483721                  -100   \n",
       "25%          32739621         68733578     9586018                    16   \n",
       "50%          52397389        118729073    61300835                   112   \n",
       "75%          84731846        212427722   147976593                   244   \n",
       "max         363070709       1160336173  1086336173                  1527   \n",
       "\n",
       "       gross_to_budget_ratio  \n",
       "count                    183  \n",
       "mean                       3  \n",
       "std                        3  \n",
       "min                        0  \n",
       "25%                        1  \n",
       "50%                        2  \n",
       "75%                        3  \n",
       "max                       16  "
      ]
     },
     "execution_count": 190,
     "metadata": {},
     "output_type": "execute_result"
    }
   ],
   "source": [
    "seventy = movies_clean[(movies_clean['production_budget'] >= 4.800000e+07)]\n",
    "seventy_max = seventy[seventy['production_budget'] < 7.500000e+07]\n",
    "seventy_max.describe()"
   ]
  },
  {
   "cell_type": "code",
   "execution_count": 191,
   "metadata": {
    "ExecuteTime": {
     "end_time": "2022-03-11T17:21:39.685031Z",
     "start_time": "2022-03-11T17:21:39.508327Z"
    },
    "scrolled": false
   },
   "outputs": [
    {
     "data": {
      "image/png": "[encoded data removed]",
      "text/plain": [
       "<Figure size 720x432 with 1 Axes>"
      ]
     },
     "metadata": {
      "needs_background": "light"
     },
     "output_type": "display_data"
    }
   ],
   "source": [
    "fig, ax = plt.subplots(figsize=(10,6))\n",
    "y= ['\\$49-$75', \"\\$21-$48\", \"\\$5-$20\" ]\n",
    "\n",
    "ax.barh(y= y, width=[seventy_max['return_on_investment'].mean(),fifty_seventy['return_on_investment'].mean(), twenty_fifty['return_on_investment'].mean()], color=\"dodgerblue\", edgecolor=\"lightgrey\", tick_label = y)\n",
    "\n",
    "\n",
    "ax.set_title('Production Budget and ROI')\n",
    "ax.set_xlabel('Average ROI (%)')\n",
    "ax.set_ylabel('Production Budget (mil)')\n",
    "plt.savefig('./Untitled Folder/Production Budget and ROI.png', bbox_inches = 'tight')\n",
    "plt.savefig('./Untitled Folder/Production Budget and ROI.jpeg', bbox_inches = 'tight');"
   ]
  },
  {
   "cell_type": "markdown",
   "metadata": {},
   "source": [
    "The graph shows that it is most feasible to achieve a high Return On Investment when you invest $5-20 million. "
   ]
  },
  {
   "cell_type": "markdown",
   "metadata": {},
   "source": [
    "### Movie Genre"
   ]
  },
  {
   "cell_type": "markdown",
   "metadata": {},
   "source": [
    "We decided to measure genre success using ROI. We didn't use average rating or number of votes to measure success because it was difficult to make a recommendation based on average rating. It isn't very significant. It is also difficult to measure success on the number of votes a movie has received. "
   ]
  },
  {
   "cell_type": "code",
   "execution_count": 192,
   "metadata": {
    "ExecuteTime": {
     "end_time": "2022-03-11T17:21:39.695206Z",
     "start_time": "2022-03-11T17:21:39.686108Z"
    }
   },
   "outputs": [
    {
     "data": {
      "text/html": [
       "<div>\n",
       "<style scoped>\n",
       "    .dataframe tbody tr th:only-of-type {\n",
       "        vertical-align: middle;\n",
       "    }\n",
       "\n",
       "    .dataframe tbody tr th {\n",
       "        vertical-align: top;\n",
       "    }\n",
       "\n",
       "    .dataframe thead th {\n",
       "        text-align: right;\n",
       "    }\n",
       "</style>\n",
       "<table border=\"1\" class=\"dataframe\">\n",
       "  <thead>\n",
       "    <tr style=\"text-align: right;\">\n",
       "      <th></th>\n",
       "      <th>averagerating</th>\n",
       "      <th>numvotes</th>\n",
       "      <th>start_year</th>\n",
       "      <th>runtime_minutes</th>\n",
       "    </tr>\n",
       "    <tr>\n",
       "      <th>genres</th>\n",
       "      <th></th>\n",
       "      <th></th>\n",
       "      <th></th>\n",
       "      <th></th>\n",
       "    </tr>\n",
       "  </thead>\n",
       "  <tbody>\n",
       "    <tr>\n",
       "      <th>Adventure,Drama,Sci-Fi</th>\n",
       "      <td>7</td>\n",
       "      <td>661339</td>\n",
       "      <td>2016</td>\n",
       "      <td>137</td>\n",
       "    </tr>\n",
       "    <tr>\n",
       "      <th>Adventure,Mystery,Sci-Fi</th>\n",
       "      <td>7</td>\n",
       "      <td>538720</td>\n",
       "      <td>2012</td>\n",
       "      <td>124</td>\n",
       "    </tr>\n",
       "    <tr>\n",
       "      <th>Action,Adventure,Sci-Fi</th>\n",
       "      <td>6</td>\n",
       "      <td>298904</td>\n",
       "      <td>2015</td>\n",
       "      <td>121</td>\n",
       "    </tr>\n",
       "    <tr>\n",
       "      <th>Adventure,Fantasy</th>\n",
       "      <td>7</td>\n",
       "      <td>282335</td>\n",
       "      <td>2014</td>\n",
       "      <td>132</td>\n",
       "    </tr>\n",
       "    <tr>\n",
       "      <th>Action,Fantasy,War</th>\n",
       "      <td>6</td>\n",
       "      <td>262978</td>\n",
       "      <td>2014</td>\n",
       "      <td>102</td>\n",
       "    </tr>\n",
       "    <tr>\n",
       "      <th>Family,Fantasy,Musical</th>\n",
       "      <td>7</td>\n",
       "      <td>238325</td>\n",
       "      <td>2017</td>\n",
       "      <td>129</td>\n",
       "    </tr>\n",
       "    <tr>\n",
       "      <th>Adventure,Fantasy,Mystery</th>\n",
       "      <td>6</td>\n",
       "      <td>214948</td>\n",
       "      <td>2012</td>\n",
       "      <td>136</td>\n",
       "    </tr>\n",
       "    <tr>\n",
       "      <th>Action,Adventure,Mystery</th>\n",
       "      <td>7</td>\n",
       "      <td>181746</td>\n",
       "      <td>2013</td>\n",
       "      <td>125</td>\n",
       "    </tr>\n",
       "    <tr>\n",
       "      <th>Adventure,Drama,Fantasy</th>\n",
       "      <td>6</td>\n",
       "      <td>175524</td>\n",
       "      <td>2014</td>\n",
       "      <td>112</td>\n",
       "    </tr>\n",
       "    <tr>\n",
       "      <th>Adventure,Comedy,Music</th>\n",
       "      <td>6</td>\n",
       "      <td>161653</td>\n",
       "      <td>2010</td>\n",
       "      <td>109</td>\n",
       "    </tr>\n",
       "  </tbody>\n",
       "</table>\n",
       "</div>"
      ],
      "text/plain": [
       "                           averagerating  numvotes  start_year  \\\n",
       "genres                                                           \n",
       "Adventure,Drama,Sci-Fi                 7    661339        2016   \n",
       "Adventure,Mystery,Sci-Fi               7    538720        2012   \n",
       "Action,Adventure,Sci-Fi                6    298904        2015   \n",
       "Adventure,Fantasy                      7    282335        2014   \n",
       "Action,Fantasy,War                     6    262978        2014   \n",
       "Family,Fantasy,Musical                 7    238325        2017   \n",
       "Adventure,Fantasy,Mystery              6    214948        2012   \n",
       "Action,Adventure,Mystery               7    181746        2013   \n",
       "Adventure,Drama,Fantasy                6    175524        2014   \n",
       "Adventure,Comedy,Music                 6    161653        2010   \n",
       "\n",
       "                           runtime_minutes  \n",
       "genres                                      \n",
       "Adventure,Drama,Sci-Fi                 137  \n",
       "Adventure,Mystery,Sci-Fi               124  \n",
       "Action,Adventure,Sci-Fi                121  \n",
       "Adventure,Fantasy                      132  \n",
       "Action,Fantasy,War                     102  \n",
       "Family,Fantasy,Musical                 129  \n",
       "Adventure,Fantasy,Mystery              136  \n",
       "Action,Adventure,Mystery               125  \n",
       "Adventure,Drama,Fantasy                112  \n",
       "Adventure,Comedy,Music                 109  "
      ]
     },
     "execution_count": 192,
     "metadata": {},
     "output_type": "execute_result"
    }
   ],
   "source": [
    "#Used to determine the cut off limit for our sql data using 1000 for numvotes above.\n",
    "genres_numvotes = sql_df.groupby(['genres']).mean(['numvotes']).sort_values(['numvotes'], ascending=False).head(10)\n",
    "genres_numvotes"
   ]
  },
  {
   "cell_type": "code",
   "execution_count": 193,
   "metadata": {
    "ExecuteTime": {
     "end_time": "2022-03-11T17:21:39.795514Z",
     "start_time": "2022-03-11T17:21:39.696298Z"
    },
    "scrolled": false
   },
   "outputs": [
    {
     "data": {
      "image/png": "[encoded data removed]",
      "text/plain": [
       "<Figure size 720x432 with 1 Axes>"
      ]
     },
     "metadata": {
      "needs_background": "light"
     },
     "output_type": "display_data"
    }
   ],
   "source": [
    "fig, ax = plt.subplots(figsize=(10,6))\n",
    "\n",
    "ax.barh(y=genres_numvotes.index, width=genres_numvotes['numvotes'], color=\"navy\", edgecolor=\"lightgrey\")\n",
    "ax.invert_yaxis()\n",
    "ax.set_title('Average Rating for Genre')\n",
    "ax.set_ylabel('Genres')\n",
    "ax.set_xlabel('Number of Votes');"
   ]
  },
  {
   "cell_type": "markdown",
   "metadata": {},
   "source": [
    "We see that Adventure,Drama,Sci-fi has alot of votes on average, which we can use to infer that a lot of people went to see movies in this genre combination. This does not tell us the profit that the movie made but can be a metric to estimate how popular a movie is."
   ]
  },
  {
   "cell_type": "code",
   "execution_count": 194,
   "metadata": {
    "ExecuteTime": {
     "end_time": "2022-03-11T17:21:39.805004Z",
     "start_time": "2022-03-11T17:21:39.796653Z"
    },
    "scrolled": true
   },
   "outputs": [
    {
     "data": {
      "text/html": [
       "<div>\n",
       "<style scoped>\n",
       "    .dataframe tbody tr th:only-of-type {\n",
       "        vertical-align: middle;\n",
       "    }\n",
       "\n",
       "    .dataframe tbody tr th {\n",
       "        vertical-align: top;\n",
       "    }\n",
       "\n",
       "    .dataframe thead th {\n",
       "        text-align: right;\n",
       "    }\n",
       "</style>\n",
       "<table border=\"1\" class=\"dataframe\">\n",
       "  <thead>\n",
       "    <tr style=\"text-align: right;\">\n",
       "      <th></th>\n",
       "      <th>averagerating</th>\n",
       "      <th>numvotes</th>\n",
       "      <th>start_year</th>\n",
       "      <th>runtime_minutes</th>\n",
       "    </tr>\n",
       "    <tr>\n",
       "      <th>genres</th>\n",
       "      <th></th>\n",
       "      <th></th>\n",
       "      <th></th>\n",
       "      <th></th>\n",
       "    </tr>\n",
       "  </thead>\n",
       "  <tbody>\n",
       "    <tr>\n",
       "      <th>Action,Romance,War</th>\n",
       "      <td>8</td>\n",
       "      <td>1224</td>\n",
       "      <td>2018</td>\n",
       "      <td>130</td>\n",
       "    </tr>\n",
       "    <tr>\n",
       "      <th>Animation,History</th>\n",
       "      <td>8</td>\n",
       "      <td>7451</td>\n",
       "      <td>2014</td>\n",
       "      <td>135</td>\n",
       "    </tr>\n",
       "    <tr>\n",
       "      <th>Drama,Family,Thriller</th>\n",
       "      <td>8</td>\n",
       "      <td>2996</td>\n",
       "      <td>2014</td>\n",
       "      <td>150</td>\n",
       "    </tr>\n",
       "    <tr>\n",
       "      <th>Animation,Documentary,Mystery</th>\n",
       "      <td>8</td>\n",
       "      <td>1014</td>\n",
       "      <td>2017</td>\n",
       "      <td>93</td>\n",
       "    </tr>\n",
       "    <tr>\n",
       "      <th>War</th>\n",
       "      <td>8</td>\n",
       "      <td>2437</td>\n",
       "      <td>2011</td>\n",
       "      <td>96</td>\n",
       "    </tr>\n",
       "    <tr>\n",
       "      <th>Musical</th>\n",
       "      <td>8</td>\n",
       "      <td>1724</td>\n",
       "      <td>2015</td>\n",
       "      <td>121</td>\n",
       "    </tr>\n",
       "    <tr>\n",
       "      <th>Biography,Documentary,News</th>\n",
       "      <td>8</td>\n",
       "      <td>7848</td>\n",
       "      <td>2015</td>\n",
       "      <td>73</td>\n",
       "    </tr>\n",
       "    <tr>\n",
       "      <th>Documentary,History,Sport</th>\n",
       "      <td>8</td>\n",
       "      <td>1889</td>\n",
       "      <td>2015</td>\n",
       "      <td>103</td>\n",
       "    </tr>\n",
       "    <tr>\n",
       "      <th>Documentary,Family</th>\n",
       "      <td>8</td>\n",
       "      <td>2662</td>\n",
       "      <td>2013</td>\n",
       "      <td>89</td>\n",
       "    </tr>\n",
       "    <tr>\n",
       "      <th>Action,Documentary</th>\n",
       "      <td>8</td>\n",
       "      <td>12704</td>\n",
       "      <td>2014</td>\n",
       "      <td>75</td>\n",
       "    </tr>\n",
       "  </tbody>\n",
       "</table>\n",
       "</div>"
      ],
      "text/plain": [
       "                               averagerating  numvotes  start_year  \\\n",
       "genres                                                               \n",
       "Action,Romance,War                         8      1224        2018   \n",
       "Animation,History                          8      7451        2014   \n",
       "Drama,Family,Thriller                      8      2996        2014   \n",
       "Animation,Documentary,Mystery              8      1014        2017   \n",
       "War                                        8      2437        2011   \n",
       "Musical                                    8      1724        2015   \n",
       "Biography,Documentary,News                 8      7848        2015   \n",
       "Documentary,History,Sport                  8      1889        2015   \n",
       "Documentary,Family                         8      2662        2013   \n",
       "Action,Documentary                         8     12704        2014   \n",
       "\n",
       "                               runtime_minutes  \n",
       "genres                                          \n",
       "Action,Romance,War                         130  \n",
       "Animation,History                          135  \n",
       "Drama,Family,Thriller                      150  \n",
       "Animation,Documentary,Mystery               93  \n",
       "War                                         96  \n",
       "Musical                                    121  \n",
       "Biography,Documentary,News                  73  \n",
       "Documentary,History,Sport                  103  \n",
       "Documentary,Family                          89  \n",
       "Action,Documentary                          75  "
      ]
     },
     "execution_count": 194,
     "metadata": {},
     "output_type": "execute_result"
    }
   ],
   "source": [
    "#genres vs averagerating\n",
    "genres_average_rating = sql_df.groupby(['genres']).mean(['averagerating']).sort_values(['averagerating'], ascending=False).head(10)\n",
    "genres_average_rating"
   ]
  },
  {
   "cell_type": "markdown",
   "metadata": {},
   "source": [
    "Low vote counts can skew the rating much more. This helped to determine the cut off limit for our SQL data using 1000 for numvotes above. We didn't use averagerating or numvotes to measure success because it was difficult to make a reccomendation base of them. "
   ]
  },
  {
   "cell_type": "code",
   "execution_count": 195,
   "metadata": {
    "ExecuteTime": {
     "end_time": "2022-03-11T17:21:39.904382Z",
     "start_time": "2022-03-11T17:21:39.805929Z"
    },
    "scrolled": false
   },
   "outputs": [
    {
     "data": {
      "image/png": "[encoded data removed]",
      "text/plain": [
       "<Figure size 720x432 with 1 Axes>"
      ]
     },
     "metadata": {
      "needs_background": "light"
     },
     "output_type": "display_data"
    }
   ],
   "source": [
    "#graph of genre v average worldwide_gross\n",
    "genres_list = pd.get_dummies(movies_sql.genres, prefix=None).sum().sort_values(ascending=False).head(20)\n",
    "genres_list2 = list(genres_list.index)\n",
    "movies_sql2 = movies_sql[movies_sql['genres'].isin(genres_list2)]\n",
    "genres_vs_wwg = movies_sql2.groupby(['genres']).mean().sort_values(['worldwide_gross'], ascending=False).head(10)\n",
    "\n",
    "fig, ax = plt.subplots(figsize=(10,6))\n",
    "\n",
    "ax.barh(y=genres_vs_wwg.index, width=genres_vs_wwg['worldwide_gross'], color=\"navy\", edgecolor=\"lightgrey\")\n",
    "ax.invert_yaxis()\n",
    "ax.set_title('Top Grossing Genres')\n",
    "ax.set_ylabel('Genres')\n",
    "ax.set_xlabel('Average Revenue')\n",
    "ax.xaxis.set_major_formatter(ticker.StrMethodFormatter('${x:,.0f}'));"
   ]
  },
  {
   "cell_type": "markdown",
   "metadata": {},
   "source": [
    "We see that 6 of the top 10 genre combinations have action in it. Also, we notice how movies that are just listed as action without any other genres included do not earn as much as some of the other genres. But it's important to note that this does not tell us the net profit after removing the production budget."
   ]
  },
  {
   "cell_type": "code",
   "execution_count": 196,
   "metadata": {
    "ExecuteTime": {
     "end_time": "2022-03-11T17:21:40.147717Z",
     "start_time": "2022-03-11T17:21:39.905325Z"
    }
   },
   "outputs": [
    {
     "data": {
      "image/png": "[encoded data removed]",
      "text/plain": [
       "<Figure size 720x432 with 1 Axes>"
      ]
     },
     "metadata": {
      "needs_background": "light"
     },
     "output_type": "display_data"
    }
   ],
   "source": [
    "#graph of genre v average worldwide_gross\n",
    "genres_list = pd.get_dummies(movies_sql.genres, prefix=None).sum().sort_values(ascending=False).head(20)\n",
    "genres_list2 = list(genres_list.index)\n",
    "movies_sql2 = movies_sql[movies_sql['genres'].isin(genres_list2)]\n",
    "genres_vs_wwg = movies_sql2.groupby(['genres']).mean().sort_values(['return_on_investment'], ascending=False).head(10)\n",
    "\n",
    "fig, ax = plt.subplots(figsize=(10,6))\n",
    "\n",
    "ax.barh(y=genres_vs_wwg.index, width=genres_vs_wwg['return_on_investment'], color=\"navy\", edgecolor=\"lightgrey\")\n",
    "ax.invert_yaxis()\n",
    "ax.set_title('ROI and Genres')\n",
    "ax.set_ylabel('Genres')\n",
    "ax.set_xlabel('Average Return on Investment (%)')\n",
    "plt.savefig('./Untitled Folder/Highest ROI by Genre.png', bbox_inches = 'tight')\n",
    "plt.savefig('./Untitled Folder/Highest ROI by Genre.jpeg', bbox_inches = 'tight');"
   ]
  },
  {
   "cell_type": "code",
   "execution_count": 197,
   "metadata": {
    "ExecuteTime": {
     "end_time": "2022-03-11T17:21:40.153303Z",
     "start_time": "2022-03-11T17:21:40.148703Z"
    }
   },
   "outputs": [
    {
     "data": {
      "text/plain": [
       "9468281.25"
      ]
     },
     "execution_count": 197,
     "metadata": {},
     "output_type": "execute_result"
    }
   ],
   "source": [
    "#find out the average production budget for this genre combination\n",
    "movies_sql2[movies_sql2['genres'] == 'Horror,Mystery,Thriller'].mean()['production_budget']"
   ]
  },
  {
   "cell_type": "code",
   "execution_count": 198,
   "metadata": {
    "ExecuteTime": {
     "end_time": "2022-03-11T17:21:40.158917Z",
     "start_time": "2022-03-11T17:21:40.154245Z"
    }
   },
   "outputs": [
    {
     "data": {
      "text/plain": [
       "9603676.470588235"
      ]
     },
     "execution_count": 198,
     "metadata": {},
     "output_type": "execute_result"
    }
   ],
   "source": [
    "movies_sql2[movies_sql2['genres'] == 'Horror,Thriller'].mean()['production_budget']"
   ]
  },
  {
   "cell_type": "markdown",
   "metadata": {},
   "source": [
    "The genre combination with the highest return on investment is Horror-Thriller which has an average production budget of ~$9.5 million, even though we found that the action combination genres made the most money. This reveals that potentially those higher grossing films have higher production budgets in return. "
   ]
  },
  {
   "cell_type": "markdown",
   "metadata": {},
   "source": [
    "### Runtime"
   ]
  },
  {
   "cell_type": "markdown",
   "metadata": {},
   "source": [
    "We wanted to see if there's any trend in terms of movie lengths over the years, and any correlation between how much money is made versus the length of the movie."
   ]
  },
  {
   "cell_type": "code",
   "execution_count": 199,
   "metadata": {
    "ExecuteTime": {
     "end_time": "2022-03-11T17:21:40.572299Z",
     "start_time": "2022-03-11T17:21:40.159946Z"
    },
    "scrolled": false
   },
   "outputs": [
    {
     "data": {
      "image/png": "[encoded data removed]",
      "text/plain": [
       "<Figure size 1080x432 with 2 Axes>"
      ]
     },
     "metadata": {
      "needs_background": "light"
     },
     "output_type": "display_data"
    }
   ],
   "source": [
    "#runtime_minutes vs start_year\n",
    "runtime_year = sql_df.groupby(['start_year']).mean(['runtime_minutes']).sort_values(['start_year'])\n",
    "\n",
    "#make the ROI graph easier to see as there's a few points extenting the grapgh\n",
    "no_greaterthan20000_ROI_values = movies_sql2[movies_sql2['return_on_investment'] < 2000]\n",
    "\n",
    "fig, (ax1,ax2) = plt.subplots(figsize=(15,6), ncols= 2)\n",
    "\n",
    "ax1.bar(x=runtime_year.index.astype(str), height=(runtime_year['runtime_minutes']), color=\"peru\");\n",
    "ax1.set_ylim([100, 120])\n",
    "#Started our chart with the y axis starting at 100 for visual purposes.\n",
    "\n",
    "ax1.set_title('Movie Length over the Years')\n",
    "ax1.set_xlabel('Year')\n",
    "ax1.set_ylabel('Movie Length (min)')\n",
    "ax2.scatter(no_greaterthan20000_ROI_values['return_on_investment'] , y =no_greaterthan20000_ROI_values['runtime_minutes'], color=\"peru\");\n",
    "\n",
    "ax2.set_title('Movie Length and Return on Investment')\n",
    "ax2.set_ylabel('Runtime (min)')\n",
    "ax2.set_xlabel('Return on Investment (%)')\n",
    "plt.savefig('./Untitled Folder/Movie Length over the Years and ROI.png', bbox_inches = 'tight')\n",
    "plt.savefig('./Untitled Folder/Movie Length over the Years and ROI.jpeg', bbox_inches = 'tight');"
   ]
  },
  {
   "cell_type": "code",
   "execution_count": 200,
   "metadata": {
    "ExecuteTime": {
     "end_time": "2022-03-11T17:21:40.575688Z",
     "start_time": "2022-03-11T17:21:40.573254Z"
    }
   },
   "outputs": [
    {
     "data": {
      "text/plain": [
       "0.810556758544068"
      ]
     },
     "execution_count": 200,
     "metadata": {},
     "output_type": "execute_result"
    }
   ],
   "source": [
    "#testing correlation between year and movie length\n",
    "np.corrcoef(runtime_year.index , y = runtime_year['runtime_minutes'])[0][1]"
   ]
  },
  {
   "cell_type": "code",
   "execution_count": 201,
   "metadata": {
    "ExecuteTime": {
     "end_time": "2022-03-11T17:21:40.579102Z",
     "start_time": "2022-03-11T17:21:40.576619Z"
    }
   },
   "outputs": [
    {
     "data": {
      "text/plain": [
       "-0.053059274411575694"
      ]
     },
     "execution_count": 201,
     "metadata": {},
     "output_type": "execute_result"
    }
   ],
   "source": [
    "np.corrcoef(movies_sql2['return_on_investment'] , y = movies_sql2['runtime_minutes'])[0][1]"
   ]
  },
  {
   "cell_type": "markdown",
   "metadata": {},
   "source": [
    "Movies are getting longer throughout the years and the movie length is not correlated to ROI."
   ]
  },
  {
   "cell_type": "code",
   "execution_count": 202,
   "metadata": {
    "ExecuteTime": {
     "end_time": "2022-03-11T17:21:40.670110Z",
     "start_time": "2022-03-11T17:21:40.580105Z"
    },
    "scrolled": false
   },
   "outputs": [
    {
     "data": {
      "image/png": "[encoded data removed]",
      "text/plain": [
       "<Figure size 1080x576 with 1 Axes>"
      ]
     },
     "metadata": {
      "needs_background": "light"
     },
     "output_type": "display_data"
    }
   ],
   "source": [
    "#graphing the averagerating to movie length and movie length with the wwg\n",
    "fig, ax1 = plt.subplots(figsize=(15,8))\n",
    "\n",
    "ax1.scatter(movies_sql2['averagerating'] , y = movies_sql2['runtime_minutes'], color=\"peru\");\n",
    "\n",
    "ax1.set_title('Movie Length and Average Rating')\n",
    "ax1.set_ylabel('Runtime (min)')\n",
    "ax1.set_xlabel('Average Rating')\n",
    "ax1.ticklabel_format(style='plain');"
   ]
  },
  {
   "cell_type": "code",
   "execution_count": 203,
   "metadata": {
    "ExecuteTime": {
     "end_time": "2022-03-11T17:21:40.769813Z",
     "start_time": "2022-03-11T17:21:40.671079Z"
    },
    "scrolled": false
   },
   "outputs": [
    {
     "data": {
      "image/png": "[encoded data removed]",
      "text/plain": [
       "<Figure size 1080x576 with 1 Axes>"
      ]
     },
     "metadata": {
      "needs_background": "light"
     },
     "output_type": "display_data"
    }
   ],
   "source": [
    "#graph of net profit to run_time\n",
    "fig, ax1 = plt.subplots(figsize=(15,8))\n",
    "\n",
    "ax1.ticklabel_format(style='plain')\n",
    "ax1.scatter(movies_sql2['net_profit'] , y = movies_sql2['runtime_minutes'], color=\"peru\");\n",
    "\n",
    "ax1.set_title('Movie Length and Net Profit')\n",
    "ax1.set_ylabel('Runtime (min)')\n",
    "ax1.set_xlabel('Net Profit')\n",
    "ax.xaxis.set_major_formatter(ticker.StrMethodFormatter('${x:,.0f}'));"
   ]
  },
  {
   "cell_type": "code",
   "execution_count": 204,
   "metadata": {
    "ExecuteTime": {
     "end_time": "2022-03-11T17:21:40.774160Z",
     "start_time": "2022-03-11T17:21:40.770902Z"
    }
   },
   "outputs": [
    {
     "data": {
      "text/plain": [
       "0.4302111428774885"
      ]
     },
     "execution_count": 204,
     "metadata": {},
     "output_type": "execute_result"
    }
   ],
   "source": [
    "Average_Rating_Run_Time_Correlation = np.corrcoef(movies_sql2['averagerating'] , y = movies_sql2['runtime_minutes'])\n",
    "\n",
    "Average_Rating_Run_Time_Correlation[0][1]\n"
   ]
  },
  {
   "cell_type": "markdown",
   "metadata": {},
   "source": [
    "The correlation is pretty weak that we can safely say that movie length won't affect the amount of revenue made."
   ]
  },
  {
   "cell_type": "code",
   "execution_count": 205,
   "metadata": {
    "ExecuteTime": {
     "end_time": "2022-03-11T17:21:40.777129Z",
     "start_time": "2022-03-11T17:21:40.775276Z"
    }
   },
   "outputs": [],
   "source": [
    "con.close() #have this in the extracted file refuses to close"
   ]
  },
  {
   "cell_type": "code",
   "execution_count": 206,
   "metadata": {
    "ExecuteTime": {
     "end_time": "2022-03-11T17:21:40.783311Z",
     "start_time": "2022-03-11T17:21:40.778159Z"
    }
   },
   "outputs": [],
   "source": [
    "os.remove('im.db') #This line deletes the im.db file created earlier."
   ]
  },
  {
   "cell_type": "markdown",
   "metadata": {},
   "source": [
    "## Evaluation"
   ]
  },
  {
   "cell_type": "markdown",
   "metadata": {},
   "source": [
    "We would recommend investing \\\\$5-\\\\$20 million on production budget. The runtime is not strongly correlated with worldwide_gross but since the films are trending towards about 2 hours, we recommend films be around two hours.\n",
    "The top genre combination is Horror-Thriller and Action-Adventure, however, Horror-Thriller has a higher ROI."
   ]
  },
  {
   "cell_type": "markdown",
   "metadata": {},
   "source": [
    "## Next Steps"
   ]
  },
  {
   "cell_type": "markdown",
   "metadata": {},
   "source": [
    "After these findings, it would be in the interest of Microsoft to find how much money is being invested into advertising the movie, and how they are being advertised (ie trailers versus billboards). Not only that but look at how hiring known actors and directors impact the ROI compared to the price to hire them. Lastly, we would want to analyze the performance of movies that are based off of comic books, video games, books, or movie that already have established fan bases versus movies that are original material."
   ]
  }
 ],
 "metadata": {
  "kernelspec": {
   "display_name": "Python (learn-env)",
   "language": "python",
   "name": "learn-env"
  },
  "language_info": {
   "codemirror_mode": {
    "name": "ipython",
    "version": 3
   },
   "file_extension": ".py",
   "mimetype": "text/x-python",
   "name": "python",
   "nbconvert_exporter": "python",
   "pygments_lexer": "ipython3",
   "version": "3.8.5"
  }
 },
 "nbformat": 4,
 "nbformat_minor": 4
}
