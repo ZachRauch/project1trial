{
 "cells": [
  {
   "cell_type": "markdown",
   "metadata": {},
   "source": [
    "# Analysis of Films"
   ]
  },
  {
   "cell_type": "markdown",
   "metadata": {},
   "source": [
    "## Overview"
   ]
  },
  {
   "cell_type": "markdown",
   "metadata": {},
   "source": [
    "The purpose of this project is to analyze the trends in the movie industry and give reccommendations base on these initial findings to new studis. Exploratory analysis reveals the average ROI of ##, runtime averging closer to 2 hours, and action with other genres included produced the most revenue per movie. Microsoft can use the analysis made here to aid have a sense on they type of movies they should aim for in their new movie studio."
   ]
  },
  {
   "cell_type": "markdown",
   "metadata": {},
   "source": [
    "## Business Problem"
   ]
  },
  {
   "cell_type": "markdown",
   "metadata": {},
   "source": [
    "Microsoft can venture into the movie industry by creating a movie studio under their name. The issue is that Microsoft may be unfamilar with where to being in the production of new films. With some insight into the landscape of the movie industry such as how much money others are investing per movie, the length of movies and the type of genres that produce high gross per movie, Microsoft will be able produce films that are profitable. This project decribes the trends in return of investment, movie length over time and top genres."
   ]
  },
  {
   "cell_type": "markdown",
   "metadata": {},
   "source": [
    "## Data Understanding"
   ]
  },
  {
   "cell_type": "markdown",
   "metadata": {},
   "source": [
    "The data comes from multiple sources. In this project, data from the the box office, tmdb, tn and IMDB was used. Each data file had the name of the film in which merges occurred on as they each had an column of interest for the analysis. The data provide the production budget, worldwide gross, runtime and other features of a film that may be of interest. "
   ]
  },
  {
   "cell_type": "code",
   "execution_count": 86,
   "metadata": {
    "ExecuteTime": {
     "end_time": "2022-03-10T00:49:23.793771Z",
     "start_time": "2022-03-10T00:49:23.250297Z"
    }
   },
   "outputs": [],
   "source": [
    "import pandas as pd\n",
    "import seaborn as sns\n",
    "import matplotlib.pyplot as plt\n",
    "from matplotlib import ticker\n",
    "import numpy as np\n",
    "import sqlite3\n",
    "import zipfile as zf\n",
    "import os\n",
    "#pd.set_option('display.float_format', lambda x: '%.0f' % x)"
   ]
  },
  {
   "cell_type": "code",
   "execution_count": 87,
   "metadata": {
    "ExecuteTime": {
     "end_time": "2022-03-10T00:49:24.679082Z",
     "start_time": "2022-03-10T00:49:23.794874Z"
    }
   },
   "outputs": [],
   "source": [
    "tmdb = pd.read_csv('./data/tmdb.movies.csv.gz')\n",
    "tn = pd.read_csv('./data/tn.movie_budgets.csv.gz')\n"
   ]
  },
  {
   "cell_type": "code",
   "execution_count": 88,
   "metadata": {},
   "outputs": [],
   "source": [
    "files = zf.ZipFile('./data/im.db.zip', 'r') #opens the zip file\n",
    "files.extractall() #creates a im.db file which is too big to push\n",
    "con = sqlite3.connect(\"./im.db\")\n",
    "\n",
    "#turning the sql dataset into a dataframe\n",
    "titles = pd.read_sql(\"\"\"Select * From movie_basics \"\"\", con)"
   ]
  },
  {
   "cell_type": "markdown",
   "metadata": {},
   "source": [
    "Examination of each dataset for columns of interest. "
   ]
  },
  {
   "cell_type": "code",
   "execution_count": 89,
   "metadata": {},
   "outputs": [
    {
     "data": {
      "text/html": [
       "<div>\n",
       "<style scoped>\n",
       "    .dataframe tbody tr th:only-of-type {\n",
       "        vertical-align: middle;\n",
       "    }\n",
       "\n",
       "    .dataframe tbody tr th {\n",
       "        vertical-align: top;\n",
       "    }\n",
       "\n",
       "    .dataframe thead th {\n",
       "        text-align: right;\n",
       "    }\n",
       "</style>\n",
       "<table border=\"1\" class=\"dataframe\">\n",
       "  <thead>\n",
       "    <tr style=\"text-align: right;\">\n",
       "      <th></th>\n",
       "      <th>Unnamed: 0</th>\n",
       "      <th>genre_ids</th>\n",
       "      <th>id</th>\n",
       "      <th>original_language</th>\n",
       "      <th>original_title</th>\n",
       "      <th>popularity</th>\n",
       "      <th>release_date</th>\n",
       "      <th>title</th>\n",
       "      <th>vote_average</th>\n",
       "      <th>vote_count</th>\n",
       "    </tr>\n",
       "  </thead>\n",
       "  <tbody>\n",
       "    <tr>\n",
       "      <th>0</th>\n",
       "      <td>0</td>\n",
       "      <td>[12, 14, 10751]</td>\n",
       "      <td>12444</td>\n",
       "      <td>en</td>\n",
       "      <td>Harry Potter and the Deathly Hallows: Part 1</td>\n",
       "      <td>33.533</td>\n",
       "      <td>2010-11-19</td>\n",
       "      <td>Harry Potter and the Deathly Hallows: Part 1</td>\n",
       "      <td>7.7</td>\n",
       "      <td>10788</td>\n",
       "    </tr>\n",
       "  </tbody>\n",
       "</table>\n",
       "</div>"
      ],
      "text/plain": [
       "   Unnamed: 0        genre_ids     id original_language  \\\n",
       "0           0  [12, 14, 10751]  12444                en   \n",
       "\n",
       "                                 original_title  popularity release_date  \\\n",
       "0  Harry Potter and the Deathly Hallows: Part 1      33.533   2010-11-19   \n",
       "\n",
       "                                          title  vote_average  vote_count  \n",
       "0  Harry Potter and the Deathly Hallows: Part 1           7.7       10788  "
      ]
     },
     "execution_count": 89,
     "metadata": {},
     "output_type": "execute_result"
    }
   ],
   "source": [
    "tmdb.head(1)"
   ]
  },
  {
   "cell_type": "code",
   "execution_count": 90,
   "metadata": {},
   "outputs": [
    {
     "data": {
      "text/html": [
       "<div>\n",
       "<style scoped>\n",
       "    .dataframe tbody tr th:only-of-type {\n",
       "        vertical-align: middle;\n",
       "    }\n",
       "\n",
       "    .dataframe tbody tr th {\n",
       "        vertical-align: top;\n",
       "    }\n",
       "\n",
       "    .dataframe thead th {\n",
       "        text-align: right;\n",
       "    }\n",
       "</style>\n",
       "<table border=\"1\" class=\"dataframe\">\n",
       "  <thead>\n",
       "    <tr style=\"text-align: right;\">\n",
       "      <th></th>\n",
       "      <th>id</th>\n",
       "      <th>release_date</th>\n",
       "      <th>movie</th>\n",
       "      <th>production_budget</th>\n",
       "      <th>domestic_gross</th>\n",
       "      <th>worldwide_gross</th>\n",
       "    </tr>\n",
       "  </thead>\n",
       "  <tbody>\n",
       "    <tr>\n",
       "      <th>0</th>\n",
       "      <td>1</td>\n",
       "      <td>Dec 18, 2009</td>\n",
       "      <td>Avatar</td>\n",
       "      <td>$425,000,000</td>\n",
       "      <td>$760,507,625</td>\n",
       "      <td>$2,776,345,279</td>\n",
       "    </tr>\n",
       "  </tbody>\n",
       "</table>\n",
       "</div>"
      ],
      "text/plain": [
       "   id  release_date   movie production_budget domestic_gross worldwide_gross\n",
       "0   1  Dec 18, 2009  Avatar      $425,000,000   $760,507,625  $2,776,345,279"
      ]
     },
     "execution_count": 90,
     "metadata": {},
     "output_type": "execute_result"
    }
   ],
   "source": [
    "tn.head(1)"
   ]
  },
  {
   "cell_type": "code",
   "execution_count": 91,
   "metadata": {
    "ExecuteTime": {
     "end_time": "2022-03-10T00:49:25.105678Z",
     "start_time": "2022-03-10T00:49:24.680334Z"
    }
   },
   "outputs": [
    {
     "data": {
      "text/html": [
       "<div>\n",
       "<style scoped>\n",
       "    .dataframe tbody tr th:only-of-type {\n",
       "        vertical-align: middle;\n",
       "    }\n",
       "\n",
       "    .dataframe tbody tr th {\n",
       "        vertical-align: top;\n",
       "    }\n",
       "\n",
       "    .dataframe thead th {\n",
       "        text-align: right;\n",
       "    }\n",
       "</style>\n",
       "<table border=\"1\" class=\"dataframe\">\n",
       "  <thead>\n",
       "    <tr style=\"text-align: right;\">\n",
       "      <th></th>\n",
       "      <th>movie_id</th>\n",
       "      <th>primary_title</th>\n",
       "      <th>original_title</th>\n",
       "      <th>start_year</th>\n",
       "      <th>runtime_minutes</th>\n",
       "      <th>genres</th>\n",
       "    </tr>\n",
       "  </thead>\n",
       "  <tbody>\n",
       "    <tr>\n",
       "      <th>0</th>\n",
       "      <td>tt0063540</td>\n",
       "      <td>Sunghursh</td>\n",
       "      <td>Sunghursh</td>\n",
       "      <td>2013</td>\n",
       "      <td>175.0</td>\n",
       "      <td>Action,Crime,Drama</td>\n",
       "    </tr>\n",
       "  </tbody>\n",
       "</table>\n",
       "</div>"
      ],
      "text/plain": [
       "    movie_id primary_title original_title  start_year  runtime_minutes  \\\n",
       "0  tt0063540     Sunghursh      Sunghursh        2013            175.0   \n",
       "\n",
       "               genres  \n",
       "0  Action,Crime,Drama  "
      ]
     },
     "execution_count": 91,
     "metadata": {},
     "output_type": "execute_result"
    }
   ],
   "source": [
    "\n",
    "titles.head(1)"
   ]
  },
  {
   "cell_type": "code",
   "execution_count": 92,
   "metadata": {
    "ExecuteTime": {
     "end_time": "2022-03-10T00:49:25.212077Z",
     "start_time": "2022-03-10T00:49:25.106790Z"
    }
   },
   "outputs": [
    {
     "data": {
      "text/html": [
       "<div>\n",
       "<style scoped>\n",
       "    .dataframe tbody tr th:only-of-type {\n",
       "        vertical-align: middle;\n",
       "    }\n",
       "\n",
       "    .dataframe tbody tr th {\n",
       "        vertical-align: top;\n",
       "    }\n",
       "\n",
       "    .dataframe thead th {\n",
       "        text-align: right;\n",
       "    }\n",
       "</style>\n",
       "<table border=\"1\" class=\"dataframe\">\n",
       "  <thead>\n",
       "    <tr style=\"text-align: right;\">\n",
       "      <th></th>\n",
       "      <th>movie_id</th>\n",
       "      <th>averagerating</th>\n",
       "      <th>numvotes</th>\n",
       "    </tr>\n",
       "  </thead>\n",
       "  <tbody>\n",
       "    <tr>\n",
       "      <th>0</th>\n",
       "      <td>tt10356526</td>\n",
       "      <td>8.3</td>\n",
       "      <td>31</td>\n",
       "    </tr>\n",
       "  </tbody>\n",
       "</table>\n",
       "</div>"
      ],
      "text/plain": [
       "     movie_id  averagerating  numvotes\n",
       "0  tt10356526            8.3        31"
      ]
     },
     "execution_count": 92,
     "metadata": {},
     "output_type": "execute_result"
    }
   ],
   "source": [
    "rating = pd.read_sql(\"\"\"Select * From movie_ratings\"\"\", con)\n",
    "\n",
    "rating.head(1)"
   ]
  },
  {
   "cell_type": "markdown",
   "metadata": {},
   "source": [
    "We identify these columns of interests:\n",
    "- studio columns from the bom dataset\n",
    "- popularity, release_date, vote_avergae and vote_count columns from the tmdb\n",
    "- runtime_minutes, genre, averagerating, and numvotes from two sql dataset that requires merging on the movie special identification "
   ]
  },
  {
   "cell_type": "markdown",
   "metadata": {},
   "source": [
    "## Data Preparation"
   ]
  },
  {
   "cell_type": "markdown",
   "metadata": {},
   "source": [
    "### Initial Data Merging"
   ]
  },
  {
   "cell_type": "markdown",
   "metadata": {},
   "source": [
    "We merge the BOM and the tmdb dataset, then merged it that to the tn data set to have most of our columns of interest. The two sql data set were then merged together."
   ]
  },
  {
   "cell_type": "code",
   "execution_count": 93,
   "metadata": {},
   "outputs": [],
   "source": [
    "#creation of the merged table betweeen bom and tmdb\n",
    "#rating_and_gross = bom.merge(tmdb, how='inner', left_on='title', right_on='title').sort_values('domestic_gross', ascending=False)"
   ]
  },
  {
   "cell_type": "code",
   "execution_count": 94,
   "metadata": {},
   "outputs": [],
   "source": [
    "#creation of merge table of the rating_and_gross with the tn table\n",
    "budget_rating_gross = tmdb.merge(tn, how='inner', left_on='title', right_on='movie')"
   ]
  },
  {
   "cell_type": "code",
   "execution_count": 95,
   "metadata": {},
   "outputs": [],
   "source": [
    "#Merging of the two sql data bases\n",
    "sql_df = pd.read_sql('''\n",
    "    SELECT *\n",
    "    \n",
    "    FROM\n",
    "    movie_ratings\n",
    "    \n",
    "    INNER JOIN movie_basics\n",
    "        USING(movie_id) \n",
    "     \n",
    "     WHERE numvotes >= 1000\n",
    "     \n",
    "     ORDER BY \n",
    "         averagerating DESC\n",
    "''', con)"
   ]
  },
  {
   "cell_type": "code",
   "execution_count": 96,
   "metadata": {
    "ExecuteTime": {
     "end_time": "2022-03-10T00:50:54.464458Z",
     "start_time": "2022-03-10T00:50:54.457318Z"
    }
   },
   "outputs": [
    {
     "name": "stdout",
     "output_type": "stream",
     "text": [
      "<class 'pandas.core.frame.DataFrame'>\n",
      "Int64Index: 2385 entries, 0 to 2384\n",
      "Data columns (total 16 columns):\n",
      " #   Column             Non-Null Count  Dtype  \n",
      "---  ------             --------------  -----  \n",
      " 0   Unnamed: 0         2385 non-null   int64  \n",
      " 1   genre_ids          2385 non-null   object \n",
      " 2   id_x               2385 non-null   int64  \n",
      " 3   original_language  2385 non-null   object \n",
      " 4   original_title     2385 non-null   object \n",
      " 5   popularity         2385 non-null   float64\n",
      " 6   release_date_x     2385 non-null   object \n",
      " 7   title              2385 non-null   object \n",
      " 8   vote_average       2385 non-null   float64\n",
      " 9   vote_count         2385 non-null   int64  \n",
      " 10  id_y               2385 non-null   int64  \n",
      " 11  release_date_y     2385 non-null   object \n",
      " 12  movie              2385 non-null   object \n",
      " 13  production_budget  2385 non-null   object \n",
      " 14  domestic_gross     2385 non-null   object \n",
      " 15  worldwide_gross    2385 non-null   object \n",
      "dtypes: float64(2), int64(4), object(10)\n",
      "memory usage: 316.8+ KB\n"
     ]
    }
   ],
   "source": [
    "budget_rating_gross.info()"
   ]
  },
  {
   "cell_type": "markdown",
   "metadata": {},
   "source": [
    "There are 195 null values in the foreign_gross column, 2 in the domestic_gross_x column, and 1 in studio column.\n",
    "There are unnecessary columns. "
   ]
  },
  {
   "cell_type": "markdown",
   "metadata": {},
   "source": [
    "### Initial Data Cleaning"
   ]
  },
  {
   "cell_type": "markdown",
   "metadata": {},
   "source": [
    "We dropped columns that we thought were not useful for our analysis. Then monetary values were converted from strings to integers to be used, dropped exact duplicates and duplicates where the movie title was the same but some values were incorrect."
   ]
  },
  {
   "cell_type": "code",
   "execution_count": 97,
   "metadata": {
    "ExecuteTime": {
     "end_time": "2022-03-10T00:50:54.473513Z",
     "start_time": "2022-03-10T00:50:54.465968Z"
    },
    "scrolled": false
   },
   "outputs": [
    {
     "name": "stdout",
     "output_type": "stream",
     "text": [
      "<class 'pandas.core.frame.DataFrame'>\n",
      "Int64Index: 2385 entries, 0 to 2384\n",
      "Data columns (total 8 columns):\n",
      " #   Column             Non-Null Count  Dtype  \n",
      "---  ------             --------------  -----  \n",
      " 0   popularity         2385 non-null   float64\n",
      " 1   release_date_x     2385 non-null   object \n",
      " 2   title              2385 non-null   object \n",
      " 3   vote_average       2385 non-null   float64\n",
      " 4   vote_count         2385 non-null   int64  \n",
      " 5   production_budget  2385 non-null   object \n",
      " 6   domestic_gross     2385 non-null   object \n",
      " 7   worldwide_gross    2385 non-null   object \n",
      "dtypes: float64(2), int64(1), object(5)\n",
      "memory usage: 167.7+ KB\n"
     ]
    }
   ],
   "source": [
    "#dropping unnecessary columns\n",
    "clean_columns = budget_rating_gross.drop(['release_date_y', 'Unnamed: 0', 'genre_ids', 'original_title', 'movie', 'id_x', 'id_y', 'original_language'], axis=1)\n",
    "clean_columns.info()"
   ]
  },
  {
   "cell_type": "code",
   "execution_count": 98,
   "metadata": {
    "ExecuteTime": {
     "end_time": "2022-03-10T00:50:54.478866Z",
     "start_time": "2022-03-10T00:50:54.474810Z"
    }
   },
   "outputs": [],
   "source": [
    "#cleaning and converting worldwide_gross into int\n",
    "clean_columns['worldwide_gross'] = clean_columns['worldwide_gross'].str.replace('$', '')\n",
    "clean_columns['worldwide_gross'] = clean_columns['worldwide_gross'].str.replace(',', '')\n",
    "clean_columns['worldwide_gross'] = clean_columns['worldwide_gross'].astype('int64')"
   ]
  },
  {
   "cell_type": "code",
   "execution_count": 99,
   "metadata": {
    "ExecuteTime": {
     "end_time": "2022-03-10T00:50:54.483618Z",
     "start_time": "2022-03-10T00:50:54.479834Z"
    }
   },
   "outputs": [],
   "source": [
    "##cleaning and converting domestic_gross_y into int\n",
    "clean_columns['domestic_gross'] = clean_columns['domestic_gross'].str.replace('$', '')\n",
    "clean_columns['domestic_gross'] = clean_columns['domestic_gross'].str.replace(',', '')\n",
    "clean_columns['domestic_gross'] = clean_columns['domestic_gross'].astype('int64')"
   ]
  },
  {
   "cell_type": "code",
   "execution_count": 100,
   "metadata": {
    "ExecuteTime": {
     "end_time": "2022-03-10T00:50:54.488291Z",
     "start_time": "2022-03-10T00:50:54.484582Z"
    }
   },
   "outputs": [],
   "source": [
    "#cleaning and converting production_budget into int\n",
    "clean_columns['production_budget'] = clean_columns['production_budget'].str.replace('$', '')\n",
    "clean_columns['production_budget'] = clean_columns['production_budget'].str.replace(',', '')\n",
    "clean_columns['production_budget'] = clean_columns['production_budget'].astype('int64')"
   ]
  },
  {
   "cell_type": "code",
   "execution_count": 101,
   "metadata": {
    "ExecuteTime": {
     "end_time": "2022-03-10T00:50:54.493911Z",
     "start_time": "2022-03-10T00:50:54.489203Z"
    }
   },
   "outputs": [
    {
     "name": "stdout",
     "output_type": "stream",
     "text": [
      "<class 'pandas.core.frame.DataFrame'>\n",
      "Int64Index: 2385 entries, 0 to 2384\n",
      "Data columns (total 8 columns):\n",
      " #   Column             Non-Null Count  Dtype  \n",
      "---  ------             --------------  -----  \n",
      " 0   popularity         2385 non-null   float64\n",
      " 1   release_date_x     2385 non-null   object \n",
      " 2   title              2385 non-null   object \n",
      " 3   vote_average       2385 non-null   float64\n",
      " 4   vote_count         2385 non-null   int64  \n",
      " 5   production_budget  2385 non-null   int64  \n",
      " 6   domestic_gross     2385 non-null   int64  \n",
      " 7   worldwide_gross    2385 non-null   int64  \n",
      "dtypes: float64(2), int64(4), object(2)\n",
      "memory usage: 167.7+ KB\n"
     ]
    }
   ],
   "source": [
    "#Sanity Check\n",
    "clean_columns.info()"
   ]
  },
  {
   "cell_type": "code",
   "execution_count": 102,
   "metadata": {
    "ExecuteTime": {
     "end_time": "2022-03-10T00:50:54.499602Z",
     "start_time": "2022-03-10T00:50:54.495965Z"
    }
   },
   "outputs": [],
   "source": [
    "#dropping exact row duplicates\n",
    "test_clean_columns = clean_columns.drop_duplicates()"
   ]
  },
  {
   "cell_type": "code",
   "execution_count": 103,
   "metadata": {
    "ExecuteTime": {
     "end_time": "2022-03-10T00:50:54.507157Z",
     "start_time": "2022-03-10T00:50:54.501175Z"
    }
   },
   "outputs": [],
   "source": [
    "#dropping duplicates where the title name is the same but other values are wrong\n",
    "vote_count_max = test_clean_columns.groupby(['title']).vote_count.transform(max)\n",
    "movies_clean = test_clean_columns.loc[test_clean_columns.vote_count == vote_count_max]"
   ]
  },
  {
   "cell_type": "code",
   "execution_count": 104,
   "metadata": {
    "ExecuteTime": {
     "end_time": "2022-03-10T00:50:54.510547Z",
     "start_time": "2022-03-10T00:50:54.508117Z"
    }
   },
   "outputs": [
    {
     "data": {
      "text/plain": [
       "(1985, 8)"
      ]
     },
     "execution_count": 104,
     "metadata": {},
     "output_type": "execute_result"
    }
   ],
   "source": [
    "#Sanity Check: verifying the shape of movies_clean\n",
    "movies_clean.shape"
   ]
  },
  {
   "cell_type": "markdown",
   "metadata": {},
   "source": [
    "After cleaning the dataset, we then merge the movies_clean with the sql_df to finally have all the columns of interest for the individual films that will be used later on."
   ]
  },
  {
   "cell_type": "code",
   "execution_count": 105,
   "metadata": {
    "ExecuteTime": {
     "end_time": "2022-03-10T00:50:54.518240Z",
     "start_time": "2022-03-10T00:50:54.511480Z"
    }
   },
   "outputs": [],
   "source": [
    "movies_sql = movies_clean.merge(sql_df, how='inner', left_on='title', right_on='original_title')"
   ]
  },
  {
   "cell_type": "markdown",
   "metadata": {},
   "source": [
    "# Data Analyzation"
   ]
  },
  {
   "cell_type": "markdown",
   "metadata": {},
   "source": [
    "We want to see what the initial data was telling us without the removal of outliers and to identify any anomaly."
   ]
  },
  {
   "cell_type": "code",
   "execution_count": 106,
   "metadata": {
    "ExecuteTime": {
     "end_time": "2022-03-10T00:50:54.532443Z",
     "start_time": "2022-03-10T00:50:54.519057Z"
    }
   },
   "outputs": [
    {
     "data": {
      "text/html": [
       "<div>\n",
       "<style scoped>\n",
       "    .dataframe tbody tr th:only-of-type {\n",
       "        vertical-align: middle;\n",
       "    }\n",
       "\n",
       "    .dataframe tbody tr th {\n",
       "        vertical-align: top;\n",
       "    }\n",
       "\n",
       "    .dataframe thead th {\n",
       "        text-align: right;\n",
       "    }\n",
       "</style>\n",
       "<table border=\"1\" class=\"dataframe\">\n",
       "  <thead>\n",
       "    <tr style=\"text-align: right;\">\n",
       "      <th></th>\n",
       "      <th>popularity</th>\n",
       "      <th>vote_average</th>\n",
       "      <th>vote_count</th>\n",
       "      <th>production_budget</th>\n",
       "      <th>domestic_gross</th>\n",
       "      <th>worldwide_gross</th>\n",
       "    </tr>\n",
       "  </thead>\n",
       "  <tbody>\n",
       "    <tr>\n",
       "      <th>count</th>\n",
       "      <td>1985.000000</td>\n",
       "      <td>1985.000000</td>\n",
       "      <td>1985.000000</td>\n",
       "      <td>1.985000e+03</td>\n",
       "      <td>1.985000e+03</td>\n",
       "      <td>1.985000e+03</td>\n",
       "    </tr>\n",
       "    <tr>\n",
       "      <th>mean</th>\n",
       "      <td>11.109711</td>\n",
       "      <td>6.183929</td>\n",
       "      <td>1750.817128</td>\n",
       "      <td>3.814160e+07</td>\n",
       "      <td>4.886928e+07</td>\n",
       "      <td>1.192009e+08</td>\n",
       "    </tr>\n",
       "    <tr>\n",
       "      <th>std</th>\n",
       "      <td>8.118948</td>\n",
       "      <td>1.076845</td>\n",
       "      <td>2716.246973</td>\n",
       "      <td>5.154858e+07</td>\n",
       "      <td>8.055328e+07</td>\n",
       "      <td>2.207352e+08</td>\n",
       "    </tr>\n",
       "    <tr>\n",
       "      <th>min</th>\n",
       "      <td>0.600000</td>\n",
       "      <td>0.000000</td>\n",
       "      <td>1.000000</td>\n",
       "      <td>9.000000e+03</td>\n",
       "      <td>0.000000e+00</td>\n",
       "      <td>0.000000e+00</td>\n",
       "    </tr>\n",
       "    <tr>\n",
       "      <th>25%</th>\n",
       "      <td>6.330000</td>\n",
       "      <td>5.600000</td>\n",
       "      <td>97.000000</td>\n",
       "      <td>5.000000e+06</td>\n",
       "      <td>8.903030e+05</td>\n",
       "      <td>3.237452e+06</td>\n",
       "    </tr>\n",
       "    <tr>\n",
       "      <th>50%</th>\n",
       "      <td>9.839000</td>\n",
       "      <td>6.200000</td>\n",
       "      <td>692.000000</td>\n",
       "      <td>2.000000e+07</td>\n",
       "      <td>2.073872e+07</td>\n",
       "      <td>3.711936e+07</td>\n",
       "    </tr>\n",
       "    <tr>\n",
       "      <th>75%</th>\n",
       "      <td>14.585000</td>\n",
       "      <td>6.800000</td>\n",
       "      <td>2147.000000</td>\n",
       "      <td>4.800000e+07</td>\n",
       "      <td>5.826915e+07</td>\n",
       "      <td>1.236967e+08</td>\n",
       "    </tr>\n",
       "    <tr>\n",
       "      <th>max</th>\n",
       "      <td>80.773000</td>\n",
       "      <td>10.000000</td>\n",
       "      <td>22186.000000</td>\n",
       "      <td>4.250000e+08</td>\n",
       "      <td>7.605076e+08</td>\n",
       "      <td>2.776345e+09</td>\n",
       "    </tr>\n",
       "  </tbody>\n",
       "</table>\n",
       "</div>"
      ],
      "text/plain": [
       "        popularity  vote_average    vote_count  production_budget  \\\n",
       "count  1985.000000   1985.000000   1985.000000       1.985000e+03   \n",
       "mean     11.109711      6.183929   1750.817128       3.814160e+07   \n",
       "std       8.118948      1.076845   2716.246973       5.154858e+07   \n",
       "min       0.600000      0.000000      1.000000       9.000000e+03   \n",
       "25%       6.330000      5.600000     97.000000       5.000000e+06   \n",
       "50%       9.839000      6.200000    692.000000       2.000000e+07   \n",
       "75%      14.585000      6.800000   2147.000000       4.800000e+07   \n",
       "max      80.773000     10.000000  22186.000000       4.250000e+08   \n",
       "\n",
       "       domestic_gross  worldwide_gross  \n",
       "count    1.985000e+03     1.985000e+03  \n",
       "mean     4.886928e+07     1.192009e+08  \n",
       "std      8.055328e+07     2.207352e+08  \n",
       "min      0.000000e+00     0.000000e+00  \n",
       "25%      8.903030e+05     3.237452e+06  \n",
       "50%      2.073872e+07     3.711936e+07  \n",
       "75%      5.826915e+07     1.236967e+08  \n",
       "max      7.605076e+08     2.776345e+09  "
      ]
     },
     "execution_count": 106,
     "metadata": {},
     "output_type": "execute_result"
    }
   ],
   "source": [
    "#Quick glance at the information of the dataset\n",
    "movies_clean.describe()\n",
    "# min value for production_budget is > 0."
   ]
  },
  {
   "cell_type": "markdown",
   "metadata": {},
   "source": [
    "After a quick skim from above, we notice that there is some outliers with our dataset. Not only that, but that we want to ensure that we're capturing data that only has worldwide gross gives us a sense of how much was made domestically and overseas combined. "
   ]
  },
  {
   "cell_type": "code",
   "execution_count": 138,
   "metadata": {},
   "outputs": [
    {
     "name": "stderr",
     "output_type": "stream",
     "text": [
      "<ipython-input-138-b7aabc6df952>:1: SettingWithCopyWarning: \n",
      "A value is trying to be set on a copy of a slice from a DataFrame.\n",
      "Try using .loc[row_indexer,col_indexer] = value instead\n",
      "\n",
      "See the caveats in the documentation: https://pandas.pydata.org/pandas-docs/stable/user_guide/indexing.html#returning-a-view-versus-a-copy\n",
      "  movies_clean['gross_to_budget_ratio'] = movies_clean['worldwide_gross'] / movies_clean['production_budget']\n"
     ]
    }
   ],
   "source": [
    "movies_clean['gross_to_budget_ratio'] = movies_clean['worldwide_gross'] / movies_clean['production_budget']"
   ]
  },
  {
   "cell_type": "code",
   "execution_count": 139,
   "metadata": {
    "ExecuteTime": {
     "end_time": "2022-03-10T00:50:54.537259Z",
     "start_time": "2022-03-10T00:50:54.533532Z"
    }
   },
   "outputs": [
    {
     "data": {
      "text/plain": [
       "(-61488042.26423174, 299889824.73576826)"
      ]
     },
     "execution_count": 139,
     "metadata": {},
     "output_type": "execute_result"
    }
   ],
   "source": [
    "#Dropping outliers from worldwide_gross\n",
    "q3, q1 = np.percentile(movies_clean['worldwide_gross'], [75, 25])\n",
    "q3, q1\n",
    "iqr = q3-q1\n",
    "\n",
    "lower_limit_wwg = movies_clean['worldwide_gross'].mean()-(iqr*1.5)\n",
    "\n",
    "upper_limit_wwg = movies_clean['worldwide_gross'].mean()+(iqr*1.5)\n",
    "\n",
    "lower_limit_wwg, upper_limit_wwg"
   ]
  },
  {
   "cell_type": "code",
   "execution_count": 140,
   "metadata": {
    "ExecuteTime": {
     "end_time": "2022-03-10T00:50:54.542168Z",
     "start_time": "2022-03-10T00:50:54.539273Z"
    }
   },
   "outputs": [],
   "source": [
    "movies_without_wwg_outliers = movies_clean[movies_clean['worldwide_gross']<upper_limit_wwg]"
   ]
  },
  {
   "cell_type": "markdown",
   "metadata": {},
   "source": [
    "We expect some form revenue for domestic if it was released in theatres. Some other reasoning"
   ]
  },
  {
   "cell_type": "code",
   "execution_count": 141,
   "metadata": {
    "ExecuteTime": {
     "end_time": "2022-03-10T00:50:54.547449Z",
     "start_time": "2022-03-10T00:50:54.543269Z"
    }
   },
   "outputs": [
    {
     "data": {
      "text/plain": [
       "(-21004391.479225952, 71995608.52077405)"
      ]
     },
     "execution_count": 141,
     "metadata": {},
     "output_type": "execute_result"
    }
   ],
   "source": [
    "#Dropping outliers from production_budget\n",
    "q3, q1 = np.percentile(movies_without_wwg_outliers['production_budget'], [75, 25])\n",
    "q3, q1\n",
    "iqr = q3-q1\n",
    "\n",
    "lower_limit_pb = movies_without_wwg_outliers['production_budget'].mean()-(iqr*1.5)\n",
    "\n",
    "upper_limit_pb = movies_without_wwg_outliers['production_budget'].mean()+(iqr*1.5)\n",
    "\n",
    "lower_limit_pb, upper_limit_pb"
   ]
  },
  {
   "cell_type": "code",
   "execution_count": 142,
   "metadata": {
    "ExecuteTime": {
     "end_time": "2022-03-10T00:50:54.551181Z",
     "start_time": "2022-03-10T00:50:54.548536Z"
    }
   },
   "outputs": [],
   "source": [
    "movies_without_wwg_or_pb_outliers = movies_without_wwg_outliers[movies_without_wwg_outliers['production_budget']<upper_limit_pb]"
   ]
  },
  {
   "cell_type": "markdown",
   "metadata": {},
   "source": [
    "We decided to create three different variables that had remove outliers. These variables excluded the outliers base on the iqr formula for determining outliers. These variables looked at outliers base on just worldwide_gross, and worldwide_gross plus production_budget outliers."
   ]
  },
  {
   "cell_type": "markdown",
   "metadata": {},
   "source": [
    "### Production Budget"
   ]
  },
  {
   "cell_type": "markdown",
   "metadata": {},
   "source": [
    "We started examining the question of what is the ROI for a movie and how strong of a correlation is there between the production budget and their total gross."
   ]
  },
  {
   "cell_type": "code",
   "execution_count": 143,
   "metadata": {},
   "outputs": [
    {
     "data": {
      "text/html": [
       "<div>\n",
       "<style scoped>\n",
       "    .dataframe tbody tr th:only-of-type {\n",
       "        vertical-align: middle;\n",
       "    }\n",
       "\n",
       "    .dataframe tbody tr th {\n",
       "        vertical-align: top;\n",
       "    }\n",
       "\n",
       "    .dataframe thead th {\n",
       "        text-align: right;\n",
       "    }\n",
       "</style>\n",
       "<table border=\"1\" class=\"dataframe\">\n",
       "  <thead>\n",
       "    <tr style=\"text-align: right;\">\n",
       "      <th></th>\n",
       "      <th>popularity</th>\n",
       "      <th>vote_average</th>\n",
       "      <th>vote_count</th>\n",
       "      <th>production_budget</th>\n",
       "      <th>domestic_gross</th>\n",
       "      <th>worldwide_gross</th>\n",
       "      <th>gross_to_budget_ratio</th>\n",
       "    </tr>\n",
       "  </thead>\n",
       "  <tbody>\n",
       "    <tr>\n",
       "      <th>count</th>\n",
       "      <td>2385.000000</td>\n",
       "      <td>2385.000000</td>\n",
       "      <td>2385.000000</td>\n",
       "      <td>2.385000e+03</td>\n",
       "      <td>2.385000e+03</td>\n",
       "      <td>2.385000e+03</td>\n",
       "      <td>2385.000000</td>\n",
       "    </tr>\n",
       "    <tr>\n",
       "      <th>mean</th>\n",
       "      <td>10.423104</td>\n",
       "      <td>6.202474</td>\n",
       "      <td>1662.224738</td>\n",
       "      <td>3.772410e+07</td>\n",
       "      <td>4.948916e+07</td>\n",
       "      <td>1.199040e+08</td>\n",
       "      <td>4.314094</td>\n",
       "    </tr>\n",
       "    <tr>\n",
       "      <th>std</th>\n",
       "      <td>8.257018</td>\n",
       "      <td>1.184930</td>\n",
       "      <td>2681.183078</td>\n",
       "      <td>5.125635e+07</td>\n",
       "      <td>8.275210e+07</td>\n",
       "      <td>2.213221e+08</td>\n",
       "      <td>14.217350</td>\n",
       "    </tr>\n",
       "    <tr>\n",
       "      <th>min</th>\n",
       "      <td>0.600000</td>\n",
       "      <td>0.000000</td>\n",
       "      <td>1.000000</td>\n",
       "      <td>9.000000e+03</td>\n",
       "      <td>0.000000e+00</td>\n",
       "      <td>0.000000e+00</td>\n",
       "      <td>0.000000</td>\n",
       "    </tr>\n",
       "    <tr>\n",
       "      <th>25%</th>\n",
       "      <td>4.749000</td>\n",
       "      <td>5.600000</td>\n",
       "      <td>48.000000</td>\n",
       "      <td>5.000000e+06</td>\n",
       "      <td>8.818240e+05</td>\n",
       "      <td>3.187302e+06</td>\n",
       "      <td>0.428868</td>\n",
       "    </tr>\n",
       "    <tr>\n",
       "      <th>50%</th>\n",
       "      <td>9.329000</td>\n",
       "      <td>6.300000</td>\n",
       "      <td>563.000000</td>\n",
       "      <td>1.900000e+07</td>\n",
       "      <td>2.015730e+07</td>\n",
       "      <td>3.704853e+07</td>\n",
       "      <td>1.777859</td>\n",
       "    </tr>\n",
       "    <tr>\n",
       "      <th>75%</th>\n",
       "      <td>14.239000</td>\n",
       "      <td>6.900000</td>\n",
       "      <td>2047.000000</td>\n",
       "      <td>4.500000e+07</td>\n",
       "      <td>5.789180e+07</td>\n",
       "      <td>1.233688e+08</td>\n",
       "      <td>3.894215</td>\n",
       "    </tr>\n",
       "    <tr>\n",
       "      <th>max</th>\n",
       "      <td>80.773000</td>\n",
       "      <td>10.000000</td>\n",
       "      <td>22186.000000</td>\n",
       "      <td>4.250000e+08</td>\n",
       "      <td>7.605076e+08</td>\n",
       "      <td>2.776345e+09</td>\n",
       "      <td>416.564740</td>\n",
       "    </tr>\n",
       "  </tbody>\n",
       "</table>\n",
       "</div>"
      ],
      "text/plain": [
       "        popularity  vote_average    vote_count  production_budget  \\\n",
       "count  2385.000000   2385.000000   2385.000000       2.385000e+03   \n",
       "mean     10.423104      6.202474   1662.224738       3.772410e+07   \n",
       "std       8.257018      1.184930   2681.183078       5.125635e+07   \n",
       "min       0.600000      0.000000      1.000000       9.000000e+03   \n",
       "25%       4.749000      5.600000     48.000000       5.000000e+06   \n",
       "50%       9.329000      6.300000    563.000000       1.900000e+07   \n",
       "75%      14.239000      6.900000   2047.000000       4.500000e+07   \n",
       "max      80.773000     10.000000  22186.000000       4.250000e+08   \n",
       "\n",
       "       domestic_gross  worldwide_gross  gross_to_budget_ratio  \n",
       "count    2.385000e+03     2.385000e+03            2385.000000  \n",
       "mean     4.948916e+07     1.199040e+08               4.314094  \n",
       "std      8.275210e+07     2.213221e+08              14.217350  \n",
       "min      0.000000e+00     0.000000e+00               0.000000  \n",
       "25%      8.818240e+05     3.187302e+06               0.428868  \n",
       "50%      2.015730e+07     3.704853e+07               1.777859  \n",
       "75%      5.789180e+07     1.233688e+08               3.894215  \n",
       "max      7.605076e+08     2.776345e+09             416.564740  "
      ]
     },
     "execution_count": 143,
     "metadata": {},
     "output_type": "execute_result"
    }
   ],
   "source": [
    "#get a sense of what the averages, medians and range are\n",
    "clean_columns.describe()"
   ]
  },
  {
   "cell_type": "code",
   "execution_count": 144,
   "metadata": {
    "ExecuteTime": {
     "end_time": "2022-03-10T00:50:54.656344Z",
     "start_time": "2022-03-10T00:50:54.552162Z"
    }
   },
   "outputs": [
    {
     "data": {
      "image/png": "[encoded data removed]",
      "text/plain": [
       "<Figure size 720x432 with 1 Axes>"
      ]
     },
     "metadata": {
      "needs_background": "light"
     },
     "output_type": "display_data"
    }
   ],
   "source": [
    "#graph of it with outliers included\n",
    "fig, ax = plt.subplots(figsize=(10,6))\n",
    "ax.ticklabel_format(style='plain')\n",
    "ax.scatter(clean_columns['production_budget'] , y = clean_columns['worldwide_gross'], alpha = .4, c=\"c\");\n",
    "\n",
    "x=clean_columns['production_budget']\n",
    "y=clean_columns['worldwide_gross']\n",
    "m, b = np.polyfit(x,y,1)\n",
    "plt.plot(x, m*x + b, c=\"purple\")\n",
    "plt.legend(['Return On Investment'])\n",
    "\n",
    "ax.set_title('Production Budget and Revenue')\n",
    "ax.set_xlabel('Production Budget')\n",
    "ax.set_ylabel('Revenue')\n",
    "ax.yaxis.set_major_formatter(ticker.StrMethodFormatter('${x:,.0f}'))\n",
    "ax.xaxis.set_major_formatter(ticker.StrMethodFormatter('${x:,.0f}'))\n",
    "plt.savefig('./Untitled Folder/Production Budget and Worldwide Gross with outliers.png', bbox_inches = 'tight');"
   ]
  },
  {
   "cell_type": "code",
   "execution_count": 145,
   "metadata": {
    "ExecuteTime": {
     "end_time": "2022-03-10T00:50:54.659743Z",
     "start_time": "2022-03-10T00:50:54.657189Z"
    }
   },
   "outputs": [
    {
     "data": {
      "text/plain": [
       "0.7941073908765613"
      ]
     },
     "execution_count": 145,
     "metadata": {},
     "output_type": "execute_result"
    }
   ],
   "source": [
    "np.corrcoef(clean_columns['production_budget'] , y = clean_columns['worldwide_gross'])[0][1]"
   ]
  },
  {
   "cell_type": "code",
   "execution_count": 146,
   "metadata": {},
   "outputs": [
    {
     "data": {
      "text/html": [
       "<div>\n",
       "<style scoped>\n",
       "    .dataframe tbody tr th:only-of-type {\n",
       "        vertical-align: middle;\n",
       "    }\n",
       "\n",
       "    .dataframe tbody tr th {\n",
       "        vertical-align: top;\n",
       "    }\n",
       "\n",
       "    .dataframe thead th {\n",
       "        text-align: right;\n",
       "    }\n",
       "</style>\n",
       "<table border=\"1\" class=\"dataframe\">\n",
       "  <thead>\n",
       "    <tr style=\"text-align: right;\">\n",
       "      <th></th>\n",
       "      <th>popularity</th>\n",
       "      <th>vote_average</th>\n",
       "      <th>vote_count</th>\n",
       "      <th>production_budget</th>\n",
       "      <th>domestic_gross</th>\n",
       "      <th>worldwide_gross</th>\n",
       "      <th>gross_to_budget_ratio</th>\n",
       "    </tr>\n",
       "  </thead>\n",
       "  <tbody>\n",
       "    <tr>\n",
       "      <th>count</th>\n",
       "      <td>2203.000000</td>\n",
       "      <td>2203.000000</td>\n",
       "      <td>2203.000000</td>\n",
       "      <td>2.203000e+03</td>\n",
       "      <td>2.203000e+03</td>\n",
       "      <td>2.203000e+03</td>\n",
       "      <td>2203.000000</td>\n",
       "    </tr>\n",
       "    <tr>\n",
       "      <th>mean</th>\n",
       "      <td>10.268095</td>\n",
       "      <td>6.177167</td>\n",
       "      <td>1568.694054</td>\n",
       "      <td>3.989318e+07</td>\n",
       "      <td>4.649623e+07</td>\n",
       "      <td>1.143247e+08</td>\n",
       "      <td>2.145045</td>\n",
       "    </tr>\n",
       "    <tr>\n",
       "      <th>std</th>\n",
       "      <td>8.205911</td>\n",
       "      <td>1.177364</td>\n",
       "      <td>2600.404520</td>\n",
       "      <td>5.250343e+07</td>\n",
       "      <td>8.063926e+07</td>\n",
       "      <td>2.192076e+08</td>\n",
       "      <td>2.152240</td>\n",
       "    </tr>\n",
       "    <tr>\n",
       "      <th>min</th>\n",
       "      <td>0.600000</td>\n",
       "      <td>0.000000</td>\n",
       "      <td>1.000000</td>\n",
       "      <td>9.000000e+03</td>\n",
       "      <td>0.000000e+00</td>\n",
       "      <td>0.000000e+00</td>\n",
       "      <td>0.000000</td>\n",
       "    </tr>\n",
       "    <tr>\n",
       "      <th>25%</th>\n",
       "      <td>4.519000</td>\n",
       "      <td>5.600000</td>\n",
       "      <td>46.000000</td>\n",
       "      <td>6.000000e+06</td>\n",
       "      <td>5.665755e+05</td>\n",
       "      <td>2.322505e+06</td>\n",
       "      <td>0.335776</td>\n",
       "    </tr>\n",
       "    <tr>\n",
       "      <th>50%</th>\n",
       "      <td>9.149000</td>\n",
       "      <td>6.200000</td>\n",
       "      <td>509.000000</td>\n",
       "      <td>2.000000e+07</td>\n",
       "      <td>1.755087e+07</td>\n",
       "      <td>3.283894e+07</td>\n",
       "      <td>1.554199</td>\n",
       "    </tr>\n",
       "    <tr>\n",
       "      <th>75%</th>\n",
       "      <td>13.900500</td>\n",
       "      <td>6.900000</td>\n",
       "      <td>1896.000000</td>\n",
       "      <td>5.000000e+07</td>\n",
       "      <td>5.457879e+07</td>\n",
       "      <td>1.123083e+08</td>\n",
       "      <td>3.222996</td>\n",
       "    </tr>\n",
       "    <tr>\n",
       "      <th>max</th>\n",
       "      <td>80.773000</td>\n",
       "      <td>10.000000</td>\n",
       "      <td>22186.000000</td>\n",
       "      <td>4.250000e+08</td>\n",
       "      <td>7.605076e+08</td>\n",
       "      <td>2.776345e+09</td>\n",
       "      <td>9.496621</td>\n",
       "    </tr>\n",
       "  </tbody>\n",
       "</table>\n",
       "</div>"
      ],
      "text/plain": [
       "        popularity  vote_average    vote_count  production_budget  \\\n",
       "count  2203.000000   2203.000000   2203.000000       2.203000e+03   \n",
       "mean     10.268095      6.177167   1568.694054       3.989318e+07   \n",
       "std       8.205911      1.177364   2600.404520       5.250343e+07   \n",
       "min       0.600000      0.000000      1.000000       9.000000e+03   \n",
       "25%       4.519000      5.600000     46.000000       6.000000e+06   \n",
       "50%       9.149000      6.200000    509.000000       2.000000e+07   \n",
       "75%      13.900500      6.900000   1896.000000       5.000000e+07   \n",
       "max      80.773000     10.000000  22186.000000       4.250000e+08   \n",
       "\n",
       "       domestic_gross  worldwide_gross  gross_to_budget_ratio  \n",
       "count    2.203000e+03     2.203000e+03            2203.000000  \n",
       "mean     4.649623e+07     1.143247e+08               2.145045  \n",
       "std      8.063926e+07     2.192076e+08               2.152240  \n",
       "min      0.000000e+00     0.000000e+00               0.000000  \n",
       "25%      5.665755e+05     2.322505e+06               0.335776  \n",
       "50%      1.755087e+07     3.283894e+07               1.554199  \n",
       "75%      5.457879e+07     1.123083e+08               3.222996  \n",
       "max      7.605076e+08     2.776345e+09               9.496621  "
      ]
     },
     "execution_count": 146,
     "metadata": {},
     "output_type": "execute_result"
    }
   ],
   "source": [
    "#get a sense of what the averages, medians and range are\n",
    "movies_oultierless.describe()"
   ]
  },
  {
   "cell_type": "code",
   "execution_count": 147,
   "metadata": {
    "ExecuteTime": {
     "end_time": "2022-03-10T00:55:18.264529Z",
     "start_time": "2022-03-10T00:55:18.117866Z"
    }
   },
   "outputs": [
    {
     "data": {
      "image/png": "[encoded data removed]",
      "text/plain": [
       "<Figure size 720x432 with 1 Axes>"
      ]
     },
     "metadata": {
      "needs_background": "light"
     },
     "output_type": "display_data"
    }
   ],
   "source": [
    "# determining outliers\n",
    "q3, q1 = np.percentile(clean_columns['gross_to_budget_ratio'], [75, 25])\n",
    "q3, q1\n",
    "iqr = q3-q1\n",
    "\n",
    "lower_limit = clean_columns['gross_to_budget_ratio'].mean()-(iqr*1.5)\n",
    "\n",
    "upper_limit = clean_columns['gross_to_budget_ratio'].mean()+(iqr*1.5)\n",
    "\n",
    "lower_limit, upper_limit\n",
    "\n",
    "#limiting data to the upper limit of the iqr\n",
    "movies_oultierless = clean_columns[clean_columns['gross_to_budget_ratio']<upper_limit]\n",
    "\n",
    "\n",
    "#graph of movies_oultierless\n",
    "fig, ax = plt.subplots(figsize=(10,6))\n",
    "ax.ticklabel_format(style='plain')\n",
    "ax.scatter(movies_oultierless['production_budget'] , y = movies_oultierless['worldwide_gross'], alpha = .4, c=\"c\");\n",
    "\n",
    "x=movies_oultierless['production_budget']\n",
    "y=movies_oultierless['worldwide_gross']\n",
    "m, b = np.polyfit(x,y,1)\n",
    "plt.plot(x, m*x + b, c=\"purple\")\n",
    "plt.legend(['Return On Investment'])\n",
    "\n",
    "\n",
    "ax.set_title('Production Budget and Revenue without ROI outliers')\n",
    "ax.set_xlabel('Production Budget')\n",
    "ax.set_ylabel('Revenue')\n",
    "ax.yaxis.set_major_formatter(ticker.StrMethodFormatter('${x:,.0f}'))\n",
    "ax.xaxis.set_major_formatter(ticker.StrMethodFormatter('${x:,.0f}'))\n",
    "plt.savefig('./Untitled Folder/Production Budget and Worldwide Gross outlierless.png', bbox_inches = 'tight');"
   ]
  },
  {
   "cell_type": "code",
   "execution_count": 148,
   "metadata": {
    "ExecuteTime": {
     "end_time": "2022-03-10T00:50:54.754680Z",
     "start_time": "2022-03-10T00:50:54.752015Z"
    },
    "scrolled": true
   },
   "outputs": [
    {
     "data": {
      "text/plain": [
       "0.8333772111615129"
      ]
     },
     "execution_count": 148,
     "metadata": {},
     "output_type": "execute_result"
    }
   ],
   "source": [
    "#Removed outliers based on gross_to_budget_ratio. The correlation was very strong and positive.\n",
    "np.corrcoef(movies_oultierless['production_budget'] , y = movies_oultierless['worldwide_gross'])[0][1]\n",
    "#almost a 1:1 correlation"
   ]
  },
  {
   "cell_type": "markdown",
   "metadata": {},
   "source": [
    "A stronger correlation compared to when outliers were included. It looks to be very close to 1:1 relationship. "
   ]
  },
  {
   "cell_type": "code",
   "execution_count": 149,
   "metadata": {},
   "outputs": [
    {
     "data": {
      "text/html": [
       "<div>\n",
       "<style scoped>\n",
       "    .dataframe tbody tr th:only-of-type {\n",
       "        vertical-align: middle;\n",
       "    }\n",
       "\n",
       "    .dataframe tbody tr th {\n",
       "        vertical-align: top;\n",
       "    }\n",
       "\n",
       "    .dataframe thead th {\n",
       "        text-align: right;\n",
       "    }\n",
       "</style>\n",
       "<table border=\"1\" class=\"dataframe\">\n",
       "  <thead>\n",
       "    <tr style=\"text-align: right;\">\n",
       "      <th></th>\n",
       "      <th>popularity</th>\n",
       "      <th>vote_average</th>\n",
       "      <th>vote_count</th>\n",
       "      <th>production_budget</th>\n",
       "      <th>domestic_gross</th>\n",
       "      <th>worldwide_gross</th>\n",
       "      <th>gross_to_budget_ratio</th>\n",
       "    </tr>\n",
       "  </thead>\n",
       "  <tbody>\n",
       "    <tr>\n",
       "      <th>count</th>\n",
       "      <td>1628.000000</td>\n",
       "      <td>1628.000000</td>\n",
       "      <td>1628.000000</td>\n",
       "      <td>1.628000e+03</td>\n",
       "      <td>1.628000e+03</td>\n",
       "      <td>1.628000e+03</td>\n",
       "      <td>1628.000000</td>\n",
       "    </tr>\n",
       "    <tr>\n",
       "      <th>mean</th>\n",
       "      <td>9.164849</td>\n",
       "      <td>6.115418</td>\n",
       "      <td>1001.084767</td>\n",
       "      <td>1.874471e+07</td>\n",
       "      <td>2.390938e+07</td>\n",
       "      <td>4.525875e+07</td>\n",
       "      <td>3.875295</td>\n",
       "    </tr>\n",
       "    <tr>\n",
       "      <th>std</th>\n",
       "      <td>6.110952</td>\n",
       "      <td>1.100462</td>\n",
       "      <td>1501.466869</td>\n",
       "      <td>1.806589e+07</td>\n",
       "      <td>3.182708e+07</td>\n",
       "      <td>5.952591e+07</td>\n",
       "      <td>15.426563</td>\n",
       "    </tr>\n",
       "    <tr>\n",
       "      <th>min</th>\n",
       "      <td>0.600000</td>\n",
       "      <td>0.000000</td>\n",
       "      <td>1.000000</td>\n",
       "      <td>9.000000e+03</td>\n",
       "      <td>0.000000e+00</td>\n",
       "      <td>0.000000e+00</td>\n",
       "      <td>0.000000</td>\n",
       "    </tr>\n",
       "    <tr>\n",
       "      <th>25%</th>\n",
       "      <td>5.517250</td>\n",
       "      <td>5.500000</td>\n",
       "      <td>61.000000</td>\n",
       "      <td>3.500000e+06</td>\n",
       "      <td>2.144182e+05</td>\n",
       "      <td>1.224814e+06</td>\n",
       "      <td>0.248990</td>\n",
       "    </tr>\n",
       "    <tr>\n",
       "      <th>50%</th>\n",
       "      <td>8.820500</td>\n",
       "      <td>6.200000</td>\n",
       "      <td>440.500000</td>\n",
       "      <td>1.300000e+07</td>\n",
       "      <td>1.075855e+07</td>\n",
       "      <td>2.051552e+07</td>\n",
       "      <td>1.438261</td>\n",
       "    </tr>\n",
       "    <tr>\n",
       "      <th>75%</th>\n",
       "      <td>12.314500</td>\n",
       "      <td>6.800000</td>\n",
       "      <td>1312.500000</td>\n",
       "      <td>3.000000e+07</td>\n",
       "      <td>3.666259e+07</td>\n",
       "      <td>6.735383e+07</td>\n",
       "      <td>3.300917</td>\n",
       "    </tr>\n",
       "    <tr>\n",
       "      <th>max</th>\n",
       "      <td>78.123000</td>\n",
       "      <td>10.000000</td>\n",
       "      <td>19673.000000</td>\n",
       "      <td>7.168298e+07</td>\n",
       "      <td>2.422125e+08</td>\n",
       "      <td>2.989234e+08</td>\n",
       "      <td>416.564740</td>\n",
       "    </tr>\n",
       "  </tbody>\n",
       "</table>\n",
       "</div>"
      ],
      "text/plain": [
       "        popularity  vote_average    vote_count  production_budget  \\\n",
       "count  1628.000000   1628.000000   1628.000000       1.628000e+03   \n",
       "mean      9.164849      6.115418   1001.084767       1.874471e+07   \n",
       "std       6.110952      1.100462   1501.466869       1.806589e+07   \n",
       "min       0.600000      0.000000      1.000000       9.000000e+03   \n",
       "25%       5.517250      5.500000     61.000000       3.500000e+06   \n",
       "50%       8.820500      6.200000    440.500000       1.300000e+07   \n",
       "75%      12.314500      6.800000   1312.500000       3.000000e+07   \n",
       "max      78.123000     10.000000  19673.000000       7.168298e+07   \n",
       "\n",
       "       domestic_gross  worldwide_gross  gross_to_budget_ratio  \n",
       "count    1.628000e+03     1.628000e+03            1628.000000  \n",
       "mean     2.390938e+07     4.525875e+07               3.875295  \n",
       "std      3.182708e+07     5.952591e+07              15.426563  \n",
       "min      0.000000e+00     0.000000e+00               0.000000  \n",
       "25%      2.144182e+05     1.224814e+06               0.248990  \n",
       "50%      1.075855e+07     2.051552e+07               1.438261  \n",
       "75%      3.666259e+07     6.735383e+07               3.300917  \n",
       "max      2.422125e+08     2.989234e+08             416.564740  "
      ]
     },
     "execution_count": 149,
     "metadata": {},
     "output_type": "execute_result"
    }
   ],
   "source": [
    "#get a sense of what the averages, medians and range are\n",
    "movies_without_wwg_or_pb_outliers.describe()"
   ]
  },
  {
   "cell_type": "code",
   "execution_count": 118,
   "metadata": {
    "ExecuteTime": {
     "end_time": "2022-03-10T00:55:51.616685Z",
     "start_time": "2022-03-10T00:55:51.468303Z"
    },
    "scrolled": false
   },
   "outputs": [
    {
     "data": {
      "image/png": "[encoded data removed]",
      "text/plain": [
       "<Figure size 720x432 with 1 Axes>"
      ]
     },
     "metadata": {
      "needs_background": "light"
     },
     "output_type": "display_data"
    }
   ],
   "source": [
    "#graph of movies_without_wwg_or_pb_outliers\n",
    "fig, ax = plt.subplots(figsize=(10,6),)\n",
    "ax.ticklabel_format(style='plain')\n",
    "ax.scatter(movies_without_wwg_or_pb_outliers['production_budget'] , y = movies_without_wwg_or_pb_outliers['worldwide_gross'], alpha = .4, c=\"c\")\n",
    "\n",
    "\n",
    "x=movies_without_wwg_or_pb_outliers['production_budget']\n",
    "y=movies_without_wwg_or_pb_outliers['worldwide_gross']\n",
    "m, b = np.polyfit(x,y,1)\n",
    "plt.plot(x, m*x + b, c=\"purple\")\n",
    "plt.legend(['Return On Investment'])\n",
    "\n",
    "\n",
    "ax.set_title('Production Budget and Revenue without wwg or pb outliers')\n",
    "ax.set_xlabel('Production Budget')\n",
    "ax.set_ylabel('Revenue')\n",
    "ax.yaxis.set_major_formatter(ticker.StrMethodFormatter('${x:,.0f}')) #adds commas to the int value\n",
    "ax.xaxis.set_major_formatter(ticker.StrMethodFormatter('${x:,.0f}'))\n",
    "plt.savefig('./Untitled Folder/Production Budget and Worldwide Gross without wwg or pb.png', bbox_inches = 'tight');"
   ]
  },
  {
   "cell_type": "code",
   "execution_count": 119,
   "metadata": {
    "ExecuteTime": {
     "end_time": "2022-03-10T00:50:54.863011Z",
     "start_time": "2022-03-10T00:50:54.860641Z"
    }
   },
   "outputs": [
    {
     "data": {
      "text/plain": [
       "0.5797758751480752"
      ]
     },
     "execution_count": 119,
     "metadata": {},
     "output_type": "execute_result"
    }
   ],
   "source": [
    "#checking the correlation coefficient of movies_without_wwg_or_pb_outliers\n",
    "np.corrcoef(movies_without_wwg_or_pb_outliers['production_budget'] , y = movies_without_wwg_or_pb_outliers['worldwide_gross'])[0][1]\n",
    "#postive correlation but not as strong as the movie_oultierless"
   ]
  },
  {
   "cell_type": "markdown",
   "metadata": {},
   "source": [
    "The correlation for movies_without_wwg_or_pb_outliers is positive and decent but not as strong as movie_oultierless."
   ]
  },
  {
   "cell_type": "markdown",
   "metadata": {},
   "source": [
    "### Movie Genre"
   ]
  },
  {
   "cell_type": "markdown",
   "metadata": {},
   "source": [
    "No clue what how to say what we did in the cell below and why."
   ]
  },
  {
   "cell_type": "code",
   "execution_count": 120,
   "metadata": {
    "ExecuteTime": {
     "end_time": "2022-03-10T00:50:54.876502Z",
     "start_time": "2022-03-10T00:50:54.865907Z"
    }
   },
   "outputs": [
    {
     "data": {
      "text/html": [
       "<div>\n",
       "<style scoped>\n",
       "    .dataframe tbody tr th:only-of-type {\n",
       "        vertical-align: middle;\n",
       "    }\n",
       "\n",
       "    .dataframe tbody tr th {\n",
       "        vertical-align: top;\n",
       "    }\n",
       "\n",
       "    .dataframe thead th {\n",
       "        text-align: right;\n",
       "    }\n",
       "</style>\n",
       "<table border=\"1\" class=\"dataframe\">\n",
       "  <thead>\n",
       "    <tr style=\"text-align: right;\">\n",
       "      <th></th>\n",
       "      <th>averagerating</th>\n",
       "      <th>numvotes</th>\n",
       "      <th>start_year</th>\n",
       "      <th>runtime_minutes</th>\n",
       "    </tr>\n",
       "    <tr>\n",
       "      <th>genres</th>\n",
       "      <th></th>\n",
       "      <th></th>\n",
       "      <th></th>\n",
       "      <th></th>\n",
       "    </tr>\n",
       "  </thead>\n",
       "  <tbody>\n",
       "    <tr>\n",
       "      <th>Action,Romance,War</th>\n",
       "      <td>8.500000</td>\n",
       "      <td>1224.000000</td>\n",
       "      <td>2018.000000</td>\n",
       "      <td>130.000000</td>\n",
       "    </tr>\n",
       "    <tr>\n",
       "      <th>Animation,History</th>\n",
       "      <td>8.300000</td>\n",
       "      <td>7451.000000</td>\n",
       "      <td>2014.000000</td>\n",
       "      <td>135.000000</td>\n",
       "    </tr>\n",
       "    <tr>\n",
       "      <th>Drama,Family,Thriller</th>\n",
       "      <td>8.300000</td>\n",
       "      <td>2996.000000</td>\n",
       "      <td>2014.000000</td>\n",
       "      <td>150.000000</td>\n",
       "    </tr>\n",
       "    <tr>\n",
       "      <th>Animation,Documentary,Mystery</th>\n",
       "      <td>8.200000</td>\n",
       "      <td>1014.000000</td>\n",
       "      <td>2017.000000</td>\n",
       "      <td>93.000000</td>\n",
       "    </tr>\n",
       "    <tr>\n",
       "      <th>War</th>\n",
       "      <td>8.200000</td>\n",
       "      <td>2437.000000</td>\n",
       "      <td>2011.000000</td>\n",
       "      <td>96.000000</td>\n",
       "    </tr>\n",
       "    <tr>\n",
       "      <th>Musical</th>\n",
       "      <td>8.180000</td>\n",
       "      <td>1724.000000</td>\n",
       "      <td>2014.800000</td>\n",
       "      <td>120.800000</td>\n",
       "    </tr>\n",
       "    <tr>\n",
       "      <th>Biography,Documentary,News</th>\n",
       "      <td>8.100000</td>\n",
       "      <td>7848.000000</td>\n",
       "      <td>2015.000000</td>\n",
       "      <td>73.000000</td>\n",
       "    </tr>\n",
       "    <tr>\n",
       "      <th>Documentary,History,Sport</th>\n",
       "      <td>8.033333</td>\n",
       "      <td>1889.333333</td>\n",
       "      <td>2015.333333</td>\n",
       "      <td>103.000000</td>\n",
       "    </tr>\n",
       "    <tr>\n",
       "      <th>Documentary,Family</th>\n",
       "      <td>8.000000</td>\n",
       "      <td>2662.333333</td>\n",
       "      <td>2013.000000</td>\n",
       "      <td>89.333333</td>\n",
       "    </tr>\n",
       "    <tr>\n",
       "      <th>Action,Documentary</th>\n",
       "      <td>8.000000</td>\n",
       "      <td>12704.000000</td>\n",
       "      <td>2014.000000</td>\n",
       "      <td>75.000000</td>\n",
       "    </tr>\n",
       "    <tr>\n",
       "      <th>Animation,Crime,Documentary</th>\n",
       "      <td>8.000000</td>\n",
       "      <td>6552.000000</td>\n",
       "      <td>2016.000000</td>\n",
       "      <td>82.000000</td>\n",
       "    </tr>\n",
       "    <tr>\n",
       "      <th>Comedy,Crime,Documentary</th>\n",
       "      <td>8.000000</td>\n",
       "      <td>58721.000000</td>\n",
       "      <td>2010.000000</td>\n",
       "      <td>87.000000</td>\n",
       "    </tr>\n",
       "    <tr>\n",
       "      <th>Comedy,Sci-Fi,Thriller</th>\n",
       "      <td>8.000000</td>\n",
       "      <td>2999.000000</td>\n",
       "      <td>2015.000000</td>\n",
       "      <td>146.000000</td>\n",
       "    </tr>\n",
       "    <tr>\n",
       "      <th>Animation,Fantasy,Mystery</th>\n",
       "      <td>8.000000</td>\n",
       "      <td>1038.000000</td>\n",
       "      <td>2012.000000</td>\n",
       "      <td>109.000000</td>\n",
       "    </tr>\n",
       "    <tr>\n",
       "      <th>Comedy,Fantasy,Music</th>\n",
       "      <td>7.950000</td>\n",
       "      <td>1949.000000</td>\n",
       "      <td>2016.000000</td>\n",
       "      <td>122.000000</td>\n",
       "    </tr>\n",
       "    <tr>\n",
       "      <th>Documentary,News</th>\n",
       "      <td>7.933333</td>\n",
       "      <td>6626.333333</td>\n",
       "      <td>2014.000000</td>\n",
       "      <td>94.500000</td>\n",
       "    </tr>\n",
       "    <tr>\n",
       "      <th>Adventure,Biography,Documentary</th>\n",
       "      <td>7.933333</td>\n",
       "      <td>3289.500000</td>\n",
       "      <td>2013.666667</td>\n",
       "      <td>94.666667</td>\n",
       "    </tr>\n",
       "    <tr>\n",
       "      <th>Documentary,Sport,Thriller</th>\n",
       "      <td>7.900000</td>\n",
       "      <td>28979.000000</td>\n",
       "      <td>2017.000000</td>\n",
       "      <td>120.000000</td>\n",
       "    </tr>\n",
       "    <tr>\n",
       "      <th>Adventure,Documentary,Sport</th>\n",
       "      <td>7.900000</td>\n",
       "      <td>5177.500000</td>\n",
       "      <td>2013.500000</td>\n",
       "      <td>83.500000</td>\n",
       "    </tr>\n",
       "    <tr>\n",
       "      <th>Drama,Musical,Thriller</th>\n",
       "      <td>7.900000</td>\n",
       "      <td>5279.000000</td>\n",
       "      <td>2015.000000</td>\n",
       "      <td>130.000000</td>\n",
       "    </tr>\n",
       "  </tbody>\n",
       "</table>\n",
       "</div>"
      ],
      "text/plain": [
       "                                 averagerating      numvotes   start_year  \\\n",
       "genres                                                                      \n",
       "Action,Romance,War                    8.500000   1224.000000  2018.000000   \n",
       "Animation,History                     8.300000   7451.000000  2014.000000   \n",
       "Drama,Family,Thriller                 8.300000   2996.000000  2014.000000   \n",
       "Animation,Documentary,Mystery         8.200000   1014.000000  2017.000000   \n",
       "War                                   8.200000   2437.000000  2011.000000   \n",
       "Musical                               8.180000   1724.000000  2014.800000   \n",
       "Biography,Documentary,News            8.100000   7848.000000  2015.000000   \n",
       "Documentary,History,Sport             8.033333   1889.333333  2015.333333   \n",
       "Documentary,Family                    8.000000   2662.333333  2013.000000   \n",
       "Action,Documentary                    8.000000  12704.000000  2014.000000   \n",
       "Animation,Crime,Documentary           8.000000   6552.000000  2016.000000   \n",
       "Comedy,Crime,Documentary              8.000000  58721.000000  2010.000000   \n",
       "Comedy,Sci-Fi,Thriller                8.000000   2999.000000  2015.000000   \n",
       "Animation,Fantasy,Mystery             8.000000   1038.000000  2012.000000   \n",
       "Comedy,Fantasy,Music                  7.950000   1949.000000  2016.000000   \n",
       "Documentary,News                      7.933333   6626.333333  2014.000000   \n",
       "Adventure,Biography,Documentary       7.933333   3289.500000  2013.666667   \n",
       "Documentary,Sport,Thriller            7.900000  28979.000000  2017.000000   \n",
       "Adventure,Documentary,Sport           7.900000   5177.500000  2013.500000   \n",
       "Drama,Musical,Thriller                7.900000   5279.000000  2015.000000   \n",
       "\n",
       "                                 runtime_minutes  \n",
       "genres                                            \n",
       "Action,Romance,War                    130.000000  \n",
       "Animation,History                     135.000000  \n",
       "Drama,Family,Thriller                 150.000000  \n",
       "Animation,Documentary,Mystery          93.000000  \n",
       "War                                    96.000000  \n",
       "Musical                               120.800000  \n",
       "Biography,Documentary,News             73.000000  \n",
       "Documentary,History,Sport             103.000000  \n",
       "Documentary,Family                     89.333333  \n",
       "Action,Documentary                     75.000000  \n",
       "Animation,Crime,Documentary            82.000000  \n",
       "Comedy,Crime,Documentary               87.000000  \n",
       "Comedy,Sci-Fi,Thriller                146.000000  \n",
       "Animation,Fantasy,Mystery             109.000000  \n",
       "Comedy,Fantasy,Music                  122.000000  \n",
       "Documentary,News                       94.500000  \n",
       "Adventure,Biography,Documentary        94.666667  \n",
       "Documentary,Sport,Thriller            120.000000  \n",
       "Adventure,Documentary,Sport            83.500000  \n",
       "Drama,Musical,Thriller                130.000000  "
      ]
     },
     "execution_count": 120,
     "metadata": {},
     "output_type": "execute_result"
    }
   ],
   "source": [
    "#genres vs averagerating\n",
    "genres_average_rating = sql_df.groupby(['genres']).mean(['averagerating']).sort_values(['averagerating'], ascending=False).head(20)\n",
    "genres_average_rating\n",
    "#Low vote counts can skew the rating much more"
   ]
  },
  {
   "cell_type": "code",
   "execution_count": 121,
   "metadata": {
    "ExecuteTime": {
     "end_time": "2022-03-10T00:50:54.976244Z",
     "start_time": "2022-03-10T00:50:54.877809Z"
    }
   },
   "outputs": [
    {
     "data": {
      "image/png": "[encoded data removed]",
      "text/plain": [
       "<Figure size 720x432 with 1 Axes>"
      ]
     },
     "metadata": {
      "needs_background": "light"
     },
     "output_type": "display_data"
    }
   ],
   "source": [
    "#graph of genre v average worldwide_gross\n",
    "\n",
    "genres_list = pd.get_dummies(movies_sql.genres, prefix=None).sum().sort_values(ascending=False).head(20)\n",
    "genres_list2 = list(genres_list.index)\n",
    "movies_sql2 = movies_sql[movies_sql['genres'].isin(genres_list2)]\n",
    "#movies_sql2['worldwide_gross_mil'] = movies_sql2['worldwide_gross']/1000000 might not need this\n",
    "genres_vs_wwg = movies_sql2.groupby(['genres']).mean().sort_values(['worldwide_gross'], ascending=False).head(10)\n",
    "\n",
    "fig, ax = plt.subplots(figsize=(10,6))\n",
    "\n",
    "ax.barh(y=genres_vs_wwg.index, width=genres_vs_wwg['worldwide_gross'], color=\"navy\", edgecolor=\"lightgrey\")\n",
    "ax.set_title('Top Grossing Genres')\n",
    "ax.set_ylabel('Genres')\n",
    "ax.set_xlabel('Average Revenue')\n",
    "ax.xaxis.set_major_formatter(ticker.StrMethodFormatter('${x:,.0f}'))\n",
    "plt.savefig('./Untitled Folder/Top Grossing Genres.png', bbox_inches = 'tight');"
   ]
  },
  {
   "cell_type": "markdown",
   "metadata": {},
   "source": [
    "We see that the 6 of the top 10 genre combination have action in it. Also, we notice how movies that are just list as action without any other genres includes do no make anywhere as much as some of these other combination."
   ]
  },
  {
   "cell_type": "markdown",
   "metadata": {},
   "source": [
    "### Runtime"
   ]
  },
  {
   "cell_type": "markdown",
   "metadata": {},
   "source": [
    "We wanted to see if there's any trend in terms of movie lengths over the year, and any correlation between how much money is made with the length of the movie."
   ]
  },
  {
   "cell_type": "code",
   "execution_count": 122,
   "metadata": {
    "ExecuteTime": {
     "end_time": "2022-03-10T00:50:55.063348Z",
     "start_time": "2022-03-10T00:50:54.977183Z"
    },
    "scrolled": false
   },
   "outputs": [
    {
     "data": {
      "image/png": "[encoded data removed]",
      "text/plain": [
       "<Figure size 720x432 with 1 Axes>"
      ]
     },
     "metadata": {
      "needs_background": "light"
     },
     "output_type": "display_data"
    }
   ],
   "source": [
    "#runtime_minutes vs start_year\n",
    "runtime_year = sql_df.groupby(['start_year']).mean(['runtime_minutes']).sort_values(['start_year'])\n",
    "runtime_year\n",
    "\n",
    "fig, ax = plt.subplots(figsize=(10,6))\n",
    "\n",
    "ax.bar(x=runtime_year.index.astype(str), height=(runtime_year['runtime_minutes']), color=\"peru\");\n",
    "ax.set_ylim([100, 120])\n",
    "#Started our chart with the y axis starting at 100 for visual purposes.\n",
    "\n",
    "ax.set_title('Movie Length over the Years')\n",
    "ax.set_xlabel('Year')\n",
    "ax.set_ylabel('Movie Length (min)')\n",
    "plt.savefig('./Untitled Folder/Movie Length over the Years.png', bbox_inches = 'tight');"
   ]
  },
  {
   "cell_type": "code",
   "execution_count": 123,
   "metadata": {
    "ExecuteTime": {
     "end_time": "2022-03-10T00:50:55.067206Z",
     "start_time": "2022-03-10T00:50:55.064275Z"
    }
   },
   "outputs": [
    {
     "data": {
      "text/plain": [
       "0.810556758544068"
      ]
     },
     "execution_count": 123,
     "metadata": {},
     "output_type": "execute_result"
    }
   ],
   "source": [
    "#testing correlation between year and movie length\n",
    "np.corrcoef(runtime_year.index , y = runtime_year['runtime_minutes'])[0][1]"
   ]
  },
  {
   "cell_type": "markdown",
   "metadata": {},
   "source": [
    "Movies are getting longer throughout the years."
   ]
  },
  {
   "cell_type": "code",
   "execution_count": 124,
   "metadata": {
    "ExecuteTime": {
     "end_time": "2022-03-10T00:50:55.207448Z",
     "start_time": "2022-03-10T00:50:55.068247Z"
    }
   },
   "outputs": [
    {
     "data": {
      "image/png": "[encoded data removed]",
      "text/plain": [
       "<Figure size 1080x576 with 2 Axes>"
      ]
     },
     "metadata": {
      "needs_background": "light"
     },
     "output_type": "display_data"
    }
   ],
   "source": [
    "#graphing the averagerating to movie length and movie length with the wwg\n",
    "fig, (ax1, ax2) = plt.subplots(figsize=(15,8), ncols=2)\n",
    "\n",
    "ax1.ticklabel_format(style='plain')\n",
    "ax1.scatter(movies_sql2['averagerating'] , y = movies_sql2['runtime_minutes'], color=\"peru\");\n",
    "\n",
    "ax2.ticklabel_format(style='plain')\n",
    "ax2.scatter(movies_sql2['worldwide_gross'] , y = movies_sql2['runtime_minutes'], color=\"peru\");\n",
    "\n",
    "ax1.set_title('Movie Length and Average Rating')\n",
    "ax2.set_title('Movie Length and Revenue')\n",
    "ax1.set_ylabel('Runtime (min)')\n",
    "ax2.set_ylabel('Runtime (min)')\n",
    "ax1.set_xlabel('Average Rating')\n",
    "ax2.set_xlabel('Revenue')\n",
    "ax2.xaxis.set_major_formatter(ticker.StrMethodFormatter('${x:,.0f}'))\n",
    "plt.savefig('./Untitled Folder/Movie Length Average Rating and Worldwide Gross.png', bbox_inches = 'tight');"
   ]
  },
  {
   "cell_type": "code",
   "execution_count": 125,
   "metadata": {
    "ExecuteTime": {
     "end_time": "2022-03-10T00:50:55.211251Z",
     "start_time": "2022-03-10T00:50:55.208387Z"
    }
   },
   "outputs": [
    {
     "data": {
      "text/plain": [
       "(0.34872802124086016, 0.4302111428774886)"
      ]
     },
     "execution_count": 125,
     "metadata": {},
     "output_type": "execute_result"
    }
   ],
   "source": [
    "Worldwide_Gross_Run_Time_Correlation = np.corrcoef(movies_sql2['worldwide_gross'] , y = movies_sql2['runtime_minutes'])\n",
    "Average_Rating_Run_Time_Correlation = np.corrcoef(movies_sql2['averagerating'] , y = movies_sql2['runtime_minutes'])\n",
    "\n",
    "Worldwide_Gross_Run_Time_Correlation[0][1], Average_Rating_Run_Time_Correlation[0][1]\n"
   ]
  },
  {
   "cell_type": "markdown",
   "metadata": {},
   "source": [
    "The correlation is pretty weak that we can safely say that movie length won't affect the amount of revenue made."
   ]
  },
  {
   "cell_type": "code",
   "execution_count": 126,
   "metadata": {},
   "outputs": [],
   "source": [
    "con.close() #have this in the extracted file refuses to close"
   ]
  },
  {
   "cell_type": "code",
   "execution_count": 127,
   "metadata": {},
   "outputs": [],
   "source": [
    "os.remove('im.db') #This line deletes the im.db file created earlier."
   ]
  },
  {
   "cell_type": "markdown",
   "metadata": {},
   "source": [
    "## Evaluation"
   ]
  },
  {
   "cell_type": "markdown",
   "metadata": {},
   "source": [
    "The median production budget is about $37 million with about a ROI of 1.77x. When we factor in outliers that exist in the data in the worldwide_gross and production budget, we find that the cost is $20 million with ROI of 1.4x.The runtime is not strongly correlated with worldwide_gross but since the films are trending towards about 2 hours, we reccommend films be around two hours.\n",
    "The top 4 genres combination are:\n",
    "- Action, Adventure, Sci-Fi\n",
    "- Action, Adventure, Comedy\n",
    "- Adventure, Animation, Comedy\n",
    "- Action, Adventure, Fantasy"
   ]
  },
  {
   "cell_type": "markdown",
   "metadata": {},
   "source": [
    "## Next Steps"
   ]
  },
  {
   "cell_type": "markdown",
   "metadata": {},
   "source": [
    "After these findings, it would be in the interest of Microsoft to find how much money is being invested into advertising the movie and where they are being advertised (online versus cable). Not only that but look at how hiring known actors and directors impact the ROI compared to the price to hire them."
   ]
  }
 ],
 "metadata": {
  "kernelspec": {
   "display_name": "Python (learn-env)",
   "language": "python",
   "name": "learn-env"
  },
  "language_info": {
   "codemirror_mode": {
    "name": "ipython",
    "version": 3
   },
   "file_extension": ".py",
   "mimetype": "text/x-python",
   "name": "python",
   "nbconvert_exporter": "python",
   "pygments_lexer": "ipython3",
   "version": "3.8.5"
  }
 },
 "nbformat": 4,
 "nbformat_minor": 4
}
