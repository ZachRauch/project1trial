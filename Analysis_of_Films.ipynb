{
 "cells": [
  {
   "cell_type": "code",
   "execution_count": null,
   "metadata": {},
   "outputs": [],
   "source": [
    "import pandas as pd\n",
    "import sqlite3"
   ]
  },
  {
   "cell_type": "code",
   "execution_count": null,
   "metadata": {},
   "outputs": [],
   "source": [
    "bom = pd.read_csv('./data/bom.movie_gross.csv.gz')\n",
    "tmdb = pd.read_csv('./data/tmdb.movies.csv.gz')\n",
    "tn = pd.read_csv('./data/tn.movie_budgets.csv.gz')"
   ]
  },
  {
   "cell_type": "code",
   "execution_count": null,
   "metadata": {},
   "outputs": [],
   "source": [
    "rating_and_gross = bom.merge(tmdb, how='inner', left_on='title', right_on='title').sort_values('domestic_gross', ascending=False).head(20)\n",
    "\n",
    "#The table seems to be sorting weird, we are going to have to figure out what is going on\n",
    "#Anything over 1 billion with show up as 1,131.6 which is 1,131,600,000\n",
    "#We need to look carefully at duplicates, for example index 2488 is the wrong black panther based on the number of reviews. \n",
    "#The correct one is 2489."
   ]
  },
  {
   "cell_type": "code",
   "execution_count": null,
   "metadata": {},
   "outputs": [],
   "source": [
    "budget_rating_gross =   rating_and_gross.merge(tn, how='inner', left_on='title', right_on='movie')\n",
    "#for this new df we want to add 2 columns, the first will be worldwide_gross - production_budget, the second is the ratio of worldwide_gross/production budget\n",
    "#After we delete duplicates, we want to do a .value_counts() on name so that if there is a duplicate similar to Black Panter\n",
    "#Where there is an obvious error we can make decisions on a case by case basis."
   ]
  },
  {
   "cell_type": "code",
   "execution_count": null,
   "metadata": {},
   "outputs": [],
   "source": [
    "import zipfile as zf\n",
    "import os"
   ]
  },
  {
   "cell_type": "code",
   "execution_count": null,
   "metadata": {},
   "outputs": [],
   "source": [
    "files = zf.ZipFile('./data/im.db.zip', 'r') #these lines create a im.db file which is too big to push\n",
    "files.extractall() #these lines create a im.db file which is too big to push"
   ]
  },
  {
   "cell_type": "code",
   "execution_count": null,
   "metadata": {},
   "outputs": [],
   "source": [
    "con = sqlite3.connect(\"./im.db\")"
   ]
  },
  {
   "cell_type": "code",
   "execution_count": null,
   "metadata": {},
   "outputs": [],
   "source": [
    "titles = pd.read_sql(\"\"\"\n",
    "Select * \n",
    "\n",
    "From movie_basics\n",
    "            \n",
    "\"\"\", con)\n",
    "titles"
   ]
  },
  {
   "cell_type": "code",
   "execution_count": null,
   "metadata": {},
   "outputs": [],
   "source": [
    "pd.read_sql('''\n",
    "    SELECT *\n",
    "    \n",
    "    FROM\n",
    "    movie_ratings\n",
    "    \n",
    "    INNER JOIN movie_basics\n",
    "        USING(movie_id) \n",
    "     \n",
    "     WHERE numvotes >= 1000\n",
    "     \n",
    "     ORDER BY \n",
    "         averagerating DESC\n",
    "    \n",
    "    LIMIT 20\n",
    "''', con)\n",
    "\n",
    "#We need to choose and averagerating number for a WHERE clause\n",
    "#If we feel like we need more ratings data we can combine this with budget_rating_gross"
   ]
  },
  {
   "cell_type": "code",
   "execution_count": null,
   "metadata": {},
   "outputs": [],
   "source": [
    "con.close() #have this in case file refuses to close"
   ]
  },
  {
   "cell_type": "code",
   "execution_count": null,
   "metadata": {},
   "outputs": [],
   "source": [
    "os.remove('im.db') #This line deletes the im.db file created earlier."
   ]
  }
 ],
 "metadata": {
  "kernelspec": {
   "display_name": "Python (learn-env)",
   "language": "python",
   "name": "learn-env"
  },
  "language_info": {
   "codemirror_mode": {
    "name": "ipython",
    "version": 3
   },
   "file_extension": ".py",
   "mimetype": "text/x-python",
   "name": "python",
   "nbconvert_exporter": "python",
   "pygments_lexer": "ipython3",
   "version": "3.8.5"
  }
 },
 "nbformat": 4,
 "nbformat_minor": 4
}
