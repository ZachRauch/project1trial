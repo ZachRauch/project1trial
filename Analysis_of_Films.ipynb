{
 "cells": [
  {
   "cell_type": "code",
   "execution_count": 2,
   "metadata": {},
   "outputs": [],
   "source": [
    "import pandas as pd\n",
    "import sqlite3\n",
    "import matplotlib.pyplot as plt"
   ]
  },
  {
   "cell_type": "code",
   "execution_count": 3,
   "metadata": {},
   "outputs": [],
   "source": [
    "bom = pd.read_csv('./data/bom.movie_gross.csv.gz')\n",
    "tmdb = pd.read_csv('./data/tmdb.movies.csv.gz')\n",
    "tn = pd.read_csv('./data/tn.movie_budgets.csv.gz')"
   ]
  },
  {
   "cell_type": "code",
   "execution_count": 4,
   "metadata": {},
   "outputs": [
    {
     "data": {
      "text/html": [
       "<div>\n",
       "<style scoped>\n",
       "    .dataframe tbody tr th:only-of-type {\n",
       "        vertical-align: middle;\n",
       "    }\n",
       "\n",
       "    .dataframe tbody tr th {\n",
       "        vertical-align: top;\n",
       "    }\n",
       "\n",
       "    .dataframe thead th {\n",
       "        text-align: right;\n",
       "    }\n",
       "</style>\n",
       "<table border=\"1\" class=\"dataframe\">\n",
       "  <thead>\n",
       "    <tr style=\"text-align: right;\">\n",
       "      <th></th>\n",
       "      <th>Unnamed: 0</th>\n",
       "      <th>genre_ids</th>\n",
       "      <th>id</th>\n",
       "      <th>original_language</th>\n",
       "      <th>original_title</th>\n",
       "      <th>popularity</th>\n",
       "      <th>release_date</th>\n",
       "      <th>title</th>\n",
       "      <th>vote_average</th>\n",
       "      <th>vote_count</th>\n",
       "    </tr>\n",
       "  </thead>\n",
       "  <tbody>\n",
       "    <tr>\n",
       "      <th>0</th>\n",
       "      <td>0</td>\n",
       "      <td>[12, 14, 10751]</td>\n",
       "      <td>12444</td>\n",
       "      <td>en</td>\n",
       "      <td>Harry Potter and the Deathly Hallows: Part 1</td>\n",
       "      <td>33.533</td>\n",
       "      <td>2010-11-19</td>\n",
       "      <td>Harry Potter and the Deathly Hallows: Part 1</td>\n",
       "      <td>7.7</td>\n",
       "      <td>10788</td>\n",
       "    </tr>\n",
       "  </tbody>\n",
       "</table>\n",
       "</div>"
      ],
      "text/plain": [
       "   Unnamed: 0        genre_ids     id original_language  \\\n",
       "0           0  [12, 14, 10751]  12444                en   \n",
       "\n",
       "                                 original_title  popularity release_date  \\\n",
       "0  Harry Potter and the Deathly Hallows: Part 1      33.533   2010-11-19   \n",
       "\n",
       "                                          title  vote_average  vote_count  \n",
       "0  Harry Potter and the Deathly Hallows: Part 1           7.7       10788  "
      ]
     },
     "execution_count": 4,
     "metadata": {},
     "output_type": "execute_result"
    }
   ],
   "source": [
    "#looking at the head of each to see where they can be merge\n",
    "#Also, looking for any columns of interest from each and deciding what to do\n",
    "bom.head(1)"
   ]
  },
  {
   "cell_type": "code",
   "execution_count": null,
   "metadata": {},
   "outputs": [],
   "source": [
    "tmdb.head(1)"
   ]
  },
  {
   "cell_type": "code",
   "execution_count": null,
   "metadata": {},
   "outputs": [],
   "source": [
    "tn.head(1)"
   ]
  },
  {
   "cell_type": "code",
   "execution_count": null,
   "metadata": {},
   "outputs": [],
   "source": [
    "#creation of the merged table betweeen bom and tmdb\n",
    "rating_and_gross = bom.merge(tmdb, how='inner', left_on='title', right_on='title').sort_values('domestic_gross', ascending=False).head(20)"
   ]
  },
  {
   "cell_type": "code",
   "execution_count": null,
   "metadata": {},
   "outputs": [],
   "source": [
    "#creation of merge table of the rating_and_gross with the tn table\n",
    "budget_rating_gross =   rating_and_gross.merge(tn, how='inner', left_on='title', right_on='movie')"
   ]
  },
  {
   "cell_type": "code",
   "execution_count": null,
   "metadata": {},
   "outputs": [],
   "source": [
    "budget_rating_gross.shape\n"
   ]
  },
  {
   "cell_type": "code",
   "execution_count": null,
   "metadata": {},
   "outputs": [],
   "source": [
    "#dropping unnecessary columns\n",
    "clean_columns = budget_rating_gross.drop(['Unnamed: 0', 'genre_ids', 'original_title', 'domestic_gross_x', 'foreign_gross', 'movie', 'id_x', 'id_y'], axis=1)\n",
    "clean_columns"
   ]
  },
  {
   "cell_type": "code",
   "execution_count": null,
   "metadata": {},
   "outputs": [],
   "source": [
    "#check type of each column\n",
    "clean_columns.info()"
   ]
  },
  {
   "cell_type": "code",
   "execution_count": null,
   "metadata": {},
   "outputs": [],
   "source": [
    "#cleaning and converting worldwide_gross into int\n",
    "clean_columns['worldwide_gross'] = clean_columns['worldwide_gross'].str.replace('$', '')\n",
    "clean_columns['worldwide_gross'] = clean_columns['worldwide_gross'].str.replace(',', '')\n",
    "clean_columns['worldwide_gross'] = clean_columns['worldwide_gross'].astype(int)"
   ]
  },
  {
   "cell_type": "code",
   "execution_count": null,
   "metadata": {},
   "outputs": [],
   "source": [
    "clean_columns['domestic_gross_y'] = clean_columns['domestic_gross_y'].str.replace('$', '')\n",
    "clean_columns['domestic_gross_y'] = clean_columns['domestic_gross_y'].str.replace(',', '')\n",
    "clean_columns['domestic_gross_y'] = clean_columns['domestic_gross_y'].astype(int)"
   ]
  },
  {
   "cell_type": "code",
   "execution_count": null,
   "metadata": {},
   "outputs": [],
   "source": [
    "clean_columns['production_budget'] = clean_columns['production_budget'].str.replace('$', '')\n",
    "clean_columns['production_budget'] = clean_columns['production_budget'].str.replace(',', '')"
   ]
  },
  {
   "cell_type": "code",
   "execution_count": null,
   "metadata": {},
   "outputs": [],
   "source": [
    "#verify that worldwide_gross, domestic_gross_y, and production_budget are int\n",
    "clean_columns.info()"
   ]
  },
  {
   "cell_type": "code",
   "execution_count": null,
   "metadata": {},
   "outputs": [],
   "source": [
    "#addition of foreign_gross to dataframe\n",
    "clean_columns['foreign_gross'] = clean_columns['worldwide_gross'] - clean_columns['domestic_gross_y']"
   ]
  },
  {
   "cell_type": "code",
   "execution_count": null,
   "metadata": {},
   "outputs": [],
   "source": [
    "#addition of gross to production budget ratio\n",
    "clean_columns['gross_to_budget_ratio'] = clean_columns['worldwide_gross'] / clean_columns['production_budget']"
   ]
  },
  {
   "cell_type": "code",
   "execution_count": null,
   "metadata": {},
   "outputs": [],
   "source": [
    "#sorting values by gross_to_budget \n",
    "clean_columns.sort_values(by='gross_to_budget_ratio', ascending=False)"
   ]
  },
  {
   "cell_type": "code",
   "execution_count": null,
   "metadata": {},
   "outputs": [],
   "source": [
    "#dropping exact row duplicates\n",
    "test_clean_columns = clean_columns.drop_duplicates()"
   ]
  },
  {
   "cell_type": "code",
   "execution_count": null,
   "metadata": {},
   "outputs": [],
   "source": [
    "#dropping duplicates where the title name is the same but other values are wrong\n",
    "vote_count_max = test_clean_columns.groupby(['title','studio']).vote_count.transform(max)\n",
    "movies_clean = test_clean_columns.loc[test_clean_columns.vote_count == vote_count_max]"
   ]
  },
  {
   "cell_type": "code",
   "execution_count": null,
   "metadata": {},
   "outputs": [],
   "source": [
    "#verifying the shape of movies_clean\n",
    "movies_clean.shape"
   ]
  },
  {
   "cell_type": "code",
   "execution_count": null,
   "metadata": {},
   "outputs": [],
   "source": [
    "#sorting dataframe by gross_to_budget_ratio\n",
    "movies_clean.sort_values(['gross_to_budget_ratio'], ascending=False)"
   ]
  },
  {
   "cell_type": "code",
   "execution_count": null,
   "metadata": {},
   "outputs": [],
   "source": [
    "#verifying that there's no null values\n",
    "movies_clean.info()"
   ]
  },
  {
   "cell_type": "code",
   "execution_count": null,
   "metadata": {},
   "outputs": [],
   "source": [
    "#Quick glance at the information of the dataset\n",
    "movies_clean.describe()"
   ]
  },
  {
   "cell_type": "code",
   "execution_count": null,
   "metadata": {},
   "outputs": [],
   "source": [
    "#Preping for graphing\n",
    "\n",
    "import numpy as np\n"
   ]
  },
  {
   "cell_type": "code",
   "execution_count": null,
   "metadata": {},
   "outputs": [],
   "source": [
    "#MAke to help determining bounds of the graph\n",
    "q3, q1 = np.percentile(movies_clean['gross_to_budget_ratio'], [75, 25])\n",
    "q3, q1\n",
    "iqr = q3-q1\n",
    "\n",
    "lower_limit = movies_clean['gross_to_budget_ratio'].mean()-(iqr*1.5)\n",
    "\n",
    "upper_limit = movies_clean['gross_to_budget_ratio'].mean()+(iqr*1.5)\n",
    "\n",
    "lower_limit, upper_limit"
   ]
  },
  {
   "cell_type": "code",
   "execution_count": null,
   "metadata": {},
   "outputs": [],
   "source": [
    "#limiting data to the upper limit of the iqr\n",
    "movies_oultierless = movies_clean[movies_clean['gross_to_budget_ratio']<upper_limit]\n",
    "movies_oultierless"
   ]
  },
  {
   "cell_type": "code",
   "execution_count": null,
   "metadata": {},
   "outputs": [],
   "source": [
    "#graph of movies_oultierless\n",
    "fig, ax = plt.subplots(figsize=(10,10),)\n",
    "ax.ticklabel_format(style='plain')\n",
    "ax.scatter(movies_oultierless['production_budget'] , y = movies_oultierless['worldwide_gross'], alpha = .4);\n"
   ]
  },
  {
   "cell_type": "code",
   "execution_count": null,
   "metadata": {},
   "outputs": [],
   "source": [
    "#graph for movies_oultierless\n",
    "np.corrcoef(movies_oultierless['production_budget'] , y = movies_oultierless['worldwide_gross'])\n",
    "#almost a 1:1 correlation"
   ]
  },
  {
   "cell_type": "code",
   "execution_count": null,
   "metadata": {},
   "outputs": [],
   "source": [
    "#Finding the iqr from movies_without_wwg_outliers\n",
    "q3, q1 = np.percentile(movies_clean['worldwide_gross'], [75, 25])\n",
    "q3, q1\n",
    "iqr = q3-q1\n",
    "\n",
    "lower_limit_wwg = movies_clean['worldwide_gross'].mean()-(iqr*1.5)\n",
    "\n",
    "upper_limit_wwg = movies_clean['worldwide_gross'].mean()+(iqr*1.5)\n",
    "\n",
    "lower_limit_wwg, upper_limit_wwg"
   ]
  },
  {
   "cell_type": "code",
   "execution_count": null,
   "metadata": {},
   "outputs": [],
   "source": [
    "#limiting data to upper limit\n",
    "movies_without_wwg_outliers = movies_clean[movies_clean['worldwide_gross']<upper_limit_wwg]"
   ]
  },
  {
   "cell_type": "code",
   "execution_count": null,
   "metadata": {},
   "outputs": [],
   "source": [
    "#finding the iqr of the movies_without_wwg_or_pb_outliers\n",
    "q3, q1 = np.percentile(movies_without_wwg_outliers['production_budget'], [75, 25])\n",
    "q3, q1\n",
    "iqr = q3-q1\n",
    "\n",
    "lower_limit_pb = movies_without_wwg_outliers['production_budget'].mean()-(iqr*1.5)\n",
    "\n",
    "upper_limit_pb = movies_without_wwg_outliers['production_budget'].mean()+(iqr*1.5)\n",
    "\n",
    "lower_limit_pb, upper_limit_pb"
   ]
  },
  {
   "cell_type": "code",
   "execution_count": null,
   "metadata": {},
   "outputs": [],
   "source": [
    "#setting the upper limit \n",
    "movies_without_wwg_or_pb_outliers = movies_without_wwg_outliers[movies_without_wwg_outliers['production_budget']<upper_limit_pb]"
   ]
  },
  {
   "cell_type": "code",
   "execution_count": null,
   "metadata": {},
   "outputs": [],
   "source": [
    "#graph for movies_without_wwg_or_pb_outliers\n",
    "fig, ax = plt.subplots(figsize=(10,10),)\n",
    "ax.ticklabel_format(style='plain')\n",
    "ax.scatter(movies_without_wwg_or_pb_outliers['production_budget'] , y = movies_without_wwg_or_pb_outliers['worldwide_gross'], alpha = .4);"
   ]
  },
  {
   "cell_type": "code",
   "execution_count": null,
   "metadata": {},
   "outputs": [],
   "source": [
    "#checking the correlation coefficient of movies_without_wwg_or_pb_outliers\n",
    "np.corrcoef(movies_without_wwg_or_pb_outliers['production_budget'] , y = movies_without_wwg_or_pb_outliers['worldwide_gross'])\n",
    "#postive correlation but not as strong as the movie_oultierless"
   ]
  },
  {
   "cell_type": "code",
   "execution_count": null,
   "metadata": {},
   "outputs": [],
   "source": [
    "#looking at who the potential competitors are\n",
    "movies_clean['studio'].value_counts()"
   ]
  },
  {
   "cell_type": "code",
   "execution_count": null,
   "metadata": {},
   "outputs": [],
   "source": [
    "top_ten_most_common_studios = movies_clean['studio'].value_counts().head(20)\n",
    "top_ten_most_common_studios.index #verifying that there's 20 names"
   ]
  },
  {
   "cell_type": "code",
   "execution_count": null,
   "metadata": {},
   "outputs": [],
   "source": [
    "#visualizing the top_ten_most_common_studios\n",
    "#tells us how many movies they've made between 2010-2018\n",
    "fig, ax = plt.subplots(figsize=(10,10))\n",
    "\n",
    "ax.bar(x=top_ten_most_common_studios.index.astype(str), height=top_ten_most_common_studios);\n",
    "#most common competitors\n",
    "#Where is Disney? BV = Disney. Did they buy one of these companies, Who owns who?\n",
    "#We have a WB and WB (NL), we have Fox and FoxS"
   ]
  },
  {
   "cell_type": "code",
   "execution_count": null,
   "metadata": {},
   "outputs": [],
   "source": [
    "#other EDAs"
   ]
  },
  {
   "cell_type": "code",
   "execution_count": null,
   "metadata": {},
   "outputs": [],
   "source": [
    "#vote_average vs worldwide_gross\n",
    "fig, ax = plt.subplots(figsize=(10,10),)\n",
    "ax.ticklabel_format(style='plain')\n",
    "ax.scatter(movies_clean['vote_average'] , y = movies_clean['worldwide_gross'])"
   ]
  },
  {
   "cell_type": "code",
   "execution_count": null,
   "metadata": {},
   "outputs": [],
   "source": [
    "#looking at correlation\n",
    "#not that strong, slight positive but overall no reccommend to talk about?\n",
    "np.corrcoef(movies_clean['vote_average'] , y = movies_clean['worldwide_gross'])"
   ]
  },
  {
   "cell_type": "code",
   "execution_count": null,
   "metadata": {},
   "outputs": [],
   "source": [
    "#popularity vs worldwide_gross\n",
    "fig, ax = plt.subplots(figsize=(10,10),)\n",
    "ax.ticklabel_format(style='plain')\n",
    "ax.scatter(movies_clean['popularity'] , y = movies_clean['worldwide_gross']);"
   ]
  },
  {
   "cell_type": "code",
   "execution_count": null,
   "metadata": {},
   "outputs": [],
   "source": [
    "#decent positive relationship\n",
    "np.corrcoef(movies_clean['popularity'] , y = movies_clean['worldwide_gross'])"
   ]
  },
  {
   "cell_type": "code",
   "execution_count": null,
   "metadata": {},
   "outputs": [],
   "source": [
    "#vote_count vs vote_average\n",
    "fig, ax = plt.subplots(figsize=(10,10),)\n",
    "ax.ticklabel_format(style='plain')\n",
    "ax.scatter(movies_clean['vote_count'] , y = movies_clean['vote_average']);"
   ]
  },
  {
   "cell_type": "code",
   "execution_count": null,
   "metadata": {},
   "outputs": [],
   "source": [
    "#positve correlation, don't know where .4 stands\n",
    "np.corrcoef(movies_clean['vote_count'] , y = movies_clean['vote_average'])"
   ]
  },
  {
   "cell_type": "code",
   "execution_count": null,
   "metadata": {},
   "outputs": [],
   "source": [
    "#vote_count vs worldwide_gross\n",
    "fig, ax = plt.subplots(figsize=(10,10),)\n",
    "ax.ticklabel_format(style='plain')\n",
    "ax.scatter(movies_clean['vote_count'] , y = movies_clean['worldwide_gross']);"
   ]
  },
  {
   "cell_type": "code",
   "execution_count": null,
   "metadata": {},
   "outputs": [],
   "source": [
    "#strong positive correlation \n",
    "np.corrcoef(movies_clean['vote_count'] , y = movies_clean['worldwide_gross'])"
   ]
  },
  {
   "cell_type": "code",
   "execution_count": null,
   "metadata": {},
   "outputs": [],
   "source": [
    "#looking at how much each studio makes per movie\n",
    "#some of these studios didn't show up in the most common studios\n",
    "#meaning they produce less films but make more per\n",
    "studio_average_wwg = movies_clean.groupby(['studio']).mean(['worldwide_gross']).sort_values(['worldwide_gross'], ascending=False).head(20)\n",
    "studio_average_wwg"
   ]
  },
  {
   "cell_type": "code",
   "execution_count": null,
   "metadata": {},
   "outputs": [],
   "source": [
    "#studio vs average worldwide_gross per movie\n",
    "fig, ax = plt.subplots(figsize=(10,10))\n",
    "\n",
    "ax.bar(x=studio_average_wwg.index.astype(str), height=studio_average_wwg['worldwide_gross']);\n"
   ]
  },
  {
   "cell_type": "code",
   "execution_count": null,
   "metadata": {},
   "outputs": [],
   "source": [
    "#studio v popularity\n",
    "studio_popularity = movies_clean.groupby(['studio']).mean(['popularity']).sort_values(['popularity'], ascending=False).head(20)\n",
    "studio_popularity"
   ]
  },
  {
   "cell_type": "code",
   "execution_count": null,
   "metadata": {},
   "outputs": [],
   "source": [
    "#graph of studio vs popularity\n",
    "fig, ax = plt.subplots(figsize=(10,10))\n",
    "\n",
    "ax.bar(x=studio_popularity.index.astype(str), height=studio_popularity['popularity']);"
   ]
  },
  {
   "cell_type": "code",
   "execution_count": null,
   "metadata": {},
   "outputs": [],
   "source": [
    "#studio v vote_average\n",
    "studio_vote_average = movies_clean.groupby(['studio']).mean(['vote_average']).sort_values(['vote_average'], ascending=False).head(20)\n",
    "studio_vote_average"
   ]
  },
  {
   "cell_type": "code",
   "execution_count": null,
   "metadata": {},
   "outputs": [],
   "source": [
    "#studio vs vote_average\n",
    "fig, ax = plt.subplots(figsize=(10,10))\n",
    "\n",
    "ax.bar(x=studio_vote_average.index.astype(str), height=studio_vote_average['vote_average']);"
   ]
  },
  {
   "cell_type": "code",
   "execution_count": null,
   "metadata": {},
   "outputs": [],
   "source": [
    "#no clue what this is about\n",
    "studio_vote_count = movies_clean.groupby(['studio']).mean(['vote_count']).sort_values(['vote_count'], ascending=False).head(20)\n",
    "studio_vote_count"
   ]
  },
  {
   "cell_type": "code",
   "execution_count": null,
   "metadata": {},
   "outputs": [],
   "source": [
    "#studio and vote_count\n",
    "fig, ax = plt.subplots(figsize=(10,10))\n",
    "\n",
    "ax.bar(x=studio_vote_count.index.astype(str), height=studio_vote_count['vote_count']);"
   ]
  },
  {
   "cell_type": "code",
   "execution_count": null,
   "metadata": {},
   "outputs": [],
   "source": [
    "import zipfile as zf\n",
    "import os"
   ]
  },
  {
   "cell_type": "code",
   "execution_count": null,
   "metadata": {},
   "outputs": [],
   "source": [
    "files = zf.ZipFile('./data/im.db.zip', 'r') #these lines create a im.db file which is too big to push\n",
    "files.extractall() #these lines create a im.db file which is too big to push"
   ]
  },
  {
   "cell_type": "code",
   "execution_count": null,
   "metadata": {},
   "outputs": [],
   "source": [
    "con = sqlite3.connect(\"./im.db\")"
   ]
  },
  {
   "cell_type": "code",
   "execution_count": null,
   "metadata": {},
   "outputs": [],
   "source": [
    "titles = pd.read_sql(\"\"\"\n",
    "Select * \n",
    "\n",
    "From movie_basics\n",
    "            \n",
    "\"\"\", con)\n",
    "titles"
   ]
  },
  {
   "cell_type": "code",
   "execution_count": null,
   "metadata": {},
   "outputs": [],
   "source": [
    "rating = pd.read_sql(\"\"\"\n",
    "Select * \n",
    "\n",
    "From movie_ratings\n",
    "            \n",
    "\"\"\", con)\n",
    "\n",
    "rating"
   ]
  },
  {
   "cell_type": "code",
   "execution_count": null,
   "metadata": {},
   "outputs": [],
   "source": [
    "sql_df = pd.read_sql('''\n",
    "    SELECT *\n",
    "    \n",
    "    FROM\n",
    "    movie_ratings\n",
    "    \n",
    "    INNER JOIN movie_basics\n",
    "        USING(movie_id) \n",
    "     \n",
    "     WHERE numvotes >= 1000\n",
    "     \n",
    "     ORDER BY \n",
    "         averagerating DESC\n",
    "    \n",
    "    LIMIT 20\n",
    "''', con)\n",
    "\n",
    "#We need to choose and averagerating number for a WHERE clause\n",
    "#If we feel like we need more ratings data we can combine this with budget_rating_gross"
   ]
  },
  {
   "cell_type": "code",
   "execution_count": null,
   "metadata": {},
   "outputs": [],
   "source": [
    "#examining the df for potential analysis and cleaning\n",
    "sql_df.head()"
   ]
  },
  {
   "cell_type": "code",
   "execution_count": null,
   "metadata": {},
   "outputs": [],
   "source": [
    "#genre column splitting"
   ]
  },
  {
   "cell_type": "code",
   "execution_count": null,
   "metadata": {},
   "outputs": [],
   "source": [
    "#other EDAs"
   ]
  },
  {
   "cell_type": "code",
   "execution_count": null,
   "metadata": {},
   "outputs": [],
   "source": [
    "#genres vs averagerating\n",
    "genres_average_rating = sql_df.groupby(['genres']).mean(['averagerating']).sort_values(['averagerating'], ascending=False).head(20)\n",
    "genres_average_rating"
   ]
  },
  {
   "cell_type": "code",
   "execution_count": null,
   "metadata": {},
   "outputs": [],
   "source": [
    "fig, ax = plt.subplots(figsize=(10,10))\n",
    "\n",
    "ax.bar(x=genres_average_rating.index.astype(str), height=genres_average_rating['averagerating']);"
   ]
  },
  {
   "cell_type": "code",
   "execution_count": null,
   "metadata": {},
   "outputs": [],
   "source": [
    "#runtime_minutes vs start_year\n",
    "runtime_year = sql_df.groupby(['start_year']).mean(['runtime_minutes']).sort_values(['start_year'])\n",
    "runtime_year"
   ]
  },
  {
   "cell_type": "code",
   "execution_count": null,
   "metadata": {},
   "outputs": [],
   "source": [
    "fig, ax = plt.subplots(figsize=(10,10))\n",
    "\n",
    "ax.bar(x=runtime_year.index.astype(str), height=runtime_year['runtime_minutes']);"
   ]
  },
  {
   "cell_type": "code",
   "execution_count": null,
   "metadata": {},
   "outputs": [],
   "source": [
    "#stong positive correlation\n",
    "#movies are getting longer!\n",
    "np.corrcoef(runtime_year.index , y = runtime_year['runtime_minutes'])"
   ]
  },
  {
   "cell_type": "code",
   "execution_count": null,
   "metadata": {},
   "outputs": [],
   "source": [
    "con.close() #have this in case file refuses to close"
   ]
  },
  {
   "cell_type": "code",
   "execution_count": null,
   "metadata": {},
   "outputs": [],
   "source": [
    "os.remove('im.db') #This line deletes the im.db file created earlier."
   ]
  }
 ],
 "metadata": {
  "kernelspec": {
   "display_name": "Python (learn-env)",
   "language": "python",
   "name": "learn-env"
  },
  "language_info": {
   "codemirror_mode": {
    "name": "ipython",
    "version": 3
   },
   "file_extension": ".py",
   "mimetype": "text/x-python",
   "name": "python",
   "nbconvert_exporter": "python",
   "pygments_lexer": "ipython3",
   "version": "3.8.5"
  }
 },
 "nbformat": 4,
 "nbformat_minor": 4
}
