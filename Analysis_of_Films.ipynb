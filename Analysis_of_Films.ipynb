{
 "cells": [
  {
   "cell_type": "markdown",
   "metadata": {},
   "source": [
    "# Analysis of Films"
   ]
  },
  {
   "cell_type": "markdown",
   "metadata": {},
   "source": [
    "## Overview"
   ]
  },
  {
   "cell_type": "markdown",
   "metadata": {},
   "source": [
    "The purpose of this project is to analyze the trends in the movie industry and give reccommendations base on these initial findings to new studis. Exploratory analysis reveals the average ROI of ##, runtime averging closer to 2 hours, and action with other genres included produced the most revenue per movie. Microsoft can use the analysis made here to aid have a sense on they type of movies they should aim for in their new movie studio."
   ]
  },
  {
   "cell_type": "markdown",
   "metadata": {},
   "source": [
    "## Business Problem"
   ]
  },
  {
   "cell_type": "markdown",
   "metadata": {},
   "source": [
    "Microsoft can venture into the movie industry by creating a movie studio under their name. The issue is that Microsoft may be unfamilar with where to being in the production of new films. With some insight into the landscape of the movie industry such as how much money others are investing per movie, the length of movies and the type of genres that produce high gross per movie, Microsoft will be able produce films that are profitable. This project decribes the trends in return of investment, movie length over time and top genres."
   ]
  },
  {
   "cell_type": "markdown",
   "metadata": {},
   "source": [
    "## Data Understanding"
   ]
  },
  {
   "cell_type": "markdown",
   "metadata": {},
   "source": [
    "The data comes from multiple sources. In this project, data from the the box office, tmdb, tn and IMDB was used. Each data file had the name of the film in which merges occurred on as they each had an column of interest for the analysis. The data provide the production budget, worldwide gross, runtime and other features of a film that may be of interest. "
   ]
  },
  {
   "cell_type": "code",
   "execution_count": 77,
   "metadata": {
    "ExecuteTime": {
     "end_time": "2022-03-10T23:12:33.560766Z",
     "start_time": "2022-03-10T23:12:33.555298Z"
    }
   },
   "outputs": [],
   "source": [
    "import pandas as pd\n",
    "import seaborn as sns\n",
    "import matplotlib.pyplot as plt\n",
    "from matplotlib import ticker\n",
    "import numpy as np\n",
    "import sqlite3\n",
    "import zipfile as zf\n",
    "import os\n",
    "pd.set_option('display.float_format', lambda x: '%.0f' % x)"
   ]
  },
  {
   "cell_type": "code",
   "execution_count": 78,
   "metadata": {
    "ExecuteTime": {
     "end_time": "2022-03-10T23:12:33.650636Z",
     "start_time": "2022-03-10T23:12:33.563748Z"
    }
   },
   "outputs": [],
   "source": [
    "tmdb = pd.read_csv('./data/tmdb.movies.csv.gz')\n",
    "tn = pd.read_csv('./data/tn.movie_budgets.csv.gz')\n"
   ]
  },
  {
   "cell_type": "code",
   "execution_count": 79,
   "metadata": {
    "ExecuteTime": {
     "end_time": "2022-03-10T23:12:34.921510Z",
     "start_time": "2022-03-10T23:12:33.652150Z"
    }
   },
   "outputs": [],
   "source": [
    "files = zf.ZipFile('./data/im.db.zip', 'r') #opens the zip file\n",
    "files.extractall() #creates a im.db file which is too big to push\n",
    "con = sqlite3.connect(\"./im.db\")\n",
    "\n",
    "#turning the sql dataset into a dataframe\n",
    "titles = pd.read_sql(\"\"\"Select * From movie_basics \"\"\", con)"
   ]
  },
  {
   "cell_type": "markdown",
   "metadata": {},
   "source": [
    "Examination of each dataset for columns of interest. "
   ]
  },
  {
   "cell_type": "code",
   "execution_count": 80,
   "metadata": {
    "ExecuteTime": {
     "end_time": "2022-03-10T23:12:34.928378Z",
     "start_time": "2022-03-10T23:12:34.922813Z"
    }
   },
   "outputs": [
    {
     "data": {
      "text/html": [
       "<div>\n",
       "<style scoped>\n",
       "    .dataframe tbody tr th:only-of-type {\n",
       "        vertical-align: middle;\n",
       "    }\n",
       "\n",
       "    .dataframe tbody tr th {\n",
       "        vertical-align: top;\n",
       "    }\n",
       "\n",
       "    .dataframe thead th {\n",
       "        text-align: right;\n",
       "    }\n",
       "</style>\n",
       "<table border=\"1\" class=\"dataframe\">\n",
       "  <thead>\n",
       "    <tr style=\"text-align: right;\">\n",
       "      <th></th>\n",
       "      <th>Unnamed: 0</th>\n",
       "      <th>genre_ids</th>\n",
       "      <th>id</th>\n",
       "      <th>original_language</th>\n",
       "      <th>original_title</th>\n",
       "      <th>popularity</th>\n",
       "      <th>release_date</th>\n",
       "      <th>title</th>\n",
       "      <th>vote_average</th>\n",
       "      <th>vote_count</th>\n",
       "    </tr>\n",
       "  </thead>\n",
       "  <tbody>\n",
       "    <tr>\n",
       "      <th>0</th>\n",
       "      <td>0</td>\n",
       "      <td>[12, 14, 10751]</td>\n",
       "      <td>12444</td>\n",
       "      <td>en</td>\n",
       "      <td>Harry Potter and the Deathly Hallows: Part 1</td>\n",
       "      <td>34</td>\n",
       "      <td>2010-11-19</td>\n",
       "      <td>Harry Potter and the Deathly Hallows: Part 1</td>\n",
       "      <td>8</td>\n",
       "      <td>10788</td>\n",
       "    </tr>\n",
       "  </tbody>\n",
       "</table>\n",
       "</div>"
      ],
      "text/plain": [
       "   Unnamed: 0        genre_ids     id original_language  \\\n",
       "0           0  [12, 14, 10751]  12444                en   \n",
       "\n",
       "                                 original_title  popularity release_date  \\\n",
       "0  Harry Potter and the Deathly Hallows: Part 1          34   2010-11-19   \n",
       "\n",
       "                                          title  vote_average  vote_count  \n",
       "0  Harry Potter and the Deathly Hallows: Part 1             8       10788  "
      ]
     },
     "execution_count": 80,
     "metadata": {},
     "output_type": "execute_result"
    }
   ],
   "source": [
    "tmdb.head(1)"
   ]
  },
  {
   "cell_type": "code",
   "execution_count": 81,
   "metadata": {
    "ExecuteTime": {
     "end_time": "2022-03-10T23:12:34.933996Z",
     "start_time": "2022-03-10T23:12:34.929190Z"
    }
   },
   "outputs": [
    {
     "data": {
      "text/html": [
       "<div>\n",
       "<style scoped>\n",
       "    .dataframe tbody tr th:only-of-type {\n",
       "        vertical-align: middle;\n",
       "    }\n",
       "\n",
       "    .dataframe tbody tr th {\n",
       "        vertical-align: top;\n",
       "    }\n",
       "\n",
       "    .dataframe thead th {\n",
       "        text-align: right;\n",
       "    }\n",
       "</style>\n",
       "<table border=\"1\" class=\"dataframe\">\n",
       "  <thead>\n",
       "    <tr style=\"text-align: right;\">\n",
       "      <th></th>\n",
       "      <th>id</th>\n",
       "      <th>release_date</th>\n",
       "      <th>movie</th>\n",
       "      <th>production_budget</th>\n",
       "      <th>domestic_gross</th>\n",
       "      <th>worldwide_gross</th>\n",
       "    </tr>\n",
       "  </thead>\n",
       "  <tbody>\n",
       "    <tr>\n",
       "      <th>0</th>\n",
       "      <td>1</td>\n",
       "      <td>Dec 18, 2009</td>\n",
       "      <td>Avatar</td>\n",
       "      <td>$425,000,000</td>\n",
       "      <td>$760,507,625</td>\n",
       "      <td>$2,776,345,279</td>\n",
       "    </tr>\n",
       "  </tbody>\n",
       "</table>\n",
       "</div>"
      ],
      "text/plain": [
       "   id  release_date   movie production_budget domestic_gross worldwide_gross\n",
       "0   1  Dec 18, 2009  Avatar      $425,000,000   $760,507,625  $2,776,345,279"
      ]
     },
     "execution_count": 81,
     "metadata": {},
     "output_type": "execute_result"
    }
   ],
   "source": [
    "tn.head(1)"
   ]
  },
  {
   "cell_type": "code",
   "execution_count": 82,
   "metadata": {
    "ExecuteTime": {
     "end_time": "2022-03-10T23:12:34.940200Z",
     "start_time": "2022-03-10T23:12:34.934934Z"
    }
   },
   "outputs": [
    {
     "data": {
      "text/html": [
       "<div>\n",
       "<style scoped>\n",
       "    .dataframe tbody tr th:only-of-type {\n",
       "        vertical-align: middle;\n",
       "    }\n",
       "\n",
       "    .dataframe tbody tr th {\n",
       "        vertical-align: top;\n",
       "    }\n",
       "\n",
       "    .dataframe thead th {\n",
       "        text-align: right;\n",
       "    }\n",
       "</style>\n",
       "<table border=\"1\" class=\"dataframe\">\n",
       "  <thead>\n",
       "    <tr style=\"text-align: right;\">\n",
       "      <th></th>\n",
       "      <th>movie_id</th>\n",
       "      <th>primary_title</th>\n",
       "      <th>original_title</th>\n",
       "      <th>start_year</th>\n",
       "      <th>runtime_minutes</th>\n",
       "      <th>genres</th>\n",
       "    </tr>\n",
       "  </thead>\n",
       "  <tbody>\n",
       "    <tr>\n",
       "      <th>0</th>\n",
       "      <td>tt0063540</td>\n",
       "      <td>Sunghursh</td>\n",
       "      <td>Sunghursh</td>\n",
       "      <td>2013</td>\n",
       "      <td>175</td>\n",
       "      <td>Action,Crime,Drama</td>\n",
       "    </tr>\n",
       "  </tbody>\n",
       "</table>\n",
       "</div>"
      ],
      "text/plain": [
       "    movie_id primary_title original_title  start_year  runtime_minutes  \\\n",
       "0  tt0063540     Sunghursh      Sunghursh        2013              175   \n",
       "\n",
       "               genres  \n",
       "0  Action,Crime,Drama  "
      ]
     },
     "execution_count": 82,
     "metadata": {},
     "output_type": "execute_result"
    }
   ],
   "source": [
    "\n",
    "titles.head(1)"
   ]
  },
  {
   "cell_type": "code",
   "execution_count": 83,
   "metadata": {
    "ExecuteTime": {
     "end_time": "2022-03-10T23:12:35.055309Z",
     "start_time": "2022-03-10T23:12:34.941419Z"
    }
   },
   "outputs": [
    {
     "data": {
      "text/html": [
       "<div>\n",
       "<style scoped>\n",
       "    .dataframe tbody tr th:only-of-type {\n",
       "        vertical-align: middle;\n",
       "    }\n",
       "\n",
       "    .dataframe tbody tr th {\n",
       "        vertical-align: top;\n",
       "    }\n",
       "\n",
       "    .dataframe thead th {\n",
       "        text-align: right;\n",
       "    }\n",
       "</style>\n",
       "<table border=\"1\" class=\"dataframe\">\n",
       "  <thead>\n",
       "    <tr style=\"text-align: right;\">\n",
       "      <th></th>\n",
       "      <th>movie_id</th>\n",
       "      <th>averagerating</th>\n",
       "      <th>numvotes</th>\n",
       "    </tr>\n",
       "  </thead>\n",
       "  <tbody>\n",
       "    <tr>\n",
       "      <th>0</th>\n",
       "      <td>tt10356526</td>\n",
       "      <td>8</td>\n",
       "      <td>31</td>\n",
       "    </tr>\n",
       "  </tbody>\n",
       "</table>\n",
       "</div>"
      ],
      "text/plain": [
       "     movie_id  averagerating  numvotes\n",
       "0  tt10356526              8        31"
      ]
     },
     "execution_count": 83,
     "metadata": {},
     "output_type": "execute_result"
    }
   ],
   "source": [
    "rating = pd.read_sql(\"\"\"Select * From movie_ratings\"\"\", con)\n",
    "\n",
    "rating.head(1)"
   ]
  },
  {
   "cell_type": "markdown",
   "metadata": {},
   "source": [
    "We identify these columns of interests:\n",
    "- studio columns from the bom dataset\n",
    "- popularity, release_date, vote_avergae and vote_count columns from the tmdb\n",
    "- runtime_minutes, genre, averagerating, and numvotes from two sql dataset that requires merging on the movie special identification "
   ]
  },
  {
   "cell_type": "markdown",
   "metadata": {},
   "source": [
    "## Data Preparation"
   ]
  },
  {
   "cell_type": "markdown",
   "metadata": {},
   "source": [
    "### Initial Data Merging"
   ]
  },
  {
   "cell_type": "markdown",
   "metadata": {},
   "source": [
    "We merge the BOM and the tmdb dataset, then merged it that to the tn data set to have most of our columns of interest. The two sql data set were then merged together."
   ]
  },
  {
   "cell_type": "code",
   "execution_count": 84,
   "metadata": {
    "ExecuteTime": {
     "end_time": "2022-03-10T23:12:35.058477Z",
     "start_time": "2022-03-10T23:12:35.057242Z"
    }
   },
   "outputs": [],
   "source": [
    "#creation of the merged table betweeen bom and tmdb\n",
    "#rating_and_gross = bom.merge(tmdb, how='inner', left_on='title', right_on='title').sort_values('domestic_gross', ascending=False)"
   ]
  },
  {
   "cell_type": "code",
   "execution_count": 85,
   "metadata": {
    "ExecuteTime": {
     "end_time": "2022-03-10T23:12:35.074052Z",
     "start_time": "2022-03-10T23:12:35.060378Z"
    }
   },
   "outputs": [],
   "source": [
    "#creation of merge table of the rating_and_gross with the tn table\n",
    "budget_rating_gross = tmdb.merge(tn, how='inner', left_on='title', right_on='movie')"
   ]
  },
  {
   "cell_type": "code",
   "execution_count": 86,
   "metadata": {
    "ExecuteTime": {
     "end_time": "2022-03-10T23:12:35.278219Z",
     "start_time": "2022-03-10T23:12:35.074964Z"
    }
   },
   "outputs": [],
   "source": [
    "#Merging of the two sql data bases\n",
    "sql_df = pd.read_sql('''\n",
    "    SELECT *\n",
    "    \n",
    "    FROM\n",
    "    movie_ratings\n",
    "    \n",
    "    INNER JOIN movie_basics\n",
    "        USING(movie_id) \n",
    "     \n",
    "     WHERE numvotes >= 1000\n",
    "     \n",
    "     ORDER BY \n",
    "         averagerating DESC\n",
    "''', con)"
   ]
  },
  {
   "cell_type": "code",
   "execution_count": 87,
   "metadata": {
    "ExecuteTime": {
     "end_time": "2022-03-10T23:12:35.286081Z",
     "start_time": "2022-03-10T23:12:35.279110Z"
    }
   },
   "outputs": [
    {
     "name": "stdout",
     "output_type": "stream",
     "text": [
      "<class 'pandas.core.frame.DataFrame'>\n",
      "Int64Index: 2385 entries, 0 to 2384\n",
      "Data columns (total 16 columns):\n",
      " #   Column             Non-Null Count  Dtype  \n",
      "---  ------             --------------  -----  \n",
      " 0   Unnamed: 0         2385 non-null   int64  \n",
      " 1   genre_ids          2385 non-null   object \n",
      " 2   id_x               2385 non-null   int64  \n",
      " 3   original_language  2385 non-null   object \n",
      " 4   original_title     2385 non-null   object \n",
      " 5   popularity         2385 non-null   float64\n",
      " 6   release_date_x     2385 non-null   object \n",
      " 7   title              2385 non-null   object \n",
      " 8   vote_average       2385 non-null   float64\n",
      " 9   vote_count         2385 non-null   int64  \n",
      " 10  id_y               2385 non-null   int64  \n",
      " 11  release_date_y     2385 non-null   object \n",
      " 12  movie              2385 non-null   object \n",
      " 13  production_budget  2385 non-null   object \n",
      " 14  domestic_gross     2385 non-null   object \n",
      " 15  worldwide_gross    2385 non-null   object \n",
      "dtypes: float64(2), int64(4), object(10)\n",
      "memory usage: 316.8+ KB\n"
     ]
    }
   ],
   "source": [
    "budget_rating_gross.info()"
   ]
  },
  {
   "cell_type": "markdown",
   "metadata": {},
   "source": [
    "There are 195 null values in the foreign_gross column, 2 in the domestic_gross_x column, and 1 in studio column.\n",
    "There are unnecessary columns. "
   ]
  },
  {
   "cell_type": "markdown",
   "metadata": {},
   "source": [
    "### Initial Data Cleaning"
   ]
  },
  {
   "cell_type": "markdown",
   "metadata": {},
   "source": [
    "We dropped columns that we thought were not useful for our analysis. Then monetary values were converted from strings to integers to be used, dropped exact duplicates and duplicates where the movie title was the same but some values were incorrect."
   ]
  },
  {
   "cell_type": "code",
   "execution_count": 88,
   "metadata": {
    "ExecuteTime": {
     "end_time": "2022-03-10T23:12:35.293308Z",
     "start_time": "2022-03-10T23:12:35.287029Z"
    },
    "scrolled": false
   },
   "outputs": [
    {
     "name": "stdout",
     "output_type": "stream",
     "text": [
      "<class 'pandas.core.frame.DataFrame'>\n",
      "Int64Index: 2385 entries, 0 to 2384\n",
      "Data columns (total 8 columns):\n",
      " #   Column             Non-Null Count  Dtype  \n",
      "---  ------             --------------  -----  \n",
      " 0   popularity         2385 non-null   float64\n",
      " 1   release_date_x     2385 non-null   object \n",
      " 2   title              2385 non-null   object \n",
      " 3   vote_average       2385 non-null   float64\n",
      " 4   vote_count         2385 non-null   int64  \n",
      " 5   production_budget  2385 non-null   object \n",
      " 6   domestic_gross     2385 non-null   object \n",
      " 7   worldwide_gross    2385 non-null   object \n",
      "dtypes: float64(2), int64(1), object(5)\n",
      "memory usage: 167.7+ KB\n"
     ]
    }
   ],
   "source": [
    "#dropping unnecessary columns\n",
    "clean_columns = budget_rating_gross.drop(['release_date_y', 'Unnamed: 0', 'genre_ids', 'original_title', 'movie', 'id_x', 'id_y', 'original_language'], axis=1)\n",
    "clean_columns.info()"
   ]
  },
  {
   "cell_type": "code",
   "execution_count": 89,
   "metadata": {
    "ExecuteTime": {
     "end_time": "2022-03-10T23:12:35.299172Z",
     "start_time": "2022-03-10T23:12:35.294252Z"
    }
   },
   "outputs": [],
   "source": [
    "#cleaning and converting worldwide_gross into int\n",
    "clean_columns['worldwide_gross'] = clean_columns['worldwide_gross'].str.replace('$', '')\n",
    "clean_columns['worldwide_gross'] = clean_columns['worldwide_gross'].str.replace(',', '')\n",
    "clean_columns['worldwide_gross'] = clean_columns['worldwide_gross'].astype('int64')"
   ]
  },
  {
   "cell_type": "code",
   "execution_count": 90,
   "metadata": {
    "ExecuteTime": {
     "end_time": "2022-03-10T23:12:35.305662Z",
     "start_time": "2022-03-10T23:12:35.300149Z"
    }
   },
   "outputs": [],
   "source": [
    "##cleaning and converting domestic_gross_y into int\n",
    "clean_columns['domestic_gross'] = clean_columns['domestic_gross'].str.replace('$', '')\n",
    "clean_columns['domestic_gross'] = clean_columns['domestic_gross'].str.replace(',', '')\n",
    "clean_columns['domestic_gross'] = clean_columns['domestic_gross'].astype('int64')"
   ]
  },
  {
   "cell_type": "code",
   "execution_count": 91,
   "metadata": {
    "ExecuteTime": {
     "end_time": "2022-03-10T23:12:35.311493Z",
     "start_time": "2022-03-10T23:12:35.306658Z"
    }
   },
   "outputs": [],
   "source": [
    "#cleaning and converting production_budget into int\n",
    "clean_columns['production_budget'] = clean_columns['production_budget'].str.replace('$', '')\n",
    "clean_columns['production_budget'] = clean_columns['production_budget'].str.replace(',', '')\n",
    "clean_columns['production_budget'] = clean_columns['production_budget'].astype('int64')"
   ]
  },
  {
   "cell_type": "code",
   "execution_count": 92,
   "metadata": {
    "ExecuteTime": {
     "end_time": "2022-03-10T23:12:35.315930Z",
     "start_time": "2022-03-10T23:12:35.312441Z"
    }
   },
   "outputs": [],
   "source": [
    "clean_columns['net_profit'] = clean_columns['worldwide_gross'] - clean_columns['production_budget']\n",
    "clean_columns['return_on_investment'] = (clean_columns['net_profit']/clean_columns['production_budget'])*100"
   ]
  },
  {
   "cell_type": "code",
   "execution_count": 93,
   "metadata": {
    "ExecuteTime": {
     "end_time": "2022-03-10T23:12:35.322137Z",
     "start_time": "2022-03-10T23:12:35.317008Z"
    }
   },
   "outputs": [
    {
     "name": "stdout",
     "output_type": "stream",
     "text": [
      "<class 'pandas.core.frame.DataFrame'>\n",
      "Int64Index: 2385 entries, 0 to 2384\n",
      "Data columns (total 10 columns):\n",
      " #   Column                Non-Null Count  Dtype  \n",
      "---  ------                --------------  -----  \n",
      " 0   popularity            2385 non-null   float64\n",
      " 1   release_date_x        2385 non-null   object \n",
      " 2   title                 2385 non-null   object \n",
      " 3   vote_average          2385 non-null   float64\n",
      " 4   vote_count            2385 non-null   int64  \n",
      " 5   production_budget     2385 non-null   int64  \n",
      " 6   domestic_gross        2385 non-null   int64  \n",
      " 7   worldwide_gross       2385 non-null   int64  \n",
      " 8   net_profit            2385 non-null   int64  \n",
      " 9   return_on_investment  2385 non-null   float64\n",
      "dtypes: float64(3), int64(5), object(2)\n",
      "memory usage: 205.0+ KB\n"
     ]
    }
   ],
   "source": [
    "#Sanity Check\n",
    "clean_columns.info()"
   ]
  },
  {
   "cell_type": "code",
   "execution_count": 94,
   "metadata": {
    "ExecuteTime": {
     "end_time": "2022-03-10T23:12:35.328210Z",
     "start_time": "2022-03-10T23:12:35.322974Z"
    }
   },
   "outputs": [],
   "source": [
    "#dropping exact row duplicates\n",
    "test_clean_columns = clean_columns.drop_duplicates()"
   ]
  },
  {
   "cell_type": "code",
   "execution_count": 95,
   "metadata": {
    "ExecuteTime": {
     "end_time": "2022-03-10T23:12:35.334098Z",
     "start_time": "2022-03-10T23:12:35.329255Z"
    }
   },
   "outputs": [],
   "source": [
    "#dropping duplicates where the title name is the same but other values are wrong\n",
    "vote_count_max = test_clean_columns.groupby(['title']).vote_count.transform(max)\n",
    "movies_clean = test_clean_columns.loc[test_clean_columns.vote_count == vote_count_max]"
   ]
  },
  {
   "cell_type": "code",
   "execution_count": 96,
   "metadata": {
    "ExecuteTime": {
     "end_time": "2022-03-10T23:12:35.339320Z",
     "start_time": "2022-03-10T23:12:35.335089Z"
    }
   },
   "outputs": [
    {
     "name": "stderr",
     "output_type": "stream",
     "text": [
      "<ipython-input-96-755fa9ff06c5>:1: SettingWithCopyWarning: \n",
      "A value is trying to be set on a copy of a slice from a DataFrame.\n",
      "Try using .loc[row_indexer,col_indexer] = value instead\n",
      "\n",
      "See the caveats in the documentation: https://pandas.pydata.org/pandas-docs/stable/user_guide/indexing.html#returning-a-view-versus-a-copy\n",
      "  movies_clean['net_profit'] = movies_clean['worldwide_gross'] - movies_clean['production_budget']\n",
      "<ipython-input-96-755fa9ff06c5>:2: SettingWithCopyWarning: \n",
      "A value is trying to be set on a copy of a slice from a DataFrame.\n",
      "Try using .loc[row_indexer,col_indexer] = value instead\n",
      "\n",
      "See the caveats in the documentation: https://pandas.pydata.org/pandas-docs/stable/user_guide/indexing.html#returning-a-view-versus-a-copy\n",
      "  movies_clean['return_on_investment'] = (movies_clean['net_profit']/movies_clean['production_budget'])*100\n"
     ]
    }
   ],
   "source": [
    "movies_clean['net_profit'] = movies_clean['worldwide_gross'] - movies_clean['production_budget']\n",
    "movies_clean['return_on_investment'] = (movies_clean['net_profit']/movies_clean['production_budget'])*100"
   ]
  },
  {
   "cell_type": "code",
   "execution_count": 97,
   "metadata": {
    "ExecuteTime": {
     "end_time": "2022-03-10T23:12:35.345803Z",
     "start_time": "2022-03-10T23:12:35.340158Z"
    }
   },
   "outputs": [
    {
     "data": {
      "text/html": [
       "<div>\n",
       "<style scoped>\n",
       "    .dataframe tbody tr th:only-of-type {\n",
       "        vertical-align: middle;\n",
       "    }\n",
       "\n",
       "    .dataframe tbody tr th {\n",
       "        vertical-align: top;\n",
       "    }\n",
       "\n",
       "    .dataframe thead th {\n",
       "        text-align: right;\n",
       "    }\n",
       "</style>\n",
       "<table border=\"1\" class=\"dataframe\">\n",
       "  <thead>\n",
       "    <tr style=\"text-align: right;\">\n",
       "      <th></th>\n",
       "      <th>popularity</th>\n",
       "      <th>release_date_x</th>\n",
       "      <th>title</th>\n",
       "      <th>vote_average</th>\n",
       "      <th>vote_count</th>\n",
       "      <th>production_budget</th>\n",
       "      <th>domestic_gross</th>\n",
       "      <th>worldwide_gross</th>\n",
       "      <th>net_profit</th>\n",
       "      <th>return_on_investment</th>\n",
       "    </tr>\n",
       "  </thead>\n",
       "  <tbody>\n",
       "    <tr>\n",
       "      <th>0</th>\n",
       "      <td>29</td>\n",
       "      <td>2010-03-26</td>\n",
       "      <td>How to Train Your Dragon</td>\n",
       "      <td>8</td>\n",
       "      <td>7610</td>\n",
       "      <td>165000000</td>\n",
       "      <td>217581232</td>\n",
       "      <td>494870992</td>\n",
       "      <td>329870992</td>\n",
       "      <td>200</td>\n",
       "    </tr>\n",
       "    <tr>\n",
       "      <th>1</th>\n",
       "      <td>29</td>\n",
       "      <td>2010-05-07</td>\n",
       "      <td>Iron Man 2</td>\n",
       "      <td>7</td>\n",
       "      <td>12368</td>\n",
       "      <td>170000000</td>\n",
       "      <td>312433331</td>\n",
       "      <td>621156389</td>\n",
       "      <td>451156389</td>\n",
       "      <td>265</td>\n",
       "    </tr>\n",
       "    <tr>\n",
       "      <th>2</th>\n",
       "      <td>28</td>\n",
       "      <td>1995-11-22</td>\n",
       "      <td>Toy Story</td>\n",
       "      <td>8</td>\n",
       "      <td>10174</td>\n",
       "      <td>30000000</td>\n",
       "      <td>191796233</td>\n",
       "      <td>364545516</td>\n",
       "      <td>334545516</td>\n",
       "      <td>1115</td>\n",
       "    </tr>\n",
       "    <tr>\n",
       "      <th>4</th>\n",
       "      <td>28</td>\n",
       "      <td>2010-07-16</td>\n",
       "      <td>Inception</td>\n",
       "      <td>8</td>\n",
       "      <td>22186</td>\n",
       "      <td>160000000</td>\n",
       "      <td>292576195</td>\n",
       "      <td>835524642</td>\n",
       "      <td>675524642</td>\n",
       "      <td>422</td>\n",
       "    </tr>\n",
       "    <tr>\n",
       "      <th>5</th>\n",
       "      <td>27</td>\n",
       "      <td>2010-02-11</td>\n",
       "      <td>Percy Jackson &amp; the Olympians: The Lightning T...</td>\n",
       "      <td>6</td>\n",
       "      <td>4229</td>\n",
       "      <td>95000000</td>\n",
       "      <td>88768303</td>\n",
       "      <td>223050874</td>\n",
       "      <td>128050874</td>\n",
       "      <td>135</td>\n",
       "    </tr>\n",
       "  </tbody>\n",
       "</table>\n",
       "</div>"
      ],
      "text/plain": [
       "   popularity release_date_x  \\\n",
       "0          29     2010-03-26   \n",
       "1          29     2010-05-07   \n",
       "2          28     1995-11-22   \n",
       "4          28     2010-07-16   \n",
       "5          27     2010-02-11   \n",
       "\n",
       "                                               title  vote_average  \\\n",
       "0                           How to Train Your Dragon             8   \n",
       "1                                         Iron Man 2             7   \n",
       "2                                          Toy Story             8   \n",
       "4                                          Inception             8   \n",
       "5  Percy Jackson & the Olympians: The Lightning T...             6   \n",
       "\n",
       "   vote_count  production_budget  domestic_gross  worldwide_gross  net_profit  \\\n",
       "0        7610          165000000       217581232        494870992   329870992   \n",
       "1       12368          170000000       312433331        621156389   451156389   \n",
       "2       10174           30000000       191796233        364545516   334545516   \n",
       "4       22186          160000000       292576195        835524642   675524642   \n",
       "5        4229           95000000        88768303        223050874   128050874   \n",
       "\n",
       "   return_on_investment  \n",
       "0                   200  \n",
       "1                   265  \n",
       "2                  1115  \n",
       "4                   422  \n",
       "5                   135  "
      ]
     },
     "execution_count": 97,
     "metadata": {},
     "output_type": "execute_result"
    }
   ],
   "source": [
    "#Sanity Check: verifying the shape of movies_clean\n",
    "movies_clean.head()"
   ]
  },
  {
   "cell_type": "markdown",
   "metadata": {},
   "source": [
    "After cleaning the dataset, we then merge the movies_clean with the sql_df to finally have all the columns of interest for the individual films that will be used later on."
   ]
  },
  {
   "cell_type": "code",
   "execution_count": 98,
   "metadata": {
    "ExecuteTime": {
     "end_time": "2022-03-10T23:12:35.356256Z",
     "start_time": "2022-03-10T23:12:35.346976Z"
    }
   },
   "outputs": [],
   "source": [
    "movies_sql = movies_clean.merge(sql_df, how='inner', left_on='title', right_on='original_title')"
   ]
  },
  {
   "cell_type": "markdown",
   "metadata": {},
   "source": [
    "# Data Analyzation"
   ]
  },
  {
   "cell_type": "markdown",
   "metadata": {},
   "source": [
    "We want to see what the initial data was telling us without the removal of outliers and to identify any anomaly."
   ]
  },
  {
   "cell_type": "code",
   "execution_count": 99,
   "metadata": {
    "ExecuteTime": {
     "end_time": "2022-03-10T23:12:35.381449Z",
     "start_time": "2022-03-10T23:12:35.362202Z"
    }
   },
   "outputs": [
    {
     "data": {
      "text/html": [
       "<div>\n",
       "<style scoped>\n",
       "    .dataframe tbody tr th:only-of-type {\n",
       "        vertical-align: middle;\n",
       "    }\n",
       "\n",
       "    .dataframe tbody tr th {\n",
       "        vertical-align: top;\n",
       "    }\n",
       "\n",
       "    .dataframe thead th {\n",
       "        text-align: right;\n",
       "    }\n",
       "</style>\n",
       "<table border=\"1\" class=\"dataframe\">\n",
       "  <thead>\n",
       "    <tr style=\"text-align: right;\">\n",
       "      <th></th>\n",
       "      <th>popularity</th>\n",
       "      <th>vote_average</th>\n",
       "      <th>vote_count</th>\n",
       "      <th>production_budget</th>\n",
       "      <th>domestic_gross</th>\n",
       "      <th>worldwide_gross</th>\n",
       "      <th>net_profit</th>\n",
       "      <th>return_on_investment</th>\n",
       "    </tr>\n",
       "  </thead>\n",
       "  <tbody>\n",
       "    <tr>\n",
       "      <th>count</th>\n",
       "      <td>1985</td>\n",
       "      <td>1985</td>\n",
       "      <td>1985</td>\n",
       "      <td>1985</td>\n",
       "      <td>1985</td>\n",
       "      <td>1985</td>\n",
       "      <td>1985</td>\n",
       "      <td>1985</td>\n",
       "    </tr>\n",
       "    <tr>\n",
       "      <th>mean</th>\n",
       "      <td>11</td>\n",
       "      <td>6</td>\n",
       "      <td>1751</td>\n",
       "      <td>38141604</td>\n",
       "      <td>48869281</td>\n",
       "      <td>119200891</td>\n",
       "      <td>81059287</td>\n",
       "      <td>299</td>\n",
       "    </tr>\n",
       "    <tr>\n",
       "      <th>std</th>\n",
       "      <td>8</td>\n",
       "      <td>1</td>\n",
       "      <td>2716</td>\n",
       "      <td>51548575</td>\n",
       "      <td>80553279</td>\n",
       "      <td>220735239</td>\n",
       "      <td>182342254</td>\n",
       "      <td>1413</td>\n",
       "    </tr>\n",
       "    <tr>\n",
       "      <th>min</th>\n",
       "      <td>1</td>\n",
       "      <td>0</td>\n",
       "      <td>1</td>\n",
       "      <td>9000</td>\n",
       "      <td>0</td>\n",
       "      <td>0</td>\n",
       "      <td>-110450242</td>\n",
       "      <td>-100</td>\n",
       "    </tr>\n",
       "    <tr>\n",
       "      <th>25%</th>\n",
       "      <td>6</td>\n",
       "      <td>6</td>\n",
       "      <td>97</td>\n",
       "      <td>5000000</td>\n",
       "      <td>890303</td>\n",
       "      <td>3237452</td>\n",
       "      <td>-1794702</td>\n",
       "      <td>-57</td>\n",
       "    </tr>\n",
       "    <tr>\n",
       "      <th>50%</th>\n",
       "      <td>10</td>\n",
       "      <td>6</td>\n",
       "      <td>692</td>\n",
       "      <td>20000000</td>\n",
       "      <td>20738724</td>\n",
       "      <td>37119358</td>\n",
       "      <td>13874967</td>\n",
       "      <td>79</td>\n",
       "    </tr>\n",
       "    <tr>\n",
       "      <th>75%</th>\n",
       "      <td>15</td>\n",
       "      <td>7</td>\n",
       "      <td>2147</td>\n",
       "      <td>48000000</td>\n",
       "      <td>58269151</td>\n",
       "      <td>123696741</td>\n",
       "      <td>77309178</td>\n",
       "      <td>279</td>\n",
       "    </tr>\n",
       "    <tr>\n",
       "      <th>max</th>\n",
       "      <td>81</td>\n",
       "      <td>10</td>\n",
       "      <td>22186</td>\n",
       "      <td>425000000</td>\n",
       "      <td>760507625</td>\n",
       "      <td>2776345279</td>\n",
       "      <td>2351345279</td>\n",
       "      <td>41556</td>\n",
       "    </tr>\n",
       "  </tbody>\n",
       "</table>\n",
       "</div>"
      ],
      "text/plain": [
       "       popularity  vote_average  vote_count  production_budget  \\\n",
       "count        1985          1985        1985               1985   \n",
       "mean           11             6        1751           38141604   \n",
       "std             8             1        2716           51548575   \n",
       "min             1             0           1               9000   \n",
       "25%             6             6          97            5000000   \n",
       "50%            10             6         692           20000000   \n",
       "75%            15             7        2147           48000000   \n",
       "max            81            10       22186          425000000   \n",
       "\n",
       "       domestic_gross  worldwide_gross  net_profit  return_on_investment  \n",
       "count            1985             1985        1985                  1985  \n",
       "mean         48869281        119200891    81059287                   299  \n",
       "std          80553279        220735239   182342254                  1413  \n",
       "min                 0                0  -110450242                  -100  \n",
       "25%            890303          3237452    -1794702                   -57  \n",
       "50%          20738724         37119358    13874967                    79  \n",
       "75%          58269151        123696741    77309178                   279  \n",
       "max         760507625       2776345279  2351345279                 41556  "
      ]
     },
     "execution_count": 99,
     "metadata": {},
     "output_type": "execute_result"
    }
   ],
   "source": [
    "#Quick glance at the information of the dataset\n",
    "movies_clean.describe()\n",
    "# min value for production_budget is > 0."
   ]
  },
  {
   "cell_type": "markdown",
   "metadata": {},
   "source": [
    "After a quick skim from above, we notice that there is some outliers with our dataset. Not only that, but that we want to ensure that we're capturing data that only has worldwide gross gives us a sense of how much was made domestically and overseas combined. "
   ]
  },
  {
   "cell_type": "code",
   "execution_count": 100,
   "metadata": {
    "ExecuteTime": {
     "end_time": "2022-03-10T23:12:35.388886Z",
     "start_time": "2022-03-10T23:12:35.384916Z"
    }
   },
   "outputs": [
    {
     "name": "stderr",
     "output_type": "stream",
     "text": [
      "<ipython-input-100-b7aabc6df952>:1: SettingWithCopyWarning: \n",
      "A value is trying to be set on a copy of a slice from a DataFrame.\n",
      "Try using .loc[row_indexer,col_indexer] = value instead\n",
      "\n",
      "See the caveats in the documentation: https://pandas.pydata.org/pandas-docs/stable/user_guide/indexing.html#returning-a-view-versus-a-copy\n",
      "  movies_clean['gross_to_budget_ratio'] = movies_clean['worldwide_gross'] / movies_clean['production_budget']\n"
     ]
    }
   ],
   "source": [
    "movies_clean['gross_to_budget_ratio'] = movies_clean['worldwide_gross'] / movies_clean['production_budget']"
   ]
  },
  {
   "cell_type": "code",
   "execution_count": 101,
   "metadata": {
    "ExecuteTime": {
     "end_time": "2022-03-10T23:12:35.395691Z",
     "start_time": "2022-03-10T23:12:35.390560Z"
    }
   },
   "outputs": [
    {
     "data": {
      "text/plain": [
       "(-61488042.26423174, 299889824.73576826)"
      ]
     },
     "execution_count": 101,
     "metadata": {},
     "output_type": "execute_result"
    }
   ],
   "source": [
    "#Dropping outliers from worldwide_gross\n",
    "q3, q1 = np.percentile(movies_clean['worldwide_gross'], [75, 25])\n",
    "q3, q1\n",
    "iqr = q3-q1\n",
    "\n",
    "lower_limit_wwg = movies_clean['worldwide_gross'].mean()-(iqr*1.5)\n",
    "\n",
    "upper_limit_wwg = movies_clean['worldwide_gross'].mean()+(iqr*1.5)\n",
    "\n",
    "lower_limit_wwg, upper_limit_wwg"
   ]
  },
  {
   "cell_type": "code",
   "execution_count": 102,
   "metadata": {
    "ExecuteTime": {
     "end_time": "2022-03-10T23:12:35.399918Z",
     "start_time": "2022-03-10T23:12:35.396628Z"
    }
   },
   "outputs": [],
   "source": [
    "movies_without_wwg_outliers = movies_clean[movies_clean['worldwide_gross']<upper_limit_wwg]"
   ]
  },
  {
   "cell_type": "markdown",
   "metadata": {},
   "source": [
    "We expect some form revenue for domestic if it was released in theatres. Some other reasoning"
   ]
  },
  {
   "cell_type": "code",
   "execution_count": 103,
   "metadata": {
    "ExecuteTime": {
     "end_time": "2022-03-10T23:12:35.406536Z",
     "start_time": "2022-03-10T23:12:35.400851Z"
    }
   },
   "outputs": [
    {
     "data": {
      "text/plain": [
       "(-21004391.479225952, 71995608.52077405)"
      ]
     },
     "execution_count": 103,
     "metadata": {},
     "output_type": "execute_result"
    }
   ],
   "source": [
    "#Dropping outliers from production_budget\n",
    "q3, q1 = np.percentile(movies_without_wwg_outliers['production_budget'], [75, 25])\n",
    "q3, q1\n",
    "iqr = q3-q1\n",
    "\n",
    "lower_limit_pb = movies_without_wwg_outliers['production_budget'].mean()-(iqr*1.5)\n",
    "\n",
    "upper_limit_pb = movies_without_wwg_outliers['production_budget'].mean()+(iqr*1.5)\n",
    "\n",
    "lower_limit_pb, upper_limit_pb"
   ]
  },
  {
   "cell_type": "code",
   "execution_count": 104,
   "metadata": {
    "ExecuteTime": {
     "end_time": "2022-03-10T23:12:35.413446Z",
     "start_time": "2022-03-10T23:12:35.408733Z"
    }
   },
   "outputs": [],
   "source": [
    "movies_without_wwg_or_pb_outliers = movies_without_wwg_outliers[movies_without_wwg_outliers['production_budget']<upper_limit_pb]"
   ]
  },
  {
   "cell_type": "markdown",
   "metadata": {},
   "source": [
    "We decided to create three different variables that had remove outliers. These variables excluded the outliers base on the iqr formula for determining outliers. These variables looked at outliers base on just worldwide_gross, and worldwide_gross plus production_budget outliers."
   ]
  },
  {
   "cell_type": "markdown",
   "metadata": {},
   "source": [
    "### Production Budget"
   ]
  },
  {
   "cell_type": "markdown",
   "metadata": {},
   "source": [
    "We started examining the question of what is the ROI for a movie and how strong of a correlation is there between the production budget and their total gross."
   ]
  },
  {
   "cell_type": "code",
   "execution_count": 105,
   "metadata": {
    "ExecuteTime": {
     "end_time": "2022-03-10T23:12:35.417275Z",
     "start_time": "2022-03-10T23:12:35.414560Z"
    }
   },
   "outputs": [],
   "source": [
    "clean_columns['gross_to_budget_ratio'] = clean_columns['worldwide_gross'] / clean_columns['production_budget']\n"
   ]
  },
  {
   "cell_type": "code",
   "execution_count": 106,
   "metadata": {
    "ExecuteTime": {
     "end_time": "2022-03-10T23:12:35.438849Z",
     "start_time": "2022-03-10T23:12:35.418166Z"
    },
    "scrolled": true
   },
   "outputs": [
    {
     "data": {
      "text/html": [
       "<div>\n",
       "<style scoped>\n",
       "    .dataframe tbody tr th:only-of-type {\n",
       "        vertical-align: middle;\n",
       "    }\n",
       "\n",
       "    .dataframe tbody tr th {\n",
       "        vertical-align: top;\n",
       "    }\n",
       "\n",
       "    .dataframe thead th {\n",
       "        text-align: right;\n",
       "    }\n",
       "</style>\n",
       "<table border=\"1\" class=\"dataframe\">\n",
       "  <thead>\n",
       "    <tr style=\"text-align: right;\">\n",
       "      <th></th>\n",
       "      <th>popularity</th>\n",
       "      <th>vote_average</th>\n",
       "      <th>vote_count</th>\n",
       "      <th>production_budget</th>\n",
       "      <th>domestic_gross</th>\n",
       "      <th>worldwide_gross</th>\n",
       "      <th>net_profit</th>\n",
       "      <th>return_on_investment</th>\n",
       "      <th>gross_to_budget_ratio</th>\n",
       "    </tr>\n",
       "  </thead>\n",
       "  <tbody>\n",
       "    <tr>\n",
       "      <th>count</th>\n",
       "      <td>2385</td>\n",
       "      <td>2385</td>\n",
       "      <td>2385</td>\n",
       "      <td>2385</td>\n",
       "      <td>2385</td>\n",
       "      <td>2385</td>\n",
       "      <td>2385</td>\n",
       "      <td>2385</td>\n",
       "      <td>2385</td>\n",
       "    </tr>\n",
       "    <tr>\n",
       "      <th>mean</th>\n",
       "      <td>10</td>\n",
       "      <td>6</td>\n",
       "      <td>1662</td>\n",
       "      <td>37724103</td>\n",
       "      <td>49489155</td>\n",
       "      <td>119903957</td>\n",
       "      <td>82179854</td>\n",
       "      <td>331</td>\n",
       "      <td>4</td>\n",
       "    </tr>\n",
       "    <tr>\n",
       "      <th>std</th>\n",
       "      <td>8</td>\n",
       "      <td>1</td>\n",
       "      <td>2681</td>\n",
       "      <td>51256353</td>\n",
       "      <td>82752104</td>\n",
       "      <td>221322076</td>\n",
       "      <td>183285866</td>\n",
       "      <td>1422</td>\n",
       "      <td>14</td>\n",
       "    </tr>\n",
       "    <tr>\n",
       "      <th>min</th>\n",
       "      <td>1</td>\n",
       "      <td>0</td>\n",
       "      <td>1</td>\n",
       "      <td>9000</td>\n",
       "      <td>0</td>\n",
       "      <td>0</td>\n",
       "      <td>-110450242</td>\n",
       "      <td>-100</td>\n",
       "      <td>0</td>\n",
       "    </tr>\n",
       "    <tr>\n",
       "      <th>25%</th>\n",
       "      <td>5</td>\n",
       "      <td>6</td>\n",
       "      <td>48</td>\n",
       "      <td>5000000</td>\n",
       "      <td>881824</td>\n",
       "      <td>3187302</td>\n",
       "      <td>-1800000</td>\n",
       "      <td>-57</td>\n",
       "      <td>0</td>\n",
       "    </tr>\n",
       "    <tr>\n",
       "      <th>50%</th>\n",
       "      <td>9</td>\n",
       "      <td>6</td>\n",
       "      <td>563</td>\n",
       "      <td>19000000</td>\n",
       "      <td>20157300</td>\n",
       "      <td>37048526</td>\n",
       "      <td>13844132</td>\n",
       "      <td>78</td>\n",
       "      <td>2</td>\n",
       "    </tr>\n",
       "    <tr>\n",
       "      <th>75%</th>\n",
       "      <td>14</td>\n",
       "      <td>7</td>\n",
       "      <td>2047</td>\n",
       "      <td>45000000</td>\n",
       "      <td>57891803</td>\n",
       "      <td>123368842</td>\n",
       "      <td>77551594</td>\n",
       "      <td>289</td>\n",
       "      <td>4</td>\n",
       "    </tr>\n",
       "    <tr>\n",
       "      <th>max</th>\n",
       "      <td>81</td>\n",
       "      <td>10</td>\n",
       "      <td>22186</td>\n",
       "      <td>425000000</td>\n",
       "      <td>760507625</td>\n",
       "      <td>2776345279</td>\n",
       "      <td>2351345279</td>\n",
       "      <td>41556</td>\n",
       "      <td>417</td>\n",
       "    </tr>\n",
       "  </tbody>\n",
       "</table>\n",
       "</div>"
      ],
      "text/plain": [
       "       popularity  vote_average  vote_count  production_budget  \\\n",
       "count        2385          2385        2385               2385   \n",
       "mean           10             6        1662           37724103   \n",
       "std             8             1        2681           51256353   \n",
       "min             1             0           1               9000   \n",
       "25%             5             6          48            5000000   \n",
       "50%             9             6         563           19000000   \n",
       "75%            14             7        2047           45000000   \n",
       "max            81            10       22186          425000000   \n",
       "\n",
       "       domestic_gross  worldwide_gross  net_profit  return_on_investment  \\\n",
       "count            2385             2385        2385                  2385   \n",
       "mean         49489155        119903957    82179854                   331   \n",
       "std          82752104        221322076   183285866                  1422   \n",
       "min                 0                0  -110450242                  -100   \n",
       "25%            881824          3187302    -1800000                   -57   \n",
       "50%          20157300         37048526    13844132                    78   \n",
       "75%          57891803        123368842    77551594                   289   \n",
       "max         760507625       2776345279  2351345279                 41556   \n",
       "\n",
       "       gross_to_budget_ratio  \n",
       "count                   2385  \n",
       "mean                       4  \n",
       "std                       14  \n",
       "min                        0  \n",
       "25%                        0  \n",
       "50%                        2  \n",
       "75%                        4  \n",
       "max                      417  "
      ]
     },
     "execution_count": 106,
     "metadata": {},
     "output_type": "execute_result"
    }
   ],
   "source": [
    "#get a sense of what the averages, medians and range are\n",
    "clean_columns.describe()"
   ]
  },
  {
   "cell_type": "code",
   "execution_count": 107,
   "metadata": {
    "ExecuteTime": {
     "end_time": "2022-03-10T23:12:35.683454Z",
     "start_time": "2022-03-10T23:12:35.439818Z"
    },
    "scrolled": false
   },
   "outputs": [
    {
     "data": {
      "image/png": "[encoded data removed]",
      "text/plain": [
       "<Figure size 720x432 with 1 Axes>"
      ]
     },
     "metadata": {
      "needs_background": "light"
     },
     "output_type": "display_data"
    }
   ],
   "source": [
    "#graph of it with outliers included\n",
    "fig, ax = plt.subplots(figsize=(10,6))\n",
    "ax.ticklabel_format(style='plain')\n",
    "ax.scatter(clean_columns['production_budget'] , y = clean_columns['worldwide_gross'], alpha = .4, c=\"c\");\n",
    "\n",
    "x=clean_columns['production_budget']\n",
    "y=clean_columns['worldwide_gross']\n",
    "m, b = np.polyfit(x,y,1)\n",
    "plt.plot(x, m*x + b, c=\"purple\")\n",
    "plt.legend(['Return On Investment'])\n",
    "\n",
    "ax.set_title('Production Budget and Revenue')\n",
    "ax.set_xlabel('Production Budget')\n",
    "ax.set_ylabel('Revenue')\n",
    "ax.yaxis.set_major_formatter(ticker.StrMethodFormatter('${x:,.0f}'))\n",
    "ax.xaxis.set_major_formatter(ticker.StrMethodFormatter('${x:,.0f}'))\n",
    "plt.savefig('./Untitled Folder/Production Budget and Worldwide Gross with outliers.png', bbox_inches = 'tight');"
   ]
  },
  {
   "cell_type": "code",
   "execution_count": 108,
   "metadata": {
    "ExecuteTime": {
     "end_time": "2022-03-10T23:12:35.687876Z",
     "start_time": "2022-03-10T23:12:35.684569Z"
    }
   },
   "outputs": [
    {
     "data": {
      "text/plain": [
       "0.7941073908765615"
      ]
     },
     "execution_count": 108,
     "metadata": {},
     "output_type": "execute_result"
    }
   ],
   "source": [
    "np.corrcoef(clean_columns['production_budget'] , y = clean_columns['worldwide_gross'])[0][1]"
   ]
  },
  {
   "cell_type": "code",
   "execution_count": 109,
   "metadata": {
    "ExecuteTime": {
     "end_time": "2022-03-10T23:12:35.895207Z",
     "start_time": "2022-03-10T23:12:35.688845Z"
    }
   },
   "outputs": [
    {
     "data": {
      "image/png": "[encoded data removed]",
      "text/plain": [
       "<Figure size 720x432 with 1 Axes>"
      ]
     },
     "metadata": {
      "needs_background": "light"
     },
     "output_type": "display_data"
    }
   ],
   "source": [
    "# determining outliers\n",
    "q3, q1 = np.percentile(clean_columns['gross_to_budget_ratio'], [75, 25])\n",
    "q3, q1\n",
    "iqr = q3-q1\n",
    "\n",
    "lower_limit = clean_columns['gross_to_budget_ratio'].mean()-(iqr*1.5)\n",
    "\n",
    "upper_limit = clean_columns['gross_to_budget_ratio'].mean()+(iqr*1.5)\n",
    "\n",
    "lower_limit, upper_limit\n",
    "\n",
    "#limiting data to the upper limit of the iqr\n",
    "movies_oultierless = clean_columns[clean_columns['gross_to_budget_ratio']<upper_limit]\n",
    "\n",
    "\n",
    "#graph of movies_oultierless\n",
    "fig, ax = plt.subplots(figsize=(10,6))\n",
    "ax.ticklabel_format(style='plain')\n",
    "ax.scatter(movies_oultierless['production_budget'] , y = movies_oultierless['worldwide_gross'], alpha = .4, c=\"c\");\n",
    "\n",
    "x=movies_oultierless['production_budget']\n",
    "y=movies_oultierless['worldwide_gross']\n",
    "m, b = np.polyfit(x,y,1)\n",
    "plt.plot(x, m*x + b, c=\"purple\")\n",
    "plt.legend(['Return On Investment'])\n",
    "\n",
    "\n",
    "ax.set_title('Production Budget and Revenue without ROI outliers')\n",
    "ax.set_xlabel('Production Budget')\n",
    "ax.set_ylabel('Revenue')\n",
    "ax.yaxis.set_major_formatter(ticker.StrMethodFormatter('${x:,.0f}'))\n",
    "ax.xaxis.set_major_formatter(ticker.StrMethodFormatter('${x:,.0f}'))\n",
    "plt.savefig('./Untitled Folder/Production Budget and Worldwide Gross outlierless.png', bbox_inches = 'tight');"
   ]
  },
  {
   "cell_type": "code",
   "execution_count": 110,
   "metadata": {
    "ExecuteTime": {
     "end_time": "2022-03-10T23:12:35.911747Z",
     "start_time": "2022-03-10T23:12:35.896138Z"
    }
   },
   "outputs": [
    {
     "data": {
      "text/html": [
       "<div>\n",
       "<style scoped>\n",
       "    .dataframe tbody tr th:only-of-type {\n",
       "        vertical-align: middle;\n",
       "    }\n",
       "\n",
       "    .dataframe tbody tr th {\n",
       "        vertical-align: top;\n",
       "    }\n",
       "\n",
       "    .dataframe thead th {\n",
       "        text-align: right;\n",
       "    }\n",
       "</style>\n",
       "<table border=\"1\" class=\"dataframe\">\n",
       "  <thead>\n",
       "    <tr style=\"text-align: right;\">\n",
       "      <th></th>\n",
       "      <th>popularity</th>\n",
       "      <th>vote_average</th>\n",
       "      <th>vote_count</th>\n",
       "      <th>production_budget</th>\n",
       "      <th>domestic_gross</th>\n",
       "      <th>worldwide_gross</th>\n",
       "      <th>net_profit</th>\n",
       "      <th>return_on_investment</th>\n",
       "      <th>gross_to_budget_ratio</th>\n",
       "    </tr>\n",
       "  </thead>\n",
       "  <tbody>\n",
       "    <tr>\n",
       "      <th>count</th>\n",
       "      <td>2203</td>\n",
       "      <td>2203</td>\n",
       "      <td>2203</td>\n",
       "      <td>2203</td>\n",
       "      <td>2203</td>\n",
       "      <td>2203</td>\n",
       "      <td>2203</td>\n",
       "      <td>2203</td>\n",
       "      <td>2203</td>\n",
       "    </tr>\n",
       "    <tr>\n",
       "      <th>mean</th>\n",
       "      <td>10</td>\n",
       "      <td>6</td>\n",
       "      <td>1569</td>\n",
       "      <td>39893177</td>\n",
       "      <td>46496229</td>\n",
       "      <td>114324715</td>\n",
       "      <td>74431538</td>\n",
       "      <td>115</td>\n",
       "      <td>2</td>\n",
       "    </tr>\n",
       "    <tr>\n",
       "      <th>std</th>\n",
       "      <td>8</td>\n",
       "      <td>1</td>\n",
       "      <td>2600</td>\n",
       "      <td>52503432</td>\n",
       "      <td>80639261</td>\n",
       "      <td>219207642</td>\n",
       "      <td>177836071</td>\n",
       "      <td>215</td>\n",
       "      <td>2</td>\n",
       "    </tr>\n",
       "    <tr>\n",
       "      <th>min</th>\n",
       "      <td>1</td>\n",
       "      <td>0</td>\n",
       "      <td>1</td>\n",
       "      <td>9000</td>\n",
       "      <td>0</td>\n",
       "      <td>0</td>\n",
       "      <td>-110450242</td>\n",
       "      <td>-100</td>\n",
       "      <td>0</td>\n",
       "    </tr>\n",
       "    <tr>\n",
       "      <th>25%</th>\n",
       "      <td>5</td>\n",
       "      <td>6</td>\n",
       "      <td>46</td>\n",
       "      <td>6000000</td>\n",
       "      <td>566576</td>\n",
       "      <td>2322505</td>\n",
       "      <td>-2203312</td>\n",
       "      <td>-66</td>\n",
       "      <td>0</td>\n",
       "    </tr>\n",
       "    <tr>\n",
       "      <th>50%</th>\n",
       "      <td>9</td>\n",
       "      <td>6</td>\n",
       "      <td>509</td>\n",
       "      <td>20000000</td>\n",
       "      <td>17550872</td>\n",
       "      <td>32838945</td>\n",
       "      <td>10096003</td>\n",
       "      <td>55</td>\n",
       "      <td>2</td>\n",
       "    </tr>\n",
       "    <tr>\n",
       "      <th>75%</th>\n",
       "      <td>14</td>\n",
       "      <td>7</td>\n",
       "      <td>1896</td>\n",
       "      <td>50000000</td>\n",
       "      <td>54578792</td>\n",
       "      <td>112308341</td>\n",
       "      <td>68152398</td>\n",
       "      <td>222</td>\n",
       "      <td>3</td>\n",
       "    </tr>\n",
       "    <tr>\n",
       "      <th>max</th>\n",
       "      <td>81</td>\n",
       "      <td>10</td>\n",
       "      <td>22186</td>\n",
       "      <td>425000000</td>\n",
       "      <td>760507625</td>\n",
       "      <td>2776345279</td>\n",
       "      <td>2351345279</td>\n",
       "      <td>850</td>\n",
       "      <td>9</td>\n",
       "    </tr>\n",
       "  </tbody>\n",
       "</table>\n",
       "</div>"
      ],
      "text/plain": [
       "       popularity  vote_average  vote_count  production_budget  \\\n",
       "count        2203          2203        2203               2203   \n",
       "mean           10             6        1569           39893177   \n",
       "std             8             1        2600           52503432   \n",
       "min             1             0           1               9000   \n",
       "25%             5             6          46            6000000   \n",
       "50%             9             6         509           20000000   \n",
       "75%            14             7        1896           50000000   \n",
       "max            81            10       22186          425000000   \n",
       "\n",
       "       domestic_gross  worldwide_gross  net_profit  return_on_investment  \\\n",
       "count            2203             2203        2203                  2203   \n",
       "mean         46496229        114324715    74431538                   115   \n",
       "std          80639261        219207642   177836071                   215   \n",
       "min                 0                0  -110450242                  -100   \n",
       "25%            566576          2322505    -2203312                   -66   \n",
       "50%          17550872         32838945    10096003                    55   \n",
       "75%          54578792        112308341    68152398                   222   \n",
       "max         760507625       2776345279  2351345279                   850   \n",
       "\n",
       "       gross_to_budget_ratio  \n",
       "count                   2203  \n",
       "mean                       2  \n",
       "std                        2  \n",
       "min                        0  \n",
       "25%                        0  \n",
       "50%                        2  \n",
       "75%                        3  \n",
       "max                        9  "
      ]
     },
     "execution_count": 110,
     "metadata": {},
     "output_type": "execute_result"
    }
   ],
   "source": [
    "#get a sense of what the averages, medians and range are\n",
    "movies_oultierless.describe()"
   ]
  },
  {
   "cell_type": "code",
   "execution_count": 111,
   "metadata": {
    "ExecuteTime": {
     "end_time": "2022-03-10T23:12:35.915716Z",
     "start_time": "2022-03-10T23:12:35.912757Z"
    },
    "scrolled": true
   },
   "outputs": [
    {
     "data": {
      "text/plain": [
       "0.8333772111615128"
      ]
     },
     "execution_count": 111,
     "metadata": {},
     "output_type": "execute_result"
    }
   ],
   "source": [
    "#Removed outliers based on gross_to_budget_ratio. The correlation was very strong and positive.\n",
    "np.corrcoef(movies_oultierless['production_budget'] , y = movies_oultierless['worldwide_gross'])[0][1]\n",
    "#almost a 1:1 correlation"
   ]
  },
  {
   "cell_type": "markdown",
   "metadata": {},
   "source": [
    "A stronger correlation compared to when outliers were included. It looks to be very close to 1:1 relationship. "
   ]
  },
  {
   "cell_type": "code",
   "execution_count": 112,
   "metadata": {
    "ExecuteTime": {
     "end_time": "2022-03-10T23:12:35.934570Z",
     "start_time": "2022-03-10T23:12:35.916663Z"
    },
    "scrolled": true
   },
   "outputs": [
    {
     "data": {
      "text/html": [
       "<div>\n",
       "<style scoped>\n",
       "    .dataframe tbody tr th:only-of-type {\n",
       "        vertical-align: middle;\n",
       "    }\n",
       "\n",
       "    .dataframe tbody tr th {\n",
       "        vertical-align: top;\n",
       "    }\n",
       "\n",
       "    .dataframe thead th {\n",
       "        text-align: right;\n",
       "    }\n",
       "</style>\n",
       "<table border=\"1\" class=\"dataframe\">\n",
       "  <thead>\n",
       "    <tr style=\"text-align: right;\">\n",
       "      <th></th>\n",
       "      <th>popularity</th>\n",
       "      <th>vote_average</th>\n",
       "      <th>vote_count</th>\n",
       "      <th>production_budget</th>\n",
       "      <th>domestic_gross</th>\n",
       "      <th>worldwide_gross</th>\n",
       "      <th>net_profit</th>\n",
       "      <th>return_on_investment</th>\n",
       "      <th>gross_to_budget_ratio</th>\n",
       "    </tr>\n",
       "  </thead>\n",
       "  <tbody>\n",
       "    <tr>\n",
       "      <th>count</th>\n",
       "      <td>1628</td>\n",
       "      <td>1628</td>\n",
       "      <td>1628</td>\n",
       "      <td>1628</td>\n",
       "      <td>1628</td>\n",
       "      <td>1628</td>\n",
       "      <td>1628</td>\n",
       "      <td>1628</td>\n",
       "      <td>1628</td>\n",
       "    </tr>\n",
       "    <tr>\n",
       "      <th>mean</th>\n",
       "      <td>9</td>\n",
       "      <td>6</td>\n",
       "      <td>1001</td>\n",
       "      <td>18744708</td>\n",
       "      <td>23909380</td>\n",
       "      <td>45258749</td>\n",
       "      <td>26514041</td>\n",
       "      <td>288</td>\n",
       "      <td>4</td>\n",
       "    </tr>\n",
       "    <tr>\n",
       "      <th>std</th>\n",
       "      <td>6</td>\n",
       "      <td>1</td>\n",
       "      <td>1501</td>\n",
       "      <td>18065889</td>\n",
       "      <td>31827083</td>\n",
       "      <td>59525908</td>\n",
       "      <td>51212708</td>\n",
       "      <td>1543</td>\n",
       "      <td>15</td>\n",
       "    </tr>\n",
       "    <tr>\n",
       "      <th>min</th>\n",
       "      <td>1</td>\n",
       "      <td>0</td>\n",
       "      <td>1</td>\n",
       "      <td>9000</td>\n",
       "      <td>0</td>\n",
       "      <td>0</td>\n",
       "      <td>-64483721</td>\n",
       "      <td>-100</td>\n",
       "      <td>0</td>\n",
       "    </tr>\n",
       "    <tr>\n",
       "      <th>25%</th>\n",
       "      <td>6</td>\n",
       "      <td>6</td>\n",
       "      <td>61</td>\n",
       "      <td>3500000</td>\n",
       "      <td>214418</td>\n",
       "      <td>1224814</td>\n",
       "      <td>-2696138</td>\n",
       "      <td>-75</td>\n",
       "      <td>0</td>\n",
       "    </tr>\n",
       "    <tr>\n",
       "      <th>50%</th>\n",
       "      <td>9</td>\n",
       "      <td>6</td>\n",
       "      <td>440</td>\n",
       "      <td>13000000</td>\n",
       "      <td>10758547</td>\n",
       "      <td>20515516</td>\n",
       "      <td>4461564</td>\n",
       "      <td>44</td>\n",
       "      <td>1</td>\n",
       "    </tr>\n",
       "    <tr>\n",
       "      <th>75%</th>\n",
       "      <td>12</td>\n",
       "      <td>7</td>\n",
       "      <td>1312</td>\n",
       "      <td>30000000</td>\n",
       "      <td>36662592</td>\n",
       "      <td>67353830</td>\n",
       "      <td>40879829</td>\n",
       "      <td>230</td>\n",
       "      <td>3</td>\n",
       "    </tr>\n",
       "    <tr>\n",
       "      <th>max</th>\n",
       "      <td>78</td>\n",
       "      <td>10</td>\n",
       "      <td>19673</td>\n",
       "      <td>71682975</td>\n",
       "      <td>242212467</td>\n",
       "      <td>298923419</td>\n",
       "      <td>285154618</td>\n",
       "      <td>41556</td>\n",
       "      <td>417</td>\n",
       "    </tr>\n",
       "  </tbody>\n",
       "</table>\n",
       "</div>"
      ],
      "text/plain": [
       "       popularity  vote_average  vote_count  production_budget  \\\n",
       "count        1628          1628        1628               1628   \n",
       "mean            9             6        1001           18744708   \n",
       "std             6             1        1501           18065889   \n",
       "min             1             0           1               9000   \n",
       "25%             6             6          61            3500000   \n",
       "50%             9             6         440           13000000   \n",
       "75%            12             7        1312           30000000   \n",
       "max            78            10       19673           71682975   \n",
       "\n",
       "       domestic_gross  worldwide_gross  net_profit  return_on_investment  \\\n",
       "count            1628             1628        1628                  1628   \n",
       "mean         23909380         45258749    26514041                   288   \n",
       "std          31827083         59525908    51212708                  1543   \n",
       "min                 0                0   -64483721                  -100   \n",
       "25%            214418          1224814    -2696138                   -75   \n",
       "50%          10758547         20515516     4461564                    44   \n",
       "75%          36662592         67353830    40879829                   230   \n",
       "max         242212467        298923419   285154618                 41556   \n",
       "\n",
       "       gross_to_budget_ratio  \n",
       "count                   1628  \n",
       "mean                       4  \n",
       "std                       15  \n",
       "min                        0  \n",
       "25%                        0  \n",
       "50%                        1  \n",
       "75%                        3  \n",
       "max                      417  "
      ]
     },
     "execution_count": 112,
     "metadata": {},
     "output_type": "execute_result"
    }
   ],
   "source": [
    "#get a sense of what the averages, medians and range are\n",
    "movies_without_wwg_or_pb_outliers.describe()"
   ]
  },
  {
   "cell_type": "code",
   "execution_count": 113,
   "metadata": {
    "ExecuteTime": {
     "end_time": "2022-03-10T23:12:36.286885Z",
     "start_time": "2022-03-10T23:12:35.936322Z"
    },
    "scrolled": false
   },
   "outputs": [
    {
     "data": {
      "image/png": "[encoded data removed]",
      "text/plain": [
       "<Figure size 720x432 with 1 Axes>"
      ]
     },
     "metadata": {
      "needs_background": "light"
     },
     "output_type": "display_data"
    }
   ],
   "source": [
    "#graph of movies_without_wwg_or_pb_outliers\n",
    "fig, ax = plt.subplots(figsize=(10,6),)\n",
    "ax.ticklabel_format(style='plain')\n",
    "ax.scatter(movies_without_wwg_or_pb_outliers['production_budget'] , y = movies_without_wwg_or_pb_outliers['worldwide_gross'], alpha = .3, c=\"c\")\n",
    "\n",
    "\n",
    "x=movies_without_wwg_or_pb_outliers['production_budget']\n",
    "y=movies_without_wwg_or_pb_outliers['worldwide_gross']\n",
    "m, b = np.polyfit(x,y,1)\n",
    "plt.plot(x, m*x + b, c=\"purple\")\n",
    "plt.legend(['Return On Investment'], )\n",
    "\n",
    "plt.plot(x, x, c=\"orange\", ls=\"--\")\n",
    "plt.legend(['Return On Investment', 'Breakeven'])\n",
    "\n",
    "ax.set_title('Production Budget and Revenue')\n",
    "\n",
    "ax.set_xlabel('Production Budget')\n",
    "ax.set_ylabel('Revenue')\n",
    "ax.yaxis.set_major_formatter(ticker.StrMethodFormatter('${x:,.0f}')) #adds commas to the int value\n",
    "ax.xaxis.set_major_formatter(ticker.StrMethodFormatter('${x:,.0f}'))\n",
    "plt.savefig('./Untitled Folder/Production Budget and Worldwide Gross without wwg or pb.png', bbox_inches = 'tight');"
   ]
  },
  {
   "cell_type": "code",
   "execution_count": 114,
   "metadata": {
    "ExecuteTime": {
     "end_time": "2022-03-10T23:12:36.290806Z",
     "start_time": "2022-03-10T23:12:36.288004Z"
    }
   },
   "outputs": [
    {
     "data": {
      "text/plain": [
       "0.5797758751480752"
      ]
     },
     "execution_count": 114,
     "metadata": {},
     "output_type": "execute_result"
    }
   ],
   "source": [
    "#checking the correlation coefficient of movies_without_wwg_or_pb_outliers\n",
    "np.corrcoef(movies_without_wwg_or_pb_outliers['production_budget'] , y = movies_without_wwg_or_pb_outliers['worldwide_gross'])[0][1]\n",
    "#postive correlation but not as strong as the movie_oultierless"
   ]
  },
  {
   "cell_type": "code",
   "execution_count": 115,
   "metadata": {
    "ExecuteTime": {
     "end_time": "2022-03-10T23:12:36.523745Z",
     "start_time": "2022-03-10T23:12:36.291944Z"
    },
    "scrolled": false
   },
   "outputs": [
    {
     "data": {
      "image/png": "[encoded data removed]",
      "text/plain": [
       "<Figure size 720x432 with 1 Axes>"
      ]
     },
     "metadata": {
      "needs_background": "light"
     },
     "output_type": "display_data"
    }
   ],
   "source": [
    "fig, ax = plt.subplots(figsize=(10,6),)\n",
    "ax.ticklabel_format(style='plain')\n",
    "ax.scatter(movies_without_wwg_or_pb_outliers['production_budget'] , y = movies_without_wwg_or_pb_outliers['net_profit'], alpha = .3, c=\"c\")\n",
    "\n",
    "\n",
    "x=movies_without_wwg_or_pb_outliers['production_budget']\n",
    "y=movies_without_wwg_or_pb_outliers['net_profit']\n",
    "m, b = np.polyfit(x,y,1)\n",
    "plt.plot(x, m*x + b, c=\"purple\")\n",
    "plt.legend(['Correlation'], )\n",
    "\n",
    "plt.plot(x, x, c=\"orange\", ls=\"--\")\n",
    "plt.legend(['Return On Investment', 'Breakeven'])\n",
    "\n",
    "ax.set_title('Production Budget and Revenue')\n",
    "\n",
    "ax.set_xlabel('Production Budget')\n",
    "ax.set_ylabel('net_profit')\n",
    "#ax.yaxis.set_major_formatter(ticker.StrMethodFormatter('${x:,.0f}')) #adds commas to the int value\n",
    "ax.xaxis.set_major_formatter(ticker.StrMethodFormatter('${x:,.0f}'))\n",
    "plt.savefig('./Untitled Folder/Production Budget and Worldwide Gross without wwg or pb.png', bbox_inches = 'tight');"
   ]
  },
  {
   "cell_type": "code",
   "execution_count": 116,
   "metadata": {
    "ExecuteTime": {
     "end_time": "2022-03-10T23:12:36.528012Z",
     "start_time": "2022-03-10T23:12:36.524827Z"
    }
   },
   "outputs": [
    {
     "data": {
      "text/plain": [
       "0.32112725035800754"
      ]
     },
     "execution_count": 116,
     "metadata": {},
     "output_type": "execute_result"
    }
   ],
   "source": [
    "np.corrcoef(movies_without_wwg_or_pb_outliers['production_budget'] , y = movies_without_wwg_or_pb_outliers['net_profit'])[0][1]\n"
   ]
  },
  {
   "cell_type": "code",
   "execution_count": 117,
   "metadata": {
    "ExecuteTime": {
     "end_time": "2022-03-10T23:12:36.733879Z",
     "start_time": "2022-03-10T23:12:36.529000Z"
    },
    "scrolled": false
   },
   "outputs": [
    {
     "data": {
      "image/png": "[encoded data removed]",
      "text/plain": [
       "<Figure size 720x432 with 1 Axes>"
      ]
     },
     "metadata": {
      "needs_background": "light"
     },
     "output_type": "display_data"
    }
   ],
   "source": [
    "fig, ax = plt.subplots(figsize=(10,6))\n",
    "ax.ticklabel_format(style='plain')\n",
    "ax.scatter(clean_columns['production_budget'] , y = clean_columns['net_profit'], alpha = .4, c=\"c\");\n",
    "\n",
    "x=clean_columns['production_budget']\n",
    "y=clean_columns['net_profit']\n",
    "m, b = np.polyfit(x,y,1)\n",
    "plt.plot(x, m*x + b, c=\"purple\")\n",
    "plt.legend(['Return On Investment'])\n",
    "\n",
    "ax.set_title('Production Budget and Revenue')\n",
    "ax.set_xlabel('Production Budget')\n",
    "ax.set_ylabel('net_profit')\n",
    "ax.yaxis.set_major_formatter(ticker.StrMethodFormatter('${x:,.0f}'))\n",
    "ax.xaxis.set_major_formatter(ticker.StrMethodFormatter('${x:,.0f}'))\n",
    "plt.savefig('./Untitled Folder/Production Budget and Worldwide Gross with outliers.png', bbox_inches = 'tight');"
   ]
  },
  {
   "cell_type": "code",
   "execution_count": 118,
   "metadata": {
    "ExecuteTime": {
     "end_time": "2022-03-10T23:12:36.737903Z",
     "start_time": "2022-03-10T23:12:36.734851Z"
    }
   },
   "outputs": [
    {
     "data": {
      "text/plain": [
       "0.6792511959238815"
      ]
     },
     "execution_count": 118,
     "metadata": {},
     "output_type": "execute_result"
    }
   ],
   "source": [
    "np.corrcoef(clean_columns['production_budget'] , y = clean_columns['net_profit'])[0][1]"
   ]
  },
  {
   "cell_type": "code",
   "execution_count": 119,
   "metadata": {
    "ExecuteTime": {
     "end_time": "2022-03-10T23:12:36.757614Z",
     "start_time": "2022-03-10T23:12:36.738848Z"
    },
    "scrolled": true
   },
   "outputs": [
    {
     "data": {
      "text/html": [
       "<div>\n",
       "<style scoped>\n",
       "    .dataframe tbody tr th:only-of-type {\n",
       "        vertical-align: middle;\n",
       "    }\n",
       "\n",
       "    .dataframe tbody tr th {\n",
       "        vertical-align: top;\n",
       "    }\n",
       "\n",
       "    .dataframe thead th {\n",
       "        text-align: right;\n",
       "    }\n",
       "</style>\n",
       "<table border=\"1\" class=\"dataframe\">\n",
       "  <thead>\n",
       "    <tr style=\"text-align: right;\">\n",
       "      <th></th>\n",
       "      <th>popularity</th>\n",
       "      <th>vote_average</th>\n",
       "      <th>vote_count</th>\n",
       "      <th>production_budget</th>\n",
       "      <th>domestic_gross</th>\n",
       "      <th>worldwide_gross</th>\n",
       "      <th>net_profit</th>\n",
       "      <th>return_on_investment</th>\n",
       "      <th>gross_to_budget_ratio</th>\n",
       "    </tr>\n",
       "  </thead>\n",
       "  <tbody>\n",
       "    <tr>\n",
       "      <th>count</th>\n",
       "      <td>1985</td>\n",
       "      <td>1985</td>\n",
       "      <td>1985</td>\n",
       "      <td>1985</td>\n",
       "      <td>1985</td>\n",
       "      <td>1985</td>\n",
       "      <td>1985</td>\n",
       "      <td>1985</td>\n",
       "      <td>1985</td>\n",
       "    </tr>\n",
       "    <tr>\n",
       "      <th>mean</th>\n",
       "      <td>11</td>\n",
       "      <td>6</td>\n",
       "      <td>1751</td>\n",
       "      <td>38141604</td>\n",
       "      <td>48869281</td>\n",
       "      <td>119200891</td>\n",
       "      <td>81059287</td>\n",
       "      <td>299</td>\n",
       "      <td>4</td>\n",
       "    </tr>\n",
       "    <tr>\n",
       "      <th>std</th>\n",
       "      <td>8</td>\n",
       "      <td>1</td>\n",
       "      <td>2716</td>\n",
       "      <td>51548575</td>\n",
       "      <td>80553279</td>\n",
       "      <td>220735239</td>\n",
       "      <td>182342254</td>\n",
       "      <td>1413</td>\n",
       "      <td>14</td>\n",
       "    </tr>\n",
       "    <tr>\n",
       "      <th>min</th>\n",
       "      <td>1</td>\n",
       "      <td>0</td>\n",
       "      <td>1</td>\n",
       "      <td>9000</td>\n",
       "      <td>0</td>\n",
       "      <td>0</td>\n",
       "      <td>-110450242</td>\n",
       "      <td>-100</td>\n",
       "      <td>0</td>\n",
       "    </tr>\n",
       "    <tr>\n",
       "      <th>25%</th>\n",
       "      <td>6</td>\n",
       "      <td>6</td>\n",
       "      <td>97</td>\n",
       "      <td>5000000</td>\n",
       "      <td>890303</td>\n",
       "      <td>3237452</td>\n",
       "      <td>-1794702</td>\n",
       "      <td>-57</td>\n",
       "      <td>0</td>\n",
       "    </tr>\n",
       "    <tr>\n",
       "      <th>50%</th>\n",
       "      <td>10</td>\n",
       "      <td>6</td>\n",
       "      <td>692</td>\n",
       "      <td>20000000</td>\n",
       "      <td>20738724</td>\n",
       "      <td>37119358</td>\n",
       "      <td>13874967</td>\n",
       "      <td>79</td>\n",
       "      <td>2</td>\n",
       "    </tr>\n",
       "    <tr>\n",
       "      <th>75%</th>\n",
       "      <td>15</td>\n",
       "      <td>7</td>\n",
       "      <td>2147</td>\n",
       "      <td>48000000</td>\n",
       "      <td>58269151</td>\n",
       "      <td>123696741</td>\n",
       "      <td>77309178</td>\n",
       "      <td>279</td>\n",
       "      <td>4</td>\n",
       "    </tr>\n",
       "    <tr>\n",
       "      <th>max</th>\n",
       "      <td>81</td>\n",
       "      <td>10</td>\n",
       "      <td>22186</td>\n",
       "      <td>425000000</td>\n",
       "      <td>760507625</td>\n",
       "      <td>2776345279</td>\n",
       "      <td>2351345279</td>\n",
       "      <td>41556</td>\n",
       "      <td>417</td>\n",
       "    </tr>\n",
       "  </tbody>\n",
       "</table>\n",
       "</div>"
      ],
      "text/plain": [
       "       popularity  vote_average  vote_count  production_budget  \\\n",
       "count        1985          1985        1985               1985   \n",
       "mean           11             6        1751           38141604   \n",
       "std             8             1        2716           51548575   \n",
       "min             1             0           1               9000   \n",
       "25%             6             6          97            5000000   \n",
       "50%            10             6         692           20000000   \n",
       "75%            15             7        2147           48000000   \n",
       "max            81            10       22186          425000000   \n",
       "\n",
       "       domestic_gross  worldwide_gross  net_profit  return_on_investment  \\\n",
       "count            1985             1985        1985                  1985   \n",
       "mean         48869281        119200891    81059287                   299   \n",
       "std          80553279        220735239   182342254                  1413   \n",
       "min                 0                0  -110450242                  -100   \n",
       "25%            890303          3237452    -1794702                   -57   \n",
       "50%          20738724         37119358    13874967                    79   \n",
       "75%          58269151        123696741    77309178                   279   \n",
       "max         760507625       2776345279  2351345279                 41556   \n",
       "\n",
       "       gross_to_budget_ratio  \n",
       "count                   1985  \n",
       "mean                       4  \n",
       "std                       14  \n",
       "min                        0  \n",
       "25%                        0  \n",
       "50%                        2  \n",
       "75%                        4  \n",
       "max                      417  "
      ]
     },
     "execution_count": 119,
     "metadata": {},
     "output_type": "execute_result"
    }
   ],
   "source": [
    "movies_clean.describe()"
   ]
  },
  {
   "cell_type": "code",
   "execution_count": 120,
   "metadata": {
    "ExecuteTime": {
     "end_time": "2022-03-10T23:12:36.777081Z",
     "start_time": "2022-03-10T23:12:36.758550Z"
    }
   },
   "outputs": [
    {
     "data": {
      "text/html": [
       "<div>\n",
       "<style scoped>\n",
       "    .dataframe tbody tr th:only-of-type {\n",
       "        vertical-align: middle;\n",
       "    }\n",
       "\n",
       "    .dataframe tbody tr th {\n",
       "        vertical-align: top;\n",
       "    }\n",
       "\n",
       "    .dataframe thead th {\n",
       "        text-align: right;\n",
       "    }\n",
       "</style>\n",
       "<table border=\"1\" class=\"dataframe\">\n",
       "  <thead>\n",
       "    <tr style=\"text-align: right;\">\n",
       "      <th></th>\n",
       "      <th>popularity</th>\n",
       "      <th>vote_average</th>\n",
       "      <th>vote_count</th>\n",
       "      <th>production_budget</th>\n",
       "      <th>domestic_gross</th>\n",
       "      <th>worldwide_gross</th>\n",
       "      <th>net_profit</th>\n",
       "      <th>return_on_investment</th>\n",
       "      <th>gross_to_budget_ratio</th>\n",
       "    </tr>\n",
       "  </thead>\n",
       "  <tbody>\n",
       "    <tr>\n",
       "      <th>count</th>\n",
       "      <td>525</td>\n",
       "      <td>525</td>\n",
       "      <td>525</td>\n",
       "      <td>525</td>\n",
       "      <td>525</td>\n",
       "      <td>525</td>\n",
       "      <td>525</td>\n",
       "      <td>525</td>\n",
       "      <td>525</td>\n",
       "    </tr>\n",
       "    <tr>\n",
       "      <th>mean</th>\n",
       "      <td>9</td>\n",
       "      <td>6</td>\n",
       "      <td>989</td>\n",
       "      <td>10914952</td>\n",
       "      <td>22021114</td>\n",
       "      <td>39936377</td>\n",
       "      <td>29021425</td>\n",
       "      <td>298</td>\n",
       "      <td>4</td>\n",
       "    </tr>\n",
       "    <tr>\n",
       "      <th>std</th>\n",
       "      <td>5</td>\n",
       "      <td>1</td>\n",
       "      <td>1519</td>\n",
       "      <td>4134163</td>\n",
       "      <td>32788401</td>\n",
       "      <td>60401824</td>\n",
       "      <td>60016803</td>\n",
       "      <td>662</td>\n",
       "      <td>7</td>\n",
       "    </tr>\n",
       "    <tr>\n",
       "      <th>min</th>\n",
       "      <td>1</td>\n",
       "      <td>0</td>\n",
       "      <td>1</td>\n",
       "      <td>5000000</td>\n",
       "      <td>0</td>\n",
       "      <td>0</td>\n",
       "      <td>-19800000</td>\n",
       "      <td>-100</td>\n",
       "      <td>0</td>\n",
       "    </tr>\n",
       "    <tr>\n",
       "      <th>25%</th>\n",
       "      <td>7</td>\n",
       "      <td>6</td>\n",
       "      <td>112</td>\n",
       "      <td>7500000</td>\n",
       "      <td>1109199</td>\n",
       "      <td>3503761</td>\n",
       "      <td>-5436920</td>\n",
       "      <td>-66</td>\n",
       "      <td>0</td>\n",
       "    </tr>\n",
       "    <tr>\n",
       "      <th>50%</th>\n",
       "      <td>9</td>\n",
       "      <td>6</td>\n",
       "      <td>384</td>\n",
       "      <td>10000000</td>\n",
       "      <td>9176933</td>\n",
       "      <td>17856688</td>\n",
       "      <td>7503828</td>\n",
       "      <td>72</td>\n",
       "      <td>2</td>\n",
       "    </tr>\n",
       "    <tr>\n",
       "      <th>75%</th>\n",
       "      <td>12</td>\n",
       "      <td>7</td>\n",
       "      <td>1142</td>\n",
       "      <td>14500000</td>\n",
       "      <td>30014534</td>\n",
       "      <td>50445860</td>\n",
       "      <td>37844516</td>\n",
       "      <td>391</td>\n",
       "      <td>5</td>\n",
       "    </tr>\n",
       "    <tr>\n",
       "      <th>max</th>\n",
       "      <td>33</td>\n",
       "      <td>9</td>\n",
       "      <td>10396</td>\n",
       "      <td>19800000</td>\n",
       "      <td>260000000</td>\n",
       "      <td>470700000</td>\n",
       "      <td>458700000</td>\n",
       "      <td>5479</td>\n",
       "      <td>56</td>\n",
       "    </tr>\n",
       "  </tbody>\n",
       "</table>\n",
       "</div>"
      ],
      "text/plain": [
       "       popularity  vote_average  vote_count  production_budget  \\\n",
       "count         525           525         525                525   \n",
       "mean            9             6         989           10914952   \n",
       "std             5             1        1519            4134163   \n",
       "min             1             0           1            5000000   \n",
       "25%             7             6         112            7500000   \n",
       "50%             9             6         384           10000000   \n",
       "75%            12             7        1142           14500000   \n",
       "max            33             9       10396           19800000   \n",
       "\n",
       "       domestic_gross  worldwide_gross  net_profit  return_on_investment  \\\n",
       "count             525              525         525                   525   \n",
       "mean         22021114         39936377    29021425                   298   \n",
       "std          32788401         60401824    60016803                   662   \n",
       "min                 0                0   -19800000                  -100   \n",
       "25%           1109199          3503761    -5436920                   -66   \n",
       "50%           9176933         17856688     7503828                    72   \n",
       "75%          30014534         50445860    37844516                   391   \n",
       "max         260000000        470700000   458700000                  5479   \n",
       "\n",
       "       gross_to_budget_ratio  \n",
       "count                    525  \n",
       "mean                       4  \n",
       "std                        7  \n",
       "min                        0  \n",
       "25%                        0  \n",
       "50%                        2  \n",
       "75%                        5  \n",
       "max                       56  "
      ]
     },
     "execution_count": 120,
     "metadata": {},
     "output_type": "execute_result"
    }
   ],
   "source": [
    "twenty = movies_clean[(movies_clean['production_budget'] >= 5.000000e+06)]\n",
    "twenty_fifty = twenty[twenty['production_budget'] < 2.000000e+07]\n",
    "twenty_fifty.describe()"
   ]
  },
  {
   "cell_type": "code",
   "execution_count": 121,
   "metadata": {
    "ExecuteTime": {
     "end_time": "2022-03-10T23:12:36.798220Z",
     "start_time": "2022-03-10T23:12:36.778003Z"
    }
   },
   "outputs": [
    {
     "data": {
      "text/html": [
       "<div>\n",
       "<style scoped>\n",
       "    .dataframe tbody tr th:only-of-type {\n",
       "        vertical-align: middle;\n",
       "    }\n",
       "\n",
       "    .dataframe tbody tr th {\n",
       "        vertical-align: top;\n",
       "    }\n",
       "\n",
       "    .dataframe thead th {\n",
       "        text-align: right;\n",
       "    }\n",
       "</style>\n",
       "<table border=\"1\" class=\"dataframe\">\n",
       "  <thead>\n",
       "    <tr style=\"text-align: right;\">\n",
       "      <th></th>\n",
       "      <th>popularity</th>\n",
       "      <th>vote_average</th>\n",
       "      <th>vote_count</th>\n",
       "      <th>production_budget</th>\n",
       "      <th>domestic_gross</th>\n",
       "      <th>worldwide_gross</th>\n",
       "      <th>net_profit</th>\n",
       "      <th>return_on_investment</th>\n",
       "      <th>gross_to_budget_ratio</th>\n",
       "    </tr>\n",
       "  </thead>\n",
       "  <tbody>\n",
       "    <tr>\n",
       "      <th>count</th>\n",
       "      <td>499</td>\n",
       "      <td>499</td>\n",
       "      <td>499</td>\n",
       "      <td>499</td>\n",
       "      <td>499</td>\n",
       "      <td>499</td>\n",
       "      <td>499</td>\n",
       "      <td>499</td>\n",
       "      <td>499</td>\n",
       "    </tr>\n",
       "    <tr>\n",
       "      <th>mean</th>\n",
       "      <td>11</td>\n",
       "      <td>6</td>\n",
       "      <td>1511</td>\n",
       "      <td>30151703</td>\n",
       "      <td>41073336</td>\n",
       "      <td>78441242</td>\n",
       "      <td>48289539</td>\n",
       "      <td>165</td>\n",
       "      <td>3</td>\n",
       "    </tr>\n",
       "    <tr>\n",
       "      <th>std</th>\n",
       "      <td>7</td>\n",
       "      <td>1</td>\n",
       "      <td>1905</td>\n",
       "      <td>7790568</td>\n",
       "      <td>44253920</td>\n",
       "      <td>86514036</td>\n",
       "      <td>85426707</td>\n",
       "      <td>313</td>\n",
       "      <td>3</td>\n",
       "    </tr>\n",
       "    <tr>\n",
       "      <th>min</th>\n",
       "      <td>1</td>\n",
       "      <td>1</td>\n",
       "      <td>1</td>\n",
       "      <td>20000000</td>\n",
       "      <td>0</td>\n",
       "      <td>0</td>\n",
       "      <td>-46477746</td>\n",
       "      <td>-100</td>\n",
       "      <td>0</td>\n",
       "    </tr>\n",
       "    <tr>\n",
       "      <th>25%</th>\n",
       "      <td>8</td>\n",
       "      <td>6</td>\n",
       "      <td>330</td>\n",
       "      <td>24000000</td>\n",
       "      <td>12529420</td>\n",
       "      <td>25234286</td>\n",
       "      <td>-4113822</td>\n",
       "      <td>-14</td>\n",
       "      <td>1</td>\n",
       "    </tr>\n",
       "    <tr>\n",
       "      <th>50%</th>\n",
       "      <td>11</td>\n",
       "      <td>6</td>\n",
       "      <td>900</td>\n",
       "      <td>30000000</td>\n",
       "      <td>30577122</td>\n",
       "      <td>55909910</td>\n",
       "      <td>26627836</td>\n",
       "      <td>88</td>\n",
       "      <td>2</td>\n",
       "    </tr>\n",
       "    <tr>\n",
       "      <th>75%</th>\n",
       "      <td>14</td>\n",
       "      <td>7</td>\n",
       "      <td>1788</td>\n",
       "      <td>35000000</td>\n",
       "      <td>53789318</td>\n",
       "      <td>96650160</td>\n",
       "      <td>66468398</td>\n",
       "      <td>223</td>\n",
       "      <td>3</td>\n",
       "    </tr>\n",
       "    <tr>\n",
       "      <th>max</th>\n",
       "      <td>78</td>\n",
       "      <td>10</td>\n",
       "      <td>11023</td>\n",
       "      <td>47500000</td>\n",
       "      <td>376057266</td>\n",
       "      <td>697457969</td>\n",
       "      <td>662457969</td>\n",
       "      <td>2942</td>\n",
       "      <td>30</td>\n",
       "    </tr>\n",
       "  </tbody>\n",
       "</table>\n",
       "</div>"
      ],
      "text/plain": [
       "       popularity  vote_average  vote_count  production_budget  \\\n",
       "count         499           499         499                499   \n",
       "mean           11             6        1511           30151703   \n",
       "std             7             1        1905            7790568   \n",
       "min             1             1           1           20000000   \n",
       "25%             8             6         330           24000000   \n",
       "50%            11             6         900           30000000   \n",
       "75%            14             7        1788           35000000   \n",
       "max            78            10       11023           47500000   \n",
       "\n",
       "       domestic_gross  worldwide_gross  net_profit  return_on_investment  \\\n",
       "count             499              499         499                   499   \n",
       "mean         41073336         78441242    48289539                   165   \n",
       "std          44253920         86514036    85426707                   313   \n",
       "min                 0                0   -46477746                  -100   \n",
       "25%          12529420         25234286    -4113822                   -14   \n",
       "50%          30577122         55909910    26627836                    88   \n",
       "75%          53789318         96650160    66468398                   223   \n",
       "max         376057266        697457969   662457969                  2942   \n",
       "\n",
       "       gross_to_budget_ratio  \n",
       "count                    499  \n",
       "mean                       3  \n",
       "std                        3  \n",
       "min                        0  \n",
       "25%                        1  \n",
       "50%                        2  \n",
       "75%                        3  \n",
       "max                       30  "
      ]
     },
     "execution_count": 121,
     "metadata": {},
     "output_type": "execute_result"
    }
   ],
   "source": [
    "fifty = movies_clean[(movies_clean['production_budget'] >= 2.000000e+07)]\n",
    "fifty_seventy = fifty[fifty['production_budget'] < 4.800000e+07]\n",
    "fifty_seventy.describe()"
   ]
  },
  {
   "cell_type": "code",
   "execution_count": 122,
   "metadata": {
    "ExecuteTime": {
     "end_time": "2022-03-10T23:12:36.819354Z",
     "start_time": "2022-03-10T23:12:36.800098Z"
    }
   },
   "outputs": [
    {
     "data": {
      "text/html": [
       "<div>\n",
       "<style scoped>\n",
       "    .dataframe tbody tr th:only-of-type {\n",
       "        vertical-align: middle;\n",
       "    }\n",
       "\n",
       "    .dataframe tbody tr th {\n",
       "        vertical-align: top;\n",
       "    }\n",
       "\n",
       "    .dataframe thead th {\n",
       "        text-align: right;\n",
       "    }\n",
       "</style>\n",
       "<table border=\"1\" class=\"dataframe\">\n",
       "  <thead>\n",
       "    <tr style=\"text-align: right;\">\n",
       "      <th></th>\n",
       "      <th>popularity</th>\n",
       "      <th>vote_average</th>\n",
       "      <th>vote_count</th>\n",
       "      <th>production_budget</th>\n",
       "      <th>domestic_gross</th>\n",
       "      <th>worldwide_gross</th>\n",
       "      <th>net_profit</th>\n",
       "      <th>return_on_investment</th>\n",
       "      <th>gross_to_budget_ratio</th>\n",
       "    </tr>\n",
       "  </thead>\n",
       "  <tbody>\n",
       "    <tr>\n",
       "      <th>count</th>\n",
       "      <td>183</td>\n",
       "      <td>183</td>\n",
       "      <td>183</td>\n",
       "      <td>183</td>\n",
       "      <td>183</td>\n",
       "      <td>183</td>\n",
       "      <td>183</td>\n",
       "      <td>183</td>\n",
       "      <td>183</td>\n",
       "    </tr>\n",
       "    <tr>\n",
       "      <th>mean</th>\n",
       "      <td>13</td>\n",
       "      <td>6</td>\n",
       "      <td>2265</td>\n",
       "      <td>58656191</td>\n",
       "      <td>69675558</td>\n",
       "      <td>160459219</td>\n",
       "      <td>101803028</td>\n",
       "      <td>172</td>\n",
       "      <td>3</td>\n",
       "    </tr>\n",
       "    <tr>\n",
       "      <th>std</th>\n",
       "      <td>8</td>\n",
       "      <td>1</td>\n",
       "      <td>2666</td>\n",
       "      <td>7329943</td>\n",
       "      <td>61606791</td>\n",
       "      <td>156424751</td>\n",
       "      <td>155354990</td>\n",
       "      <td>255</td>\n",
       "      <td>3</td>\n",
       "    </tr>\n",
       "    <tr>\n",
       "      <th>min</th>\n",
       "      <td>1</td>\n",
       "      <td>3</td>\n",
       "      <td>1</td>\n",
       "      <td>48000000</td>\n",
       "      <td>0</td>\n",
       "      <td>0</td>\n",
       "      <td>-64483721</td>\n",
       "      <td>-100</td>\n",
       "      <td>0</td>\n",
       "    </tr>\n",
       "    <tr>\n",
       "      <th>25%</th>\n",
       "      <td>10</td>\n",
       "      <td>6</td>\n",
       "      <td>736</td>\n",
       "      <td>50000000</td>\n",
       "      <td>32739621</td>\n",
       "      <td>68733578</td>\n",
       "      <td>9586018</td>\n",
       "      <td>16</td>\n",
       "      <td>1</td>\n",
       "    </tr>\n",
       "    <tr>\n",
       "      <th>50%</th>\n",
       "      <td>13</td>\n",
       "      <td>6</td>\n",
       "      <td>1684</td>\n",
       "      <td>60000000</td>\n",
       "      <td>52397389</td>\n",
       "      <td>118729073</td>\n",
       "      <td>61300835</td>\n",
       "      <td>112</td>\n",
       "      <td>2</td>\n",
       "    </tr>\n",
       "    <tr>\n",
       "      <th>75%</th>\n",
       "      <td>17</td>\n",
       "      <td>7</td>\n",
       "      <td>2826</td>\n",
       "      <td>65000000</td>\n",
       "      <td>84731846</td>\n",
       "      <td>212427722</td>\n",
       "      <td>147976593</td>\n",
       "      <td>244</td>\n",
       "      <td>3</td>\n",
       "    </tr>\n",
       "    <tr>\n",
       "      <th>max</th>\n",
       "      <td>50</td>\n",
       "      <td>10</td>\n",
       "      <td>20175</td>\n",
       "      <td>74000000</td>\n",
       "      <td>363070709</td>\n",
       "      <td>1160336173</td>\n",
       "      <td>1086336173</td>\n",
       "      <td>1527</td>\n",
       "      <td>16</td>\n",
       "    </tr>\n",
       "  </tbody>\n",
       "</table>\n",
       "</div>"
      ],
      "text/plain": [
       "       popularity  vote_average  vote_count  production_budget  \\\n",
       "count         183           183         183                183   \n",
       "mean           13             6        2265           58656191   \n",
       "std             8             1        2666            7329943   \n",
       "min             1             3           1           48000000   \n",
       "25%            10             6         736           50000000   \n",
       "50%            13             6        1684           60000000   \n",
       "75%            17             7        2826           65000000   \n",
       "max            50            10       20175           74000000   \n",
       "\n",
       "       domestic_gross  worldwide_gross  net_profit  return_on_investment  \\\n",
       "count             183              183         183                   183   \n",
       "mean         69675558        160459219   101803028                   172   \n",
       "std          61606791        156424751   155354990                   255   \n",
       "min                 0                0   -64483721                  -100   \n",
       "25%          32739621         68733578     9586018                    16   \n",
       "50%          52397389        118729073    61300835                   112   \n",
       "75%          84731846        212427722   147976593                   244   \n",
       "max         363070709       1160336173  1086336173                  1527   \n",
       "\n",
       "       gross_to_budget_ratio  \n",
       "count                    183  \n",
       "mean                       3  \n",
       "std                        3  \n",
       "min                        0  \n",
       "25%                        1  \n",
       "50%                        2  \n",
       "75%                        3  \n",
       "max                       16  "
      ]
     },
     "execution_count": 122,
     "metadata": {},
     "output_type": "execute_result"
    }
   ],
   "source": [
    "seventy = movies_clean[(movies_clean['production_budget'] >= 4.800000e+07)]\n",
    "seventy_max = seventy[seventy['production_budget'] < 7.500000e+07]\n",
    "seventy_max.describe()"
   ]
  },
  {
   "cell_type": "code",
   "execution_count": 160,
   "metadata": {
    "ExecuteTime": {
     "end_time": "2022-03-10T23:44:15.474425Z",
     "start_time": "2022-03-10T23:44:15.315889Z"
    },
    "scrolled": false
   },
   "outputs": [
    {
     "data": {
      "image/png": "[encoded data removed]",
      "text/plain": [
       "<Figure size 720x432 with 1 Axes>"
      ]
     },
     "metadata": {
      "needs_background": "light"
     },
     "output_type": "display_data"
    }
   ],
   "source": [
    "fig, ax = plt.subplots(figsize=(10,6))\n",
    "\n",
    "ax.barh(y=['48-75', '20-48', '5-20' ], width=[seventy_max['return_on_investment'].mean(),fifty_seventy['return_on_investment'].mean(), twenty_fifty['return_on_investment'].mean()] , color=\"saddlebrown\", edgecolor=\"lightgrey\")\n",
    "\n",
    "\n",
    "ax.set_title('Production Budget and ROI')\n",
    "ax.set_xlabel('Average ROI')\n",
    "ax.set_ylabel('Production Budget (mil)')\n",
    "plt.savefig('./Untitled Folder/Production Budget and ROI.png', bbox_inches = 'tight');"
   ]
  },
  {
   "cell_type": "markdown",
   "metadata": {},
   "source": [
    "The graph shows that it is most feasible to achieve a high Return On Investment when you invest $5-20 million. "
   ]
  },
  {
   "cell_type": "markdown",
   "metadata": {},
   "source": [
    "The correlation for movies_without_wwg_or_pb_outliers is positive and decent but not as strong as movie_oultierless."
   ]
  },
  {
   "cell_type": "markdown",
   "metadata": {},
   "source": [
    "### Movie Genre"
   ]
  },
  {
   "cell_type": "markdown",
   "metadata": {},
   "source": [
    "We decided to measrure genre success we used our worldwide gross data. We didn't use average rating or number of votes to measure success because it was difficult to make a reccomendation based on average rating isn't very significant and it is difficult to measure success on the number of votes a movie has recieved. "
   ]
  },
  {
   "cell_type": "code",
   "execution_count": 124,
   "metadata": {
    "ExecuteTime": {
     "end_time": "2022-03-10T23:12:36.960339Z",
     "start_time": "2022-03-10T23:12:36.950237Z"
    }
   },
   "outputs": [
    {
     "data": {
      "text/html": [
       "<div>\n",
       "<style scoped>\n",
       "    .dataframe tbody tr th:only-of-type {\n",
       "        vertical-align: middle;\n",
       "    }\n",
       "\n",
       "    .dataframe tbody tr th {\n",
       "        vertical-align: top;\n",
       "    }\n",
       "\n",
       "    .dataframe thead th {\n",
       "        text-align: right;\n",
       "    }\n",
       "</style>\n",
       "<table border=\"1\" class=\"dataframe\">\n",
       "  <thead>\n",
       "    <tr style=\"text-align: right;\">\n",
       "      <th></th>\n",
       "      <th>averagerating</th>\n",
       "      <th>numvotes</th>\n",
       "      <th>start_year</th>\n",
       "      <th>runtime_minutes</th>\n",
       "    </tr>\n",
       "    <tr>\n",
       "      <th>genres</th>\n",
       "      <th></th>\n",
       "      <th></th>\n",
       "      <th></th>\n",
       "      <th></th>\n",
       "    </tr>\n",
       "  </thead>\n",
       "  <tbody>\n",
       "    <tr>\n",
       "      <th>Adventure,Drama,Sci-Fi</th>\n",
       "      <td>7</td>\n",
       "      <td>661339</td>\n",
       "      <td>2016</td>\n",
       "      <td>137</td>\n",
       "    </tr>\n",
       "    <tr>\n",
       "      <th>Adventure,Mystery,Sci-Fi</th>\n",
       "      <td>7</td>\n",
       "      <td>538720</td>\n",
       "      <td>2012</td>\n",
       "      <td>124</td>\n",
       "    </tr>\n",
       "    <tr>\n",
       "      <th>Action,Adventure,Sci-Fi</th>\n",
       "      <td>6</td>\n",
       "      <td>298904</td>\n",
       "      <td>2015</td>\n",
       "      <td>121</td>\n",
       "    </tr>\n",
       "    <tr>\n",
       "      <th>Adventure,Fantasy</th>\n",
       "      <td>7</td>\n",
       "      <td>282335</td>\n",
       "      <td>2014</td>\n",
       "      <td>132</td>\n",
       "    </tr>\n",
       "    <tr>\n",
       "      <th>Action,Fantasy,War</th>\n",
       "      <td>6</td>\n",
       "      <td>262978</td>\n",
       "      <td>2014</td>\n",
       "      <td>102</td>\n",
       "    </tr>\n",
       "    <tr>\n",
       "      <th>Family,Fantasy,Musical</th>\n",
       "      <td>7</td>\n",
       "      <td>238325</td>\n",
       "      <td>2017</td>\n",
       "      <td>129</td>\n",
       "    </tr>\n",
       "    <tr>\n",
       "      <th>Adventure,Fantasy,Mystery</th>\n",
       "      <td>6</td>\n",
       "      <td>214948</td>\n",
       "      <td>2012</td>\n",
       "      <td>136</td>\n",
       "    </tr>\n",
       "    <tr>\n",
       "      <th>Action,Adventure,Mystery</th>\n",
       "      <td>7</td>\n",
       "      <td>181746</td>\n",
       "      <td>2013</td>\n",
       "      <td>125</td>\n",
       "    </tr>\n",
       "    <tr>\n",
       "      <th>Adventure,Drama,Fantasy</th>\n",
       "      <td>6</td>\n",
       "      <td>175524</td>\n",
       "      <td>2014</td>\n",
       "      <td>112</td>\n",
       "    </tr>\n",
       "    <tr>\n",
       "      <th>Adventure,Comedy,Music</th>\n",
       "      <td>6</td>\n",
       "      <td>161653</td>\n",
       "      <td>2010</td>\n",
       "      <td>109</td>\n",
       "    </tr>\n",
       "  </tbody>\n",
       "</table>\n",
       "</div>"
      ],
      "text/plain": [
       "                           averagerating  numvotes  start_year  \\\n",
       "genres                                                           \n",
       "Adventure,Drama,Sci-Fi                 7    661339        2016   \n",
       "Adventure,Mystery,Sci-Fi               7    538720        2012   \n",
       "Action,Adventure,Sci-Fi                6    298904        2015   \n",
       "Adventure,Fantasy                      7    282335        2014   \n",
       "Action,Fantasy,War                     6    262978        2014   \n",
       "Family,Fantasy,Musical                 7    238325        2017   \n",
       "Adventure,Fantasy,Mystery              6    214948        2012   \n",
       "Action,Adventure,Mystery               7    181746        2013   \n",
       "Adventure,Drama,Fantasy                6    175524        2014   \n",
       "Adventure,Comedy,Music                 6    161653        2010   \n",
       "\n",
       "                           runtime_minutes  \n",
       "genres                                      \n",
       "Adventure,Drama,Sci-Fi                 137  \n",
       "Adventure,Mystery,Sci-Fi               124  \n",
       "Action,Adventure,Sci-Fi                121  \n",
       "Adventure,Fantasy                      132  \n",
       "Action,Fantasy,War                     102  \n",
       "Family,Fantasy,Musical                 129  \n",
       "Adventure,Fantasy,Mystery              136  \n",
       "Action,Adventure,Mystery               125  \n",
       "Adventure,Drama,Fantasy                112  \n",
       "Adventure,Comedy,Music                 109  "
      ]
     },
     "execution_count": 124,
     "metadata": {},
     "output_type": "execute_result"
    }
   ],
   "source": [
    "genres_numvotes = sql_df.groupby(['genres']).mean(['numvotes']).sort_values(['numvotes'], ascending=False).head(10)\n",
    "genres_numvotes\n",
    "#Low vote counts can skew the rating much more\n",
    "#This code wasn't used to measure success\n",
    "#This code was used to determine the cut off limit for our sql data using 1000 for numvotes above."
   ]
  },
  {
   "cell_type": "code",
   "execution_count": 125,
   "metadata": {
    "ExecuteTime": {
     "end_time": "2022-03-10T23:12:37.125426Z",
     "start_time": "2022-03-10T23:12:36.961199Z"
    },
    "scrolled": false
   },
   "outputs": [
    {
     "data": {
      "text/plain": [
       "Text(0.5, 0, 'Number of Votes')"
      ]
     },
     "execution_count": 125,
     "metadata": {},
     "output_type": "execute_result"
    },
    {
     "data": {
      "image/png": "[encoded data removed]",
      "text/plain": [
       "<Figure size 720x432 with 1 Axes>"
      ]
     },
     "metadata": {
      "needs_background": "light"
     },
     "output_type": "display_data"
    }
   ],
   "source": [
    "fig, ax = plt.subplots(figsize=(10,6))\n",
    "\n",
    "ax.barh(y=genres_numvotes.index, width=genres_numvotes['numvotes'], color=\"navy\", edgecolor=\"lightgrey\")\n",
    "ax.invert_yaxis()\n",
    "ax.set_title('Average Rating for Genre')\n",
    "ax.set_ylabel('Genres')\n",
    "ax.set_xlabel('Number of Votes')"
   ]
  },
  {
   "cell_type": "code",
   "execution_count": 126,
   "metadata": {
    "ExecuteTime": {
     "end_time": "2022-03-10T23:12:37.136560Z",
     "start_time": "2022-03-10T23:12:37.126745Z"
    },
    "scrolled": true
   },
   "outputs": [
    {
     "data": {
      "text/html": [
       "<div>\n",
       "<style scoped>\n",
       "    .dataframe tbody tr th:only-of-type {\n",
       "        vertical-align: middle;\n",
       "    }\n",
       "\n",
       "    .dataframe tbody tr th {\n",
       "        vertical-align: top;\n",
       "    }\n",
       "\n",
       "    .dataframe thead th {\n",
       "        text-align: right;\n",
       "    }\n",
       "</style>\n",
       "<table border=\"1\" class=\"dataframe\">\n",
       "  <thead>\n",
       "    <tr style=\"text-align: right;\">\n",
       "      <th></th>\n",
       "      <th>averagerating</th>\n",
       "      <th>numvotes</th>\n",
       "      <th>start_year</th>\n",
       "      <th>runtime_minutes</th>\n",
       "    </tr>\n",
       "    <tr>\n",
       "      <th>genres</th>\n",
       "      <th></th>\n",
       "      <th></th>\n",
       "      <th></th>\n",
       "      <th></th>\n",
       "    </tr>\n",
       "  </thead>\n",
       "  <tbody>\n",
       "    <tr>\n",
       "      <th>Action,Romance,War</th>\n",
       "      <td>8</td>\n",
       "      <td>1224</td>\n",
       "      <td>2018</td>\n",
       "      <td>130</td>\n",
       "    </tr>\n",
       "    <tr>\n",
       "      <th>Animation,History</th>\n",
       "      <td>8</td>\n",
       "      <td>7451</td>\n",
       "      <td>2014</td>\n",
       "      <td>135</td>\n",
       "    </tr>\n",
       "    <tr>\n",
       "      <th>Drama,Family,Thriller</th>\n",
       "      <td>8</td>\n",
       "      <td>2996</td>\n",
       "      <td>2014</td>\n",
       "      <td>150</td>\n",
       "    </tr>\n",
       "    <tr>\n",
       "      <th>Animation,Documentary,Mystery</th>\n",
       "      <td>8</td>\n",
       "      <td>1014</td>\n",
       "      <td>2017</td>\n",
       "      <td>93</td>\n",
       "    </tr>\n",
       "    <tr>\n",
       "      <th>War</th>\n",
       "      <td>8</td>\n",
       "      <td>2437</td>\n",
       "      <td>2011</td>\n",
       "      <td>96</td>\n",
       "    </tr>\n",
       "    <tr>\n",
       "      <th>Musical</th>\n",
       "      <td>8</td>\n",
       "      <td>1724</td>\n",
       "      <td>2015</td>\n",
       "      <td>121</td>\n",
       "    </tr>\n",
       "    <tr>\n",
       "      <th>Biography,Documentary,News</th>\n",
       "      <td>8</td>\n",
       "      <td>7848</td>\n",
       "      <td>2015</td>\n",
       "      <td>73</td>\n",
       "    </tr>\n",
       "    <tr>\n",
       "      <th>Documentary,History,Sport</th>\n",
       "      <td>8</td>\n",
       "      <td>1889</td>\n",
       "      <td>2015</td>\n",
       "      <td>103</td>\n",
       "    </tr>\n",
       "    <tr>\n",
       "      <th>Documentary,Family</th>\n",
       "      <td>8</td>\n",
       "      <td>2662</td>\n",
       "      <td>2013</td>\n",
       "      <td>89</td>\n",
       "    </tr>\n",
       "    <tr>\n",
       "      <th>Action,Documentary</th>\n",
       "      <td>8</td>\n",
       "      <td>12704</td>\n",
       "      <td>2014</td>\n",
       "      <td>75</td>\n",
       "    </tr>\n",
       "  </tbody>\n",
       "</table>\n",
       "</div>"
      ],
      "text/plain": [
       "                               averagerating  numvotes  start_year  \\\n",
       "genres                                                               \n",
       "Action,Romance,War                         8      1224        2018   \n",
       "Animation,History                          8      7451        2014   \n",
       "Drama,Family,Thriller                      8      2996        2014   \n",
       "Animation,Documentary,Mystery              8      1014        2017   \n",
       "War                                        8      2437        2011   \n",
       "Musical                                    8      1724        2015   \n",
       "Biography,Documentary,News                 8      7848        2015   \n",
       "Documentary,History,Sport                  8      1889        2015   \n",
       "Documentary,Family                         8      2662        2013   \n",
       "Action,Documentary                         8     12704        2014   \n",
       "\n",
       "                               runtime_minutes  \n",
       "genres                                          \n",
       "Action,Romance,War                         130  \n",
       "Animation,History                          135  \n",
       "Drama,Family,Thriller                      150  \n",
       "Animation,Documentary,Mystery               93  \n",
       "War                                         96  \n",
       "Musical                                    121  \n",
       "Biography,Documentary,News                  73  \n",
       "Documentary,History,Sport                  103  \n",
       "Documentary,Family                          89  \n",
       "Action,Documentary                          75  "
      ]
     },
     "execution_count": 126,
     "metadata": {},
     "output_type": "execute_result"
    }
   ],
   "source": [
    "#genres vs averagerating\n",
    "genres_average_rating = sql_df.groupby(['genres']).mean(['averagerating']).sort_values(['averagerating'], ascending=False).head(10)\n",
    "genres_average_rating\n",
    "#Low vote counts can skew the rating much more\n",
    "#This code was used to determine the cut off limit for our sql data using 1000 for numvotes above.\n",
    "#We didn't use averagerating or numvotes to measure success because it was difficult to make a reccomendation. \n"
   ]
  },
  {
   "cell_type": "code",
   "execution_count": 127,
   "metadata": {
    "ExecuteTime": {
     "end_time": "2022-03-10T23:12:37.244087Z",
     "start_time": "2022-03-10T23:12:37.137460Z"
    }
   },
   "outputs": [
    {
     "data": {
      "text/plain": [
       "Text(0.5, 0, 'Average Rating')"
      ]
     },
     "execution_count": 127,
     "metadata": {},
     "output_type": "execute_result"
    },
    {
     "data": {
      "image/png": "[encoded data removed]",
      "text/plain": [
       "<Figure size 720x432 with 1 Axes>"
      ]
     },
     "metadata": {
      "needs_background": "light"
     },
     "output_type": "display_data"
    }
   ],
   "source": [
    "fig, ax = plt.subplots(figsize=(10,6))\n",
    "\n",
    "ax.barh(y=genres_average_rating.index, width=genres_average_rating['averagerating'], color=\"navy\", edgecolor=\"lightgrey\")\n",
    "ax.set_title('Average Rating for Genre')\n",
    "ax.set_ylabel('Genres')\n",
    "ax.set_xlabel('Average Rating')\n"
   ]
  },
  {
   "cell_type": "code",
   "execution_count": 128,
   "metadata": {
    "ExecuteTime": {
     "end_time": "2022-03-10T23:12:37.433513Z",
     "start_time": "2022-03-10T23:12:37.245081Z"
    },
    "scrolled": true
   },
   "outputs": [
    {
     "data": {
      "image/png": "[encoded data removed]",
      "text/plain": [
       "<Figure size 720x432 with 1 Axes>"
      ]
     },
     "metadata": {
      "needs_background": "light"
     },
     "output_type": "display_data"
    }
   ],
   "source": [
    "#graph of genre v average worldwide_gross\n",
    "\n",
    "genres_list = pd.get_dummies(movies_sql.genres, prefix=None).sum().sort_values(ascending=False).head(20)\n",
    "genres_list2 = list(genres_list.index)\n",
    "movies_sql2 = movies_sql[movies_sql['genres'].isin(genres_list2)]\n",
    "#movies_sql2['worldwide_gross_mil'] = movies_sql2['worldwide_gross']/1000000 might not need this\n",
    "genres_vs_wwg = movies_sql2.groupby(['genres']).mean().sort_values(['worldwide_gross'], ascending=False).head(10)\n",
    "\n",
    "fig, ax = plt.subplots(figsize=(10,6))\n",
    "\n",
    "ax.barh(y=genres_vs_wwg.index, width=genres_vs_wwg['worldwide_gross'], color=\"navy\", edgecolor=\"lightgrey\")\n",
    "ax.invert_yaxis()\n",
    "ax.set_title('Top Grossing Genres')\n",
    "ax.set_ylabel('Genres')\n",
    "ax.set_xlabel('Average Revenue')\n",
    "ax.xaxis.set_major_formatter(ticker.StrMethodFormatter('${x:,.0f}'))\n",
    "plt.savefig('./Untitled Folder/Top Grossing Genres.png', bbox_inches = 'tight');"
   ]
  },
  {
   "cell_type": "markdown",
   "metadata": {},
   "source": [
    "We see that the 6 of the top 10 genre combination have action in it. Also, we notice how movies that are just list as action without any other genres includes do no make anywhere as much as some of these other combination."
   ]
  },
  {
   "cell_type": "code",
   "execution_count": 156,
   "metadata": {
    "ExecuteTime": {
     "end_time": "2022-03-10T23:39:36.385571Z",
     "start_time": "2022-03-10T23:39:36.130841Z"
    }
   },
   "outputs": [
    {
     "data": {
      "image/png": "[encoded data removed]",
      "text/plain": [
       "<Figure size 720x432 with 1 Axes>"
      ]
     },
     "metadata": {
      "needs_background": "light"
     },
     "output_type": "display_data"
    }
   ],
   "source": [
    "#graph of genre v average worldwide_gross\n",
    "\n",
    "genres_list = pd.get_dummies(movies_sql.genres, prefix=None).sum().sort_values(ascending=False).head(20)\n",
    "genres_list2 = list(genres_list.index)\n",
    "movies_sql2 = movies_sql[movies_sql['genres'].isin(genres_list2)]\n",
    "#movies_sql2['worldwide_gross_mil'] = movies_sql2['worldwide_gross']/1000000 might not need this\n",
    "genres_vs_wwg = movies_sql2.groupby(['genres']).mean().sort_values(['return_on_investment'], ascending=False).head(10)\n",
    "\n",
    "fig, ax = plt.subplots(figsize=(10,6))\n",
    "\n",
    "ax.barh(y=genres_vs_wwg.index, width=genres_vs_wwg['return_on_investment'], color=\"navy\", edgecolor=\"lightgrey\")\n",
    "ax.invert_yaxis()\n",
    "ax.set_title('Top Grossing Genres')\n",
    "ax.set_ylabel('Genres')\n",
    "ax.set_xlabel('Average Return on Investment %')\n",
    "plt.savefig('./Untitled Folder/Highest ROI by Genre.png', bbox_inches = 'tight');"
   ]
  },
  {
   "cell_type": "code",
   "execution_count": 154,
   "metadata": {
    "ExecuteTime": {
     "end_time": "2022-03-10T23:35:45.915586Z",
     "start_time": "2022-03-10T23:35:45.900105Z"
    }
   },
   "outputs": [
    {
     "data": {
      "text/plain": [
       "9468281.25"
      ]
     },
     "execution_count": 154,
     "metadata": {},
     "output_type": "execute_result"
    }
   ],
   "source": [
    "movies_sql2[movies_sql2['genres'] == 'Horror,Mystery,Thriller'].mean()['production_budget']"
   ]
  },
  {
   "cell_type": "markdown",
   "metadata": {},
   "source": [
    "The genre with the highest return on investment is Horror-Myster-Thriller with an average production budget of $9,468,281.25. "
   ]
  },
  {
   "cell_type": "markdown",
   "metadata": {},
   "source": [
    "### Runtime"
   ]
  },
  {
   "cell_type": "markdown",
   "metadata": {},
   "source": [
    "We wanted to see if there's any trend in terms of movie lengths over the year, and any correlation between how much money is made with the length of the movie."
   ]
  },
  {
   "cell_type": "code",
   "execution_count": 129,
   "metadata": {
    "ExecuteTime": {
     "end_time": "2022-03-10T23:12:37.591989Z",
     "start_time": "2022-03-10T23:12:37.434528Z"
    },
    "scrolled": false
   },
   "outputs": [
    {
     "data": {
      "image/png": "[encoded data removed]",
      "text/plain": [
       "<Figure size 720x432 with 1 Axes>"
      ]
     },
     "metadata": {
      "needs_background": "light"
     },
     "output_type": "display_data"
    }
   ],
   "source": [
    "#runtime_minutes vs start_year\n",
    "runtime_year = sql_df.groupby(['start_year']).mean(['runtime_minutes']).sort_values(['start_year'])\n",
    "runtime_year\n",
    "\n",
    "fig, ax = plt.subplots(figsize=(10,6))\n",
    "\n",
    "ax.bar(x=runtime_year.index.astype(str), height=(runtime_year['runtime_minutes']), color=\"peru\");\n",
    "ax.set_ylim([100, 120])\n",
    "#Started our chart with the y axis starting at 100 for visual purposes.\n",
    "\n",
    "ax.set_title('Movie Length over the Years')\n",
    "ax.set_xlabel('Year')\n",
    "ax.set_ylabel('Movie Length (min)')\n",
    "plt.savefig('./Untitled Folder/Movie Length over the Years.png', bbox_inches = 'tight');"
   ]
  },
  {
   "cell_type": "code",
   "execution_count": 130,
   "metadata": {
    "ExecuteTime": {
     "end_time": "2022-03-10T23:12:37.595358Z",
     "start_time": "2022-03-10T23:12:37.592812Z"
    }
   },
   "outputs": [
    {
     "data": {
      "text/plain": [
       "0.810556758544068"
      ]
     },
     "execution_count": 130,
     "metadata": {},
     "output_type": "execute_result"
    }
   ],
   "source": [
    "#testing correlation between year and movie length\n",
    "np.corrcoef(runtime_year.index , y = runtime_year['runtime_minutes'])[0][1]"
   ]
  },
  {
   "cell_type": "markdown",
   "metadata": {},
   "source": [
    "Movies are getting longer throughout the years."
   ]
  },
  {
   "cell_type": "code",
   "execution_count": 131,
   "metadata": {
    "ExecuteTime": {
     "end_time": "2022-03-10T23:12:37.857798Z",
     "start_time": "2022-03-10T23:12:37.596241Z"
    },
    "scrolled": false
   },
   "outputs": [
    {
     "data": {
      "image/png": "[encoded data removed]",
      "text/plain": [
       "<Figure size 1080x576 with 2 Axes>"
      ]
     },
     "metadata": {
      "needs_background": "light"
     },
     "output_type": "display_data"
    }
   ],
   "source": [
    "#graphing the averagerating to movie length and movie length with the wwg\n",
    "fig, (ax1, ax2) = plt.subplots(figsize=(15,8), ncols=2)\n",
    "\n",
    "ax1.ticklabel_format(style='plain')\n",
    "ax1.scatter(movies_sql2['averagerating'] , y = movies_sql2['runtime_minutes'], color=\"peru\");\n",
    "\n",
    "ax2.ticklabel_format(style='plain')\n",
    "ax2.scatter(movies_sql2['worldwide_gross'] , y = movies_sql2['runtime_minutes'], color=\"peru\");\n",
    "\n",
    "ax1.set_title('Movie Length and Average Rating')\n",
    "ax2.set_title('Movie Length and Revenue')\n",
    "ax1.set_ylabel('Runtime (min)')\n",
    "ax2.set_ylabel('Runtime (min)')\n",
    "ax1.set_xlabel('Average Rating')\n",
    "ax2.set_xlabel('Revenue')\n",
    "ax2.xaxis.set_major_formatter(ticker.StrMethodFormatter('${x:,.0f}'))\n",
    "plt.savefig('./Untitled Folder/Movie Length Average Rating and Worldwide Gross.png', bbox_inches = 'tight');"
   ]
  },
  {
   "cell_type": "code",
   "execution_count": 145,
   "metadata": {
    "ExecuteTime": {
     "end_time": "2022-03-10T23:29:20.374355Z",
     "start_time": "2022-03-10T23:29:20.160714Z"
    },
    "scrolled": false
   },
   "outputs": [
    {
     "data": {
      "image/png": "[encoded data removed]",
      "text/plain": [
       "<Figure size 1080x576 with 1 Axes>"
      ]
     },
     "metadata": {
      "needs_background": "light"
     },
     "output_type": "display_data"
    }
   ],
   "source": [
    "fig, (ax1) = plt.subplots(figsize=(15,8))\n",
    "\n",
    "ax1.ticklabel_format(style='plain')\n",
    "ax1.scatter(movies_sql2['net_profit'] , y = movies_sql2['runtime_minutes'], color=\"peru\");\n",
    "\n",
    "ax1.set_title('Movie Length and Net Profit')\n",
    "ax1.set_ylabel('Runtime (min)')\n",
    "ax1.set_xlabel('Net Profit')\n",
    "ax.xaxis.set_major_formatter(ticker.StrMethodFormatter('${x:,.0f}'))\n",
    "plt.savefig('./Untitled Folder/Movie Length and Net Profit.png', bbox_inches = 'tight');"
   ]
  },
  {
   "cell_type": "code",
   "execution_count": 159,
   "metadata": {
    "ExecuteTime": {
     "end_time": "2022-03-10T23:43:04.257097Z",
     "start_time": "2022-03-10T23:43:04.057336Z"
    }
   },
   "outputs": [
    {
     "data": {
      "image/png": "[encoded data removed]",
      "text/plain": [
       "<Figure size 1080x576 with 1 Axes>"
      ]
     },
     "metadata": {
      "needs_background": "light"
     },
     "output_type": "display_data"
    }
   ],
   "source": [
    "fig, (ax1) = plt.subplots(figsize=(15,8))\n",
    "\n",
    "ax1.ticklabel_format(style='plain')\n",
    "ax1.scatter(movies_sql2['return_on_investment'] , y = movies_sql2['runtime_minutes'], color=\"peru\");\n",
    "\n",
    "ax1.set_title('Movie Length and Return on Investment')\n",
    "ax1.set_ylabel('Runtime (min)')\n",
    "ax1.set_xlabel('Return on Investment')\n",
    "ax.xaxis.set_major_formatter(ticker.StrMethodFormatter('${x:,.0f}'))\n",
    "plt.savefig('./Untitled Folder/Movie Length and Return on Investment.png', bbox_inches = 'tight');"
   ]
  },
  {
   "cell_type": "code",
   "execution_count": 132,
   "metadata": {
    "ExecuteTime": {
     "end_time": "2022-03-10T23:12:37.861789Z",
     "start_time": "2022-03-10T23:12:37.858770Z"
    }
   },
   "outputs": [
    {
     "data": {
      "text/plain": [
       "(0.34872802124086016, 0.4302111428774885)"
      ]
     },
     "execution_count": 132,
     "metadata": {},
     "output_type": "execute_result"
    }
   ],
   "source": [
    "Worldwide_Gross_Run_Time_Correlation = np.corrcoef(movies_sql2['worldwide_gross'] , y = movies_sql2['runtime_minutes'])\n",
    "Average_Rating_Run_Time_Correlation = np.corrcoef(movies_sql2['averagerating'] , y = movies_sql2['runtime_minutes'])\n",
    "\n",
    "Worldwide_Gross_Run_Time_Correlation[0][1], Average_Rating_Run_Time_Correlation[0][1]\n"
   ]
  },
  {
   "cell_type": "markdown",
   "metadata": {},
   "source": [
    "The correlation is pretty weak that we can safely say that movie length won't affect the amount of revenue made."
   ]
  },
  {
   "cell_type": "code",
   "execution_count": 133,
   "metadata": {
    "ExecuteTime": {
     "end_time": "2022-03-10T23:12:37.864721Z",
     "start_time": "2022-03-10T23:12:37.862819Z"
    }
   },
   "outputs": [],
   "source": [
    "con.close() #have this in the extracted file refuses to close"
   ]
  },
  {
   "cell_type": "code",
   "execution_count": 134,
   "metadata": {
    "ExecuteTime": {
     "end_time": "2022-03-10T23:12:37.870764Z",
     "start_time": "2022-03-10T23:12:37.865856Z"
    }
   },
   "outputs": [],
   "source": [
    "os.remove('im.db') #This line deletes the im.db file created earlier."
   ]
  },
  {
   "cell_type": "markdown",
   "metadata": {},
   "source": [
    "## Evaluation"
   ]
  },
  {
   "cell_type": "markdown",
   "metadata": {},
   "source": [
    "The median production budget is about $37 million with about a ROI of 1.77x. When we factor in outliers that exist in the data in the worldwide_gross and production budget, we find that the cost is $20 million with ROI of 1.4x.The runtime is not strongly correlated with worldwide_gross but since the films are trending towards about 2 hours, we reccommend films be around two hours.\n",
    "The top 4 genres combination are:\n",
    "- Action, Adventure, Sci-Fi\n",
    "- Action, Adventure, Comedy\n",
    "- Adventure, Animation, Comedy\n",
    "- Action, Adventure, Fantasy"
   ]
  },
  {
   "cell_type": "markdown",
   "metadata": {},
   "source": [
    "## Next Steps"
   ]
  },
  {
   "cell_type": "markdown",
   "metadata": {},
   "source": [
    "After these findings, it would be in the interest of Microsoft to find how much money is being invested into advertising the movie and where they are being advertised (online versus cable). Not only that but look at how hiring known actors and directors impact the ROI compared to the price to hire them."
   ]
  },
  {
   "cell_type": "code",
   "execution_count": 135,
   "metadata": {
    "ExecuteTime": {
     "end_time": "2022-03-10T23:12:37.877785Z",
     "start_time": "2022-03-10T23:12:37.871885Z"
    }
   },
   "outputs": [
    {
     "data": {
      "text/html": [
       "<div>\n",
       "<style scoped>\n",
       "    .dataframe tbody tr th:only-of-type {\n",
       "        vertical-align: middle;\n",
       "    }\n",
       "\n",
       "    .dataframe tbody tr th {\n",
       "        vertical-align: top;\n",
       "    }\n",
       "\n",
       "    .dataframe thead th {\n",
       "        text-align: right;\n",
       "    }\n",
       "</style>\n",
       "<table border=\"1\" class=\"dataframe\">\n",
       "  <thead>\n",
       "    <tr style=\"text-align: right;\">\n",
       "      <th></th>\n",
       "      <th>popularity</th>\n",
       "      <th>release_date_x</th>\n",
       "      <th>title</th>\n",
       "      <th>vote_average</th>\n",
       "      <th>vote_count</th>\n",
       "      <th>production_budget</th>\n",
       "      <th>domestic_gross</th>\n",
       "      <th>worldwide_gross</th>\n",
       "      <th>net_profit</th>\n",
       "      <th>return_on_investment</th>\n",
       "      <th>gross_to_budget_ratio</th>\n",
       "    </tr>\n",
       "  </thead>\n",
       "  <tbody>\n",
       "    <tr>\n",
       "      <th>0</th>\n",
       "      <td>29</td>\n",
       "      <td>2010-03-26</td>\n",
       "      <td>How to Train Your Dragon</td>\n",
       "      <td>8</td>\n",
       "      <td>7610</td>\n",
       "      <td>165000000</td>\n",
       "      <td>217581232</td>\n",
       "      <td>494870992</td>\n",
       "      <td>329870992</td>\n",
       "      <td>200</td>\n",
       "      <td>3</td>\n",
       "    </tr>\n",
       "    <tr>\n",
       "      <th>1</th>\n",
       "      <td>29</td>\n",
       "      <td>2010-05-07</td>\n",
       "      <td>Iron Man 2</td>\n",
       "      <td>7</td>\n",
       "      <td>12368</td>\n",
       "      <td>170000000</td>\n",
       "      <td>312433331</td>\n",
       "      <td>621156389</td>\n",
       "      <td>451156389</td>\n",
       "      <td>265</td>\n",
       "      <td>4</td>\n",
       "    </tr>\n",
       "    <tr>\n",
       "      <th>2</th>\n",
       "      <td>28</td>\n",
       "      <td>1995-11-22</td>\n",
       "      <td>Toy Story</td>\n",
       "      <td>8</td>\n",
       "      <td>10174</td>\n",
       "      <td>30000000</td>\n",
       "      <td>191796233</td>\n",
       "      <td>364545516</td>\n",
       "      <td>334545516</td>\n",
       "      <td>1115</td>\n",
       "      <td>12</td>\n",
       "    </tr>\n",
       "    <tr>\n",
       "      <th>4</th>\n",
       "      <td>28</td>\n",
       "      <td>2010-07-16</td>\n",
       "      <td>Inception</td>\n",
       "      <td>8</td>\n",
       "      <td>22186</td>\n",
       "      <td>160000000</td>\n",
       "      <td>292576195</td>\n",
       "      <td>835524642</td>\n",
       "      <td>675524642</td>\n",
       "      <td>422</td>\n",
       "      <td>5</td>\n",
       "    </tr>\n",
       "    <tr>\n",
       "      <th>5</th>\n",
       "      <td>27</td>\n",
       "      <td>2010-02-11</td>\n",
       "      <td>Percy Jackson &amp; the Olympians: The Lightning T...</td>\n",
       "      <td>6</td>\n",
       "      <td>4229</td>\n",
       "      <td>95000000</td>\n",
       "      <td>88768303</td>\n",
       "      <td>223050874</td>\n",
       "      <td>128050874</td>\n",
       "      <td>135</td>\n",
       "      <td>2</td>\n",
       "    </tr>\n",
       "  </tbody>\n",
       "</table>\n",
       "</div>"
      ],
      "text/plain": [
       "   popularity release_date_x  \\\n",
       "0          29     2010-03-26   \n",
       "1          29     2010-05-07   \n",
       "2          28     1995-11-22   \n",
       "4          28     2010-07-16   \n",
       "5          27     2010-02-11   \n",
       "\n",
       "                                               title  vote_average  \\\n",
       "0                           How to Train Your Dragon             8   \n",
       "1                                         Iron Man 2             7   \n",
       "2                                          Toy Story             8   \n",
       "4                                          Inception             8   \n",
       "5  Percy Jackson & the Olympians: The Lightning T...             6   \n",
       "\n",
       "   vote_count  production_budget  domestic_gross  worldwide_gross  net_profit  \\\n",
       "0        7610          165000000       217581232        494870992   329870992   \n",
       "1       12368          170000000       312433331        621156389   451156389   \n",
       "2       10174           30000000       191796233        364545516   334545516   \n",
       "4       22186          160000000       292576195        835524642   675524642   \n",
       "5        4229           95000000        88768303        223050874   128050874   \n",
       "\n",
       "   return_on_investment  gross_to_budget_ratio  \n",
       "0                   200                      3  \n",
       "1                   265                      4  \n",
       "2                  1115                     12  \n",
       "4                   422                      5  \n",
       "5                   135                      2  "
      ]
     },
     "execution_count": 135,
     "metadata": {},
     "output_type": "execute_result"
    }
   ],
   "source": [
    "movies_clean.head()"
   ]
  },
  {
   "cell_type": "code",
   "execution_count": null,
   "metadata": {},
   "outputs": [],
   "source": []
  }
 ],
 "metadata": {
  "kernelspec": {
   "display_name": "Python (learn-env)",
   "language": "python",
   "name": "learn-env"
  },
  "language_info": {
   "codemirror_mode": {
    "name": "ipython",
    "version": 3
   },
   "file_extension": ".py",
   "mimetype": "text/x-python",
   "name": "python",
   "nbconvert_exporter": "python",
   "pygments_lexer": "ipython3",
   "version": "3.8.5"
  }
 },
 "nbformat": 4,
 "nbformat_minor": 4
}
