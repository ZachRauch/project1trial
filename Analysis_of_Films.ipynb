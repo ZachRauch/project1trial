{
 "cells": [
  {
   "cell_type": "code",
   "execution_count": 1,
   "metadata": {
    "ExecuteTime": {
     "end_time": "2022-03-09T14:36:47.937155Z",
     "start_time": "2022-03-09T14:36:47.401892Z"
    }
   },
   "outputs": [],
   "source": [
    "import pandas as pd\n",
    "import sqlite3\n",
    "import matplotlib.pyplot as plt"
   ]
  },
  {
   "cell_type": "code",
   "execution_count": 2,
   "metadata": {
    "ExecuteTime": {
     "end_time": "2022-03-09T14:36:48.013299Z",
     "start_time": "2022-03-09T14:36:47.938233Z"
    }
   },
   "outputs": [],
   "source": [
    "bom = pd.read_csv('./data/bom.movie_gross.csv.gz')\n",
    "tmdb = pd.read_csv('./data/tmdb.movies.csv.gz')\n",
    "tn = pd.read_csv('./data/tn.movie_budgets.csv.gz')"
   ]
  },
  {
   "cell_type": "code",
   "execution_count": 3,
   "metadata": {
    "ExecuteTime": {
     "end_time": "2022-03-09T14:36:48.021766Z",
     "start_time": "2022-03-09T14:36:48.014753Z"
    }
   },
   "outputs": [
    {
     "data": {
      "text/html": [
       "<div>\n",
       "<style scoped>\n",
       "    .dataframe tbody tr th:only-of-type {\n",
       "        vertical-align: middle;\n",
       "    }\n",
       "\n",
       "    .dataframe tbody tr th {\n",
       "        vertical-align: top;\n",
       "    }\n",
       "\n",
       "    .dataframe thead th {\n",
       "        text-align: right;\n",
       "    }\n",
       "</style>\n",
       "<table border=\"1\" class=\"dataframe\">\n",
       "  <thead>\n",
       "    <tr style=\"text-align: right;\">\n",
       "      <th></th>\n",
       "      <th>title</th>\n",
       "      <th>studio</th>\n",
       "      <th>domestic_gross</th>\n",
       "      <th>foreign_gross</th>\n",
       "      <th>year</th>\n",
       "    </tr>\n",
       "  </thead>\n",
       "  <tbody>\n",
       "    <tr>\n",
       "      <th>0</th>\n",
       "      <td>Toy Story 3</td>\n",
       "      <td>BV</td>\n",
       "      <td>415000000.0</td>\n",
       "      <td>652000000</td>\n",
       "      <td>2010</td>\n",
       "    </tr>\n",
       "  </tbody>\n",
       "</table>\n",
       "</div>"
      ],
      "text/plain": [
       "         title studio  domestic_gross foreign_gross  year\n",
       "0  Toy Story 3     BV     415000000.0     652000000  2010"
      ]
     },
     "execution_count": 3,
     "metadata": {},
     "output_type": "execute_result"
    }
   ],
   "source": [
    "#looking at the head of each to see where they can be merge\n",
    "#Also, looking for any columns of interest from each and deciding what to do\n",
    "bom.head(1)"
   ]
  },
  {
   "cell_type": "code",
   "execution_count": 4,
   "metadata": {
    "ExecuteTime": {
     "end_time": "2022-03-09T14:36:48.028895Z",
     "start_time": "2022-03-09T14:36:48.022869Z"
    }
   },
   "outputs": [
    {
     "data": {
      "text/html": [
       "<div>\n",
       "<style scoped>\n",
       "    .dataframe tbody tr th:only-of-type {\n",
       "        vertical-align: middle;\n",
       "    }\n",
       "\n",
       "    .dataframe tbody tr th {\n",
       "        vertical-align: top;\n",
       "    }\n",
       "\n",
       "    .dataframe thead th {\n",
       "        text-align: right;\n",
       "    }\n",
       "</style>\n",
       "<table border=\"1\" class=\"dataframe\">\n",
       "  <thead>\n",
       "    <tr style=\"text-align: right;\">\n",
       "      <th></th>\n",
       "      <th>Unnamed: 0</th>\n",
       "      <th>genre_ids</th>\n",
       "      <th>id</th>\n",
       "      <th>original_language</th>\n",
       "      <th>original_title</th>\n",
       "      <th>popularity</th>\n",
       "      <th>release_date</th>\n",
       "      <th>title</th>\n",
       "      <th>vote_average</th>\n",
       "      <th>vote_count</th>\n",
       "    </tr>\n",
       "  </thead>\n",
       "  <tbody>\n",
       "    <tr>\n",
       "      <th>0</th>\n",
       "      <td>0</td>\n",
       "      <td>[12, 14, 10751]</td>\n",
       "      <td>12444</td>\n",
       "      <td>en</td>\n",
       "      <td>Harry Potter and the Deathly Hallows: Part 1</td>\n",
       "      <td>33.533</td>\n",
       "      <td>2010-11-19</td>\n",
       "      <td>Harry Potter and the Deathly Hallows: Part 1</td>\n",
       "      <td>7.7</td>\n",
       "      <td>10788</td>\n",
       "    </tr>\n",
       "  </tbody>\n",
       "</table>\n",
       "</div>"
      ],
      "text/plain": [
       "   Unnamed: 0        genre_ids     id original_language  \\\n",
       "0           0  [12, 14, 10751]  12444                en   \n",
       "\n",
       "                                 original_title  popularity release_date  \\\n",
       "0  Harry Potter and the Deathly Hallows: Part 1      33.533   2010-11-19   \n",
       "\n",
       "                                          title  vote_average  vote_count  \n",
       "0  Harry Potter and the Deathly Hallows: Part 1           7.7       10788  "
      ]
     },
     "execution_count": 4,
     "metadata": {},
     "output_type": "execute_result"
    }
   ],
   "source": [
    "tmdb.head(1)"
   ]
  },
  {
   "cell_type": "code",
   "execution_count": 5,
   "metadata": {
    "ExecuteTime": {
     "end_time": "2022-03-09T14:36:48.034614Z",
     "start_time": "2022-03-09T14:36:48.029946Z"
    }
   },
   "outputs": [
    {
     "data": {
      "text/html": [
       "<div>\n",
       "<style scoped>\n",
       "    .dataframe tbody tr th:only-of-type {\n",
       "        vertical-align: middle;\n",
       "    }\n",
       "\n",
       "    .dataframe tbody tr th {\n",
       "        vertical-align: top;\n",
       "    }\n",
       "\n",
       "    .dataframe thead th {\n",
       "        text-align: right;\n",
       "    }\n",
       "</style>\n",
       "<table border=\"1\" class=\"dataframe\">\n",
       "  <thead>\n",
       "    <tr style=\"text-align: right;\">\n",
       "      <th></th>\n",
       "      <th>id</th>\n",
       "      <th>release_date</th>\n",
       "      <th>movie</th>\n",
       "      <th>production_budget</th>\n",
       "      <th>domestic_gross</th>\n",
       "      <th>worldwide_gross</th>\n",
       "    </tr>\n",
       "  </thead>\n",
       "  <tbody>\n",
       "    <tr>\n",
       "      <th>0</th>\n",
       "      <td>1</td>\n",
       "      <td>Dec 18, 2009</td>\n",
       "      <td>Avatar</td>\n",
       "      <td>$425,000,000</td>\n",
       "      <td>$760,507,625</td>\n",
       "      <td>$2,776,345,279</td>\n",
       "    </tr>\n",
       "  </tbody>\n",
       "</table>\n",
       "</div>"
      ],
      "text/plain": [
       "   id  release_date   movie production_budget domestic_gross worldwide_gross\n",
       "0   1  Dec 18, 2009  Avatar      $425,000,000   $760,507,625  $2,776,345,279"
      ]
     },
     "execution_count": 5,
     "metadata": {},
     "output_type": "execute_result"
    }
   ],
   "source": [
    "tn.head(1)"
   ]
  },
  {
   "cell_type": "code",
   "execution_count": 6,
   "metadata": {
    "ExecuteTime": {
     "end_time": "2022-03-09T14:36:48.058211Z",
     "start_time": "2022-03-09T14:36:48.035442Z"
    }
   },
   "outputs": [],
   "source": [
    "#creation of the merged table betweeen bom and tmdb\n",
    "rating_and_gross = bom.merge(tmdb, how='inner', left_on='title', right_on='title').sort_values('domestic_gross', ascending=False).head(20)"
   ]
  },
  {
   "cell_type": "code",
   "execution_count": 7,
   "metadata": {
    "ExecuteTime": {
     "end_time": "2022-03-09T14:36:48.064943Z",
     "start_time": "2022-03-09T14:36:48.059211Z"
    }
   },
   "outputs": [],
   "source": [
    "#creation of merge table of the rating_and_gross with the tn table\n",
    "budget_rating_gross =   rating_and_gross.merge(tn, how='inner', left_on='title', right_on='movie')"
   ]
  },
  {
   "cell_type": "code",
   "execution_count": 8,
   "metadata": {
    "ExecuteTime": {
     "end_time": "2022-03-09T14:36:48.069534Z",
     "start_time": "2022-03-09T14:36:48.067256Z"
    }
   },
   "outputs": [
    {
     "data": {
      "text/plain": [
       "(16, 20)"
      ]
     },
     "execution_count": 8,
     "metadata": {},
     "output_type": "execute_result"
    }
   ],
   "source": [
    "budget_rating_gross.shape\n"
   ]
  },
  {
   "cell_type": "code",
   "execution_count": 9,
   "metadata": {
    "ExecuteTime": {
     "end_time": "2022-03-09T14:36:48.091186Z",
     "start_time": "2022-03-09T14:36:48.071862Z"
    }
   },
   "outputs": [
    {
     "data": {
      "text/html": [
       "<div>\n",
       "<style scoped>\n",
       "    .dataframe tbody tr th:only-of-type {\n",
       "        vertical-align: middle;\n",
       "    }\n",
       "\n",
       "    .dataframe tbody tr th {\n",
       "        vertical-align: top;\n",
       "    }\n",
       "\n",
       "    .dataframe thead th {\n",
       "        text-align: right;\n",
       "    }\n",
       "</style>\n",
       "<table border=\"1\" class=\"dataframe\">\n",
       "  <thead>\n",
       "    <tr style=\"text-align: right;\">\n",
       "      <th></th>\n",
       "      <th>title</th>\n",
       "      <th>studio</th>\n",
       "      <th>year</th>\n",
       "      <th>original_language</th>\n",
       "      <th>popularity</th>\n",
       "      <th>release_date_x</th>\n",
       "      <th>vote_average</th>\n",
       "      <th>vote_count</th>\n",
       "      <th>release_date_y</th>\n",
       "      <th>production_budget</th>\n",
       "      <th>domestic_gross_y</th>\n",
       "      <th>worldwide_gross</th>\n",
       "    </tr>\n",
       "  </thead>\n",
       "  <tbody>\n",
       "    <tr>\n",
       "      <th>0</th>\n",
       "      <td>Black Panther</td>\n",
       "      <td>BV</td>\n",
       "      <td>2018</td>\n",
       "      <td>en</td>\n",
       "      <td>44.140</td>\n",
       "      <td>2018-02-16</td>\n",
       "      <td>7.4</td>\n",
       "      <td>12365</td>\n",
       "      <td>Feb 16, 2018</td>\n",
       "      <td>$200,000,000</td>\n",
       "      <td>$700,059,566</td>\n",
       "      <td>$1,348,258,224</td>\n",
       "    </tr>\n",
       "    <tr>\n",
       "      <th>1</th>\n",
       "      <td>Black Panther</td>\n",
       "      <td>BV</td>\n",
       "      <td>2018</td>\n",
       "      <td>en</td>\n",
       "      <td>2.058</td>\n",
       "      <td>2011-01-18</td>\n",
       "      <td>5.1</td>\n",
       "      <td>11</td>\n",
       "      <td>Feb 16, 2018</td>\n",
       "      <td>$200,000,000</td>\n",
       "      <td>$700,059,566</td>\n",
       "      <td>$1,348,258,224</td>\n",
       "    </tr>\n",
       "    <tr>\n",
       "      <th>2</th>\n",
       "      <td>Avengers: Infinity War</td>\n",
       "      <td>BV</td>\n",
       "      <td>2018</td>\n",
       "      <td>en</td>\n",
       "      <td>80.773</td>\n",
       "      <td>2018-04-27</td>\n",
       "      <td>8.3</td>\n",
       "      <td>13948</td>\n",
       "      <td>Apr 27, 2018</td>\n",
       "      <td>$300,000,000</td>\n",
       "      <td>$678,815,482</td>\n",
       "      <td>$2,048,134,200</td>\n",
       "    </tr>\n",
       "    <tr>\n",
       "      <th>3</th>\n",
       "      <td>Jurassic World</td>\n",
       "      <td>Uni.</td>\n",
       "      <td>2015</td>\n",
       "      <td>en</td>\n",
       "      <td>20.709</td>\n",
       "      <td>2015-06-12</td>\n",
       "      <td>6.6</td>\n",
       "      <td>14056</td>\n",
       "      <td>Jun 12, 2015</td>\n",
       "      <td>$215,000,000</td>\n",
       "      <td>$652,270,625</td>\n",
       "      <td>$1,648,854,864</td>\n",
       "    </tr>\n",
       "    <tr>\n",
       "      <th>4</th>\n",
       "      <td>Incredibles 2</td>\n",
       "      <td>BV</td>\n",
       "      <td>2018</td>\n",
       "      <td>en</td>\n",
       "      <td>36.286</td>\n",
       "      <td>2018-06-15</td>\n",
       "      <td>7.6</td>\n",
       "      <td>6354</td>\n",
       "      <td>Jun 15, 2018</td>\n",
       "      <td>$200,000,000</td>\n",
       "      <td>$608,581,744</td>\n",
       "      <td>$1,242,520,711</td>\n",
       "    </tr>\n",
       "    <tr>\n",
       "      <th>5</th>\n",
       "      <td>Rogue One: A Star Wars Story</td>\n",
       "      <td>BV</td>\n",
       "      <td>2016</td>\n",
       "      <td>en</td>\n",
       "      <td>21.401</td>\n",
       "      <td>2016-12-16</td>\n",
       "      <td>7.5</td>\n",
       "      <td>9296</td>\n",
       "      <td>Dec 16, 2016</td>\n",
       "      <td>$200,000,000</td>\n",
       "      <td>$532,177,324</td>\n",
       "      <td>$1,049,102,856</td>\n",
       "    </tr>\n",
       "    <tr>\n",
       "      <th>6</th>\n",
       "      <td>Rogue One: A Star Wars Story</td>\n",
       "      <td>BV</td>\n",
       "      <td>2016</td>\n",
       "      <td>en</td>\n",
       "      <td>21.401</td>\n",
       "      <td>2016-12-16</td>\n",
       "      <td>7.5</td>\n",
       "      <td>9296</td>\n",
       "      <td>Dec 16, 2016</td>\n",
       "      <td>$200,000,000</td>\n",
       "      <td>$532,177,324</td>\n",
       "      <td>$1,049,102,856</td>\n",
       "    </tr>\n",
       "    <tr>\n",
       "      <th>7</th>\n",
       "      <td>Finding Dory</td>\n",
       "      <td>BV</td>\n",
       "      <td>2016</td>\n",
       "      <td>en</td>\n",
       "      <td>15.393</td>\n",
       "      <td>2016-06-17</td>\n",
       "      <td>7.0</td>\n",
       "      <td>7845</td>\n",
       "      <td>Jun 17, 2016</td>\n",
       "      <td>$200,000,000</td>\n",
       "      <td>$486,295,561</td>\n",
       "      <td>$1,021,215,193</td>\n",
       "    </tr>\n",
       "    <tr>\n",
       "      <th>8</th>\n",
       "      <td>Avengers: Age of Ultron</td>\n",
       "      <td>BV</td>\n",
       "      <td>2015</td>\n",
       "      <td>en</td>\n",
       "      <td>44.383</td>\n",
       "      <td>2015-05-01</td>\n",
       "      <td>7.3</td>\n",
       "      <td>13457</td>\n",
       "      <td>May 1, 2015</td>\n",
       "      <td>$330,600,000</td>\n",
       "      <td>$459,005,868</td>\n",
       "      <td>$1,403,013,963</td>\n",
       "    </tr>\n",
       "    <tr>\n",
       "      <th>9</th>\n",
       "      <td>The Dark Knight Rises</td>\n",
       "      <td>WB</td>\n",
       "      <td>2012</td>\n",
       "      <td>en</td>\n",
       "      <td>26.220</td>\n",
       "      <td>2012-07-20</td>\n",
       "      <td>7.7</td>\n",
       "      <td>13933</td>\n",
       "      <td>Jul 20, 2012</td>\n",
       "      <td>$275,000,000</td>\n",
       "      <td>$448,139,099</td>\n",
       "      <td>$1,084,439,099</td>\n",
       "    </tr>\n",
       "    <tr>\n",
       "      <th>10</th>\n",
       "      <td>The Hunger Games: Catching Fire</td>\n",
       "      <td>LGF</td>\n",
       "      <td>2013</td>\n",
       "      <td>en</td>\n",
       "      <td>20.187</td>\n",
       "      <td>2013-11-22</td>\n",
       "      <td>7.4</td>\n",
       "      <td>11170</td>\n",
       "      <td>Nov 22, 2013</td>\n",
       "      <td>$130,000,000</td>\n",
       "      <td>$424,668,047</td>\n",
       "      <td>$864,868,047</td>\n",
       "    </tr>\n",
       "    <tr>\n",
       "      <th>11</th>\n",
       "      <td>Jurassic World: Fallen Kingdom</td>\n",
       "      <td>Uni.</td>\n",
       "      <td>2018</td>\n",
       "      <td>en</td>\n",
       "      <td>34.958</td>\n",
       "      <td>2018-06-22</td>\n",
       "      <td>6.5</td>\n",
       "      <td>5995</td>\n",
       "      <td>Jun 22, 2018</td>\n",
       "      <td>$170,000,000</td>\n",
       "      <td>$417,719,760</td>\n",
       "      <td>$1,305,772,799</td>\n",
       "    </tr>\n",
       "    <tr>\n",
       "      <th>12</th>\n",
       "      <td>Toy Story 3</td>\n",
       "      <td>BV</td>\n",
       "      <td>2010</td>\n",
       "      <td>en</td>\n",
       "      <td>24.445</td>\n",
       "      <td>2010-06-17</td>\n",
       "      <td>7.7</td>\n",
       "      <td>8340</td>\n",
       "      <td>Jun 18, 2010</td>\n",
       "      <td>$200,000,000</td>\n",
       "      <td>$415,004,880</td>\n",
       "      <td>$1,068,879,522</td>\n",
       "    </tr>\n",
       "    <tr>\n",
       "      <th>13</th>\n",
       "      <td>Wonder Woman</td>\n",
       "      <td>WB</td>\n",
       "      <td>2017</td>\n",
       "      <td>en</td>\n",
       "      <td>31.618</td>\n",
       "      <td>2017-06-02</td>\n",
       "      <td>7.3</td>\n",
       "      <td>12566</td>\n",
       "      <td>Jun 2, 2017</td>\n",
       "      <td>$150,000,000</td>\n",
       "      <td>$412,563,408</td>\n",
       "      <td>$821,133,378</td>\n",
       "    </tr>\n",
       "    <tr>\n",
       "      <th>14</th>\n",
       "      <td>Wonder Woman</td>\n",
       "      <td>WB</td>\n",
       "      <td>2017</td>\n",
       "      <td>en</td>\n",
       "      <td>2.841</td>\n",
       "      <td>2013-09-29</td>\n",
       "      <td>5.9</td>\n",
       "      <td>34</td>\n",
       "      <td>Jun 2, 2017</td>\n",
       "      <td>$150,000,000</td>\n",
       "      <td>$412,563,408</td>\n",
       "      <td>$821,133,378</td>\n",
       "    </tr>\n",
       "    <tr>\n",
       "      <th>15</th>\n",
       "      <td>Iron Man 3</td>\n",
       "      <td>BV</td>\n",
       "      <td>2013</td>\n",
       "      <td>en</td>\n",
       "      <td>32.093</td>\n",
       "      <td>2013-05-03</td>\n",
       "      <td>6.9</td>\n",
       "      <td>14155</td>\n",
       "      <td>May 3, 2013</td>\n",
       "      <td>$200,000,000</td>\n",
       "      <td>$408,992,272</td>\n",
       "      <td>$1,215,392,272</td>\n",
       "    </tr>\n",
       "  </tbody>\n",
       "</table>\n",
       "</div>"
      ],
      "text/plain": [
       "                              title studio  year original_language  \\\n",
       "0                     Black Panther     BV  2018                en   \n",
       "1                     Black Panther     BV  2018                en   \n",
       "2            Avengers: Infinity War     BV  2018                en   \n",
       "3                    Jurassic World   Uni.  2015                en   \n",
       "4                     Incredibles 2     BV  2018                en   \n",
       "5      Rogue One: A Star Wars Story     BV  2016                en   \n",
       "6      Rogue One: A Star Wars Story     BV  2016                en   \n",
       "7                      Finding Dory     BV  2016                en   \n",
       "8           Avengers: Age of Ultron     BV  2015                en   \n",
       "9             The Dark Knight Rises     WB  2012                en   \n",
       "10  The Hunger Games: Catching Fire    LGF  2013                en   \n",
       "11   Jurassic World: Fallen Kingdom   Uni.  2018                en   \n",
       "12                      Toy Story 3     BV  2010                en   \n",
       "13                     Wonder Woman     WB  2017                en   \n",
       "14                     Wonder Woman     WB  2017                en   \n",
       "15                       Iron Man 3     BV  2013                en   \n",
       "\n",
       "    popularity release_date_x  vote_average  vote_count release_date_y  \\\n",
       "0       44.140     2018-02-16           7.4       12365   Feb 16, 2018   \n",
       "1        2.058     2011-01-18           5.1          11   Feb 16, 2018   \n",
       "2       80.773     2018-04-27           8.3       13948   Apr 27, 2018   \n",
       "3       20.709     2015-06-12           6.6       14056   Jun 12, 2015   \n",
       "4       36.286     2018-06-15           7.6        6354   Jun 15, 2018   \n",
       "5       21.401     2016-12-16           7.5        9296   Dec 16, 2016   \n",
       "6       21.401     2016-12-16           7.5        9296   Dec 16, 2016   \n",
       "7       15.393     2016-06-17           7.0        7845   Jun 17, 2016   \n",
       "8       44.383     2015-05-01           7.3       13457    May 1, 2015   \n",
       "9       26.220     2012-07-20           7.7       13933   Jul 20, 2012   \n",
       "10      20.187     2013-11-22           7.4       11170   Nov 22, 2013   \n",
       "11      34.958     2018-06-22           6.5        5995   Jun 22, 2018   \n",
       "12      24.445     2010-06-17           7.7        8340   Jun 18, 2010   \n",
       "13      31.618     2017-06-02           7.3       12566    Jun 2, 2017   \n",
       "14       2.841     2013-09-29           5.9          34    Jun 2, 2017   \n",
       "15      32.093     2013-05-03           6.9       14155    May 3, 2013   \n",
       "\n",
       "   production_budget domestic_gross_y worldwide_gross  \n",
       "0       $200,000,000     $700,059,566  $1,348,258,224  \n",
       "1       $200,000,000     $700,059,566  $1,348,258,224  \n",
       "2       $300,000,000     $678,815,482  $2,048,134,200  \n",
       "3       $215,000,000     $652,270,625  $1,648,854,864  \n",
       "4       $200,000,000     $608,581,744  $1,242,520,711  \n",
       "5       $200,000,000     $532,177,324  $1,049,102,856  \n",
       "6       $200,000,000     $532,177,324  $1,049,102,856  \n",
       "7       $200,000,000     $486,295,561  $1,021,215,193  \n",
       "8       $330,600,000     $459,005,868  $1,403,013,963  \n",
       "9       $275,000,000     $448,139,099  $1,084,439,099  \n",
       "10      $130,000,000     $424,668,047    $864,868,047  \n",
       "11      $170,000,000     $417,719,760  $1,305,772,799  \n",
       "12      $200,000,000     $415,004,880  $1,068,879,522  \n",
       "13      $150,000,000     $412,563,408    $821,133,378  \n",
       "14      $150,000,000     $412,563,408    $821,133,378  \n",
       "15      $200,000,000     $408,992,272  $1,215,392,272  "
      ]
     },
     "execution_count": 9,
     "metadata": {},
     "output_type": "execute_result"
    }
   ],
   "source": [
    "#dropping unnecessary columns\n",
    "clean_columns = budget_rating_gross.drop(['Unnamed: 0', 'genre_ids', 'original_title', 'domestic_gross_x', 'foreign_gross', 'movie', 'id_x', 'id_y'], axis=1)\n",
    "clean_columns"
   ]
  },
  {
   "cell_type": "code",
   "execution_count": 10,
   "metadata": {
    "ExecuteTime": {
     "end_time": "2022-03-09T14:36:48.100760Z",
     "start_time": "2022-03-09T14:36:48.092796Z"
    }
   },
   "outputs": [
    {
     "name": "stdout",
     "output_type": "stream",
     "text": [
      "<class 'pandas.core.frame.DataFrame'>\n",
      "Int64Index: 16 entries, 0 to 15\n",
      "Data columns (total 12 columns):\n",
      " #   Column             Non-Null Count  Dtype  \n",
      "---  ------             --------------  -----  \n",
      " 0   title              16 non-null     object \n",
      " 1   studio             16 non-null     object \n",
      " 2   year               16 non-null     int64  \n",
      " 3   original_language  16 non-null     object \n",
      " 4   popularity         16 non-null     float64\n",
      " 5   release_date_x     16 non-null     object \n",
      " 6   vote_average       16 non-null     float64\n",
      " 7   vote_count         16 non-null     int64  \n",
      " 8   release_date_y     16 non-null     object \n",
      " 9   production_budget  16 non-null     object \n",
      " 10  domestic_gross_y   16 non-null     object \n",
      " 11  worldwide_gross    16 non-null     object \n",
      "dtypes: float64(2), int64(2), object(8)\n",
      "memory usage: 1.6+ KB\n"
     ]
    }
   ],
   "source": [
    "#check type of each column\n",
    "clean_columns.info()"
   ]
  },
  {
   "cell_type": "code",
   "execution_count": 11,
   "metadata": {
    "ExecuteTime": {
     "end_time": "2022-03-09T14:36:48.105477Z",
     "start_time": "2022-03-09T14:36:48.101808Z"
    }
   },
   "outputs": [],
   "source": [
    "#cleaning and converting worldwide_gross into int\n",
    "clean_columns['worldwide_gross'] = clean_columns['worldwide_gross'].str.replace('$', '')\n",
    "clean_columns['worldwide_gross'] = clean_columns['worldwide_gross'].str.replace(',', '')\n",
    "clean_columns['worldwide_gross'] = clean_columns['worldwide_gross'].astype(int)"
   ]
  },
  {
   "cell_type": "code",
   "execution_count": 12,
   "metadata": {
    "ExecuteTime": {
     "end_time": "2022-03-09T14:36:48.110024Z",
     "start_time": "2022-03-09T14:36:48.106418Z"
    }
   },
   "outputs": [],
   "source": [
    "clean_columns['domestic_gross_y'] = clean_columns['domestic_gross_y'].str.replace('$', '')\n",
    "clean_columns['domestic_gross_y'] = clean_columns['domestic_gross_y'].str.replace(',', '')\n",
    "clean_columns['domestic_gross_y'] = clean_columns['domestic_gross_y'].astype(int)"
   ]
  },
  {
   "cell_type": "code",
   "execution_count": 13,
   "metadata": {
    "ExecuteTime": {
     "end_time": "2022-03-09T14:36:48.114380Z",
     "start_time": "2022-03-09T14:36:48.111001Z"
    }
   },
   "outputs": [],
   "source": [
    "clean_columns['production_budget'] = clean_columns['production_budget'].str.replace('$', '')\n",
    "clean_columns['production_budget'] = clean_columns['production_budget'].str.replace(',', '')"
   ]
  },
  {
   "cell_type": "code",
   "execution_count": 14,
   "metadata": {
    "ExecuteTime": {
     "end_time": "2022-03-09T14:36:48.127614Z",
     "start_time": "2022-03-09T14:36:48.119944Z"
    }
   },
   "outputs": [
    {
     "name": "stdout",
     "output_type": "stream",
     "text": [
      "<class 'pandas.core.frame.DataFrame'>\n",
      "Int64Index: 16 entries, 0 to 15\n",
      "Data columns (total 12 columns):\n",
      " #   Column             Non-Null Count  Dtype  \n",
      "---  ------             --------------  -----  \n",
      " 0   title              16 non-null     object \n",
      " 1   studio             16 non-null     object \n",
      " 2   year               16 non-null     int64  \n",
      " 3   original_language  16 non-null     object \n",
      " 4   popularity         16 non-null     float64\n",
      " 5   release_date_x     16 non-null     object \n",
      " 6   vote_average       16 non-null     float64\n",
      " 7   vote_count         16 non-null     int64  \n",
      " 8   release_date_y     16 non-null     object \n",
      " 9   production_budget  16 non-null     object \n",
      " 10  domestic_gross_y   16 non-null     int64  \n",
      " 11  worldwide_gross    16 non-null     int64  \n",
      "dtypes: float64(2), int64(4), object(6)\n",
      "memory usage: 1.6+ KB\n"
     ]
    }
   ],
   "source": [
    "#verify that worldwide_gross, domestic_gross_y, and production_budget are int\n",
    "clean_columns.info()"
   ]
  },
  {
   "cell_type": "code",
   "execution_count": 15,
   "metadata": {
    "ExecuteTime": {
     "end_time": "2022-03-09T14:36:48.132917Z",
     "start_time": "2022-03-09T14:36:48.129092Z"
    }
   },
   "outputs": [],
   "source": [
    "#addition of foreign_gross to dataframe\n",
    "clean_columns['foreign_gross'] = clean_columns['worldwide_gross'] - clean_columns['domestic_gross_y']"
   ]
  },
  {
   "cell_type": "code",
   "execution_count": 16,
   "metadata": {
    "ExecuteTime": {
     "end_time": "2022-03-09T14:36:48.211810Z",
     "start_time": "2022-03-09T14:36:48.133773Z"
    }
   },
   "outputs": [
    {
     "ename": "TypeError",
     "evalue": "unsupported operand type(s) for /: 'int' and 'str'",
     "output_type": "error",
     "traceback": [
      "\u001b[0;31m---------------------------------------------------------------------------\u001b[0m",
      "\u001b[0;31mTypeError\u001b[0m                                 Traceback (most recent call last)",
      "\u001b[0;32m~/opt/anaconda3/envs/learn-env/lib/python3.8/site-packages/pandas/core/ops/array_ops.py\u001b[0m in \u001b[0;36mna_arithmetic_op\u001b[0;34m(left, right, op, is_cmp)\u001b[0m\n\u001b[1;32m    142\u001b[0m     \u001b[0;32mtry\u001b[0m\u001b[0;34m:\u001b[0m\u001b[0;34m\u001b[0m\u001b[0;34m\u001b[0m\u001b[0m\n\u001b[0;32m--> 143\u001b[0;31m         \u001b[0mresult\u001b[0m \u001b[0;34m=\u001b[0m \u001b[0mexpressions\u001b[0m\u001b[0;34m.\u001b[0m\u001b[0mevaluate\u001b[0m\u001b[0;34m(\u001b[0m\u001b[0mop\u001b[0m\u001b[0;34m,\u001b[0m \u001b[0mleft\u001b[0m\u001b[0;34m,\u001b[0m \u001b[0mright\u001b[0m\u001b[0;34m)\u001b[0m\u001b[0;34m\u001b[0m\u001b[0;34m\u001b[0m\u001b[0m\n\u001b[0m\u001b[1;32m    144\u001b[0m     \u001b[0;32mexcept\u001b[0m \u001b[0mTypeError\u001b[0m\u001b[0;34m:\u001b[0m\u001b[0;34m\u001b[0m\u001b[0;34m\u001b[0m\u001b[0m\n",
      "\u001b[0;32m~/opt/anaconda3/envs/learn-env/lib/python3.8/site-packages/pandas/core/computation/expressions.py\u001b[0m in \u001b[0;36mevaluate\u001b[0;34m(op, a, b, use_numexpr)\u001b[0m\n\u001b[1;32m    232\u001b[0m         \u001b[0;32mif\u001b[0m \u001b[0muse_numexpr\u001b[0m\u001b[0;34m:\u001b[0m\u001b[0;34m\u001b[0m\u001b[0;34m\u001b[0m\u001b[0m\n\u001b[0;32m--> 233\u001b[0;31m             \u001b[0;32mreturn\u001b[0m \u001b[0m_evaluate\u001b[0m\u001b[0;34m(\u001b[0m\u001b[0mop\u001b[0m\u001b[0;34m,\u001b[0m \u001b[0mop_str\u001b[0m\u001b[0;34m,\u001b[0m \u001b[0ma\u001b[0m\u001b[0;34m,\u001b[0m \u001b[0mb\u001b[0m\u001b[0;34m)\u001b[0m  \u001b[0;31m# type: ignore\u001b[0m\u001b[0;34m\u001b[0m\u001b[0;34m\u001b[0m\u001b[0m\n\u001b[0m\u001b[1;32m    234\u001b[0m     \u001b[0;32mreturn\u001b[0m \u001b[0m_evaluate_standard\u001b[0m\u001b[0;34m(\u001b[0m\u001b[0mop\u001b[0m\u001b[0;34m,\u001b[0m \u001b[0mop_str\u001b[0m\u001b[0;34m,\u001b[0m \u001b[0ma\u001b[0m\u001b[0;34m,\u001b[0m \u001b[0mb\u001b[0m\u001b[0;34m)\u001b[0m\u001b[0;34m\u001b[0m\u001b[0;34m\u001b[0m\u001b[0m\n",
      "\u001b[0;32m~/opt/anaconda3/envs/learn-env/lib/python3.8/site-packages/pandas/core/computation/expressions.py\u001b[0m in \u001b[0;36m_evaluate_standard\u001b[0;34m(op, op_str, a, b)\u001b[0m\n\u001b[1;32m     67\u001b[0m     \u001b[0;32mwith\u001b[0m \u001b[0mnp\u001b[0m\u001b[0;34m.\u001b[0m\u001b[0merrstate\u001b[0m\u001b[0;34m(\u001b[0m\u001b[0mall\u001b[0m\u001b[0;34m=\u001b[0m\u001b[0;34m\"ignore\"\u001b[0m\u001b[0;34m)\u001b[0m\u001b[0;34m:\u001b[0m\u001b[0;34m\u001b[0m\u001b[0;34m\u001b[0m\u001b[0m\n\u001b[0;32m---> 68\u001b[0;31m         \u001b[0;32mreturn\u001b[0m \u001b[0mop\u001b[0m\u001b[0;34m(\u001b[0m\u001b[0ma\u001b[0m\u001b[0;34m,\u001b[0m \u001b[0mb\u001b[0m\u001b[0;34m)\u001b[0m\u001b[0;34m\u001b[0m\u001b[0;34m\u001b[0m\u001b[0m\n\u001b[0m\u001b[1;32m     69\u001b[0m \u001b[0;34m\u001b[0m\u001b[0m\n",
      "\u001b[0;31mTypeError\u001b[0m: unsupported operand type(s) for /: 'int' and 'str'",
      "\nDuring handling of the above exception, another exception occurred:\n",
      "\u001b[0;31mTypeError\u001b[0m                                 Traceback (most recent call last)",
      "\u001b[0;32m<ipython-input-16-12fa1528f9cc>\u001b[0m in \u001b[0;36m<module>\u001b[0;34m\u001b[0m\n\u001b[1;32m      1\u001b[0m \u001b[0;31m#addition of gross to production budget ratio\u001b[0m\u001b[0;34m\u001b[0m\u001b[0;34m\u001b[0m\u001b[0;34m\u001b[0m\u001b[0m\n\u001b[0;32m----> 2\u001b[0;31m \u001b[0mclean_columns\u001b[0m\u001b[0;34m[\u001b[0m\u001b[0;34m'gross_to_budget_ratio'\u001b[0m\u001b[0;34m]\u001b[0m \u001b[0;34m=\u001b[0m \u001b[0mclean_columns\u001b[0m\u001b[0;34m[\u001b[0m\u001b[0;34m'worldwide_gross'\u001b[0m\u001b[0;34m]\u001b[0m \u001b[0;34m/\u001b[0m \u001b[0mclean_columns\u001b[0m\u001b[0;34m[\u001b[0m\u001b[0;34m'production_budget'\u001b[0m\u001b[0;34m]\u001b[0m\u001b[0;34m\u001b[0m\u001b[0;34m\u001b[0m\u001b[0m\n\u001b[0m",
      "\u001b[0;32m~/opt/anaconda3/envs/learn-env/lib/python3.8/site-packages/pandas/core/ops/common.py\u001b[0m in \u001b[0;36mnew_method\u001b[0;34m(self, other)\u001b[0m\n\u001b[1;32m     63\u001b[0m         \u001b[0mother\u001b[0m \u001b[0;34m=\u001b[0m \u001b[0mitem_from_zerodim\u001b[0m\u001b[0;34m(\u001b[0m\u001b[0mother\u001b[0m\u001b[0;34m)\u001b[0m\u001b[0;34m\u001b[0m\u001b[0;34m\u001b[0m\u001b[0m\n\u001b[1;32m     64\u001b[0m \u001b[0;34m\u001b[0m\u001b[0m\n\u001b[0;32m---> 65\u001b[0;31m         \u001b[0;32mreturn\u001b[0m \u001b[0mmethod\u001b[0m\u001b[0;34m(\u001b[0m\u001b[0mself\u001b[0m\u001b[0;34m,\u001b[0m \u001b[0mother\u001b[0m\u001b[0;34m)\u001b[0m\u001b[0;34m\u001b[0m\u001b[0;34m\u001b[0m\u001b[0m\n\u001b[0m\u001b[1;32m     66\u001b[0m \u001b[0;34m\u001b[0m\u001b[0m\n\u001b[1;32m     67\u001b[0m     \u001b[0;32mreturn\u001b[0m \u001b[0mnew_method\u001b[0m\u001b[0;34m\u001b[0m\u001b[0;34m\u001b[0m\u001b[0m\n",
      "\u001b[0;32m~/opt/anaconda3/envs/learn-env/lib/python3.8/site-packages/pandas/core/ops/__init__.py\u001b[0m in \u001b[0;36mwrapper\u001b[0;34m(left, right)\u001b[0m\n\u001b[1;32m    341\u001b[0m         \u001b[0mlvalues\u001b[0m \u001b[0;34m=\u001b[0m \u001b[0mextract_array\u001b[0m\u001b[0;34m(\u001b[0m\u001b[0mleft\u001b[0m\u001b[0;34m,\u001b[0m \u001b[0mextract_numpy\u001b[0m\u001b[0;34m=\u001b[0m\u001b[0;32mTrue\u001b[0m\u001b[0;34m)\u001b[0m\u001b[0;34m\u001b[0m\u001b[0;34m\u001b[0m\u001b[0m\n\u001b[1;32m    342\u001b[0m         \u001b[0mrvalues\u001b[0m \u001b[0;34m=\u001b[0m \u001b[0mextract_array\u001b[0m\u001b[0;34m(\u001b[0m\u001b[0mright\u001b[0m\u001b[0;34m,\u001b[0m \u001b[0mextract_numpy\u001b[0m\u001b[0;34m=\u001b[0m\u001b[0;32mTrue\u001b[0m\u001b[0;34m)\u001b[0m\u001b[0;34m\u001b[0m\u001b[0;34m\u001b[0m\u001b[0m\n\u001b[0;32m--> 343\u001b[0;31m         \u001b[0mresult\u001b[0m \u001b[0;34m=\u001b[0m \u001b[0marithmetic_op\u001b[0m\u001b[0;34m(\u001b[0m\u001b[0mlvalues\u001b[0m\u001b[0;34m,\u001b[0m \u001b[0mrvalues\u001b[0m\u001b[0;34m,\u001b[0m \u001b[0mop\u001b[0m\u001b[0;34m)\u001b[0m\u001b[0;34m\u001b[0m\u001b[0;34m\u001b[0m\u001b[0m\n\u001b[0m\u001b[1;32m    344\u001b[0m \u001b[0;34m\u001b[0m\u001b[0m\n\u001b[1;32m    345\u001b[0m         \u001b[0;32mreturn\u001b[0m \u001b[0mleft\u001b[0m\u001b[0;34m.\u001b[0m\u001b[0m_construct_result\u001b[0m\u001b[0;34m(\u001b[0m\u001b[0mresult\u001b[0m\u001b[0;34m,\u001b[0m \u001b[0mname\u001b[0m\u001b[0;34m=\u001b[0m\u001b[0mres_name\u001b[0m\u001b[0;34m)\u001b[0m\u001b[0;34m\u001b[0m\u001b[0;34m\u001b[0m\u001b[0m\n",
      "\u001b[0;32m~/opt/anaconda3/envs/learn-env/lib/python3.8/site-packages/pandas/core/ops/array_ops.py\u001b[0m in \u001b[0;36marithmetic_op\u001b[0;34m(left, right, op)\u001b[0m\n\u001b[1;32m    188\u001b[0m     \u001b[0;32melse\u001b[0m\u001b[0;34m:\u001b[0m\u001b[0;34m\u001b[0m\u001b[0;34m\u001b[0m\u001b[0m\n\u001b[1;32m    189\u001b[0m         \u001b[0;32mwith\u001b[0m \u001b[0mnp\u001b[0m\u001b[0;34m.\u001b[0m\u001b[0merrstate\u001b[0m\u001b[0;34m(\u001b[0m\u001b[0mall\u001b[0m\u001b[0;34m=\u001b[0m\u001b[0;34m\"ignore\"\u001b[0m\u001b[0;34m)\u001b[0m\u001b[0;34m:\u001b[0m\u001b[0;34m\u001b[0m\u001b[0;34m\u001b[0m\u001b[0m\n\u001b[0;32m--> 190\u001b[0;31m             \u001b[0mres_values\u001b[0m \u001b[0;34m=\u001b[0m \u001b[0mna_arithmetic_op\u001b[0m\u001b[0;34m(\u001b[0m\u001b[0mlvalues\u001b[0m\u001b[0;34m,\u001b[0m \u001b[0mrvalues\u001b[0m\u001b[0;34m,\u001b[0m \u001b[0mop\u001b[0m\u001b[0;34m)\u001b[0m\u001b[0;34m\u001b[0m\u001b[0;34m\u001b[0m\u001b[0m\n\u001b[0m\u001b[1;32m    191\u001b[0m \u001b[0;34m\u001b[0m\u001b[0m\n\u001b[1;32m    192\u001b[0m     \u001b[0;32mreturn\u001b[0m \u001b[0mres_values\u001b[0m\u001b[0;34m\u001b[0m\u001b[0;34m\u001b[0m\u001b[0m\n",
      "\u001b[0;32m~/opt/anaconda3/envs/learn-env/lib/python3.8/site-packages/pandas/core/ops/array_ops.py\u001b[0m in \u001b[0;36mna_arithmetic_op\u001b[0;34m(left, right, op, is_cmp)\u001b[0m\n\u001b[1;32m    148\u001b[0m             \u001b[0;31m#  will handle complex numbers incorrectly, see GH#32047\u001b[0m\u001b[0;34m\u001b[0m\u001b[0;34m\u001b[0m\u001b[0;34m\u001b[0m\u001b[0m\n\u001b[1;32m    149\u001b[0m             \u001b[0;32mraise\u001b[0m\u001b[0;34m\u001b[0m\u001b[0;34m\u001b[0m\u001b[0m\n\u001b[0;32m--> 150\u001b[0;31m         \u001b[0mresult\u001b[0m \u001b[0;34m=\u001b[0m \u001b[0mmasked_arith_op\u001b[0m\u001b[0;34m(\u001b[0m\u001b[0mleft\u001b[0m\u001b[0;34m,\u001b[0m \u001b[0mright\u001b[0m\u001b[0;34m,\u001b[0m \u001b[0mop\u001b[0m\u001b[0;34m)\u001b[0m\u001b[0;34m\u001b[0m\u001b[0;34m\u001b[0m\u001b[0m\n\u001b[0m\u001b[1;32m    151\u001b[0m \u001b[0;34m\u001b[0m\u001b[0m\n\u001b[1;32m    152\u001b[0m     \u001b[0;32mif\u001b[0m \u001b[0mis_cmp\u001b[0m \u001b[0;32mand\u001b[0m \u001b[0;34m(\u001b[0m\u001b[0mis_scalar\u001b[0m\u001b[0;34m(\u001b[0m\u001b[0mresult\u001b[0m\u001b[0;34m)\u001b[0m \u001b[0;32mor\u001b[0m \u001b[0mresult\u001b[0m \u001b[0;32mis\u001b[0m \u001b[0mNotImplemented\u001b[0m\u001b[0;34m)\u001b[0m\u001b[0;34m:\u001b[0m\u001b[0;34m\u001b[0m\u001b[0;34m\u001b[0m\u001b[0m\n",
      "\u001b[0;32m~/opt/anaconda3/envs/learn-env/lib/python3.8/site-packages/pandas/core/ops/array_ops.py\u001b[0m in \u001b[0;36mmasked_arith_op\u001b[0;34m(x, y, op)\u001b[0m\n\u001b[1;32m     90\u001b[0m         \u001b[0;32mif\u001b[0m \u001b[0mmask\u001b[0m\u001b[0;34m.\u001b[0m\u001b[0many\u001b[0m\u001b[0;34m(\u001b[0m\u001b[0;34m)\u001b[0m\u001b[0;34m:\u001b[0m\u001b[0;34m\u001b[0m\u001b[0;34m\u001b[0m\u001b[0m\n\u001b[1;32m     91\u001b[0m             \u001b[0;32mwith\u001b[0m \u001b[0mnp\u001b[0m\u001b[0;34m.\u001b[0m\u001b[0merrstate\u001b[0m\u001b[0;34m(\u001b[0m\u001b[0mall\u001b[0m\u001b[0;34m=\u001b[0m\u001b[0;34m\"ignore\"\u001b[0m\u001b[0;34m)\u001b[0m\u001b[0;34m:\u001b[0m\u001b[0;34m\u001b[0m\u001b[0;34m\u001b[0m\u001b[0m\n\u001b[0;32m---> 92\u001b[0;31m                 \u001b[0mresult\u001b[0m\u001b[0;34m[\u001b[0m\u001b[0mmask\u001b[0m\u001b[0;34m]\u001b[0m \u001b[0;34m=\u001b[0m \u001b[0mop\u001b[0m\u001b[0;34m(\u001b[0m\u001b[0mxrav\u001b[0m\u001b[0;34m[\u001b[0m\u001b[0mmask\u001b[0m\u001b[0;34m]\u001b[0m\u001b[0;34m,\u001b[0m \u001b[0myrav\u001b[0m\u001b[0;34m[\u001b[0m\u001b[0mmask\u001b[0m\u001b[0;34m]\u001b[0m\u001b[0;34m)\u001b[0m\u001b[0;34m\u001b[0m\u001b[0;34m\u001b[0m\u001b[0m\n\u001b[0m\u001b[1;32m     93\u001b[0m \u001b[0;34m\u001b[0m\u001b[0m\n\u001b[1;32m     94\u001b[0m     \u001b[0;32melse\u001b[0m\u001b[0;34m:\u001b[0m\u001b[0;34m\u001b[0m\u001b[0;34m\u001b[0m\u001b[0m\n",
      "\u001b[0;31mTypeError\u001b[0m: unsupported operand type(s) for /: 'int' and 'str'"
     ]
    }
   ],
   "source": [
    "#addition of gross to production budget ratio\n",
    "clean_columns['gross_to_budget_ratio'] = clean_columns['worldwide_gross'] / clean_columns['production_budget']"
   ]
  },
  {
   "cell_type": "code",
   "execution_count": null,
   "metadata": {
    "ExecuteTime": {
     "end_time": "2022-03-09T14:36:48.215393Z",
     "start_time": "2022-03-09T14:36:47.423Z"
    }
   },
   "outputs": [],
   "source": [
    "#sorting values by gross_to_budget \n",
    "clean_columns.sort_values(by='gross_to_budget_ratio', ascending=False)"
   ]
  },
  {
   "cell_type": "code",
   "execution_count": null,
   "metadata": {
    "ExecuteTime": {
     "end_time": "2022-03-09T14:36:48.215958Z",
     "start_time": "2022-03-09T14:36:47.425Z"
    }
   },
   "outputs": [],
   "source": [
    "#dropping exact row duplicates\n",
    "test_clean_columns = clean_columns.drop_duplicates()"
   ]
  },
  {
   "cell_type": "code",
   "execution_count": null,
   "metadata": {
    "ExecuteTime": {
     "end_time": "2022-03-09T14:36:48.216568Z",
     "start_time": "2022-03-09T14:36:47.426Z"
    }
   },
   "outputs": [],
   "source": [
    "#dropping duplicates where the title name is the same but other values are wrong\n",
    "vote_count_max = test_clean_columns.groupby(['title','studio']).vote_count.transform(max)\n",
    "movies_clean = test_clean_columns.loc[test_clean_columns.vote_count == vote_count_max]"
   ]
  },
  {
   "cell_type": "code",
   "execution_count": null,
   "metadata": {
    "ExecuteTime": {
     "end_time": "2022-03-09T14:36:48.217300Z",
     "start_time": "2022-03-09T14:36:47.427Z"
    }
   },
   "outputs": [],
   "source": [
    "#verifying the shape of movies_clean\n",
    "movies_clean.shape"
   ]
  },
  {
   "cell_type": "code",
   "execution_count": null,
   "metadata": {
    "ExecuteTime": {
     "end_time": "2022-03-09T14:36:48.218043Z",
     "start_time": "2022-03-09T14:36:47.428Z"
    }
   },
   "outputs": [],
   "source": [
    "#sorting dataframe by gross_to_budget_ratio\n",
    "movies_clean.sort_values(['gross_to_budget_ratio'], ascending=False)"
   ]
  },
  {
   "cell_type": "code",
   "execution_count": null,
   "metadata": {
    "ExecuteTime": {
     "end_time": "2022-03-09T14:36:48.218604Z",
     "start_time": "2022-03-09T14:36:47.428Z"
    }
   },
   "outputs": [],
   "source": [
    "#verifying that there's no null values\n",
    "movies_clean.info()"
   ]
  },
  {
   "cell_type": "code",
   "execution_count": null,
   "metadata": {
    "ExecuteTime": {
     "end_time": "2022-03-09T14:36:48.219253Z",
     "start_time": "2022-03-09T14:36:47.429Z"
    }
   },
   "outputs": [],
   "source": [
    "#Quick glance at the information of the dataset\n",
    "movies_clean.describe()"
   ]
  },
  {
   "cell_type": "code",
   "execution_count": null,
   "metadata": {
    "ExecuteTime": {
     "end_time": "2022-03-09T14:36:48.219778Z",
     "start_time": "2022-03-09T14:36:47.430Z"
    }
   },
   "outputs": [],
   "source": [
    "#Preping for graphing\n",
    "\n",
    "import numpy as np\n"
   ]
  },
  {
   "cell_type": "code",
   "execution_count": null,
   "metadata": {
    "ExecuteTime": {
     "end_time": "2022-03-09T14:36:48.220554Z",
     "start_time": "2022-03-09T14:36:47.431Z"
    }
   },
   "outputs": [],
   "source": [
    "#MAke to help determining bounds of the graph\n",
    "q3, q1 = np.percentile(movies_clean['gross_to_budget_ratio'], [75, 25])\n",
    "q3, q1\n",
    "iqr = q3-q1\n",
    "\n",
    "lower_limit = movies_clean['gross_to_budget_ratio'].mean()-(iqr*1.5)\n",
    "\n",
    "upper_limit = movies_clean['gross_to_budget_ratio'].mean()+(iqr*1.5)\n",
    "\n",
    "lower_limit, upper_limit"
   ]
  },
  {
   "cell_type": "code",
   "execution_count": null,
   "metadata": {
    "ExecuteTime": {
     "end_time": "2022-03-09T14:36:48.221171Z",
     "start_time": "2022-03-09T14:36:47.431Z"
    }
   },
   "outputs": [],
   "source": [
    "#limiting data to the upper limit of the iqr\n",
    "movies_oultierless = movies_clean[movies_clean['gross_to_budget_ratio']<upper_limit]\n",
    "movies_oultierless"
   ]
  },
  {
   "cell_type": "code",
   "execution_count": null,
   "metadata": {
    "ExecuteTime": {
     "end_time": "2022-03-09T14:36:48.221753Z",
     "start_time": "2022-03-09T14:36:47.432Z"
    }
   },
   "outputs": [],
   "source": [
    "#graph of movies_oultierless\n",
    "fig, ax = plt.subplots(figsize=(10,10),)\n",
    "ax.ticklabel_format(style='plain')\n",
    "ax.scatter(movies_oultierless['production_budget'] , y = movies_oultierless['worldwide_gross'], alpha = .4);\n"
   ]
  },
  {
   "cell_type": "code",
   "execution_count": null,
   "metadata": {
    "ExecuteTime": {
     "end_time": "2022-03-09T14:36:48.222333Z",
     "start_time": "2022-03-09T14:36:47.433Z"
    }
   },
   "outputs": [],
   "source": [
    "#graph for movies_oultierless\n",
    "np.corrcoef(movies_oultierless['production_budget'] , y = movies_oultierless['worldwide_gross'])\n",
    "#almost a 1:1 correlation"
   ]
  },
  {
   "cell_type": "code",
   "execution_count": null,
   "metadata": {
    "ExecuteTime": {
     "end_time": "2022-03-09T14:36:48.222851Z",
     "start_time": "2022-03-09T14:36:47.433Z"
    }
   },
   "outputs": [],
   "source": [
    "#Finding the iqr from movies_without_wwg_outliers\n",
    "q3, q1 = np.percentile(movies_clean['worldwide_gross'], [75, 25])\n",
    "q3, q1\n",
    "iqr = q3-q1\n",
    "\n",
    "lower_limit_wwg = movies_clean['worldwide_gross'].mean()-(iqr*1.5)\n",
    "\n",
    "upper_limit_wwg = movies_clean['worldwide_gross'].mean()+(iqr*1.5)\n",
    "\n",
    "lower_limit_wwg, upper_limit_wwg"
   ]
  },
  {
   "cell_type": "code",
   "execution_count": null,
   "metadata": {
    "ExecuteTime": {
     "end_time": "2022-03-09T14:36:48.223567Z",
     "start_time": "2022-03-09T14:36:47.434Z"
    }
   },
   "outputs": [],
   "source": [
    "#limiting data to upper limit\n",
    "movies_without_wwg_outliers = movies_clean[movies_clean['worldwide_gross']<upper_limit_wwg]"
   ]
  },
  {
   "cell_type": "code",
   "execution_count": null,
   "metadata": {
    "ExecuteTime": {
     "end_time": "2022-03-09T14:36:48.224100Z",
     "start_time": "2022-03-09T14:36:47.435Z"
    }
   },
   "outputs": [],
   "source": [
    "#finding the iqr of the movies_without_wwg_or_pb_outliers\n",
    "q3, q1 = np.percentile(movies_without_wwg_outliers['production_budget'], [75, 25])\n",
    "q3, q1\n",
    "iqr = q3-q1\n",
    "\n",
    "lower_limit_pb = movies_without_wwg_outliers['production_budget'].mean()-(iqr*1.5)\n",
    "\n",
    "upper_limit_pb = movies_without_wwg_outliers['production_budget'].mean()+(iqr*1.5)\n",
    "\n",
    "lower_limit_pb, upper_limit_pb"
   ]
  },
  {
   "cell_type": "code",
   "execution_count": null,
   "metadata": {
    "ExecuteTime": {
     "end_time": "2022-03-09T14:36:48.224853Z",
     "start_time": "2022-03-09T14:36:47.436Z"
    }
   },
   "outputs": [],
   "source": [
    "#setting the upper limit \n",
    "movies_without_wwg_or_pb_outliers = movies_without_wwg_outliers[movies_without_wwg_outliers['production_budget']<upper_limit_pb]"
   ]
  },
  {
   "cell_type": "code",
   "execution_count": null,
   "metadata": {
    "ExecuteTime": {
     "end_time": "2022-03-09T14:36:48.225366Z",
     "start_time": "2022-03-09T14:36:47.436Z"
    }
   },
   "outputs": [],
   "source": [
    "#graph for movies_without_wwg_or_pb_outliers\n",
    "fig, ax = plt.subplots(figsize=(10,10),)\n",
    "ax.ticklabel_format(style='plain')\n",
    "ax.scatter(movies_without_wwg_or_pb_outliers['production_budget'] , y = movies_without_wwg_or_pb_outliers['worldwide_gross'], alpha = .4);"
   ]
  },
  {
   "cell_type": "code",
   "execution_count": null,
   "metadata": {
    "ExecuteTime": {
     "end_time": "2022-03-09T14:36:48.225927Z",
     "start_time": "2022-03-09T14:36:47.437Z"
    }
   },
   "outputs": [],
   "source": [
    "#checking the correlation coefficient of movies_without_wwg_or_pb_outliers\n",
    "np.corrcoef(movies_without_wwg_or_pb_outliers['production_budget'] , y = movies_without_wwg_or_pb_outliers['worldwide_gross'])\n",
    "#postive correlation but not as strong as the movie_oultierless"
   ]
  },
  {
   "cell_type": "code",
   "execution_count": null,
   "metadata": {
    "ExecuteTime": {
     "end_time": "2022-03-09T14:36:48.226432Z",
     "start_time": "2022-03-09T14:36:47.437Z"
    }
   },
   "outputs": [],
   "source": [
    "#looking at who the potential competitors are\n",
    "movies_clean['studio'].value_counts()"
   ]
  },
  {
   "cell_type": "code",
   "execution_count": null,
   "metadata": {
    "ExecuteTime": {
     "end_time": "2022-03-09T14:36:48.226945Z",
     "start_time": "2022-03-09T14:36:47.438Z"
    }
   },
   "outputs": [],
   "source": [
    "top_ten_most_common_studios = movies_clean['studio'].value_counts().head(20)\n",
    "top_ten_most_common_studios.index #verifying that there's 20 names"
   ]
  },
  {
   "cell_type": "code",
   "execution_count": null,
   "metadata": {
    "ExecuteTime": {
     "end_time": "2022-03-09T14:36:48.227481Z",
     "start_time": "2022-03-09T14:36:47.439Z"
    }
   },
   "outputs": [],
   "source": [
    "#visualizing the top_ten_most_common_studios\n",
    "#tells us how many movies they've made between 2010-2018\n",
    "fig, ax = plt.subplots(figsize=(10,10))\n",
    "\n",
    "ax.bar(x=top_ten_most_common_studios.index.astype(str), height=top_ten_most_common_studios);\n",
    "#most common competitors\n",
    "#Where is Disney? BV = Disney. Did they buy one of these companies, Who owns who?\n",
    "#We have a WB and WB (NL), we have Fox and FoxS"
   ]
  },
  {
   "cell_type": "code",
   "execution_count": null,
   "metadata": {
    "ExecuteTime": {
     "end_time": "2022-03-09T14:36:48.228088Z",
     "start_time": "2022-03-09T14:36:47.439Z"
    }
   },
   "outputs": [],
   "source": [
    "#other EDAs"
   ]
  },
  {
   "cell_type": "code",
   "execution_count": null,
   "metadata": {
    "ExecuteTime": {
     "end_time": "2022-03-09T14:36:48.228627Z",
     "start_time": "2022-03-09T14:36:47.440Z"
    }
   },
   "outputs": [],
   "source": [
    "#vote_average vs worldwide_gross\n",
    "fig, ax = plt.subplots(figsize=(10,10),)\n",
    "ax.ticklabel_format(style='plain')\n",
    "ax.scatter(movies_clean['vote_average'] , y = movies_clean['worldwide_gross'])"
   ]
  },
  {
   "cell_type": "code",
   "execution_count": null,
   "metadata": {
    "ExecuteTime": {
     "end_time": "2022-03-09T14:36:48.229144Z",
     "start_time": "2022-03-09T14:36:47.441Z"
    }
   },
   "outputs": [],
   "source": [
    "#looking at correlation\n",
    "#not that strong, slight positive but overall no reccommend to talk about?\n",
    "np.corrcoef(movies_clean['vote_average'] , y = movies_clean['worldwide_gross'])"
   ]
  },
  {
   "cell_type": "code",
   "execution_count": null,
   "metadata": {
    "ExecuteTime": {
     "end_time": "2022-03-09T14:36:48.229750Z",
     "start_time": "2022-03-09T14:36:47.441Z"
    }
   },
   "outputs": [],
   "source": [
    "#popularity vs worldwide_gross\n",
    "fig, ax = plt.subplots(figsize=(10,10),)\n",
    "ax.ticklabel_format(style='plain')\n",
    "ax.scatter(movies_clean['popularity'] , y = movies_clean['worldwide_gross']);"
   ]
  },
  {
   "cell_type": "code",
   "execution_count": null,
   "metadata": {
    "ExecuteTime": {
     "end_time": "2022-03-09T14:36:48.230276Z",
     "start_time": "2022-03-09T14:36:47.442Z"
    }
   },
   "outputs": [],
   "source": [
    "#decent positive relationship\n",
    "np.corrcoef(movies_clean['popularity'] , y = movies_clean['worldwide_gross'])"
   ]
  },
  {
   "cell_type": "code",
   "execution_count": null,
   "metadata": {
    "ExecuteTime": {
     "end_time": "2022-03-09T14:36:48.231096Z",
     "start_time": "2022-03-09T14:36:47.443Z"
    }
   },
   "outputs": [],
   "source": [
    "#vote_count vs vote_average\n",
    "fig, ax = plt.subplots(figsize=(10,10),)\n",
    "ax.ticklabel_format(style='plain')\n",
    "ax.scatter(movies_clean['vote_count'] , y = movies_clean['vote_average']);"
   ]
  },
  {
   "cell_type": "code",
   "execution_count": null,
   "metadata": {
    "ExecuteTime": {
     "end_time": "2022-03-09T14:36:48.232240Z",
     "start_time": "2022-03-09T14:36:47.444Z"
    }
   },
   "outputs": [],
   "source": [
    "#positve correlation, don't know where .4 stands\n",
    "np.corrcoef(movies_clean['vote_count'] , y = movies_clean['vote_average'])"
   ]
  },
  {
   "cell_type": "code",
   "execution_count": null,
   "metadata": {
    "ExecuteTime": {
     "end_time": "2022-03-09T14:36:48.233000Z",
     "start_time": "2022-03-09T14:36:47.445Z"
    }
   },
   "outputs": [],
   "source": [
    "#vote_count vs worldwide_gross\n",
    "fig, ax = plt.subplots(figsize=(10,10),)\n",
    "ax.ticklabel_format(style='plain')\n",
    "ax.scatter(movies_clean['vote_count'] , y = movies_clean['worldwide_gross']);"
   ]
  },
  {
   "cell_type": "code",
   "execution_count": null,
   "metadata": {
    "ExecuteTime": {
     "end_time": "2022-03-09T14:36:48.233652Z",
     "start_time": "2022-03-09T14:36:47.446Z"
    }
   },
   "outputs": [],
   "source": [
    "#strong positive correlation \n",
    "np.corrcoef(movies_clean['vote_count'] , y = movies_clean['worldwide_gross'])"
   ]
  },
  {
   "cell_type": "code",
   "execution_count": null,
   "metadata": {
    "ExecuteTime": {
     "end_time": "2022-03-09T14:36:48.234665Z",
     "start_time": "2022-03-09T14:36:47.446Z"
    }
   },
   "outputs": [],
   "source": [
    "#looking at how much each studio makes per movie\n",
    "#some of these studios didn't show up in the most common studios\n",
    "#meaning they produce less films but make more per\n",
    "studio_average_wwg = movies_clean.groupby(['studio']).mean(['worldwide_gross']).sort_values(['worldwide_gross'], ascending=False).head(20)\n",
    "studio_average_wwg"
   ]
  },
  {
   "cell_type": "code",
   "execution_count": null,
   "metadata": {
    "ExecuteTime": {
     "end_time": "2022-03-09T14:36:48.235475Z",
     "start_time": "2022-03-09T14:36:47.447Z"
    }
   },
   "outputs": [],
   "source": [
    "#studio vs average worldwide_gross per movie\n",
    "fig, ax = plt.subplots(figsize=(10,10))\n",
    "\n",
    "ax.bar(x=studio_average_wwg.index.astype(str), height=studio_average_wwg['worldwide_gross']);\n"
   ]
  },
  {
   "cell_type": "code",
   "execution_count": null,
   "metadata": {
    "ExecuteTime": {
     "end_time": "2022-03-09T14:36:48.236209Z",
     "start_time": "2022-03-09T14:36:47.448Z"
    }
   },
   "outputs": [],
   "source": [
    "#studio v popularity\n",
    "studio_popularity = movies_clean.groupby(['studio']).mean(['popularity']).sort_values(['popularity'], ascending=False).head(20)\n",
    "studio_popularity"
   ]
  },
  {
   "cell_type": "code",
   "execution_count": null,
   "metadata": {
    "ExecuteTime": {
     "end_time": "2022-03-09T14:36:48.236918Z",
     "start_time": "2022-03-09T14:36:47.448Z"
    }
   },
   "outputs": [],
   "source": [
    "#graph of studio vs popularity\n",
    "fig, ax = plt.subplots(figsize=(10,10))\n",
    "\n",
    "ax.bar(x=studio_popularity.index.astype(str), height=studio_popularity['popularity']);"
   ]
  },
  {
   "cell_type": "code",
   "execution_count": null,
   "metadata": {
    "ExecuteTime": {
     "end_time": "2022-03-09T14:36:48.237704Z",
     "start_time": "2022-03-09T14:36:47.449Z"
    }
   },
   "outputs": [],
   "source": [
    "#studio v vote_average\n",
    "studio_vote_average = movies_clean.groupby(['studio']).mean(['vote_average']).sort_values(['vote_average'], ascending=False).head(20)\n",
    "studio_vote_average"
   ]
  },
  {
   "cell_type": "code",
   "execution_count": null,
   "metadata": {
    "ExecuteTime": {
     "end_time": "2022-03-09T14:36:48.238208Z",
     "start_time": "2022-03-09T14:36:47.449Z"
    }
   },
   "outputs": [],
   "source": [
    "#studio vs vote_average\n",
    "fig, ax = plt.subplots(figsize=(10,10))\n",
    "\n",
    "ax.bar(x=studio_vote_average.index.astype(str), height=studio_vote_average['vote_average']);"
   ]
  },
  {
   "cell_type": "code",
   "execution_count": null,
   "metadata": {
    "ExecuteTime": {
     "end_time": "2022-03-09T14:36:48.238868Z",
     "start_time": "2022-03-09T14:36:47.450Z"
    }
   },
   "outputs": [],
   "source": [
    "#no clue what this is about\n",
    "studio_vote_count = movies_clean.groupby(['studio']).mean(['vote_count']).sort_values(['vote_count'], ascending=False).head(20)\n",
    "studio_vote_count"
   ]
  },
  {
   "cell_type": "code",
   "execution_count": null,
   "metadata": {
    "ExecuteTime": {
     "end_time": "2022-03-09T14:36:48.239373Z",
     "start_time": "2022-03-09T14:36:47.450Z"
    }
   },
   "outputs": [],
   "source": [
    "#studio and vote_count\n",
    "fig, ax = plt.subplots(figsize=(10,10))\n",
    "\n",
    "ax.bar(x=studio_vote_count.index.astype(str), height=studio_vote_count['vote_count']);"
   ]
  },
  {
   "cell_type": "code",
   "execution_count": null,
   "metadata": {
    "ExecuteTime": {
     "end_time": "2022-03-09T14:36:48.239916Z",
     "start_time": "2022-03-09T14:36:47.451Z"
    }
   },
   "outputs": [],
   "source": [
    "import zipfile as zf\n",
    "import os"
   ]
  },
  {
   "cell_type": "code",
   "execution_count": null,
   "metadata": {
    "ExecuteTime": {
     "end_time": "2022-03-09T14:36:48.240380Z",
     "start_time": "2022-03-09T14:36:47.451Z"
    }
   },
   "outputs": [],
   "source": [
    "files = zf.ZipFile('./data/im.db.zip', 'r') #these lines create a im.db file which is too big to push\n",
    "files.extractall() #these lines create a im.db file which is too big to push"
   ]
  },
  {
   "cell_type": "code",
   "execution_count": null,
   "metadata": {
    "ExecuteTime": {
     "end_time": "2022-03-09T14:36:48.241015Z",
     "start_time": "2022-03-09T14:36:47.452Z"
    }
   },
   "outputs": [],
   "source": [
    "con = sqlite3.connect(\"./im.db\")"
   ]
  },
  {
   "cell_type": "code",
   "execution_count": null,
   "metadata": {
    "ExecuteTime": {
     "end_time": "2022-03-09T14:36:48.241544Z",
     "start_time": "2022-03-09T14:36:47.452Z"
    }
   },
   "outputs": [],
   "source": [
    "titles = pd.read_sql(\"\"\"\n",
    "Select * \n",
    "\n",
    "From movie_basics\n",
    "            \n",
    "\"\"\", con)\n",
    "titles"
   ]
  },
  {
   "cell_type": "code",
   "execution_count": null,
   "metadata": {
    "ExecuteTime": {
     "end_time": "2022-03-09T14:36:48.242162Z",
     "start_time": "2022-03-09T14:36:47.453Z"
    }
   },
   "outputs": [],
   "source": [
    "rating = pd.read_sql(\"\"\"\n",
    "Select * \n",
    "\n",
    "From movie_ratings\n",
    "            \n",
    "\"\"\", con)\n",
    "\n",
    "rating"
   ]
  },
  {
   "cell_type": "code",
   "execution_count": null,
   "metadata": {
    "ExecuteTime": {
     "end_time": "2022-03-09T14:36:48.242673Z",
     "start_time": "2022-03-09T14:36:47.454Z"
    }
   },
   "outputs": [],
   "source": [
    "sql_df = pd.read_sql('''\n",
    "    SELECT *\n",
    "    \n",
    "    FROM\n",
    "    movie_ratings\n",
    "    \n",
    "    INNER JOIN movie_basics\n",
    "        USING(movie_id) \n",
    "     \n",
    "     WHERE numvotes >= 1000\n",
    "     \n",
    "     ORDER BY \n",
    "         averagerating DESC\n",
    "    \n",
    "    LIMIT 20\n",
    "''', con)\n",
    "\n",
    "#We need to choose and averagerating number for a WHERE clause\n",
    "#If we feel like we need more ratings data we can combine this with budget_rating_gross"
   ]
  },
  {
   "cell_type": "code",
   "execution_count": null,
   "metadata": {
    "ExecuteTime": {
     "end_time": "2022-03-09T14:36:48.243414Z",
     "start_time": "2022-03-09T14:36:47.454Z"
    }
   },
   "outputs": [],
   "source": [
    "#examining the df for potential analysis and cleaning\n",
    "sql_df.head()"
   ]
  },
  {
   "cell_type": "code",
   "execution_count": null,
   "metadata": {
    "ExecuteTime": {
     "end_time": "2022-03-09T14:36:48.244109Z",
     "start_time": "2022-03-09T14:36:47.455Z"
    }
   },
   "outputs": [],
   "source": [
    "#genre column splitting"
   ]
  },
  {
   "cell_type": "code",
   "execution_count": null,
   "metadata": {
    "ExecuteTime": {
     "end_time": "2022-03-09T14:36:48.244690Z",
     "start_time": "2022-03-09T14:36:47.455Z"
    }
   },
   "outputs": [],
   "source": [
    "#other EDAs"
   ]
  },
  {
   "cell_type": "code",
   "execution_count": null,
   "metadata": {
    "ExecuteTime": {
     "end_time": "2022-03-09T14:36:48.247380Z",
     "start_time": "2022-03-09T14:36:47.456Z"
    }
   },
   "outputs": [],
   "source": [
    "#genres vs averagerating\n",
    "genres_average_rating = sql_df.groupby(['genres']).mean(['averagerating']).sort_values(['averagerating'], ascending=False).head(20)\n",
    "genres_average_rating"
   ]
  },
  {
   "cell_type": "code",
   "execution_count": null,
   "metadata": {
    "ExecuteTime": {
     "end_time": "2022-03-09T14:36:48.247990Z",
     "start_time": "2022-03-09T14:36:47.457Z"
    }
   },
   "outputs": [],
   "source": [
    "fig, ax = plt.subplots(figsize=(10,10))\n",
    "\n",
    "ax.bar(x=genres_average_rating.index.astype(str), height=genres_average_rating['averagerating']);"
   ]
  },
  {
   "cell_type": "code",
   "execution_count": null,
   "metadata": {
    "ExecuteTime": {
     "end_time": "2022-03-09T14:36:48.248550Z",
     "start_time": "2022-03-09T14:36:47.457Z"
    }
   },
   "outputs": [],
   "source": [
    "#runtime_minutes vs start_year\n",
    "runtime_year = sql_df.groupby(['start_year']).mean(['runtime_minutes']).sort_values(['start_year'])\n",
    "runtime_year"
   ]
  },
  {
   "cell_type": "code",
   "execution_count": null,
   "metadata": {
    "ExecuteTime": {
     "end_time": "2022-03-09T14:36:48.249054Z",
     "start_time": "2022-03-09T14:36:47.458Z"
    }
   },
   "outputs": [],
   "source": [
    "fig, ax = plt.subplots(figsize=(10,10))\n",
    "\n",
    "ax.bar(x=runtime_year.index.astype(str), height=runtime_year['runtime_minutes']);"
   ]
  },
  {
   "cell_type": "code",
   "execution_count": null,
   "metadata": {
    "ExecuteTime": {
     "end_time": "2022-03-09T14:36:48.249710Z",
     "start_time": "2022-03-09T14:36:47.458Z"
    }
   },
   "outputs": [],
   "source": [
    "#stong positive correlation\n",
    "#movies are getting longer!\n",
    "np.corrcoef(runtime_year.index , y = runtime_year['runtime_minutes'])"
   ]
  },
  {
   "cell_type": "code",
   "execution_count": null,
   "metadata": {
    "ExecuteTime": {
     "end_time": "2022-03-09T14:36:48.250503Z",
     "start_time": "2022-03-09T14:36:47.458Z"
    }
   },
   "outputs": [],
   "source": [
    "con.close() #have this in case file refuses to close"
   ]
  },
  {
   "cell_type": "code",
   "execution_count": null,
   "metadata": {
    "ExecuteTime": {
     "end_time": "2022-03-09T14:36:48.251310Z",
     "start_time": "2022-03-09T14:36:47.459Z"
    }
   },
   "outputs": [],
   "source": [
    "os.remove('im.db') #This line deletes the im.db file created earlier."
   ]
  }
 ],
 "metadata": {
  "kernelspec": {
   "display_name": "Python (learn-env)",
   "language": "python",
   "name": "learn-env"
  },
  "language_info": {
   "codemirror_mode": {
    "name": "ipython",
    "version": 3
   },
   "file_extension": ".py",
   "mimetype": "text/x-python",
   "name": "python",
   "nbconvert_exporter": "python",
   "pygments_lexer": "ipython3",
   "version": "3.8.5"
  }
 },
 "nbformat": 4,
 "nbformat_minor": 4
}
